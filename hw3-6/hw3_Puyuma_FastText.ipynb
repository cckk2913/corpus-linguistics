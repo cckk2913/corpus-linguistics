{
  "cells": [
    {
      "attachments": {},
      "cell_type": "markdown",
      "metadata": {
        "id": "1BxempY9NQ1F"
      },
      "source": [
        "### IDEA"
      ]
    },
    {
      "cell_type": "markdown",
      "metadata": {
        "id": "AR6AAacYNTtt"
      },
      "source": [
        "1. 用田調課格式儲存的docx.檔，提取出知本卑南語語料transcription\n",
        "2. 為其建立Fasttext word embeddings\n",
        "3. 再利用 PCA降維度、K-means cluster analysis 看卑南語料的詞類分布狀況"
      ]
    },
    {
      "cell_type": "markdown",
      "metadata": {
        "id": "QMzRhK6Rk9xd"
      },
      "source": [
        "### setting"
      ]
    },
    {
      "cell_type": "code",
      "execution_count": null,
      "metadata": {
        "colab": {
          "base_uri": "https://localhost:8080/"
        },
        "id": "FMFRbGdogb16",
        "outputId": "26c123db-bd4a-406d-b2dd-0fe465e0d9ca"
      },
      "outputs": [],
      "source": [
        "from google.colab import drive\n",
        "drive.mount('/content/gdrive',force_remount=True)"
      ]
    },
    {
      "cell_type": "code",
      "execution_count": 2,
      "metadata": {
        "id": "sD_k3EHeggmH"
      },
      "outputs": [],
      "source": [
        "import os\n",
        "os.chdir('')"
      ]
    },
    {
      "cell_type": "code",
      "execution_count": 3,
      "metadata": {
        "id": "5AwQ0eyCkxMg"
      },
      "outputs": [],
      "source": [
        "import pandas as pd\n",
        "import numpy as np\n",
        "import re\n",
        "import json"
      ]
    },
    {
      "cell_type": "code",
      "execution_count": null,
      "metadata": {
        "colab": {
          "base_uri": "https://localhost:8080/"
        },
        "id": "4BF0U3qa6Jvw",
        "outputId": "2fea3c9b-19f1-40e3-de64-efd6b1f1c4ce"
      },
      "outputs": [],
      "source": [
        "!pip install python-docx"
      ]
    },
    {
      "cell_type": "markdown",
      "metadata": {
        "id": "d5phXiV47PPY"
      },
      "source": [
        "### Extract transciptions from .docx files"
      ]
    },
    {
      "cell_type": "code",
      "execution_count": null,
      "metadata": {},
      "outputs": [],
      "source": [
        "DOCX_DIR = 'My Directory of Word Documents'"
      ]
    },
    {
      "cell_type": "markdown",
      "metadata": {
        "id": "lOjHU5ey-NG3"
      },
      "source": [
        "Contents in 1 docx"
      ]
    },
    {
      "cell_type": "code",
      "execution_count": 23,
      "metadata": {
        "colab": {
          "base_uri": "https://localhost:8080/"
        },
        "id": "CnZd-2Kw7OSc",
        "outputId": "0ac7a022-9976-4201-99da-8d2c91365c62"
      },
      "outputs": [
        {
          "name": "stdout",
          "output_type": "stream",
          "text": [
            "File name: 20220307\n",
            "Language: Puyuma\n",
            "Dialect: Katratripulr\n",
            "Speaker: 陳金妹, Ukesang Mavaliw, Female, 1950\n",
            "Collected: 2022-03-07\n",
            "Revised: 2022-04-25\n",
            "Transcribed by: 陳品而\n",
            "\n",
            "1. \n",
            "patatakesi ku i Katratridpulr kana palrivak na takesiyan\n",
            "pata-takesi=ku          \ti     \tKatratridpulr  \tkana     \tpalrivak    \n",
            "PRS-teach=1SG.NOM\t\tLOC\t\tKatratridpulr\tOBL.DEF \tinitial\t  \t\n",
            "現在-教書=1SG.主格  \t處格  \t知本(地名)  \t斜格.限定 \t初期(小學) \n",
            "\n",
            "na      \ttakesi-yan \n",
            "L\t\tteach-place\n",
            "連繫詞\t學校-場所\n",
            "\n",
            "#e I teach in Zhiben elementary school.\n",
            "#c 我在知本國小教書。\n",
            "#n 知本也可以簡寫成katridpulr　\n",
            "\n",
            "2. \n",
            "a temakakesi ku\n",
            "a \t  t<em>a<ka>kesi=ku\n",
            "NOM  <AF><STAT>read.book=1SG.NOM\n",
            "主格   <主焦><狀態>讀冊=1SG.主格\n",
            "\n",
            "#e I am a student.\n",
            "#c 我是學生\n"
          ]
        }
      ],
      "source": [
        "from docx import Document\n",
        "filename = DOCX_DIR+'/2022030702.docx'\n",
        "document = Document(filename)\n",
        "\n",
        "fullText = []\n",
        "for paragraph in document.paragraphs:\n",
        "    fullText.append(paragraph.text)\n",
        "\n",
        "for t in fullText[:30]:\n",
        "    print(t)"
      ]
    },
    {
      "cell_type": "code",
      "execution_count": 38,
      "metadata": {
        "colab": {
          "base_uri": "https://localhost:8080/"
        },
        "id": "QCsQxUqf8u0P",
        "outputId": "10f5ca11-9e30-4769-bc33-627cf6f210ca"
      },
      "outputs": [
        {
          "data": {
            "text/plain": [
              "(17, ['2022030702.docx', '2022031402.docx', '2022032102.docx'])"
            ]
          },
          "execution_count": 38,
          "metadata": {},
          "output_type": "execute_result"
        }
      ],
      "source": [
        "# get all docx files\n",
        "docx_filenames = []\n",
        "for filename in os.listdir('DOCX_DIR'):\n",
        "    m = re.match('20220[\\d]+\\.docx', filename)\n",
        "    if m:\n",
        "        docx_filenames.append(filename)\n",
        "\n",
        "len(docx_filenames),docx_filenames[:3]"
      ]
    },
    {
      "cell_type": "code",
      "execution_count": 84,
      "metadata": {
        "id": "7U_jEYNY_rvy"
      },
      "outputs": [],
      "source": [
        "def extract_transcription(fullText):\n",
        "\n",
        "    puyumas = []\n",
        "\n",
        "    for i in range(len(fullText)):\n",
        "        m = re.match('[\\d]+\\.', fullText[i])\n",
        "        if m:         \n",
        "            text = fullText[i+1].strip()\n",
        "            if '=' not in text and '-' not in text:\n",
        "                if not re.search('[\\u4e00-\\u9fa5]',text):\n",
        "                    puyumas.append(text)\n",
        "    \n",
        "    return puyumas"
      ]
    },
    {
      "cell_type": "code",
      "execution_count": 85,
      "metadata": {
        "colab": {
          "base_uri": "https://localhost:8080/"
        },
        "id": "Jc6NEE7C753v",
        "outputId": "d749e9dd-a9a0-432d-a339-ad6801070ef6"
      },
      "outputs": [
        {
          "data": {
            "text/plain": [
              "['patatakesi\\xa0ku i Katratridpulr kana palrivak na takesiyan',\n",
              " 'a temakakesi ku',\n",
              " 'a muwauma ku']"
            ]
          },
          "execution_count": 85,
          "metadata": {},
          "output_type": "execute_result"
        }
      ],
      "source": [
        "# build puyuma text dict\n",
        "fullText_dict = {}\n",
        "all_puyumas = []\n",
        "\n",
        "for filename in docx_filenames:\n",
        "    file = f'{DOCX_DIR}/'+filename\n",
        "    \n",
        "    # read raw text\n",
        "    document = Document(file)\n",
        "    fullText = []\n",
        "    for paragraph in document.paragraphs:\n",
        "            fullText.append(paragraph.text)\n",
        "\n",
        "    fullText_dict[filename] = fullText\n",
        "    puyumas = extract_transcription(fullText)\n",
        "    all_puyumas = all_puyumas + puyumas\n",
        "\n",
        "all_puyumas[:3]"
      ]
    },
    {
      "cell_type": "markdown",
      "metadata": {
        "id": "Hv5LkCQqGw74"
      },
      "source": [
        "### Pre-process texts"
      ]
    },
    {
      "cell_type": "markdown",
      "metadata": {
        "id": "I45AyTy82KSo"
      },
      "source": [
        "clean and tokenize"
      ]
    },
    {
      "cell_type": "code",
      "execution_count": 86,
      "metadata": {
        "id": "rhVq4kyH2Gt6"
      },
      "outputs": [],
      "source": [
        "text_cleaning_re = \"\\?|\\!|？|！|\\.|,|\\d|=|-|<|>\"\n",
        "\n",
        "def clean(text, cleaning_re):\n",
        "  text = re.sub(cleaning_re, '', str(text))\n",
        "  return text"
      ]
    },
    {
      "cell_type": "code",
      "execution_count": 92,
      "metadata": {
        "id": "W4b-H5PX8tWl"
      },
      "outputs": [],
      "source": [
        "# 小寫 斷詞\n",
        "def tokenize(texts):\n",
        "  lists_of_list = []\n",
        "  for text in texts:\n",
        "    text = text.split()\n",
        "    lists_of_list.append(text)\n",
        "\n",
        "  return lists_of_list"
      ]
    },
    {
      "cell_type": "code",
      "execution_count": 93,
      "metadata": {
        "colab": {
          "base_uri": "https://localhost:8080/"
        },
        "id": "b8mqpkXK9tmX",
        "outputId": "ee68c758-bcfe-45c3-c3f4-29bb7eb51a3e"
      },
      "outputs": [
        {
          "name": "stdout",
          "output_type": "stream",
          "text": [
            "202 202\n"
          ]
        }
      ],
      "source": [
        "# 遍歷句子\n",
        "## clean\n",
        "puyuma_cleaned = []\n",
        "for text in all_puyumas:\n",
        "  puyuma_cleaned.append(clean(text,text_cleaning_re))\n",
        "\n",
        "puyuma_cleaned = list(set(puyuma_cleaned))\n",
        "\n",
        "## tokenize\n",
        "puyuma_seg = tokenize(puyuma_cleaned)\n",
        "print(len(puyuma_cleaned),len(puyuma_seg))"
      ]
    },
    {
      "cell_type": "code",
      "execution_count": 95,
      "metadata": {
        "colab": {
          "base_uri": "https://localhost:8080/"
        },
        "id": "8w83b5xDIXGj",
        "outputId": "7e1cddbe-60cb-4611-f149-c7ad28b9a2ae"
      },
      "outputs": [
        {
          "data": {
            "text/plain": [
              "([\"tremima' ku za vulraw kana sinsi\", \"ku trima'anay na vulraw i ciba\"],\n",
              " [[\"tremima'\", 'ku', 'za', 'vulraw', 'kana', 'sinsi'],\n",
              "  ['ku', \"trima'anay\", 'na', 'vulraw', 'i', 'ciba']])"
            ]
          },
          "execution_count": 95,
          "metadata": {},
          "output_type": "execute_result"
        }
      ],
      "source": [
        "puyuma_cleaned[:2],puyuma_seg[:2]"
      ]
    },
    {
      "cell_type": "markdown",
      "metadata": {
        "id": "SlV_xQSwJRvg"
      },
      "source": [
        "### Fasttext Model"
      ]
    },
    {
      "cell_type": "markdown",
      "metadata": {
        "id": "gsIHPv-6-2TN"
      },
      "source": [
        "Build Fasttext model"
      ]
    },
    {
      "cell_type": "code",
      "execution_count": 97,
      "metadata": {
        "id": "Gop8zIoJ-6ll"
      },
      "outputs": [],
      "source": [
        "from gensim.models import FastText\n",
        "\n",
        "ft_corpus = puyuma_seg"
      ]
    },
    {
      "cell_type": "code",
      "execution_count": 107,
      "metadata": {
        "id": "eBe6Tcf3_s3d"
      },
      "outputs": [],
      "source": [
        "# define fastText model\n",
        "ft_model = FastText(size = 8,\n",
        "                    window = 5,\n",
        "                    min_count = 3,\n",
        "                    workers = 4,\n",
        "                    batch_words = 1000)\n",
        "\n",
        "ft_model.build_vocab(ft_corpus)"
      ]
    },
    {
      "cell_type": "code",
      "execution_count": 108,
      "metadata": {
        "colab": {
          "base_uri": "https://localhost:8080/"
        },
        "id": "lRM0Z337CZmD",
        "outputId": "bccd9233-f700-4dad-ae56-b033db6cb9e0"
      },
      "outputs": [
        {
          "data": {
            "text/plain": [
              "(88, ['i', 'na', 'ku'])"
            ]
          },
          "execution_count": 108,
          "metadata": {},
          "output_type": "execute_result"
        }
      ],
      "source": [
        "ft_model.train(ft_corpus, total_examples=len(ft_corpus), epochs = 32)\n",
        "wordindex = ft_model.wv.index2word"
      ]
    },
    {
      "cell_type": "code",
      "execution_count": 109,
      "metadata": {
        "colab": {
          "base_uri": "https://localhost:8080/"
        },
        "id": "HbSOMAjHCfUE",
        "outputId": "c2331ed1-30b1-48bd-a3d6-28f738b5c584"
      },
      "outputs": [
        {
          "name": "stdout",
          "output_type": "stream",
          "text": [
            "88\n"
          ]
        }
      ],
      "source": [
        "print(len(ft_model.wv.vocab))"
      ]
    },
    {
      "cell_type": "code",
      "execution_count": 110,
      "metadata": {
        "colab": {
          "base_uri": "https://localhost:8080/"
        },
        "id": "5-zmA5rzJy4V",
        "outputId": "a1d5965a-af06-4740-dc22-8ea9b23b2d0b"
      },
      "outputs": [
        {
          "name": "stdout",
          "output_type": "stream",
          "text": [
            "[-0.7367697  -0.3411667  -1.1449195   0.52359605 -1.8950329   1.3685256\n",
            "  0.23091303 -0.31209624]\n"
          ]
        }
      ],
      "source": [
        "print(ft_model.wv['kana']) # 斜格.限定(OBL.DEF)"
      ]
    },
    {
      "cell_type": "code",
      "execution_count": 113,
      "metadata": {
        "id": "7knegaaxCxbv"
      },
      "outputs": [],
      "source": [
        "ft_model.save(\"./ft8.model\")\n",
        "# model = FastText.load(\"ft.model\")"
      ]
    },
    {
      "cell_type": "code",
      "execution_count": 114,
      "metadata": {
        "id": "RtTwiGtMDGyR"
      },
      "outputs": [],
      "source": [
        "# embedding matrix\n",
        "cols = list(range(0,8))\n",
        "vec_matrix = pd.DataFrame(columns=cols)\n",
        "\n",
        "for i in range(len(wordindex)):\n",
        "  word = wordindex[i]\n",
        "  new = pd.DataFrame(ft_model.wv[word].reshape(1,-1), columns=cols, index=[word])\n",
        "\n",
        "  vec_matrix = pd.concat([vec_matrix,new])"
      ]
    },
    {
      "cell_type": "code",
      "execution_count": 115,
      "metadata": {
        "colab": {
          "base_uri": "https://localhost:8080/",
          "height": 424
        },
        "id": "TetJjzS7kG9_",
        "outputId": "6918f2bf-ecd5-4ca2-c154-30a203175602"
      },
      "outputs": [
        {
          "data": {
            "text/html": [
              "\n",
              "  <div id=\"df-ec51f9a5-a4bd-43a2-8361-40e55f67962f\">\n",
              "    <div class=\"colab-df-container\">\n",
              "      <div>\n",
              "<style scoped>\n",
              "    .dataframe tbody tr th:only-of-type {\n",
              "        vertical-align: middle;\n",
              "    }\n",
              "\n",
              "    .dataframe tbody tr th {\n",
              "        vertical-align: top;\n",
              "    }\n",
              "\n",
              "    .dataframe thead th {\n",
              "        text-align: right;\n",
              "    }\n",
              "</style>\n",
              "<table border=\"1\" class=\"dataframe\">\n",
              "  <thead>\n",
              "    <tr style=\"text-align: right;\">\n",
              "      <th></th>\n",
              "      <th>0</th>\n",
              "      <th>1</th>\n",
              "      <th>2</th>\n",
              "      <th>3</th>\n",
              "      <th>4</th>\n",
              "      <th>5</th>\n",
              "      <th>6</th>\n",
              "      <th>7</th>\n",
              "    </tr>\n",
              "  </thead>\n",
              "  <tbody>\n",
              "    <tr>\n",
              "      <th>i</th>\n",
              "      <td>-0.663688</td>\n",
              "      <td>-0.196734</td>\n",
              "      <td>-0.983238</td>\n",
              "      <td>0.384399</td>\n",
              "      <td>-1.683407</td>\n",
              "      <td>1.146840</td>\n",
              "      <td>0.178836</td>\n",
              "      <td>-0.229177</td>\n",
              "    </tr>\n",
              "    <tr>\n",
              "      <th>na</th>\n",
              "      <td>-0.638302</td>\n",
              "      <td>-0.320899</td>\n",
              "      <td>-0.924823</td>\n",
              "      <td>0.423185</td>\n",
              "      <td>-1.531257</td>\n",
              "      <td>1.126337</td>\n",
              "      <td>0.095160</td>\n",
              "      <td>-0.301295</td>\n",
              "    </tr>\n",
              "    <tr>\n",
              "      <th>ku</th>\n",
              "      <td>-0.458272</td>\n",
              "      <td>-0.167820</td>\n",
              "      <td>-0.676139</td>\n",
              "      <td>0.262518</td>\n",
              "      <td>-1.026465</td>\n",
              "      <td>0.784802</td>\n",
              "      <td>0.130497</td>\n",
              "      <td>-0.119062</td>\n",
              "    </tr>\n",
              "    <tr>\n",
              "      <th>za</th>\n",
              "      <td>-0.466391</td>\n",
              "      <td>-0.145508</td>\n",
              "      <td>-0.677054</td>\n",
              "      <td>0.211915</td>\n",
              "      <td>-1.058414</td>\n",
              "      <td>0.712317</td>\n",
              "      <td>0.060968</td>\n",
              "      <td>-0.134991</td>\n",
              "    </tr>\n",
              "    <tr>\n",
              "      <th>tu</th>\n",
              "      <td>-0.478757</td>\n",
              "      <td>-0.228891</td>\n",
              "      <td>-0.737553</td>\n",
              "      <td>0.340511</td>\n",
              "      <td>-1.211962</td>\n",
              "      <td>0.973637</td>\n",
              "      <td>0.121490</td>\n",
              "      <td>-0.177271</td>\n",
              "    </tr>\n",
              "    <tr>\n",
              "      <th>...</th>\n",
              "      <td>...</td>\n",
              "      <td>...</td>\n",
              "      <td>...</td>\n",
              "      <td>...</td>\n",
              "      <td>...</td>\n",
              "      <td>...</td>\n",
              "      <td>...</td>\n",
              "      <td>...</td>\n",
              "    </tr>\n",
              "    <tr>\n",
              "      <th>verayanay</th>\n",
              "      <td>-0.314286</td>\n",
              "      <td>-0.142488</td>\n",
              "      <td>-0.460484</td>\n",
              "      <td>0.200720</td>\n",
              "      <td>-0.733370</td>\n",
              "      <td>0.565683</td>\n",
              "      <td>0.088383</td>\n",
              "      <td>-0.127359</td>\n",
              "    </tr>\n",
              "    <tr>\n",
              "      <th>siyaw</th>\n",
              "      <td>-0.457059</td>\n",
              "      <td>-0.215317</td>\n",
              "      <td>-0.671148</td>\n",
              "      <td>0.310804</td>\n",
              "      <td>-1.135486</td>\n",
              "      <td>0.859773</td>\n",
              "      <td>0.148098</td>\n",
              "      <td>-0.198743</td>\n",
              "    </tr>\n",
              "    <tr>\n",
              "      <th>muranak</th>\n",
              "      <td>-0.363136</td>\n",
              "      <td>-0.132823</td>\n",
              "      <td>-0.529782</td>\n",
              "      <td>0.221296</td>\n",
              "      <td>-0.880578</td>\n",
              "      <td>0.621279</td>\n",
              "      <td>0.127481</td>\n",
              "      <td>-0.123242</td>\n",
              "    </tr>\n",
              "    <tr>\n",
              "      <th>amanan</th>\n",
              "      <td>-0.257614</td>\n",
              "      <td>-0.120542</td>\n",
              "      <td>-0.417777</td>\n",
              "      <td>0.177710</td>\n",
              "      <td>-0.612074</td>\n",
              "      <td>0.463396</td>\n",
              "      <td>0.060395</td>\n",
              "      <td>-0.104610</td>\n",
              "    </tr>\n",
              "    <tr>\n",
              "      <th>patraran</th>\n",
              "      <td>-0.274033</td>\n",
              "      <td>-0.085947</td>\n",
              "      <td>-0.408775</td>\n",
              "      <td>0.174783</td>\n",
              "      <td>-0.641102</td>\n",
              "      <td>0.470896</td>\n",
              "      <td>0.076009</td>\n",
              "      <td>-0.115362</td>\n",
              "    </tr>\n",
              "  </tbody>\n",
              "</table>\n",
              "<p>88 rows × 8 columns</p>\n",
              "</div>\n",
              "      <button class=\"colab-df-convert\" onclick=\"convertToInteractive('df-ec51f9a5-a4bd-43a2-8361-40e55f67962f')\"\n",
              "              title=\"Convert this dataframe to an interactive table.\"\n",
              "              style=\"display:none;\">\n",
              "        \n",
              "  <svg xmlns=\"http://www.w3.org/2000/svg\" height=\"24px\"viewBox=\"0 0 24 24\"\n",
              "       width=\"24px\">\n",
              "    <path d=\"M0 0h24v24H0V0z\" fill=\"none\"/>\n",
              "    <path d=\"M18.56 5.44l.94 2.06.94-2.06 2.06-.94-2.06-.94-.94-2.06-.94 2.06-2.06.94zm-11 1L8.5 8.5l.94-2.06 2.06-.94-2.06-.94L8.5 2.5l-.94 2.06-2.06.94zm10 10l.94 2.06.94-2.06 2.06-.94-2.06-.94-.94-2.06-.94 2.06-2.06.94z\"/><path d=\"M17.41 7.96l-1.37-1.37c-.4-.4-.92-.59-1.43-.59-.52 0-1.04.2-1.43.59L10.3 9.45l-7.72 7.72c-.78.78-.78 2.05 0 2.83L4 21.41c.39.39.9.59 1.41.59.51 0 1.02-.2 1.41-.59l7.78-7.78 2.81-2.81c.8-.78.8-2.07 0-2.86zM5.41 20L4 18.59l7.72-7.72 1.47 1.35L5.41 20z\"/>\n",
              "  </svg>\n",
              "      </button>\n",
              "      \n",
              "  <style>\n",
              "    .colab-df-container {\n",
              "      display:flex;\n",
              "      flex-wrap:wrap;\n",
              "      gap: 12px;\n",
              "    }\n",
              "\n",
              "    .colab-df-convert {\n",
              "      background-color: #E8F0FE;\n",
              "      border: none;\n",
              "      border-radius: 50%;\n",
              "      cursor: pointer;\n",
              "      display: none;\n",
              "      fill: #1967D2;\n",
              "      height: 32px;\n",
              "      padding: 0 0 0 0;\n",
              "      width: 32px;\n",
              "    }\n",
              "\n",
              "    .colab-df-convert:hover {\n",
              "      background-color: #E2EBFA;\n",
              "      box-shadow: 0px 1px 2px rgba(60, 64, 67, 0.3), 0px 1px 3px 1px rgba(60, 64, 67, 0.15);\n",
              "      fill: #174EA6;\n",
              "    }\n",
              "\n",
              "    [theme=dark] .colab-df-convert {\n",
              "      background-color: #3B4455;\n",
              "      fill: #D2E3FC;\n",
              "    }\n",
              "\n",
              "    [theme=dark] .colab-df-convert:hover {\n",
              "      background-color: #434B5C;\n",
              "      box-shadow: 0px 1px 3px 1px rgba(0, 0, 0, 0.15);\n",
              "      filter: drop-shadow(0px 1px 2px rgba(0, 0, 0, 0.3));\n",
              "      fill: #FFFFFF;\n",
              "    }\n",
              "  </style>\n",
              "\n",
              "      <script>\n",
              "        const buttonEl =\n",
              "          document.querySelector('#df-ec51f9a5-a4bd-43a2-8361-40e55f67962f button.colab-df-convert');\n",
              "        buttonEl.style.display =\n",
              "          google.colab.kernel.accessAllowed ? 'block' : 'none';\n",
              "\n",
              "        async function convertToInteractive(key) {\n",
              "          const element = document.querySelector('#df-ec51f9a5-a4bd-43a2-8361-40e55f67962f');\n",
              "          const dataTable =\n",
              "            await google.colab.kernel.invokeFunction('convertToInteractive',\n",
              "                                                     [key], {});\n",
              "          if (!dataTable) return;\n",
              "\n",
              "          const docLinkHtml = 'Like what you see? Visit the ' +\n",
              "            '<a target=\"_blank\" href=https://colab.research.google.com/notebooks/data_table.ipynb>data table notebook</a>'\n",
              "            + ' to learn more about interactive tables.';\n",
              "          element.innerHTML = '';\n",
              "          dataTable['output_type'] = 'display_data';\n",
              "          await google.colab.output.renderOutput(dataTable, element);\n",
              "          const docLink = document.createElement('div');\n",
              "          docLink.innerHTML = docLinkHtml;\n",
              "          element.appendChild(docLink);\n",
              "        }\n",
              "      </script>\n",
              "    </div>\n",
              "  </div>\n",
              "  "
            ],
            "text/plain": [
              "                  0         1         2         3         4         5  \\\n",
              "i         -0.663688 -0.196734 -0.983238  0.384399 -1.683407  1.146840   \n",
              "na        -0.638302 -0.320899 -0.924823  0.423185 -1.531257  1.126337   \n",
              "ku        -0.458272 -0.167820 -0.676139  0.262518 -1.026465  0.784802   \n",
              "za        -0.466391 -0.145508 -0.677054  0.211915 -1.058414  0.712317   \n",
              "tu        -0.478757 -0.228891 -0.737553  0.340511 -1.211962  0.973637   \n",
              "...             ...       ...       ...       ...       ...       ...   \n",
              "verayanay -0.314286 -0.142488 -0.460484  0.200720 -0.733370  0.565683   \n",
              "siyaw     -0.457059 -0.215317 -0.671148  0.310804 -1.135486  0.859773   \n",
              "muranak   -0.363136 -0.132823 -0.529782  0.221296 -0.880578  0.621279   \n",
              "amanan    -0.257614 -0.120542 -0.417777  0.177710 -0.612074  0.463396   \n",
              "patraran  -0.274033 -0.085947 -0.408775  0.174783 -0.641102  0.470896   \n",
              "\n",
              "                  6         7  \n",
              "i          0.178836 -0.229177  \n",
              "na         0.095160 -0.301295  \n",
              "ku         0.130497 -0.119062  \n",
              "za         0.060968 -0.134991  \n",
              "tu         0.121490 -0.177271  \n",
              "...             ...       ...  \n",
              "verayanay  0.088383 -0.127359  \n",
              "siyaw      0.148098 -0.198743  \n",
              "muranak    0.127481 -0.123242  \n",
              "amanan     0.060395 -0.104610  \n",
              "patraran   0.076009 -0.115362  \n",
              "\n",
              "[88 rows x 8 columns]"
            ]
          },
          "execution_count": 115,
          "metadata": {},
          "output_type": "execute_result"
        }
      ],
      "source": [
        "vec_matrix"
      ]
    },
    {
      "cell_type": "markdown",
      "metadata": {
        "id": "a1pjzM0dKRo0"
      },
      "source": [
        "### PCA"
      ]
    },
    {
      "cell_type": "code",
      "execution_count": 117,
      "metadata": {
        "id": "7CkgYjqPIQE_"
      },
      "outputs": [],
      "source": [
        "'PCA'\n",
        "from sklearn.preprocessing import StandardScaler\n",
        "from sklearn.decomposition import PCA\n",
        "import seaborn as sns\n",
        "import matplotlib.pyplot as plt\n",
        "%matplotlib inline\n",
        "\n",
        "std_df = StandardScaler().fit_transform(vec_matrix) \n",
        "\n",
        "\n",
        "pca = PCA(n_components=8)\n",
        "pca_fitted = pca.fit_transform(std_df)\n",
        "\n",
        "# 存成df\n",
        "PCA_components = pd.DataFrame(pca_fitted)"
      ]
    },
    {
      "cell_type": "code",
      "execution_count": 118,
      "metadata": {
        "colab": {
          "base_uri": "https://localhost:8080/",
          "height": 423
        },
        "id": "IuPZD6E6IhBB",
        "outputId": "83490d50-a2a6-4cf3-bc5a-3a54e678a3f2"
      },
      "outputs": [
        {
          "data": {
            "text/plain": [
              "([<matplotlib.axis.XTick at 0x7f5fc579a670>,\n",
              "  <matplotlib.axis.XTick at 0x7f5fc579a640>,\n",
              "  <matplotlib.axis.XTick at 0x7f5fc5b53f70>,\n",
              "  <matplotlib.axis.XTick at 0x7f5fc576b730>,\n",
              "  <matplotlib.axis.XTick at 0x7f5fc576bc40>,\n",
              "  <matplotlib.axis.XTick at 0x7f5fc56fc190>,\n",
              "  <matplotlib.axis.XTick at 0x7f5fc56fc6a0>,\n",
              "  <matplotlib.axis.XTick at 0x7f5fc56fcbb0>],\n",
              " <a list of 8 Text major ticklabel objects>)"
            ]
          },
          "execution_count": 118,
          "metadata": {},
          "output_type": "execute_result"
        },
        {
          "data": {
            "image/png": "[encoded data removed]",
            "text/plain": [
              "<Figure size 432x288 with 1 Axes>"
            ]
          },
          "metadata": {
            "needs_background": "light"
          },
          "output_type": "display_data"
        }
      ],
      "source": [
        "# plot 變異數\n",
        "PC = range(1, pca.n_components_+1)\n",
        "\n",
        "plt.bar(PC, pca.explained_variance_ratio_, color='gold')\n",
        "plt.ylabel('Variance %')\n",
        "plt.xticks(PC)"
      ]
    },
    {
      "cell_type": "code",
      "execution_count": 119,
      "metadata": {
        "colab": {
          "base_uri": "https://localhost:8080/",
          "height": 279
        },
        "id": "mAfnJG1LPiPw",
        "outputId": "018fa69b-c143-4e0b-968c-e4fb0d0497aa"
      },
      "outputs": [
        {
          "data": {
            "image/png": "[encoded data removed]",
            "text/plain": [
              "<Figure size 432x288 with 1 Axes>"
            ]
          },
          "metadata": {
            "needs_background": "light"
          },
          "output_type": "display_data"
        }
      ],
      "source": [
        "# plot pca 數據\n",
        "\n",
        "plt.scatter(PCA_components[0], PCA_components[1], alpha=.3, color='gold')\n",
        "plt.xlabel('PCA 1')\n",
        "plt.ylabel('PCA 2')\n",
        "plt.show()"
      ]
    },
    {
      "cell_type": "markdown",
      "metadata": {
        "id": "YUfIcOP6Kjm2"
      },
      "source": [
        "### KMeans"
      ]
    },
    {
      "cell_type": "markdown",
      "metadata": {
        "id": "OXTV9nGMXCux"
      },
      "source": [
        "KMeans"
      ]
    },
    {
      "cell_type": "code",
      "execution_count": 124,
      "metadata": {
        "id": "LA2wT60sPmFU"
      },
      "outputs": [],
      "source": [
        "from sklearn.cluster import KMeans\n",
        "\n",
        "model = KMeans(n_clusters=5)\n",
        "model.fit(PCA_components.iloc[:,:2])\n",
        "\n",
        "labels = model.predict(PCA_components.iloc[:,:2])"
      ]
    },
    {
      "cell_type": "code",
      "execution_count": 129,
      "metadata": {
        "colab": {
          "base_uri": "https://localhost:8080/",
          "height": 592
        },
        "id": "QQ49UoEwVKd2",
        "outputId": "1857e427-8b5a-492b-f882-0aa1bfce8451"
      },
      "outputs": [
        {
          "data": {
            "image/png": "[encoded data removed]",
            "text/plain": [
              "<Figure size 864x720 with 1 Axes>"
            ]
          },
          "metadata": {
            "needs_background": "light"
          },
          "output_type": "display_data"
        }
      ],
      "source": [
        "import seaborn as sns\n",
        "import matplotlib.pyplot as plt\n",
        "%matplotlib inline\n",
        "\n",
        "plt.figure(figsize=(12, 10))\n",
        "plt.scatter(PCA_components[0], PCA_components[1], c=labels, cmap='coolwarm')\n",
        "\n",
        "offset =70\n",
        "for i,row in PCA_components.iterrows():\n",
        "  plt.annotate(wordindex[i], xy=(PCA_components.iloc[i,0]+0.06,PCA_components.iloc[i,1]+0.02))\n",
        "\n",
        "plt.show()"
      ]
    }
  ],
  "metadata": {
    "colab": {
      "provenance": [],
      "toc_visible": true
    },
    "kernelspec": {
      "display_name": "Python 3",
      "name": "python3"
    },
    "language_info": {
      "name": "python"
    }
  },
  "nbformat": 4,
  "nbformat_minor": 0
}
