{
  "cells": [
    {
      "cell_type": "code",
      "source": [
        "from google.colab import drive\n",
        "drive.mount('/content/gdrive', force_remount=True)"
      ],
      "metadata": {
        "colab": {
          "base_uri": "https://localhost:8080/"
        },
        "id": "YYm9LVuFeH1M",
        "outputId": "0f265cd5-5845-4036-c842-b897de34da87"
      },
      "execution_count": 1,
      "outputs": [
        {
          "output_type": "stream",
          "name": "stdout",
          "text": [
            "Mounted at /content/gdrive\n"
          ]
        }
      ]
    },
    {
      "cell_type": "code",
      "execution_count": 2,
      "metadata": {
        "id": "jar_0nx2dP0m"
      },
      "outputs": [],
      "source": [
        "import pandas as pd\n",
        "import numpy as np\n",
        "import re\n",
        "import os\n",
        "import json\n",
        "from tqdm import tqdm \n",
        "import joblib\n",
        "import pickle"
      ]
    },
    {
      "cell_type": "code",
      "source": [
        "os.chdir('/content/gdrive/MyDrive/語料庫語言學/hw3-6')"
      ],
      "metadata": {
        "id": "fmgLJHb6edqo"
      },
      "execution_count": 10,
      "outputs": []
    },
    {
      "cell_type": "markdown",
      "metadata": {
        "id": "S34lUw7pdP0o"
      },
      "source": [
        "### Preprocess texts of posts"
      ]
    },
    {
      "cell_type": "code",
      "execution_count": null,
      "metadata": {
        "id": "jg54oSeEdP0n",
        "outputId": "09381ea6-54a1-4000-898f-bc72e883940e"
      },
      "outputs": [
        {
          "data": {
            "text/plain": [
              "99"
            ]
          },
          "execution_count": 3,
          "metadata": {},
          "output_type": "execute_result"
        }
      ],
      "source": [
        "forum_folders = os.listdir(\"./data/dcard_popular\")\n",
        "len(forum_folders)"
      ]
    },
    {
      "cell_type": "code",
      "execution_count": null,
      "metadata": {
        "id": "KcGc0vXvdP0p",
        "outputId": "25f91555-3003-4085-9e92-a8a830b73544"
      },
      "outputs": [
        {
          "name": "stderr",
          "output_type": "stream",
          "text": [
            "100%|██████████| 99/99 [00:00<00:00, 674.17it/s]\n"
          ]
        },
        {
          "data": {
            "text/plain": [
              "1529"
            ]
          },
          "execution_count": 9,
          "metadata": {},
          "output_type": "execute_result"
        }
      ],
      "source": [
        "posts = []\n",
        "for forum in tqdm(forum_folders):\n",
        "    if forum != \".DS_Store\":\n",
        "        forum_path = f\"./data/dcard_popular/{forum}\"\n",
        "        jsonfiles = os.listdir(forum_path)\n",
        "        for jsonfile in jsonfiles:\n",
        "            jsonpath = f\"{forum_path}/{jsonfile}\"\n",
        "            with open(jsonpath, \"r\", encoding=\"utf-8\") as f:\n",
        "                post = json.load(f)\n",
        "                posts.append(post)\n",
        "len(posts)"
      ]
    },
    {
      "cell_type": "code",
      "execution_count": null,
      "metadata": {
        "id": "j2-dl9kSdP0q",
        "outputId": "4a9da50c-3f45-46cb-9cf1-7a03fb9aaeeb"
      },
      "outputs": [
        {
          "data": {
            "text/plain": [
              "['./data/dcard_posts.pkl']"
            ]
          },
          "execution_count": 12,
          "metadata": {},
          "output_type": "execute_result"
        }
      ],
      "source": [
        "# dcard_latest\n",
        "latest = []\n",
        "for forum in tqdm(os.listdir(\"./data/dcard_latest\")):\n",
        "    if forum != \".DS_Store\":\n",
        "        forum_path = f\"./data/dcard_latest/{forum}\"\n",
        "        jsonfiles = os.listdir(forum_path)\n",
        "        for jsonfile in jsonfiles:\n",
        "            jsonpath = f\"{forum_path}/{jsonfile}\"\n",
        "            with open(jsonpath, \"r\", encoding=\"utf-8\") as f:\n",
        "                post = json.load(f)\n",
        "                latest.append(post)\n",
        "len(latest)"
      ]
    },
    {
      "cell_type": "code",
      "source": [
        "posts_v2 = posts + latest\n",
        "#with open(\"./data/posts_v2.json\", \"w\", encoding=\"utf-8\") as f:\n",
        " #   json.dump(posts_v2, f, ensure_ascii=False)"
      ],
      "metadata": {
        "id": "lBPWsFNmwTM9"
      },
      "execution_count": null,
      "outputs": []
    },
    {
      "cell_type": "markdown",
      "source": [
        "**Read posts_v2.json**"
      ],
      "metadata": {
        "id": "cOxS9Lizwp63"
      }
    },
    {
      "cell_type": "code",
      "source": [
        "with open(\"./data/posts_v2.json\", \"r\", encoding=\"utf-8\") as f:\n",
        "    posts_v2 = json.load(f)"
      ],
      "metadata": {
        "id": "LORsYKU4wfMb"
      },
      "execution_count": 4,
      "outputs": []
    },
    {
      "cell_type": "code",
      "source": [
        "len(posts_v2)"
      ],
      "metadata": {
        "colab": {
          "base_uri": "https://localhost:8080/"
        },
        "id": "YXjctIXkwnzd",
        "outputId": "1486927f-c4ef-4572-a879-bd1411c4eb9a"
      },
      "execution_count": 5,
      "outputs": [
        {
          "output_type": "execute_result",
          "data": {
            "text/plain": [
              "20069"
            ]
          },
          "metadata": {},
          "execution_count": 5
        }
      ]
    },
    {
      "cell_type": "code",
      "execution_count": 6,
      "metadata": {
        "colab": {
          "base_uri": "https://localhost:8080/"
        },
        "id": "dhnEPA_4dP0q",
        "outputId": "86c631ac-1c03-4f2e-ed82-1852b6a7769f"
      },
      "outputs": [
        {
          "output_type": "stream",
          "name": "stdout",
          "text": [
            "dict_keys(['id', 'title', 'content', 'excerpt', 'anonymousSchool', 'anonymousDepartment', 'pinned', 'forumId', 'replyId', 'createdAt', 'updatedAt', 'commentCount', 'likeCount', 'tags', 'topics', 'supportedReactions', 'withNickname', 'reportReason', 'hiddenByAuthor', 'meta', 'forumName', 'forumAlias', 'school', 'replyTitle', 'gender', 'personaSubscriptable', 'reactions', 'hidden', 'customStyle', 'isSuspiciousAccount', 'layout', 'withImages', 'withVideos', 'media', 'reportReasonText', 'mediaMeta', 'postAvatar'])\n"
          ]
        }
      ],
      "source": [
        "# Post metadata\n",
        "for post in posts_v2[:1]:\n",
        "    print(post.keys())"
      ]
    },
    {
      "cell_type": "code",
      "execution_count": 7,
      "metadata": {
        "colab": {
          "base_uri": "https://localhost:8080/"
        },
        "id": "26-_w2KDdP0r",
        "outputId": "4fc22e89-0f0c-4bc7-8059-eb4d0cdc5bd0"
      },
      "outputs": [
        {
          "output_type": "execute_result",
          "data": {
            "text/plain": [
              "20069"
            ]
          },
          "metadata": {},
          "execution_count": 7
        }
      ],
      "source": [
        "# pick out the columns we want\n",
        "results = []\n",
        "for p in posts_v2:\n",
        "    data = [p['id'],  p['createdAt'], p['forumName'], p['gender'], p['title'], p['content'], p['topics'], p['commentCount'], p['likeCount']]\n",
        "    results.append(data)\n",
        "\n",
        "len(results)"
      ]
    },
    {
      "cell_type": "code",
      "execution_count": 8,
      "metadata": {
        "colab": {
          "base_uri": "https://localhost:8080/",
          "height": 319
        },
        "id": "9UZfB6wwdP0r",
        "outputId": "7edfa4cc-32d9-447c-af39-8ba5dfeb22b9"
      },
      "outputs": [
        {
          "output_type": "execute_result",
          "data": {
            "text/plain": [
              "          id                 createdAt  forum gender                   title  \\\n",
              "0  233006165  2020-02-03T04:47:26.058Z  Apple      M              #問題 關於Siri   \n",
              "1  233012413  2020-02-04T02:11:08.007Z  Apple      F     iPhone 11 啊啊啊啊啊啊啊啊😭   \n",
              "2  232795451  2019-12-31T03:40:36.331Z  Apple      M       Apple 板  Mac 教學文章   \n",
              "3  233010090  2020-02-03T14:59:06.646Z  Apple      M        請問大家都哪裡買五星梅花起子呀？   \n",
              "4  233005085  2020-02-02T20:05:18.803Z  Apple      M  要換iphone11 還是等iphone12   \n",
              "\n",
              "                                             content  \\\n",
              "0  https://megapx-assets.dcard.tw/images/45dbac63...   \n",
              "1  #問題\\n#求救\\n#急在線等\\n#HELP \\n\\n\\n本人使用iphone11\\n今天無...   \n",
              "2  哈囉大家好\\n我是 Apple 板板主 Macintosh \\n\\n有鑑於版友有問題需要協助...   \n",
              "3  今天去了光華某家電子材料行\\n\\n希望買到可以拆macbook pro 的背蓋的梅花起子\\n...   \n",
              "4  小弟菜味濃，若有錯誤麻煩多多包含😅😅\\n小弟目前用8 使用約兩年，操作上都還很順，沒什麼大問...   \n",
              "\n",
              "                        topics  commentCount  likeCount  \n",
              "0             [Apple, 問題, 求救文]             0          3  \n",
              "1                 [手機, iPhone]             3          0  \n",
              "2       [教學, Apple, 問題, macOS]             9         13  \n",
              "3    [diy, 起子, 梅花, macbook, 累]             7          0  \n",
              "4  [iPhone, 手機, 詢問, 問題, Apple]            33          8  "
            ],
            "text/html": [
              "\n",
              "  <div id=\"df-acdd467e-de79-4887-a27e-2c590bc2f7ce\">\n",
              "    <div class=\"colab-df-container\">\n",
              "      <div>\n",
              "<style scoped>\n",
              "    .dataframe tbody tr th:only-of-type {\n",
              "        vertical-align: middle;\n",
              "    }\n",
              "\n",
              "    .dataframe tbody tr th {\n",
              "        vertical-align: top;\n",
              "    }\n",
              "\n",
              "    .dataframe thead th {\n",
              "        text-align: right;\n",
              "    }\n",
              "</style>\n",
              "<table border=\"1\" class=\"dataframe\">\n",
              "  <thead>\n",
              "    <tr style=\"text-align: right;\">\n",
              "      <th></th>\n",
              "      <th>id</th>\n",
              "      <th>createdAt</th>\n",
              "      <th>forum</th>\n",
              "      <th>gender</th>\n",
              "      <th>title</th>\n",
              "      <th>content</th>\n",
              "      <th>topics</th>\n",
              "      <th>commentCount</th>\n",
              "      <th>likeCount</th>\n",
              "    </tr>\n",
              "  </thead>\n",
              "  <tbody>\n",
              "    <tr>\n",
              "      <th>0</th>\n",
              "      <td>233006165</td>\n",
              "      <td>2020-02-03T04:47:26.058Z</td>\n",
              "      <td>Apple</td>\n",
              "      <td>M</td>\n",
              "      <td>#問題 關於Siri</td>\n",
              "      <td>https://megapx-assets.dcard.tw/images/45dbac63...</td>\n",
              "      <td>[Apple, 問題, 求救文]</td>\n",
              "      <td>0</td>\n",
              "      <td>3</td>\n",
              "    </tr>\n",
              "    <tr>\n",
              "      <th>1</th>\n",
              "      <td>233012413</td>\n",
              "      <td>2020-02-04T02:11:08.007Z</td>\n",
              "      <td>Apple</td>\n",
              "      <td>F</td>\n",
              "      <td>iPhone 11 啊啊啊啊啊啊啊啊😭</td>\n",
              "      <td>#問題\\n#求救\\n#急在線等\\n#HELP \\n\\n\\n本人使用iphone11\\n今天無...</td>\n",
              "      <td>[手機, iPhone]</td>\n",
              "      <td>3</td>\n",
              "      <td>0</td>\n",
              "    </tr>\n",
              "    <tr>\n",
              "      <th>2</th>\n",
              "      <td>232795451</td>\n",
              "      <td>2019-12-31T03:40:36.331Z</td>\n",
              "      <td>Apple</td>\n",
              "      <td>M</td>\n",
              "      <td>Apple 板  Mac 教學文章</td>\n",
              "      <td>哈囉大家好\\n我是 Apple 板板主 Macintosh \\n\\n有鑑於版友有問題需要協助...</td>\n",
              "      <td>[教學, Apple, 問題, macOS]</td>\n",
              "      <td>9</td>\n",
              "      <td>13</td>\n",
              "    </tr>\n",
              "    <tr>\n",
              "      <th>3</th>\n",
              "      <td>233010090</td>\n",
              "      <td>2020-02-03T14:59:06.646Z</td>\n",
              "      <td>Apple</td>\n",
              "      <td>M</td>\n",
              "      <td>請問大家都哪裡買五星梅花起子呀？</td>\n",
              "      <td>今天去了光華某家電子材料行\\n\\n希望買到可以拆macbook pro 的背蓋的梅花起子\\n...</td>\n",
              "      <td>[diy, 起子, 梅花, macbook, 累]</td>\n",
              "      <td>7</td>\n",
              "      <td>0</td>\n",
              "    </tr>\n",
              "    <tr>\n",
              "      <th>4</th>\n",
              "      <td>233005085</td>\n",
              "      <td>2020-02-02T20:05:18.803Z</td>\n",
              "      <td>Apple</td>\n",
              "      <td>M</td>\n",
              "      <td>要換iphone11 還是等iphone12</td>\n",
              "      <td>小弟菜味濃，若有錯誤麻煩多多包含😅😅\\n小弟目前用8 使用約兩年，操作上都還很順，沒什麼大問...</td>\n",
              "      <td>[iPhone, 手機, 詢問, 問題, Apple]</td>\n",
              "      <td>33</td>\n",
              "      <td>8</td>\n",
              "    </tr>\n",
              "  </tbody>\n",
              "</table>\n",
              "</div>\n",
              "      <button class=\"colab-df-convert\" onclick=\"convertToInteractive('df-acdd467e-de79-4887-a27e-2c590bc2f7ce')\"\n",
              "              title=\"Convert this dataframe to an interactive table.\"\n",
              "              style=\"display:none;\">\n",
              "        \n",
              "  <svg xmlns=\"http://www.w3.org/2000/svg\" height=\"24px\"viewBox=\"0 0 24 24\"\n",
              "       width=\"24px\">\n",
              "    <path d=\"M0 0h24v24H0V0z\" fill=\"none\"/>\n",
              "    <path d=\"M18.56 5.44l.94 2.06.94-2.06 2.06-.94-2.06-.94-.94-2.06-.94 2.06-2.06.94zm-11 1L8.5 8.5l.94-2.06 2.06-.94-2.06-.94L8.5 2.5l-.94 2.06-2.06.94zm10 10l.94 2.06.94-2.06 2.06-.94-2.06-.94-.94-2.06-.94 2.06-2.06.94z\"/><path d=\"M17.41 7.96l-1.37-1.37c-.4-.4-.92-.59-1.43-.59-.52 0-1.04.2-1.43.59L10.3 9.45l-7.72 7.72c-.78.78-.78 2.05 0 2.83L4 21.41c.39.39.9.59 1.41.59.51 0 1.02-.2 1.41-.59l7.78-7.78 2.81-2.81c.8-.78.8-2.07 0-2.86zM5.41 20L4 18.59l7.72-7.72 1.47 1.35L5.41 20z\"/>\n",
              "  </svg>\n",
              "      </button>\n",
              "      \n",
              "  <style>\n",
              "    .colab-df-container {\n",
              "      display:flex;\n",
              "      flex-wrap:wrap;\n",
              "      gap: 12px;\n",
              "    }\n",
              "\n",
              "    .colab-df-convert {\n",
              "      background-color: #E8F0FE;\n",
              "      border: none;\n",
              "      border-radius: 50%;\n",
              "      cursor: pointer;\n",
              "      display: none;\n",
              "      fill: #1967D2;\n",
              "      height: 32px;\n",
              "      padding: 0 0 0 0;\n",
              "      width: 32px;\n",
              "    }\n",
              "\n",
              "    .colab-df-convert:hover {\n",
              "      background-color: #E2EBFA;\n",
              "      box-shadow: 0px 1px 2px rgba(60, 64, 67, 0.3), 0px 1px 3px 1px rgba(60, 64, 67, 0.15);\n",
              "      fill: #174EA6;\n",
              "    }\n",
              "\n",
              "    [theme=dark] .colab-df-convert {\n",
              "      background-color: #3B4455;\n",
              "      fill: #D2E3FC;\n",
              "    }\n",
              "\n",
              "    [theme=dark] .colab-df-convert:hover {\n",
              "      background-color: #434B5C;\n",
              "      box-shadow: 0px 1px 3px 1px rgba(0, 0, 0, 0.15);\n",
              "      filter: drop-shadow(0px 1px 2px rgba(0, 0, 0, 0.3));\n",
              "      fill: #FFFFFF;\n",
              "    }\n",
              "  </style>\n",
              "\n",
              "      <script>\n",
              "        const buttonEl =\n",
              "          document.querySelector('#df-acdd467e-de79-4887-a27e-2c590bc2f7ce button.colab-df-convert');\n",
              "        buttonEl.style.display =\n",
              "          google.colab.kernel.accessAllowed ? 'block' : 'none';\n",
              "\n",
              "        async function convertToInteractive(key) {\n",
              "          const element = document.querySelector('#df-acdd467e-de79-4887-a27e-2c590bc2f7ce');\n",
              "          const dataTable =\n",
              "            await google.colab.kernel.invokeFunction('convertToInteractive',\n",
              "                                                     [key], {});\n",
              "          if (!dataTable) return;\n",
              "\n",
              "          const docLinkHtml = 'Like what you see? Visit the ' +\n",
              "            '<a target=\"_blank\" href=https://colab.research.google.com/notebooks/data_table.ipynb>data table notebook</a>'\n",
              "            + ' to learn more about interactive tables.';\n",
              "          element.innerHTML = '';\n",
              "          dataTable['output_type'] = 'display_data';\n",
              "          await google.colab.output.renderOutput(dataTable, element);\n",
              "          const docLink = document.createElement('div');\n",
              "          docLink.innerHTML = docLinkHtml;\n",
              "          element.appendChild(docLink);\n",
              "        }\n",
              "      </script>\n",
              "    </div>\n",
              "  </div>\n",
              "  "
            ]
          },
          "metadata": {},
          "execution_count": 8
        }
      ],
      "source": [
        "# create a dataframe\n",
        "df = pd.DataFrame(results, columns=['id', 'createdAt', 'forum', 'gender', 'title','content','topics','commentCount','likeCount'])\n",
        "df.head()"
      ]
    },
    {
      "cell_type": "code",
      "source": [
        "#df.to_csv('./data/dcard_df_raw.csv',encoding='utf-8',index=False)"
      ],
      "metadata": {
        "id": "s07Oy5pvwzBK"
      },
      "execution_count": 9,
      "outputs": []
    },
    {
      "cell_type": "markdown",
      "metadata": {
        "id": "u1xAyn5vdP0s"
      },
      "source": [
        "**Cleaning**"
      ]
    },
    {
      "cell_type": "code",
      "execution_count": 10,
      "metadata": {
        "id": "fuJVAs_0dP0s"
      },
      "outputs": [],
      "source": [
        "trash_re = \"@\\S+|https?:\\S+|http?:\\S|[^\\u4E00-\\u9FD5]\"\n",
        "\n",
        "def clean(texts, trash_re):\n",
        "    output = []\n",
        "    for text in texts:\n",
        "        text = re.sub(trash_re, '', str(text))\n",
        "        output.append(text)\n",
        "    return output\n",
        "\n",
        "def clean_title(texts):\n",
        "    title_re = \"@\\S+|https?:\\S+|http?:\\S|\\W\"\n",
        "    output = []\n",
        "    for text in texts:\n",
        "        text = re.sub(title_re, '', str(text))\n",
        "        output.append(text)\n",
        "    return output"
      ]
    },
    {
      "cell_type": "code",
      "execution_count": 11,
      "metadata": {
        "colab": {
          "base_uri": "https://localhost:8080/",
          "height": 424
        },
        "id": "XCyKb2z0dP0t",
        "outputId": "8ad55b17-4c42-460e-fc17-c86f984faf62"
      },
      "outputs": [
        {
          "output_type": "execute_result",
          "data": {
            "text/plain": [
              "          id                 createdAt  forum gender                   title  \\\n",
              "0  233006165  2020-02-03T04:47:26.058Z  Apple      M              #問題 關於Siri   \n",
              "1  233012413  2020-02-04T02:11:08.007Z  Apple      F     iPhone 11 啊啊啊啊啊啊啊啊😭   \n",
              "2  232795451  2019-12-31T03:40:36.331Z  Apple      M       Apple 板  Mac 教學文章   \n",
              "3  233010090  2020-02-03T14:59:06.646Z  Apple      M        請問大家都哪裡買五星梅花起子呀？   \n",
              "4  233005085  2020-02-02T20:05:18.803Z  Apple      M  要換iphone11 還是等iphone12   \n",
              "\n",
              "                                             content  \\\n",
              "0  https://megapx-assets.dcard.tw/images/45dbac63...   \n",
              "1  #問題\\n#求救\\n#急在線等\\n#HELP \\n\\n\\n本人使用iphone11\\n今天無...   \n",
              "2  哈囉大家好\\n我是 Apple 板板主 Macintosh \\n\\n有鑑於版友有問題需要協助...   \n",
              "3  今天去了光華某家電子材料行\\n\\n希望買到可以拆macbook pro 的背蓋的梅花起子\\n...   \n",
              "4  小弟菜味濃，若有錯誤麻煩多多包含😅😅\\n小弟目前用8 使用約兩年，操作上都還很順，沒什麼大問...   \n",
              "\n",
              "                        topics  commentCount  likeCount  \\\n",
              "0             [Apple, 問題, 求救文]             0          3   \n",
              "1                 [手機, iPhone]             3          0   \n",
              "2       [教學, Apple, 問題, macOS]             9         13   \n",
              "3    [diy, 起子, 梅花, macbook, 累]             7          0   \n",
              "4  [iPhone, 手機, 詢問, 問題, Apple]            33          8   \n",
              "\n",
              "                                       content_clean  \n",
              "0  請問一下如何刪除這個建議這隻手機是家人不要用給我用的爬了很多文章也不知道怎麼刪又或者是我搜尋...  \n",
              "1  問題求救急在線等本人使用今天無論如何都叫不出也看了設定都有開啟的服務不知道為什麼就是叫不出來...  \n",
              "2  哈囉大家好我是板板主有鑑於版友有問題需要協助時無法在版找到答案想請各位板友提供問題或是想要了...  \n",
              "3  今天去了光華某家電子材料行希望買到可以拆的背蓋的梅花起子但結果他明明就是畫的一顆五角星星回家...  \n",
              "4  小弟菜味濃若有錯誤麻煩多多包含小弟目前用使用約兩年操作上都還很順沒什麼大問題只有電池續航力有...  "
            ],
            "text/html": [
              "\n",
              "  <div id=\"df-0cc3bd7e-9107-4801-a346-671acfa23552\">\n",
              "    <div class=\"colab-df-container\">\n",
              "      <div>\n",
              "<style scoped>\n",
              "    .dataframe tbody tr th:only-of-type {\n",
              "        vertical-align: middle;\n",
              "    }\n",
              "\n",
              "    .dataframe tbody tr th {\n",
              "        vertical-align: top;\n",
              "    }\n",
              "\n",
              "    .dataframe thead th {\n",
              "        text-align: right;\n",
              "    }\n",
              "</style>\n",
              "<table border=\"1\" class=\"dataframe\">\n",
              "  <thead>\n",
              "    <tr style=\"text-align: right;\">\n",
              "      <th></th>\n",
              "      <th>id</th>\n",
              "      <th>createdAt</th>\n",
              "      <th>forum</th>\n",
              "      <th>gender</th>\n",
              "      <th>title</th>\n",
              "      <th>content</th>\n",
              "      <th>topics</th>\n",
              "      <th>commentCount</th>\n",
              "      <th>likeCount</th>\n",
              "      <th>content_clean</th>\n",
              "    </tr>\n",
              "  </thead>\n",
              "  <tbody>\n",
              "    <tr>\n",
              "      <th>0</th>\n",
              "      <td>233006165</td>\n",
              "      <td>2020-02-03T04:47:26.058Z</td>\n",
              "      <td>Apple</td>\n",
              "      <td>M</td>\n",
              "      <td>#問題 關於Siri</td>\n",
              "      <td>https://megapx-assets.dcard.tw/images/45dbac63...</td>\n",
              "      <td>[Apple, 問題, 求救文]</td>\n",
              "      <td>0</td>\n",
              "      <td>3</td>\n",
              "      <td>請問一下如何刪除這個建議這隻手機是家人不要用給我用的爬了很多文章也不知道怎麼刪又或者是我搜尋...</td>\n",
              "    </tr>\n",
              "    <tr>\n",
              "      <th>1</th>\n",
              "      <td>233012413</td>\n",
              "      <td>2020-02-04T02:11:08.007Z</td>\n",
              "      <td>Apple</td>\n",
              "      <td>F</td>\n",
              "      <td>iPhone 11 啊啊啊啊啊啊啊啊😭</td>\n",
              "      <td>#問題\\n#求救\\n#急在線等\\n#HELP \\n\\n\\n本人使用iphone11\\n今天無...</td>\n",
              "      <td>[手機, iPhone]</td>\n",
              "      <td>3</td>\n",
              "      <td>0</td>\n",
              "      <td>問題求救急在線等本人使用今天無論如何都叫不出也看了設定都有開啟的服務不知道為什麼就是叫不出來...</td>\n",
              "    </tr>\n",
              "    <tr>\n",
              "      <th>2</th>\n",
              "      <td>232795451</td>\n",
              "      <td>2019-12-31T03:40:36.331Z</td>\n",
              "      <td>Apple</td>\n",
              "      <td>M</td>\n",
              "      <td>Apple 板  Mac 教學文章</td>\n",
              "      <td>哈囉大家好\\n我是 Apple 板板主 Macintosh \\n\\n有鑑於版友有問題需要協助...</td>\n",
              "      <td>[教學, Apple, 問題, macOS]</td>\n",
              "      <td>9</td>\n",
              "      <td>13</td>\n",
              "      <td>哈囉大家好我是板板主有鑑於版友有問題需要協助時無法在版找到答案想請各位板友提供問題或是想要了...</td>\n",
              "    </tr>\n",
              "    <tr>\n",
              "      <th>3</th>\n",
              "      <td>233010090</td>\n",
              "      <td>2020-02-03T14:59:06.646Z</td>\n",
              "      <td>Apple</td>\n",
              "      <td>M</td>\n",
              "      <td>請問大家都哪裡買五星梅花起子呀？</td>\n",
              "      <td>今天去了光華某家電子材料行\\n\\n希望買到可以拆macbook pro 的背蓋的梅花起子\\n...</td>\n",
              "      <td>[diy, 起子, 梅花, macbook, 累]</td>\n",
              "      <td>7</td>\n",
              "      <td>0</td>\n",
              "      <td>今天去了光華某家電子材料行希望買到可以拆的背蓋的梅花起子但結果他明明就是畫的一顆五角星星回家...</td>\n",
              "    </tr>\n",
              "    <tr>\n",
              "      <th>4</th>\n",
              "      <td>233005085</td>\n",
              "      <td>2020-02-02T20:05:18.803Z</td>\n",
              "      <td>Apple</td>\n",
              "      <td>M</td>\n",
              "      <td>要換iphone11 還是等iphone12</td>\n",
              "      <td>小弟菜味濃，若有錯誤麻煩多多包含😅😅\\n小弟目前用8 使用約兩年，操作上都還很順，沒什麼大問...</td>\n",
              "      <td>[iPhone, 手機, 詢問, 問題, Apple]</td>\n",
              "      <td>33</td>\n",
              "      <td>8</td>\n",
              "      <td>小弟菜味濃若有錯誤麻煩多多包含小弟目前用使用約兩年操作上都還很順沒什麼大問題只有電池續航力有...</td>\n",
              "    </tr>\n",
              "  </tbody>\n",
              "</table>\n",
              "</div>\n",
              "      <button class=\"colab-df-convert\" onclick=\"convertToInteractive('df-0cc3bd7e-9107-4801-a346-671acfa23552')\"\n",
              "              title=\"Convert this dataframe to an interactive table.\"\n",
              "              style=\"display:none;\">\n",
              "        \n",
              "  <svg xmlns=\"http://www.w3.org/2000/svg\" height=\"24px\"viewBox=\"0 0 24 24\"\n",
              "       width=\"24px\">\n",
              "    <path d=\"M0 0h24v24H0V0z\" fill=\"none\"/>\n",
              "    <path d=\"M18.56 5.44l.94 2.06.94-2.06 2.06-.94-2.06-.94-.94-2.06-.94 2.06-2.06.94zm-11 1L8.5 8.5l.94-2.06 2.06-.94-2.06-.94L8.5 2.5l-.94 2.06-2.06.94zm10 10l.94 2.06.94-2.06 2.06-.94-2.06-.94-.94-2.06-.94 2.06-2.06.94z\"/><path d=\"M17.41 7.96l-1.37-1.37c-.4-.4-.92-.59-1.43-.59-.52 0-1.04.2-1.43.59L10.3 9.45l-7.72 7.72c-.78.78-.78 2.05 0 2.83L4 21.41c.39.39.9.59 1.41.59.51 0 1.02-.2 1.41-.59l7.78-7.78 2.81-2.81c.8-.78.8-2.07 0-2.86zM5.41 20L4 18.59l7.72-7.72 1.47 1.35L5.41 20z\"/>\n",
              "  </svg>\n",
              "      </button>\n",
              "      \n",
              "  <style>\n",
              "    .colab-df-container {\n",
              "      display:flex;\n",
              "      flex-wrap:wrap;\n",
              "      gap: 12px;\n",
              "    }\n",
              "\n",
              "    .colab-df-convert {\n",
              "      background-color: #E8F0FE;\n",
              "      border: none;\n",
              "      border-radius: 50%;\n",
              "      cursor: pointer;\n",
              "      display: none;\n",
              "      fill: #1967D2;\n",
              "      height: 32px;\n",
              "      padding: 0 0 0 0;\n",
              "      width: 32px;\n",
              "    }\n",
              "\n",
              "    .colab-df-convert:hover {\n",
              "      background-color: #E2EBFA;\n",
              "      box-shadow: 0px 1px 2px rgba(60, 64, 67, 0.3), 0px 1px 3px 1px rgba(60, 64, 67, 0.15);\n",
              "      fill: #174EA6;\n",
              "    }\n",
              "\n",
              "    [theme=dark] .colab-df-convert {\n",
              "      background-color: #3B4455;\n",
              "      fill: #D2E3FC;\n",
              "    }\n",
              "\n",
              "    [theme=dark] .colab-df-convert:hover {\n",
              "      background-color: #434B5C;\n",
              "      box-shadow: 0px 1px 3px 1px rgba(0, 0, 0, 0.15);\n",
              "      filter: drop-shadow(0px 1px 2px rgba(0, 0, 0, 0.3));\n",
              "      fill: #FFFFFF;\n",
              "    }\n",
              "  </style>\n",
              "\n",
              "      <script>\n",
              "        const buttonEl =\n",
              "          document.querySelector('#df-0cc3bd7e-9107-4801-a346-671acfa23552 button.colab-df-convert');\n",
              "        buttonEl.style.display =\n",
              "          google.colab.kernel.accessAllowed ? 'block' : 'none';\n",
              "\n",
              "        async function convertToInteractive(key) {\n",
              "          const element = document.querySelector('#df-0cc3bd7e-9107-4801-a346-671acfa23552');\n",
              "          const dataTable =\n",
              "            await google.colab.kernel.invokeFunction('convertToInteractive',\n",
              "                                                     [key], {});\n",
              "          if (!dataTable) return;\n",
              "\n",
              "          const docLinkHtml = 'Like what you see? Visit the ' +\n",
              "            '<a target=\"_blank\" href=https://colab.research.google.com/notebooks/data_table.ipynb>data table notebook</a>'\n",
              "            + ' to learn more about interactive tables.';\n",
              "          element.innerHTML = '';\n",
              "          dataTable['output_type'] = 'display_data';\n",
              "          await google.colab.output.renderOutput(dataTable, element);\n",
              "          const docLink = document.createElement('div');\n",
              "          docLink.innerHTML = docLinkHtml;\n",
              "          element.appendChild(docLink);\n",
              "        }\n",
              "      </script>\n",
              "    </div>\n",
              "  </div>\n",
              "  "
            ]
          },
          "metadata": {},
          "execution_count": 11
        }
      ],
      "source": [
        "df['content_clean'] = clean(df['content'], trash_re)\n",
        "df.head()"
      ]
    },
    {
      "cell_type": "code",
      "source": [
        "# filter out rows that only has numbers in content_clean / len==1\n",
        "str_rowids = []\n",
        "for i,r in df.iterrows():\n",
        "    if type(r['content_clean']) != float:\n",
        "        if len(r['content_clean']) >1:\n",
        "            str_rowids.append(i)\n",
        "\n",
        "len(str_rowids)"
      ],
      "metadata": {
        "colab": {
          "base_uri": "https://localhost:8080/"
        },
        "id": "HeVIdg7zjbEO",
        "outputId": "b3b03b6a-55af-4fbf-a24b-4896140e6c5f"
      },
      "execution_count": 14,
      "outputs": [
        {
          "output_type": "execute_result",
          "data": {
            "text/plain": [
              "20025"
            ]
          },
          "metadata": {},
          "execution_count": 14
        }
      ]
    },
    {
      "cell_type": "code",
      "source": [
        "df = df.iloc[str_rowids]"
      ],
      "metadata": {
        "id": "JhxkaVR-lNeb"
      },
      "execution_count": null,
      "outputs": []
    },
    {
      "cell_type": "code",
      "source": [
        "# remove duplicates\n",
        "df.drop_duplicates(\"content_clean\", inplace=True)\n",
        "df.shape"
      ],
      "metadata": {
        "colab": {
          "base_uri": "https://localhost:8080/"
        },
        "id": "kEoxjfLhxfbG",
        "outputId": "a2b75a14-208f-44e6-8697-0080a44f80b0"
      },
      "execution_count": 20,
      "outputs": [
        {
          "output_type": "execute_result",
          "data": {
            "text/plain": [
              "(19898, 10)"
            ]
          },
          "metadata": {},
          "execution_count": 20
        }
      ]
    },
    {
      "cell_type": "code",
      "execution_count": 21,
      "metadata": {
        "id": "-JSEUWB2dP0u"
      },
      "outputs": [],
      "source": [
        "#df.to_csv('./data/dcard_df_cleaned.csv',encoding='utf-8',index=False)"
      ]
    },
    {
      "cell_type": "markdown",
      "source": [
        "### Tokenization & POS tagging"
      ],
      "metadata": {
        "id": "QArIjZyMhVQv"
      }
    },
    {
      "cell_type": "code",
      "source": [
        "df = pd.read_csv('./data/dcard_df_cleaned.csv',encoding='utf-8')"
      ],
      "metadata": {
        "id": "Ojs05cFVhrmK"
      },
      "execution_count": 21,
      "outputs": []
    },
    {
      "cell_type": "code",
      "execution_count": null,
      "metadata": {
        "id": "JK8BXHrQdP0u"
      },
      "outputs": [],
      "source": [
        "!pip install ckip-transformers\n",
        "from ckip_transformers.nlp import CkipWordSegmenter\n",
        "from ckip_transformers.nlp import CkipPosTagger"
      ]
    },
    {
      "cell_type": "code",
      "execution_count": 22,
      "metadata": {
        "id": "gw3gpHXZdP0u"
      },
      "outputs": [],
      "source": [
        "# WS\n",
        "ws_driver = CkipWordSegmenter(device=0)"
      ]
    },
    {
      "cell_type": "code",
      "execution_count": 23,
      "metadata": {
        "colab": {
          "base_uri": "https://localhost:8080/"
        },
        "id": "v4oaNLYbdP0u",
        "outputId": "941db701-b5e2-46b8-8895-2cc81b35b598"
      },
      "outputs": [
        {
          "output_type": "stream",
          "name": "stderr",
          "text": [
            "Tokenization: 100%|██████████| 19898/19898 [00:12<00:00, 1649.07it/s]\n",
            "Inference: 100%|██████████| 101/101 [13:13<00:00,  7.86s/it]\n"
          ]
        }
      ],
      "source": [
        "dcard_ws = ws_driver(df['content_clean'], use_delim = False)\n",
        "dcard_segmented = [\" \".join(ls) for ls in dcard_ws]"
      ]
    },
    {
      "cell_type": "code",
      "execution_count": 24,
      "metadata": {
        "colab": {
          "base_uri": "https://localhost:8080/"
        },
        "id": "Cjdjsx0WdP0v",
        "outputId": "cf46f883-5ec3-4fa9-968e-ebcf3a41dfc0"
      },
      "outputs": [
        {
          "output_type": "execute_result",
          "data": {
            "text/plain": [
              "['./data/dcard_segmented.pkl']"
            ]
          },
          "metadata": {},
          "execution_count": 24
        }
      ],
      "source": [
        "joblib.dump(dcard_ws, \"./data/dcard_ws.pkl\")\n",
        "joblib.dump(dcard_segmented, \"./data/dcard_segmented.pkl\")"
      ]
    },
    {
      "cell_type": "code",
      "execution_count": 25,
      "metadata": {
        "colab": {
          "base_uri": "https://localhost:8080/"
        },
        "id": "xmV3H9WBdP0v",
        "outputId": "921a037e-ee85-4594-8f91-523bd69ad3e5"
      },
      "outputs": [
        {
          "output_type": "stream",
          "name": "stderr",
          "text": [
            "Tokenization: 100%|██████████| 19898/19898 [00:08<00:00, 2338.19it/s]\n",
            "Inference: 100%|██████████| 101/101 [13:23<00:00,  7.96s/it]\n"
          ]
        }
      ],
      "source": [
        "# POS\n",
        "pos_driver = CkipPosTagger(device=0)\n",
        "dcard_pos = pos_driver(dcard_ws, use_delim = False)"
      ]
    },
    {
      "cell_type": "code",
      "source": [
        "joblib.dump(dcard_pos, \"./data/dcard_pos.pkl\")"
      ],
      "metadata": {
        "colab": {
          "base_uri": "https://localhost:8080/"
        },
        "id": "lY4k6OE2iVGL",
        "outputId": "0f0a0d34-e0bc-4e39-9019-453a60c61274"
      },
      "execution_count": 26,
      "outputs": [
        {
          "output_type": "execute_result",
          "data": {
            "text/plain": [
              "['./data/dcard_pos.pkl']"
            ]
          },
          "metadata": {},
          "execution_count": 26
        }
      ]
    },
    {
      "cell_type": "markdown",
      "source": [
        "**Make text only df**"
      ],
      "metadata": {
        "id": "wTy9hmCGidMs"
      }
    },
    {
      "cell_type": "code",
      "source": [
        "text_df = pd.DataFrame({\n",
        "    'PostId':df['id'].to_list(),\n",
        "    'Content_ws':dcard_ws,\n",
        "    'Content_pos':dcard_pos,\n",
        "    'Content_segmented':dcard_segmented,\n",
        "})"
      ],
      "metadata": {
        "id": "B0aC3rcaihgN"
      },
      "execution_count": 27,
      "outputs": []
    },
    {
      "cell_type": "code",
      "source": [
        "text_df.head()"
      ],
      "metadata": {
        "colab": {
          "base_uri": "https://localhost:8080/",
          "height": 206
        },
        "id": "R3MzUQIIjL2Q",
        "outputId": "b71d880e-3e9c-486e-fbb2-f38d7213525d"
      },
      "execution_count": 28,
      "outputs": [
        {
          "output_type": "execute_result",
          "data": {
            "text/plain": [
              "      PostId                                         Content_ws  \\\n",
              "0  233006165  [請問, 一下, 如何, 刪除, 這, 個, 建議, 這, 隻, 手機, 是, 家人, 不要...   \n",
              "1  233012413  [問題, 求救, 急, 在, 線, 等, 本人, 使用, 今天, 無論如何, 都, 叫, 不...   \n",
              "2  232795451  [哈囉, 大家, 好, 我, 是, 板板主, 有鑑於, 版友, 有, 問題, 需要, 協助,...   \n",
              "3  233010090  [今天, 去, 了, 光華, 某, 家, 電子, 材料行, 希望, 買到, 可以, 拆, 的...   \n",
              "4  233005085  [小弟菜, 味, 濃, 若, 有, 錯誤, 麻煩, 多多, 包含, 小弟, 目前, 用, 使...   \n",
              "\n",
              "                                         Content_pos  \\\n",
              "0  [VE, Nd, D, VC, Nep, Nf, Na, Nep, Nf, Na, SHI,...   \n",
              "1  [Na, VF, Na, P, Nc, Cab, Nh, VC, Nd, Dk, D, VC...   \n",
              "2  [I, Nh, VH, Nh, SHI, Na, Cbb, Na, V_2, Na, VK,...   \n",
              "3  [Nd, VCL, Di, Na, Nes, Nf, Na, Nc, VK, VC, D, ...   \n",
              "4  [Na, Na, VH, Cbb, V_2, Na, Na, D, VJ, Na, Nd, ...   \n",
              "\n",
              "                                   Content_segmented  \n",
              "0  請問 一下 如何 刪除 這 個 建議 這 隻 手機 是 家人 不要 用 給 我 用 的 爬 ...  \n",
              "1  問題 求救 急 在 線 等 本人 使用 今天 無論如何 都 叫 不 出 也 看 了 設定 都...  \n",
              "2  哈囉 大家 好 我 是 板板主 有鑑於 版友 有 問題 需要 協助 時 無法 在 版 找到 ...  \n",
              "3  今天 去 了 光華 某 家 電子 材料行 希望 買到 可以 拆 的 背蓋 的 梅花 起子 但...  \n",
              "4  小弟菜 味 濃 若 有 錯誤 麻煩 多多 包含 小弟 目前 用 使用 約 兩 年 操作 上 ...  "
            ],
            "text/html": [
              "\n",
              "  <div id=\"df-ad08c8b0-293a-47b2-86ff-94a78bcc36f1\">\n",
              "    <div class=\"colab-df-container\">\n",
              "      <div>\n",
              "<style scoped>\n",
              "    .dataframe tbody tr th:only-of-type {\n",
              "        vertical-align: middle;\n",
              "    }\n",
              "\n",
              "    .dataframe tbody tr th {\n",
              "        vertical-align: top;\n",
              "    }\n",
              "\n",
              "    .dataframe thead th {\n",
              "        text-align: right;\n",
              "    }\n",
              "</style>\n",
              "<table border=\"1\" class=\"dataframe\">\n",
              "  <thead>\n",
              "    <tr style=\"text-align: right;\">\n",
              "      <th></th>\n",
              "      <th>PostId</th>\n",
              "      <th>Content_ws</th>\n",
              "      <th>Content_pos</th>\n",
              "      <th>Content_segmented</th>\n",
              "    </tr>\n",
              "  </thead>\n",
              "  <tbody>\n",
              "    <tr>\n",
              "      <th>0</th>\n",
              "      <td>233006165</td>\n",
              "      <td>[請問, 一下, 如何, 刪除, 這, 個, 建議, 這, 隻, 手機, 是, 家人, 不要...</td>\n",
              "      <td>[VE, Nd, D, VC, Nep, Nf, Na, Nep, Nf, Na, SHI,...</td>\n",
              "      <td>請問 一下 如何 刪除 這 個 建議 這 隻 手機 是 家人 不要 用 給 我 用 的 爬 ...</td>\n",
              "    </tr>\n",
              "    <tr>\n",
              "      <th>1</th>\n",
              "      <td>233012413</td>\n",
              "      <td>[問題, 求救, 急, 在, 線, 等, 本人, 使用, 今天, 無論如何, 都, 叫, 不...</td>\n",
              "      <td>[Na, VF, Na, P, Nc, Cab, Nh, VC, Nd, Dk, D, VC...</td>\n",
              "      <td>問題 求救 急 在 線 等 本人 使用 今天 無論如何 都 叫 不 出 也 看 了 設定 都...</td>\n",
              "    </tr>\n",
              "    <tr>\n",
              "      <th>2</th>\n",
              "      <td>232795451</td>\n",
              "      <td>[哈囉, 大家, 好, 我, 是, 板板主, 有鑑於, 版友, 有, 問題, 需要, 協助,...</td>\n",
              "      <td>[I, Nh, VH, Nh, SHI, Na, Cbb, Na, V_2, Na, VK,...</td>\n",
              "      <td>哈囉 大家 好 我 是 板板主 有鑑於 版友 有 問題 需要 協助 時 無法 在 版 找到 ...</td>\n",
              "    </tr>\n",
              "    <tr>\n",
              "      <th>3</th>\n",
              "      <td>233010090</td>\n",
              "      <td>[今天, 去, 了, 光華, 某, 家, 電子, 材料行, 希望, 買到, 可以, 拆, 的...</td>\n",
              "      <td>[Nd, VCL, Di, Na, Nes, Nf, Na, Nc, VK, VC, D, ...</td>\n",
              "      <td>今天 去 了 光華 某 家 電子 材料行 希望 買到 可以 拆 的 背蓋 的 梅花 起子 但...</td>\n",
              "    </tr>\n",
              "    <tr>\n",
              "      <th>4</th>\n",
              "      <td>233005085</td>\n",
              "      <td>[小弟菜, 味, 濃, 若, 有, 錯誤, 麻煩, 多多, 包含, 小弟, 目前, 用, 使...</td>\n",
              "      <td>[Na, Na, VH, Cbb, V_2, Na, Na, D, VJ, Na, Nd, ...</td>\n",
              "      <td>小弟菜 味 濃 若 有 錯誤 麻煩 多多 包含 小弟 目前 用 使用 約 兩 年 操作 上 ...</td>\n",
              "    </tr>\n",
              "  </tbody>\n",
              "</table>\n",
              "</div>\n",
              "      <button class=\"colab-df-convert\" onclick=\"convertToInteractive('df-ad08c8b0-293a-47b2-86ff-94a78bcc36f1')\"\n",
              "              title=\"Convert this dataframe to an interactive table.\"\n",
              "              style=\"display:none;\">\n",
              "        \n",
              "  <svg xmlns=\"http://www.w3.org/2000/svg\" height=\"24px\"viewBox=\"0 0 24 24\"\n",
              "       width=\"24px\">\n",
              "    <path d=\"M0 0h24v24H0V0z\" fill=\"none\"/>\n",
              "    <path d=\"M18.56 5.44l.94 2.06.94-2.06 2.06-.94-2.06-.94-.94-2.06-.94 2.06-2.06.94zm-11 1L8.5 8.5l.94-2.06 2.06-.94-2.06-.94L8.5 2.5l-.94 2.06-2.06.94zm10 10l.94 2.06.94-2.06 2.06-.94-2.06-.94-.94-2.06-.94 2.06-2.06.94z\"/><path d=\"M17.41 7.96l-1.37-1.37c-.4-.4-.92-.59-1.43-.59-.52 0-1.04.2-1.43.59L10.3 9.45l-7.72 7.72c-.78.78-.78 2.05 0 2.83L4 21.41c.39.39.9.59 1.41.59.51 0 1.02-.2 1.41-.59l7.78-7.78 2.81-2.81c.8-.78.8-2.07 0-2.86zM5.41 20L4 18.59l7.72-7.72 1.47 1.35L5.41 20z\"/>\n",
              "  </svg>\n",
              "      </button>\n",
              "      \n",
              "  <style>\n",
              "    .colab-df-container {\n",
              "      display:flex;\n",
              "      flex-wrap:wrap;\n",
              "      gap: 12px;\n",
              "    }\n",
              "\n",
              "    .colab-df-convert {\n",
              "      background-color: #E8F0FE;\n",
              "      border: none;\n",
              "      border-radius: 50%;\n",
              "      cursor: pointer;\n",
              "      display: none;\n",
              "      fill: #1967D2;\n",
              "      height: 32px;\n",
              "      padding: 0 0 0 0;\n",
              "      width: 32px;\n",
              "    }\n",
              "\n",
              "    .colab-df-convert:hover {\n",
              "      background-color: #E2EBFA;\n",
              "      box-shadow: 0px 1px 2px rgba(60, 64, 67, 0.3), 0px 1px 3px 1px rgba(60, 64, 67, 0.15);\n",
              "      fill: #174EA6;\n",
              "    }\n",
              "\n",
              "    [theme=dark] .colab-df-convert {\n",
              "      background-color: #3B4455;\n",
              "      fill: #D2E3FC;\n",
              "    }\n",
              "\n",
              "    [theme=dark] .colab-df-convert:hover {\n",
              "      background-color: #434B5C;\n",
              "      box-shadow: 0px 1px 3px 1px rgba(0, 0, 0, 0.15);\n",
              "      filter: drop-shadow(0px 1px 2px rgba(0, 0, 0, 0.3));\n",
              "      fill: #FFFFFF;\n",
              "    }\n",
              "  </style>\n",
              "\n",
              "      <script>\n",
              "        const buttonEl =\n",
              "          document.querySelector('#df-ad08c8b0-293a-47b2-86ff-94a78bcc36f1 button.colab-df-convert');\n",
              "        buttonEl.style.display =\n",
              "          google.colab.kernel.accessAllowed ? 'block' : 'none';\n",
              "\n",
              "        async function convertToInteractive(key) {\n",
              "          const element = document.querySelector('#df-ad08c8b0-293a-47b2-86ff-94a78bcc36f1');\n",
              "          const dataTable =\n",
              "            await google.colab.kernel.invokeFunction('convertToInteractive',\n",
              "                                                     [key], {});\n",
              "          if (!dataTable) return;\n",
              "\n",
              "          const docLinkHtml = 'Like what you see? Visit the ' +\n",
              "            '<a target=\"_blank\" href=https://colab.research.google.com/notebooks/data_table.ipynb>data table notebook</a>'\n",
              "            + ' to learn more about interactive tables.';\n",
              "          element.innerHTML = '';\n",
              "          dataTable['output_type'] = 'display_data';\n",
              "          await google.colab.output.renderOutput(dataTable, element);\n",
              "          const docLink = document.createElement('div');\n",
              "          docLink.innerHTML = docLinkHtml;\n",
              "          element.appendChild(docLink);\n",
              "        }\n",
              "      </script>\n",
              "    </div>\n",
              "  </div>\n",
              "  "
            ]
          },
          "metadata": {},
          "execution_count": 28
        }
      ]
    },
    {
      "cell_type": "code",
      "source": [
        "text_df.to_csv('./data/dcard_text_df.csv',encoding='utf-8',index=False)"
      ],
      "metadata": {
        "id": "Bau66biMp0Vk"
      },
      "execution_count": 29,
      "outputs": []
    },
    {
      "cell_type": "markdown",
      "source": [
        "## Find texts with V 看看"
      ],
      "metadata": {
        "id": "yDwti2ESqLv-"
      }
    },
    {
      "cell_type": "code",
      "source": [
        "text_df = pd.read_pickle('./data/dcard_text_df.pkl')"
      ],
      "metadata": {
        "id": "aNz_aHRtYsyM"
      },
      "execution_count": 65,
      "outputs": []
    },
    {
      "cell_type": "code",
      "source": [
        "v_list = []\n",
        "v_poslist = []\n",
        "kankan_texts= []\n",
        "kankan_ids = []\n",
        "for i, r in text_df.iterrows():\n",
        "    if '看看' in r['Content_ws']:\n",
        "        kk= r['Content_ws'].index('看看')\n",
        "        if 'V' in r['Content_pos'][kk-1]:\n",
        "            kankan_ids.append(i)\n",
        "            if len(r['Content_pos'])>=8:\n",
        "                kankan_texts.append(r['Content_ws'][kk-4:kk+4])\n",
        "                v_list.append(r['Content_ws'][kk-1])\n",
        "                v_poslist.append(r['Content_pos'][kk-1])\n",
        "            else:\n",
        "                kankan_texts.append(r['Content_ws'])\n",
        "                v_list.append(r['Content_ws'][kk-1])\n",
        "                v_poslist.append(r['Content_pos'][kk-1])\n",
        "len(kankan_ids)"
      ],
      "metadata": {
        "colab": {
          "base_uri": "https://localhost:8080/"
        },
        "id": "MOasNxr2qQkk",
        "outputId": "234d4206-817d-4f85-9233-063b62cd001a"
      },
      "execution_count": 66,
      "outputs": [
        {
          "output_type": "execute_result",
          "data": {
            "text/plain": [
              "763"
            ]
          },
          "metadata": {},
          "execution_count": 66
        }
      ]
    },
    {
      "cell_type": "code",
      "source": [
        "pd.set_option('display.max_rows',1000)\n",
        "kankan_df = text_df.iloc[kankan_ids]\n",
        "kankan_df['Kankan_text'] = kankan_texts\n",
        "kankan_df['FrontVerb'] = v_list\n",
        "kankan_df['FrontVerb_pos'] = v_poslist\n",
        "kankan_df['Type'] = '看看'\n",
        "kankan_df = kankan_df[['PostId','FrontVerb','Type','Kankan_text','FrontVerb_pos','Content_ws','Content_pos']]"
      ],
      "metadata": {
        "id": "lJ5nQnZWqucB"
      },
      "execution_count": null,
      "outputs": []
    },
    {
      "cell_type": "code",
      "source": [
        "kankan_df.shape"
      ],
      "metadata": {
        "colab": {
          "base_uri": "https://localhost:8080/"
        },
        "id": "t3wnPgKat2t8",
        "outputId": "39221c7c-96cd-4d9b-88e9-2ec3041005c9"
      },
      "execution_count": 68,
      "outputs": [
        {
          "output_type": "execute_result",
          "data": {
            "text/plain": [
              "(763, 7)"
            ]
          },
          "metadata": {},
          "execution_count": 68
        }
      ]
    },
    {
      "cell_type": "code",
      "source": [
        "kankan_df = kankan_df.sort_values(by=['FrontVerb','PostId']).reset_index(drop=True)"
      ],
      "metadata": {
        "id": "40a-ibX8uZu1"
      },
      "execution_count": 69,
      "outputs": []
    },
    {
      "cell_type": "code",
      "source": [
        "kankan_df.head()"
      ],
      "metadata": {
        "colab": {
          "base_uri": "https://localhost:8080/",
          "height": 206
        },
        "id": "aicu4he9ZAfK",
        "outputId": "f10af197-effc-461e-991a-3e59be95e05e"
      },
      "execution_count": 75,
      "outputs": [
        {
          "output_type": "execute_result",
          "data": {
            "text/plain": [
              "      PostId FrontVerb Type                      Kankan_text FrontVerb_pos  \\\n",
              "0  232873689       上上網   看看  [平時, 一樣, 可以, 上上網, 看看, 影片, 還, 有]            VC   \n",
              "1  232699296        上來   看看   [交流, 於是, 分享, 上來, 看看, 大家, 有, 沒]            VA   \n",
              "2  232799658        上來   看看    [必須, 每, 天, 上來, 看看, 但, 只要, 看到]            VA   \n",
              "3  232972577        上來   看看      [集, 了, 想, 上來, 看看, 大家, 有, 沒]            VA   \n",
              "4  232939403        上去   看看   [女孩, 們, 可以, 上去, 看看, 喔猴猴, 賺, 這]            VA   \n",
              "\n",
              "                                          Content_ws  \\\n",
              "0  [先, 說, 我, 目前, 的, 筆電, 是, 服役, 了, 年, 的, 就是, 之前, 能...   \n",
              "1  [和, 朋友, 一時, 興起, 定, 了, 一, 個, 題目, 做, 一, 個, 文字, 交...   \n",
              "2  [大家, 好, 我, 是, 米糕, 麻麻, 各位, 先, 不要, 檢舉, 我, 發, 錯, ...   \n",
              "3  [哈嘍, 大家, 看到, 現在, 剩下, 集, 了, 想, 上來, 看看, 大家, 有, 沒...   \n",
              "4  [對於, 一, 個, 打工, 收入, 微薄, 的, 窮, 大學生, 而言, 我, 自己, 覺...   \n",
              "\n",
              "                                         Content_pos  \n",
              "0  [D, VE, Nh, Nd, DE, Na, SHI, VA, Di, Nf, DE, C...  \n",
              "1  [P, Na, Nd, VC, VC, Di, Neu, Nf, Na, VC, Neu, ...  \n",
              "2  [Nh, VH, Nh, SHI, Na, VH, Nes, D, D, VC, Nh, V...  \n",
              "3  [I, Nh, VE, Nd, VJ, Na, Di, VE, VA, VE, Nh, V_...  \n",
              "4  [P, Neu, Nf, VA, Na, VH, DE, VH, Na, Ng, Nh, N...  "
            ],
            "text/html": [
              "\n",
              "  <div id=\"df-4017a72b-f260-4976-8538-adb6bd13c292\">\n",
              "    <div class=\"colab-df-container\">\n",
              "      <div>\n",
              "<style scoped>\n",
              "    .dataframe tbody tr th:only-of-type {\n",
              "        vertical-align: middle;\n",
              "    }\n",
              "\n",
              "    .dataframe tbody tr th {\n",
              "        vertical-align: top;\n",
              "    }\n",
              "\n",
              "    .dataframe thead th {\n",
              "        text-align: right;\n",
              "    }\n",
              "</style>\n",
              "<table border=\"1\" class=\"dataframe\">\n",
              "  <thead>\n",
              "    <tr style=\"text-align: right;\">\n",
              "      <th></th>\n",
              "      <th>PostId</th>\n",
              "      <th>FrontVerb</th>\n",
              "      <th>Type</th>\n",
              "      <th>Kankan_text</th>\n",
              "      <th>FrontVerb_pos</th>\n",
              "      <th>Content_ws</th>\n",
              "      <th>Content_pos</th>\n",
              "    </tr>\n",
              "  </thead>\n",
              "  <tbody>\n",
              "    <tr>\n",
              "      <th>0</th>\n",
              "      <td>232873689</td>\n",
              "      <td>上上網</td>\n",
              "      <td>看看</td>\n",
              "      <td>[平時, 一樣, 可以, 上上網, 看看, 影片, 還, 有]</td>\n",
              "      <td>VC</td>\n",
              "      <td>[先, 說, 我, 目前, 的, 筆電, 是, 服役, 了, 年, 的, 就是, 之前, 能...</td>\n",
              "      <td>[D, VE, Nh, Nd, DE, Na, SHI, VA, Di, Nf, DE, C...</td>\n",
              "    </tr>\n",
              "    <tr>\n",
              "      <th>1</th>\n",
              "      <td>232699296</td>\n",
              "      <td>上來</td>\n",
              "      <td>看看</td>\n",
              "      <td>[交流, 於是, 分享, 上來, 看看, 大家, 有, 沒]</td>\n",
              "      <td>VA</td>\n",
              "      <td>[和, 朋友, 一時, 興起, 定, 了, 一, 個, 題目, 做, 一, 個, 文字, 交...</td>\n",
              "      <td>[P, Na, Nd, VC, VC, Di, Neu, Nf, Na, VC, Neu, ...</td>\n",
              "    </tr>\n",
              "    <tr>\n",
              "      <th>2</th>\n",
              "      <td>232799658</td>\n",
              "      <td>上來</td>\n",
              "      <td>看看</td>\n",
              "      <td>[必須, 每, 天, 上來, 看看, 但, 只要, 看到]</td>\n",
              "      <td>VA</td>\n",
              "      <td>[大家, 好, 我, 是, 米糕, 麻麻, 各位, 先, 不要, 檢舉, 我, 發, 錯, ...</td>\n",
              "      <td>[Nh, VH, Nh, SHI, Na, VH, Nes, D, D, VC, Nh, V...</td>\n",
              "    </tr>\n",
              "    <tr>\n",
              "      <th>3</th>\n",
              "      <td>232972577</td>\n",
              "      <td>上來</td>\n",
              "      <td>看看</td>\n",
              "      <td>[集, 了, 想, 上來, 看看, 大家, 有, 沒]</td>\n",
              "      <td>VA</td>\n",
              "      <td>[哈嘍, 大家, 看到, 現在, 剩下, 集, 了, 想, 上來, 看看, 大家, 有, 沒...</td>\n",
              "      <td>[I, Nh, VE, Nd, VJ, Na, Di, VE, VA, VE, Nh, V_...</td>\n",
              "    </tr>\n",
              "    <tr>\n",
              "      <th>4</th>\n",
              "      <td>232939403</td>\n",
              "      <td>上去</td>\n",
              "      <td>看看</td>\n",
              "      <td>[女孩, 們, 可以, 上去, 看看, 喔猴猴, 賺, 這]</td>\n",
              "      <td>VA</td>\n",
              "      <td>[對於, 一, 個, 打工, 收入, 微薄, 的, 窮, 大學生, 而言, 我, 自己, 覺...</td>\n",
              "      <td>[P, Neu, Nf, VA, Na, VH, DE, VH, Na, Ng, Nh, N...</td>\n",
              "    </tr>\n",
              "  </tbody>\n",
              "</table>\n",
              "</div>\n",
              "      <button class=\"colab-df-convert\" onclick=\"convertToInteractive('df-4017a72b-f260-4976-8538-adb6bd13c292')\"\n",
              "              title=\"Convert this dataframe to an interactive table.\"\n",
              "              style=\"display:none;\">\n",
              "        \n",
              "  <svg xmlns=\"http://www.w3.org/2000/svg\" height=\"24px\"viewBox=\"0 0 24 24\"\n",
              "       width=\"24px\">\n",
              "    <path d=\"M0 0h24v24H0V0z\" fill=\"none\"/>\n",
              "    <path d=\"M18.56 5.44l.94 2.06.94-2.06 2.06-.94-2.06-.94-.94-2.06-.94 2.06-2.06.94zm-11 1L8.5 8.5l.94-2.06 2.06-.94-2.06-.94L8.5 2.5l-.94 2.06-2.06.94zm10 10l.94 2.06.94-2.06 2.06-.94-2.06-.94-.94-2.06-.94 2.06-2.06.94z\"/><path d=\"M17.41 7.96l-1.37-1.37c-.4-.4-.92-.59-1.43-.59-.52 0-1.04.2-1.43.59L10.3 9.45l-7.72 7.72c-.78.78-.78 2.05 0 2.83L4 21.41c.39.39.9.59 1.41.59.51 0 1.02-.2 1.41-.59l7.78-7.78 2.81-2.81c.8-.78.8-2.07 0-2.86zM5.41 20L4 18.59l7.72-7.72 1.47 1.35L5.41 20z\"/>\n",
              "  </svg>\n",
              "      </button>\n",
              "      \n",
              "  <style>\n",
              "    .colab-df-container {\n",
              "      display:flex;\n",
              "      flex-wrap:wrap;\n",
              "      gap: 12px;\n",
              "    }\n",
              "\n",
              "    .colab-df-convert {\n",
              "      background-color: #E8F0FE;\n",
              "      border: none;\n",
              "      border-radius: 50%;\n",
              "      cursor: pointer;\n",
              "      display: none;\n",
              "      fill: #1967D2;\n",
              "      height: 32px;\n",
              "      padding: 0 0 0 0;\n",
              "      width: 32px;\n",
              "    }\n",
              "\n",
              "    .colab-df-convert:hover {\n",
              "      background-color: #E2EBFA;\n",
              "      box-shadow: 0px 1px 2px rgba(60, 64, 67, 0.3), 0px 1px 3px 1px rgba(60, 64, 67, 0.15);\n",
              "      fill: #174EA6;\n",
              "    }\n",
              "\n",
              "    [theme=dark] .colab-df-convert {\n",
              "      background-color: #3B4455;\n",
              "      fill: #D2E3FC;\n",
              "    }\n",
              "\n",
              "    [theme=dark] .colab-df-convert:hover {\n",
              "      background-color: #434B5C;\n",
              "      box-shadow: 0px 1px 3px 1px rgba(0, 0, 0, 0.15);\n",
              "      filter: drop-shadow(0px 1px 2px rgba(0, 0, 0, 0.3));\n",
              "      fill: #FFFFFF;\n",
              "    }\n",
              "  </style>\n",
              "\n",
              "      <script>\n",
              "        const buttonEl =\n",
              "          document.querySelector('#df-4017a72b-f260-4976-8538-adb6bd13c292 button.colab-df-convert');\n",
              "        buttonEl.style.display =\n",
              "          google.colab.kernel.accessAllowed ? 'block' : 'none';\n",
              "\n",
              "        async function convertToInteractive(key) {\n",
              "          const element = document.querySelector('#df-4017a72b-f260-4976-8538-adb6bd13c292');\n",
              "          const dataTable =\n",
              "            await google.colab.kernel.invokeFunction('convertToInteractive',\n",
              "                                                     [key], {});\n",
              "          if (!dataTable) return;\n",
              "\n",
              "          const docLinkHtml = 'Like what you see? Visit the ' +\n",
              "            '<a target=\"_blank\" href=https://colab.research.google.com/notebooks/data_table.ipynb>data table notebook</a>'\n",
              "            + ' to learn more about interactive tables.';\n",
              "          element.innerHTML = '';\n",
              "          dataTable['output_type'] = 'display_data';\n",
              "          await google.colab.output.renderOutput(dataTable, element);\n",
              "          const docLink = document.createElement('div');\n",
              "          docLink.innerHTML = docLinkHtml;\n",
              "          element.appendChild(docLink);\n",
              "        }\n",
              "      </script>\n",
              "    </div>\n",
              "  </div>\n",
              "  "
            ]
          },
          "metadata": {},
          "execution_count": 75
        }
      ]
    },
    {
      "cell_type": "code",
      "source": [
        "#kankan_df.to_pickle('./data/kankan_df.pkl')"
      ],
      "metadata": {
        "id": "985E4khqtU_5"
      },
      "execution_count": 72,
      "outputs": []
    },
    {
      "cell_type": "markdown",
      "source": [
        "### Verb co-occurrence with 看看"
      ],
      "metadata": {
        "id": "fgPtUzcueI66"
      }
    },
    {
      "cell_type": "code",
      "source": [
        "kankan_df = pd.read_pickle('./data/kankan_df.pkl')"
      ],
      "metadata": {
        "id": "HqVR6k9Td48A"
      },
      "execution_count": 74,
      "outputs": []
    },
    {
      "cell_type": "code",
      "source": [
        "def change_listofstring_tolist(texts):\n",
        "    new_texts = []\n",
        "    for text in texts:\n",
        "        if type(text) == str:\n",
        "            text = re.sub(\"\\[|\\]|\\'\",'',text)\n",
        "            text = text.split(', ')\n",
        "            new_texts.append(text)\n",
        "        else:\n",
        "            print(text)\n",
        "            new_texts.append([])\n",
        "    return new_texts"
      ],
      "metadata": {
        "id": "FmDRRXoVkE-J"
      },
      "execution_count": 9,
      "outputs": []
    },
    {
      "cell_type": "code",
      "source": [
        "kankan_result = kankan_df.groupby([\"FrontVerb\",'FrontVerb_pos'])['FrontVerb'].count().reset_index(name='count') \\\n",
        "                             .sort_values(['count'], ascending=False)"
      ],
      "metadata": {
        "id": "NZKZFNUzd9g-"
      },
      "execution_count": 76,
      "outputs": []
    },
    {
      "cell_type": "code",
      "source": [
        "#kankan_result.to_pickle('./data/kankan_result.pkl')"
      ],
      "metadata": {
        "id": "fTMZ481xhKEi"
      },
      "execution_count": 77,
      "outputs": []
    },
    {
      "cell_type": "code",
      "source": [
        "# 共現的動詞pos type數量\n",
        "from collections import Counter \n",
        "Counter(kankan_result['FrontVerb_pos'])"
      ],
      "metadata": {
        "colab": {
          "base_uri": "https://localhost:8080/"
        },
        "id": "0Mmk18t6iQ1P",
        "outputId": "ccd7dd61-316e-4e41-9261-82e7ee58647b"
      },
      "execution_count": 78,
      "outputs": [
        {
          "output_type": "execute_result",
          "data": {
            "text/plain": [
              "Counter({'VE': 30,\n",
              "         'VF': 5,\n",
              "         'VC': 116,\n",
              "         'VJ': 4,\n",
              "         'VA': 53,\n",
              "         'VH': 26,\n",
              "         'VCL': 5,\n",
              "         'VB': 10,\n",
              "         'VK': 8,\n",
              "         'VD': 4,\n",
              "         'VL': 2,\n",
              "         'VHC': 1,\n",
              "         'VG': 1,\n",
              "         'V_2': 1})"
            ]
          },
          "metadata": {},
          "execution_count": 78
        }
      ]
    },
    {
      "cell_type": "code",
      "source": [
        "# 共現的動詞type數量\n",
        "len(set(kankan_result['FrontVerb']))"
      ],
      "metadata": {
        "colab": {
          "base_uri": "https://localhost:8080/"
        },
        "id": "TNz3aTQ2gk_W",
        "outputId": "7e30fe58-8d5f-4796-8396-90df053caa60"
      },
      "execution_count": 79,
      "outputs": [
        {
          "output_type": "execute_result",
          "data": {
            "text/plain": [
              "258"
            ]
          },
          "metadata": {},
          "execution_count": 79
        }
      ]
    },
    {
      "cell_type": "code",
      "source": [
        "# 共現次數summary\n",
        "kankan_result['count'].describe()"
      ],
      "metadata": {
        "colab": {
          "base_uri": "https://localhost:8080/"
        },
        "id": "IkrrzYMnmyW5",
        "outputId": "e5cc9104-79e3-484b-c64d-aa3a3c9b1378"
      },
      "execution_count": 80,
      "outputs": [
        {
          "output_type": "execute_result",
          "data": {
            "text/plain": [
              "count    266.000000\n",
              "mean       2.868421\n",
              "std        7.442457\n",
              "min        1.000000\n",
              "25%        1.000000\n",
              "50%        1.000000\n",
              "75%        2.000000\n",
              "max       76.000000\n",
              "Name: count, dtype: float64"
            ]
          },
          "metadata": {},
          "execution_count": 80
        }
      ]
    },
    {
      "cell_type": "code",
      "source": [
        "# 共現次數最多的前十個動詞\n",
        "kankan_result.head(10)"
      ],
      "metadata": {
        "colab": {
          "base_uri": "https://localhost:8080/",
          "height": 363
        },
        "id": "eusjUlCgfu75",
        "outputId": "098c15d7-059c-483f-956d-a6a0a608c408"
      },
      "execution_count": 81,
      "outputs": [
        {
          "output_type": "execute_result",
          "data": {
            "text/plain": [
              "    FrontVerb FrontVerb_pos  count\n",
              "38          問            VE     76\n",
              "65          想            VE     66\n",
              "42         嘗試            VF     44\n",
              "28         參考            VC     43\n",
              "256        體驗            VC     18\n",
              "18         分享            VJ     18\n",
              "184        詢問            VE     18\n",
              "198         說            VE     13\n",
              "78          找            VC     13\n",
              "14          做            VC     13"
            ],
            "text/html": [
              "\n",
              "  <div id=\"df-512b026b-74c3-4610-bd60-94f970f548df\">\n",
              "    <div class=\"colab-df-container\">\n",
              "      <div>\n",
              "<style scoped>\n",
              "    .dataframe tbody tr th:only-of-type {\n",
              "        vertical-align: middle;\n",
              "    }\n",
              "\n",
              "    .dataframe tbody tr th {\n",
              "        vertical-align: top;\n",
              "    }\n",
              "\n",
              "    .dataframe thead th {\n",
              "        text-align: right;\n",
              "    }\n",
              "</style>\n",
              "<table border=\"1\" class=\"dataframe\">\n",
              "  <thead>\n",
              "    <tr style=\"text-align: right;\">\n",
              "      <th></th>\n",
              "      <th>FrontVerb</th>\n",
              "      <th>FrontVerb_pos</th>\n",
              "      <th>count</th>\n",
              "    </tr>\n",
              "  </thead>\n",
              "  <tbody>\n",
              "    <tr>\n",
              "      <th>38</th>\n",
              "      <td>問</td>\n",
              "      <td>VE</td>\n",
              "      <td>76</td>\n",
              "    </tr>\n",
              "    <tr>\n",
              "      <th>65</th>\n",
              "      <td>想</td>\n",
              "      <td>VE</td>\n",
              "      <td>66</td>\n",
              "    </tr>\n",
              "    <tr>\n",
              "      <th>42</th>\n",
              "      <td>嘗試</td>\n",
              "      <td>VF</td>\n",
              "      <td>44</td>\n",
              "    </tr>\n",
              "    <tr>\n",
              "      <th>28</th>\n",
              "      <td>參考</td>\n",
              "      <td>VC</td>\n",
              "      <td>43</td>\n",
              "    </tr>\n",
              "    <tr>\n",
              "      <th>256</th>\n",
              "      <td>體驗</td>\n",
              "      <td>VC</td>\n",
              "      <td>18</td>\n",
              "    </tr>\n",
              "    <tr>\n",
              "      <th>18</th>\n",
              "      <td>分享</td>\n",
              "      <td>VJ</td>\n",
              "      <td>18</td>\n",
              "    </tr>\n",
              "    <tr>\n",
              "      <th>184</th>\n",
              "      <td>詢問</td>\n",
              "      <td>VE</td>\n",
              "      <td>18</td>\n",
              "    </tr>\n",
              "    <tr>\n",
              "      <th>198</th>\n",
              "      <td>說</td>\n",
              "      <td>VE</td>\n",
              "      <td>13</td>\n",
              "    </tr>\n",
              "    <tr>\n",
              "      <th>78</th>\n",
              "      <td>找</td>\n",
              "      <td>VC</td>\n",
              "      <td>13</td>\n",
              "    </tr>\n",
              "    <tr>\n",
              "      <th>14</th>\n",
              "      <td>做</td>\n",
              "      <td>VC</td>\n",
              "      <td>13</td>\n",
              "    </tr>\n",
              "  </tbody>\n",
              "</table>\n",
              "</div>\n",
              "      <button class=\"colab-df-convert\" onclick=\"convertToInteractive('df-512b026b-74c3-4610-bd60-94f970f548df')\"\n",
              "              title=\"Convert this dataframe to an interactive table.\"\n",
              "              style=\"display:none;\">\n",
              "        \n",
              "  <svg xmlns=\"http://www.w3.org/2000/svg\" height=\"24px\"viewBox=\"0 0 24 24\"\n",
              "       width=\"24px\">\n",
              "    <path d=\"M0 0h24v24H0V0z\" fill=\"none\"/>\n",
              "    <path d=\"M18.56 5.44l.94 2.06.94-2.06 2.06-.94-2.06-.94-.94-2.06-.94 2.06-2.06.94zm-11 1L8.5 8.5l.94-2.06 2.06-.94-2.06-.94L8.5 2.5l-.94 2.06-2.06.94zm10 10l.94 2.06.94-2.06 2.06-.94-2.06-.94-.94-2.06-.94 2.06-2.06.94z\"/><path d=\"M17.41 7.96l-1.37-1.37c-.4-.4-.92-.59-1.43-.59-.52 0-1.04.2-1.43.59L10.3 9.45l-7.72 7.72c-.78.78-.78 2.05 0 2.83L4 21.41c.39.39.9.59 1.41.59.51 0 1.02-.2 1.41-.59l7.78-7.78 2.81-2.81c.8-.78.8-2.07 0-2.86zM5.41 20L4 18.59l7.72-7.72 1.47 1.35L5.41 20z\"/>\n",
              "  </svg>\n",
              "      </button>\n",
              "      \n",
              "  <style>\n",
              "    .colab-df-container {\n",
              "      display:flex;\n",
              "      flex-wrap:wrap;\n",
              "      gap: 12px;\n",
              "    }\n",
              "\n",
              "    .colab-df-convert {\n",
              "      background-color: #E8F0FE;\n",
              "      border: none;\n",
              "      border-radius: 50%;\n",
              "      cursor: pointer;\n",
              "      display: none;\n",
              "      fill: #1967D2;\n",
              "      height: 32px;\n",
              "      padding: 0 0 0 0;\n",
              "      width: 32px;\n",
              "    }\n",
              "\n",
              "    .colab-df-convert:hover {\n",
              "      background-color: #E2EBFA;\n",
              "      box-shadow: 0px 1px 2px rgba(60, 64, 67, 0.3), 0px 1px 3px 1px rgba(60, 64, 67, 0.15);\n",
              "      fill: #174EA6;\n",
              "    }\n",
              "\n",
              "    [theme=dark] .colab-df-convert {\n",
              "      background-color: #3B4455;\n",
              "      fill: #D2E3FC;\n",
              "    }\n",
              "\n",
              "    [theme=dark] .colab-df-convert:hover {\n",
              "      background-color: #434B5C;\n",
              "      box-shadow: 0px 1px 3px 1px rgba(0, 0, 0, 0.15);\n",
              "      filter: drop-shadow(0px 1px 2px rgba(0, 0, 0, 0.3));\n",
              "      fill: #FFFFFF;\n",
              "    }\n",
              "  </style>\n",
              "\n",
              "      <script>\n",
              "        const buttonEl =\n",
              "          document.querySelector('#df-512b026b-74c3-4610-bd60-94f970f548df button.colab-df-convert');\n",
              "        buttonEl.style.display =\n",
              "          google.colab.kernel.accessAllowed ? 'block' : 'none';\n",
              "\n",
              "        async function convertToInteractive(key) {\n",
              "          const element = document.querySelector('#df-512b026b-74c3-4610-bd60-94f970f548df');\n",
              "          const dataTable =\n",
              "            await google.colab.kernel.invokeFunction('convertToInteractive',\n",
              "                                                     [key], {});\n",
              "          if (!dataTable) return;\n",
              "\n",
              "          const docLinkHtml = 'Like what you see? Visit the ' +\n",
              "            '<a target=\"_blank\" href=https://colab.research.google.com/notebooks/data_table.ipynb>data table notebook</a>'\n",
              "            + ' to learn more about interactive tables.';\n",
              "          element.innerHTML = '';\n",
              "          dataTable['output_type'] = 'display_data';\n",
              "          await google.colab.output.renderOutput(dataTable, element);\n",
              "          const docLink = document.createElement('div');\n",
              "          docLink.innerHTML = docLinkHtml;\n",
              "          element.appendChild(docLink);\n",
              "        }\n",
              "      </script>\n",
              "    </div>\n",
              "  </div>\n",
              "  "
            ]
          },
          "metadata": {},
          "execution_count": 81
        }
      ]
    },
    {
      "cell_type": "markdown",
      "source": [
        "Plot 前20共現的verb"
      ],
      "metadata": {
        "id": "NI6YNxURoPX-"
      }
    },
    {
      "cell_type": "code",
      "source": [
        "import matplotlib as mpl\n",
        "import matplotlib.pyplot as plt\n",
        "import matplotlib.font_manager as fm\n",
        "!wget -O TaipeiSansTCBeta-Regular.ttf https://drive.google.com/uc?id=1eGAsTN1HBpJAkeVM57_C7ccp7hbgSz3_&export=download\n",
        "\n",
        "fm.fontManager.addfont('TaipeiSansTCBeta-Regular.ttf')\n",
        "mpl.rc('font', family='Taipei Sans TC Beta')"
      ],
      "metadata": {
        "id": "AXzjsMIFv1wh"
      },
      "execution_count": null,
      "outputs": []
    },
    {
      "cell_type": "code",
      "source": [
        "kankan_result = pd.read_pickle('./data/kankan_result.pkl')"
      ],
      "metadata": {
        "id": "QG1Ruz6iBhsB"
      },
      "execution_count": 20,
      "outputs": []
    },
    {
      "cell_type": "code",
      "source": [
        "# plot\n",
        "\n",
        "fig, ax = plt.subplots(figsize=(10,8))\n",
        "\n",
        "\n",
        "df = kankan_result[:11]\n",
        "\n",
        "#assigning variables\n",
        "x = df['FrontVerb']\n",
        "y = df['count']\n",
        "\n",
        "#Graphing\n",
        "plt.barh(x,y)\n",
        "plt.xticks(fontsize=12)\n",
        "plt.yticks(fontsize=12)\n",
        "plt.title(\"Top 10 Verbs Co-occurring with 看看\")\n",
        "plt.xlabel(\"Post_n\")\n",
        "plt.show()"
      ],
      "metadata": {
        "colab": {
          "base_uri": "https://localhost:8080/",
          "height": 516
        },
        "id": "fCfQcdAznnig",
        "outputId": "76a29080-b0d2-489b-d66a-b5040d7d2d6e"
      },
      "execution_count": 14,
      "outputs": [
        {
          "output_type": "display_data",
          "data": {
            "text/plain": [
              "<Figure size 720x576 with 1 Axes>"
            ],
            "image/png": "[encoded data removed]"
          },
          "metadata": {
            "needs_background": "light"
          }
        }
      ]
    },
    {
      "cell_type": "markdown",
      "source": [
        "### 想看看 vs 想看看"
      ],
      "metadata": {
        "id": "JzTc2EdICzx7"
      }
    },
    {
      "cell_type": "markdown",
      "source": [
        "#### filter 想"
      ],
      "metadata": {
        "id": "2IULVpMbDoVd"
      }
    },
    {
      "cell_type": "code",
      "source": [
        "kankan_df = pd.read_pickle('./data/kankan_df.pkl')"
      ],
      "metadata": {
        "id": "9bzGymkHGUlT"
      },
      "execution_count": 21,
      "outputs": []
    },
    {
      "cell_type": "code",
      "source": [
        "pd.set_option('display.max_rows',1000)\n",
        "kankan_df.loc[kankan_df['FrontVerb']=='想']"
      ],
      "metadata": {
        "colab": {
          "base_uri": "https://localhost:8080/",
          "height": 1000
        },
        "id": "ERQ7IDD3GeZJ",
        "outputId": "f3508f5c-a5e0-4f2b-eacf-1b7b0d36ccbc"
      },
      "execution_count": 23,
      "outputs": [
        {
          "output_type": "execute_result",
          "data": {
            "text/plain": [
              "        PostId FrontVerb Type                       Kankan_text  \\\n",
              "293  229900877         想   看看    [看, 狄卡, 是, 想, 看看, 不同, 地方, 討論區]   \n",
              "294  230146291         想   看看    [的, 文章, 無聊, 想, 看看, 能不能, 開版, 更]   \n",
              "295  231278984         想   看看    [可以, 接受, 的, 想, 看看, 世界, 冠軍, 店家]   \n",
              "296  231340522         想   看看     [膠囊, 的, 價錢, 想, 看看, 蝦皮, 或, 拍賣]   \n",
              "297  231518252         想   看看    [便宜, 的, 所以, 想, 看看, 大家, 的, 環保袋]   \n",
              "298  232326337         想   看看        [太, 到, 了, 想, 看看, 大家, 的, 殼]   \n",
              "299  232342548         想   看看     [許多, 本來, 上, 想, 看看, 的, 超猛, 滑球]   \n",
              "300  232378343         想   看看        [那, 我, 就, 想, 看看, 他, 的, 照片]   \n",
              "301  232570043         想   看看      [我, 真的, 很, 想, 看看, 各位, 卡友, 都]   \n",
              "302  232574851         想   看看        [連結, 我, 也, 想, 看看, 你, 是, 不]   \n",
              "303  232600469         想   看看       [個, 是, 版, 想, 看看, 大家, 手帳, 都]   \n",
              "304  232689109         想   看看      [搖頭, 但, 又, 想, 看看, 室友男, 是, 不]   \n",
              "305  232722743         想   看看      [他, 現在, 只, 想, 看看, 眼前, 這, 冷清]   \n",
              "306  232723161         想   看看       [有, 機會, 也, 想, 看看, 有, 沒有, 租]   \n",
              "307  232726588         想   看看       [久, 了, 也, 想, 看看, 不同, 腔調, 的]   \n",
              "308  232730218         想   看看  [喜歡, 推理片, 或是, 想, 看看, 美國, 隊長, 怎麼]   \n",
              "309  232747093         想   看看     [右下方, 有, 下載鍵, 想, 看看, 上, 次, 的]   \n",
              "310  232762199         想   看看       [上, 看到, 的, 想, 看看, 還, 有, 其他]   \n",
              "311  232763494         想   看看      [大家, 想, 不, 想, 看看, 自己, 運氣, 好]   \n",
              "312  232765672         想   看看     [所以, 愛上, 也, 想, 看看, 之後, 的, 發展]   \n",
              "313  232771563         想   看看      [台灣, 買, 的, 想, 看看, 跟, 海外版, 有]   \n",
              "314  232773310         想   看看         [一, 波, 也, 想, 看看, 還, 有, 沒]   \n",
              "315  232780734         想   看看     [種, 款式, 太少, 想, 看看, 有, 沒有, 其他]   \n",
              "316  232793330         想   看看        [嘛, 我, 好, 想, 看看, 的, 膠片, 呀]   \n",
              "317  232800433         想   看看      [猶豫, 但, 還是, 想, 看看, 台灣, 有, 沒]   \n",
              "318  232803609         想   看看   [的, 母親, 三不五時, 想, 看看, 自己, 的, 孫女]   \n",
              "319  232810111         想   看看      [有, 負面, 的, 想, 看看, 有沒有, 讀, 過]   \n",
              "320  232811441         想   看看      [秋晴, 的, 長髮, 想, 看看, 她, 那, 美麗]   \n",
              "321  232812670         想   看看     [但, 還是, 滿, 想, 看看, 大家, 如何, 分析]   \n",
              "322  232815241         想   看看     [滿心, 期待, 的, 想, 看看, 這, 種, 高科技]   \n",
              "323  232827888         想   看看        [一, 本, 讀, 想, 看看, 各位, 在, 考]   \n",
              "324  232828422         想   看看        [她, 她, 還, 想, 看看, 我, 長大, 後]   \n",
              "325  232832926         想   看看      [是, 我, 只是, 想, 看看, 阿離, 身子, 有]   \n",
              "326  232842894         想   看看    [小孩, 沒, 工作, 想, 看看, 大家, 看法, 如何]   \n",
              "327  232852255         想   看看       [很, 唯美, 很, 想, 看看, 希望, 有, 人]   \n",
              "328  232867708         想   看看      [問題, 真的, 無解, 想, 看看, 版, 上, 的]   \n",
              "329  232870392         想   看看       [了, 不少, 卡, 想, 看看, 還, 有, 什麼]   \n",
              "330  232878324         想   看看     [雙眼皮, 原本, 還, 想, 看看, 台北, 的, 金]   \n",
              "331  232878535         想   看看       [他, 的, 懷抱, 想, 看看, 他, 的, 表情]   \n",
              "332  232889441         想   看看     [總, 特意, 繞道, 想, 看看, 她, 今天, 考完]   \n",
              "333  232896303         想   看看       [我, 偶爾, 也, 想, 看看, 他, 穿, 其他]   \n",
              "334  232900162         想   看看      [因為, 好玩, 而是, 想, 看看, 一, 眼, 他]   \n",
              "335  232901020         想   看看     [台灣, 網美, 突然, 想, 看看, 她, 在, 日本]   \n",
              "336  232904384         想   看看     [相隔, 不遠, 除了, 想, 看看, 兩, 邊, 氛圍]   \n",
              "337  232917236         想   看看      [刀, 先, 看到, 想, 看看, 多, 關於, 期貨]   \n",
              "338  232922561         想   看看     [看到, 再, 蓋, 想, 看看, 男生板, 的, 唇樓]   \n",
              "339  232939298         想   看看    [想, 矯正, 是, 想, 看看, 能不能, 改善, 顳二]   \n",
              "340  232940941         想   看看     [覺得, 丟臉, 所以, 想, 看看, 怎麼, 救, 先]   \n",
              "341  232943355         想   看看    [學妹, 只是, 編出來, 想, 看看, 我, 的, 反應]   \n",
              "342  232944781         想   看看   [有, 一點, 故意, 想, 看看, 中途, 停下, 崔勝澈]   \n",
              "343  232945765         想   看看       [人, 傻爆, 眼, 想, 看看, 兩, 個, 女子]   \n",
              "344  232963623         想   看看                                []   \n",
              "345  232965833         想   看看                                []   \n",
              "346  232966426         想   看看     [大家, 也, 可以, 想, 看看, 最近, 在, 準備]   \n",
              "347  232967492         想   看看      [聽, 特別, 的, 想, 看看, 大家, 的, 意見]   \n",
              "348  232968414         想   看看      [過去, 抱, 她, 想, 看看, 她, 會不會, 把]   \n",
              "349  232970328         想   看看    [辛苦, 的, 你們, 想, 看看, 如果, 你們, 自己]   \n",
              "350  232970467         想   看看      [過, 頭, 來, 想, 看看, 眼前, 的, 開放式]   \n",
              "351  232971313         想   看看    [試色, 但, 還是, 想, 看看, 大家, 有沒有, 收]   \n",
              "352  232973691         想   看看        [今天, 試, 著, 想, 看看, 是, 不, 是]   \n",
              "353  232974473         想   看看                                []   \n",
              "354  232977342         想   看看    [壓力, 還是, 不少, 想, 看看, 大家, 是否, 能]   \n",
              "355  233004057         想   看看       [沒, 下手, 啦, 想, 看看, 大家, 都, 拜]   \n",
              "356  233007020         想   看看       [啊, 就, 只是, 想, 看看, 前任, 過, 的]   \n",
              "357  233007415         想   看看      [刮刮卡, 什麼, 的, 想, 看看, 版, 上, 有]   \n",
              "358  233011872         想   看看     [對面, 書櫃, 繞過來, 想, 看看, 是, 哪, 個]   \n",
              "\n",
              "                                            Content_ws  \\\n",
              "293  [一, 年, 前, 開始, 看, 狄卡, 是, 想, 看看, 不同, 地方, 討論區, 的,...   \n",
              "294  [標題, 開版, 中国, 觀點, 時事, 話題, 交流版, 有鑑於, 時事, 及, 部分, ...   \n",
              "295  [各位, 好, 這邊, 是, 讀, 統計, 的, 厭世, 咖啡人, 如, 題, 為了, 推廣...   \n",
              "296  [最近, 看到, 好多, 人, 在, 抽, 雀巢, 膠囊, 咖啡機, 我, 也, 跟風, 了...   \n",
              "297  [先, 說, 這, 篇, 絕對, 不, 是, 要, 賺, 人氣, 還, 什麼, 的, 存粹,...   \n",
              "298  [嗨, 大家, 想, 問, 大家, 有, 沒有, 正在, 使用, 的, 呢, 不一定, 要是...   \n",
              "299  [跟, 宋家豪, 兩, 個, 後援, 王牌, 因, 傷, 不, 比, 了, 雖然, 遞補上,...   \n",
              "300  [大家, 好, 這, 本, 書, 的, 介紹, 是, 在, 看到, 的, 請問, 有, 人,...   \n",
              "301  [表單, 在, 這邊, 預計, 在, 週四, 前, 會, 整理, 參加, 的, 人, 並, ...   \n",
              "302  [正文, 喂, 你, 一生, 中, 有, 幾, 件, 能, 值得, 驕傲, 的, 事情, 呢...   \n",
              "303  [純, 分享, 給, 也, 在, 挑, 手帳, 的, 人, 我, 的, 候選, 本本, 們,...   \n",
              "304  [此, 篇, 非, 創作文, 我, 平時, 努力, 工作, 喜歡, 到處, 玩, 體驗, 不...   \n",
              "305  [謝謝, 上帝, 對, 我, 如此, 厚道, 我, 終於, 設定, 成功, 近, 來, 板,...   \n",
              "306  [昨天, 看到, 了, 站長, 介紹, 的, 媽, 的, 影片, 雖然, 大家, 在, 發表...   \n",
              "307  [如, 題, 因為, 想, 藉由, 訓練, 英文, 聽力, 無奈, 小魯, 對, 真人, 的...   \n",
              "308  [故事, 敘述, 知名, 犯罪, 小說, 小說, 作家, 哈倫, 在, 參加完, 自己, 歲...   \n",
              "309  [璀璨, 藍圖, 算是, 我, 攝影, 生涯, 的, 起點, 當, 我, 入手, 了, 我,...   \n",
              "310  [不好意思, 想, 請問, 大家, 下, 學期, 要, 搬出去, 外面, 住, 我, 想, ...   \n",
              "311  [各位, 的, 大大, 們, 期末, 愉快, 填, 問卷, 抽, 飲料, 的, 好, 機會,...   \n",
              "312  [以下, 會, 大, 爆雷, 請, 小心, 服用, 入腐劇, 小說, 時間, 尚, 短, 以...   \n",
              "313  [之前, 在, 滑老王, 的, 微博, 時, 看到, 他們, 把, 送到, 大陸, 賣, 然...   \n",
              "314  [在, 室友, 的, 慫恿, 下, 我, 決定, 上來, 詢問, 一下, 各位, 且, 聽,...   \n",
              "315  [請問, 板橋, 中和, 附近, 哪裡, 有, 純, 棉, 床包, 的, 店面, 前, 陣子...   \n",
              "316  [我, 很, 開心, 我, 的, 年曆, 來, 了, 聽說, 很多, 都, 有, 一點, 小...   \n",
              "317  [更新, 在, 這邊, 更新, 一下, 我, 所謂, 的, 原則, 是, 家人, 本身, 就...   \n",
              "318  [就是, 那, 一, 聲, 嘆息, 讓, 秋晴, 下定決心, 離開, 她, 那, 猶, 無,...   \n",
              "319  [請問, 有, 人, 唸, 過, 關西, 外語, 專門, 學校, 的, 日, 中, 日, 韓...   \n",
              "320  [金谷, 千, 年, 更, 不, 春青行燈, 趁著, 秋晴, 逃離, 了, 他, 的, 嘴,...   \n",
              "321  [如, 題, 最近, 遇到, 以下, 這些, 單字, 絶交, 境況, 更, 好, 尬舞, 因...   \n",
              "322  [承, 上, 篇, 我, 的, 胸部, 被, 搞砸, 之後, 我, 要, 來, 說說, 這,...   \n",
              "323  [想, 問, 一下, 大家, 在, 讀, 這, 塊, 的, 機率, 是, 用, 些, 什麼,...   \n",
              "324  [這, 次, 夢到, 我, 回家, 我, 媽, 拿, 了, 一, 袋, 零件, 給, 我, ...   \n",
              "325  [耶, 我, 終於, 想出, 書名, 啦, 撒花, 撒花, 這, 章, 應該, 很多, 錯誤...   \n",
              "326  [最近, 小叔, 說, 要, 過年, 了, 想, 請, 公婆, 吃飯, 然後, 說, 要, ...   \n",
              "327  [小時候, 沒, 電視, 節目, 看, 只有, 過年, 回, 阿嬤, 家, 才, 有, 機會...   \n",
              "328  [先, 附上, 圖片, 給, 大家, 看, 第一, 次, 清, 冷氣, 時, 冷氣, 內部,...   \n",
              "329  [最近, 發現, 自己, 抽, 了, 不少, 卡, 想, 看看, 還, 有, 什麼, 沒, ...   \n",
              "330  [文長, 注意, 手機, 排版, 為了, 我, 的, 雙眼皮, 原本, 還, 想, 看看, ...   \n",
              "331  [深卡月, 全, 文, 女, 主角, 雲, 是, 她, 的, 男人, 閱讀, 此, 篇, 前...   \n",
              "332  [橘色, 給, 人, 溫暖, 的, 感覺, 但, 又, 不, 像, 紅色, 那樣, 激進, ...   \n",
              "333  [華銳, 的, 總裁, 大人, 李澤言, 常常, 看到, 他, 的, 穿著, 都, 是, 西...   \n",
              "334  [有, 人, 曾, 對, 他, 說, 這, 世間, 最, 難, 做到, 的, 是, 相遇, ...   \n",
              "335  [之前, 在, 上, 有, 看到, 一, 個, 嫁, 去, 日本, 的, 台灣, 網美, 突...   \n",
              "336  [大選, 當天, 台北, 藍, 綠, 兩, 地, 跑, 因為, 距離, 相隔, 不遠, 除了...   \n",
              "337  [這, 是, 這, 年種, 模擬, 走勢, 圖表, 今日, 一, 根, 大, 陽線, 千軍萬...   \n",
              "338  [每, 次, 在, 看, 劇, 除了, 感動, 外, 最, 好看, 的, 就, 是, 許光漢...   \n",
              "339  [想, 請問, 各位, 有, 沒有, 推薦, 的, 診所, 或, 醫師, 本人, 有, 些微...   \n",
              "340  [先, 說說, 我, 的, 背景, 好, 了, 大三, 日文, 非, 相關, 科系, 降轉到...   \n",
              "341  [更, 對不起, 大家, 炮火, 太, 猛烈, 了, 我, 有點, 不知所措, 睡, 了, ...   \n",
              "342  [同人, 澈漢, 哲漢, 一生, 的, 惡作劇, 高慎入, 同人, 創作, 勿, 上升, 偶...   \n",
              "343  [前, 幾, 天, 剛, 跟, 好, 姐妹, 從, 首爾, 回來, 滑, 了, 一下, 照片...   \n",
              "344  [我, 個人, 想, 看看, 大家, 對於, 這, 兩, 個, 品牌, 傳動, 後, 組, ...   \n",
              "345  [想, 看看, 群, 裡, 北漂, 的, 童鞋, 們, 都, 做, 些, 什麼, 行業, 然...   \n",
              "346  [祝, 大家, 新年, 快樂, 今天, 來, 分享, 我, 的, 入坑曲, 吧, 有, 夠,...   \n",
              "347  [到, 了, 新年, 想, 買, 新衣, 因為, 沒, 穿, 過, 大衣, 覺得, 看起來,...   \n",
              "348  [最近, 和, 一, 個, 女生, 聊, 的, 來, 幾乎, 天天, 都, 有, 在, 聊天...   \n",
              "349  [我, 真的, 很, 討厭, 這些, 藝人, 滿, 嘴, 講, 的, 仁義, 道德, 事實,...   \n",
              "350  [第十一, 章, 外, 送, 站, 在, 櫃台, 前, 的, 徐清秋, 看, 向, 吧檯, ...   \n",
              "351  [最近, 打完, 工, 想, 去, 購入, 人生, 第一, 隻, 專櫃, 唇膏, 在, 小紅...   \n",
              "352  [今天, 一如, 往常, 睡, 得, 很, 飽, 沒有, 任何, 人際, 關係, 家庭, 或...   \n",
              "353  [本來, 想, 看看, 兩岸, 人民, 的, 留言, 到, 微博, 逛, 了, 一下, 看到...   \n",
              "354  [小女子, 有意, 準備, 國考, 因為, 怕, 周遭, 的, 人, 會, 給, 自己, 帶...   \n",
              "355  [如, 題, 單純, 好奇, 大家, 有沒有, 被, 包裝, 燒到, 買, 了, 之後, 完...   \n",
              "356  [處女座, 會, 一直, 去, 關注, 前任, 動態, 是, 什麼, 意思, 沒, 什麼, ...   \n",
              "357  [第一, 次, 發, 追星版, 不, 知道, 這樣, 會不會, 違規, 但, 我, 找, 了...   \n",
              "358  [國文課, 老師, 點名, 學生, 唸, 課文, 轉身, 在, 黑板, 寫下, 註解, 和,...   \n",
              "\n",
              "                                           Content_pos FrontVerb_pos  \n",
              "293  [Neu, Nf, Ng, VL, VC, Nb, SHI, VE, VE, VH, Na,...            VE  \n",
              "294  [Na, VC, Nc, Na, Na, Na, VH, Cbb, Na, Caa, Neq...            VE  \n",
              "295  [Nes, VH, Ncd, SHI, VC, Na, DE, VH, Na, P, Na,...            VE  \n",
              "296  [Nd, VE, Neqa, Na, P, VC, Na, Na, Na, Nh, D, P...            VE  \n",
              "297  [D, VE, Nep, Nf, D, D, SHI, D, VC, Na, D, Nep,...            VE  \n",
              "298  [I, Nh, VE, VE, Nh, D, D, D, VC, DE, T, D, D, ...            VE  \n",
              "299  [P, Nb, Neu, Nf, Na, Na, P, VH, D, VC, Di, Cbb...            VE  \n",
              "300  [Nh, VH, Nep, Nf, Na, DE, Na, SHI, P, VE, DE, ...            VE  \n",
              "301  [Na, P, Ncd, VE, P, Nd, Ng, D, VC, VC, DE, Na,...            VE  \n",
              "302  [Na, I, Nh, Na, Ng, V_2, Neu, Nf, D, VH, VH, D...            VE  \n",
              "303  [VH, VJ, VD, D, P, VC, Na, DE, Na, Nh, DE, VH,...            VE  \n",
              "304  [Nep, Nf, D, Na, Nh, Nd, VH, Na, VK, D, VC, VC...            VE  \n",
              "305  [VJ, Na, P, Nh, VH, VH, Nh, D, VC, VH, D, D, N...            VE  \n",
              "306  [Nd, VE, Di, Na, VE, DE, Na, DE, Na, Cbb, Nh, ...            VE  \n",
              "307  [P, Na, Cbb, VE, P, Na, Na, Na, VH, Nb, P, Na,...            VE  \n",
              "308  [Na, VE, VH, VA, Na, Na, Na, Nb, P, VC, Nh, Nf...            VE  \n",
              "309  [VH, Na, VG, Nh, Na, Na, DE, Na, P, Nh, VA, Di...            VE  \n",
              "310  [VH, VE, VE, Nh, Nes, Na, D, VB, Ncd, VCL, Nh,...            VE  \n",
              "311  [Nes, DE, Na, Na, Nd, VH, VC, Na, VC, Na, DE, ...            VE  \n",
              "312  [Ncd, D, VH, VH, VF, VH, VC, VCL, Na, Na, D, V...            VE  \n",
              "313  [Nd, P, Nb, DE, Na, Ng, VE, Nh, P, VD, Nc, VD,...            VE  \n",
              "314  [P, Na, DE, VF, Ng, Nh, VE, VA, VE, Nd, Nh, D,...            VE  \n",
              "315  [VE, Nc, Ncd, Nc, Ncd, V_2, VH, Na, Na, DE, Na...            VE  \n",
              "316  [Nh, Dfa, VH, Nh, DE, Na, VA, Di, VE, Neqa, D,...            VE  \n",
              "317  [Dfa, P, Ncd, VC, Nd, Nh, VK, DE, Na, SHI, Na,...            VE  \n",
              "318  [Cbb, Nep, Neu, Nf, VA, VL, Nb, Nes, VC, Nh, N...            VE  \n",
              "319  [VE, V_2, Na, VC, Di, Nc, Na, VH, Nc, DE, Nc, ...            VE  \n",
              "320  [Na, Neu, Nf, Dfa, D, VH, P, Nb, VCL, Di, Nh, ...            VE  \n",
              "321  [P, Na, Nd, VC, Ng, Neqa, Na, VA, Na, D, VH, N...            VE  \n",
              "322  [P, Nes, Nf, Nh, DE, Nc, P, VC, Ng, Nh, D, D, ...            VE  \n",
              "323  [VE, VE, Nd, Nh, P, VC, Nep, Nf, DE, Na, SHI, ...            VE  \n",
              "324  [Nep, Nf, VE, Nh, VA, Nh, Na, VC, Di, Neu, Nf,...            VE  \n",
              "325  [Nb, Nh, D, VE, Na, T, VC, VC, Nep, Na, D, Neq...            VE  \n",
              "326  [Nd, Na, VE, D, VA, Di, VE, VF, Na, VA, D, VE,...            VE  \n",
              "327  [Nd, VJ, Na, Na, VC, D, VA, VCL, Na, Nc, Da, V...            VE  \n",
              "328  [D, VC, Na, P, Nh, VC, Neu, Nf, VH, Na, Ng, Na...            VE  \n",
              "329  [Nd, VE, Nh, VC, Di, Neqa, Na, VE, VE, D, V_2,...            VE  \n",
              "330  [Nb, VK, Na, VC, P, Nh, DE, Na, D, D, VE, VC, ...            VE  \n",
              "331  [Na, Na, Na, Na, Na, Na, SHI, Nh, DE, Na, VC, ...            VE  \n",
              "332  [Na, VD, Na, VHC, DE, Na, Cbb, D, D, VG, Na, D...            VE  \n",
              "333  [Nb, DE, Na, Na, Nb, D, VE, Nh, DE, Na, D, SHI...            VE  \n",
              "334  [V_2, Na, D, P, Nh, VE, Nep, Nc, Dfa, VH, VE, ...            VE  \n",
              "335  [Nd, P, Ncd, V_2, VE, Neu, Nf, VC, VCL, Nc, DE...            VE  \n",
              "336  [Na, Nd, Nc, VH, VH, Neu, Na, VA, Cbb, Na, VH,...            VE  \n",
              "337  [Nep, SHI, Nep, Na, VC, Na, Na, Nd, Neu, Nf, V...            VE  \n",
              "338  [Nes, Nf, P, VC, Na, P, VHC, Ng, Dfa, VH, DE, ...            VE  \n",
              "339  [VE, VE, Nh, D, D, VC, DE, Nc, Caa, Na, Nh, V_...            VE  \n",
              "340  [D, VE, Nh, DE, Na, VH, Di, Na, Na, D, VH, Na,...            VE  \n",
              "341  [Dfa, VJ, Nh, Na, Dfa, VH, Di, Nh, Dfa, VH, VA...            VE  \n",
              "342  [Na, VH, Na, Na, DE, Na, VH, Na, VC, D, VA, Na...            VE  \n",
              "343  [Nes, Neu, Nf, D, P, VH, Na, P, D, VA, VH, Di,...            VE  \n",
              "344  [Nh, Nh, VE, VE, Nh, P, Nep, Neu, Nf, Na, VA, ...            VE  \n",
              "345  [VE, VC, Nf, Ng, Ncd, DE, Na, Na, D, VC, Nf, N...            VE  \n",
              "346  [VE, Nh, Nd, VH, Nd, D, D, Nh, DE, Na, T, V_2,...            VE  \n",
              "347  [VCL, Di, Nd, VE, VC, Na, Cbb, D, VCL, Di, Na,...            VE  \n",
              "348  [Nd, P, Neu, Nf, Na, VE, DE, D, Da, D, D, V_2,...            VE  \n",
              "349  [Nh, D, Dfa, VK, Neqa, Na, Neqa, Na, VE, DE, N...            VE  \n",
              "350  [Neu, Na, Ng, VD, VA, P, Na, Ng, DE, Nb, VC, P...            VE  \n",
              "351  [Nd, VC, Na, VE, D, VC, Na, Neu, Nf, Nc, Na, P...            VE  \n",
              "352  [Nd, VG, Nd, VA, DE, Dfa, VH, D, Neqa, Na, Na,...            VE  \n",
              "353  [D, VE, VE, Nc, Na, DE, Na, P, Nb, VC, Di, Nd,...            VE  \n",
              "354  [VH, VL, VC, Na, Cbb, VK, Nc, DE, Na, D, VD, N...            VE  \n",
              "355  [P, Na, VH, VH, Nh, D, P, VC, VC, VC, Di, Ng, ...            VE  \n",
              "356  [Nb, D, D, D, VJ, A, Na, SHI, Nep, Na, VJ, Nep...            VE  \n",
              "357  [Neu, Nf, VD, Na, D, VK, VH, D, VA, Cbb, Nh, V...            VE  \n",
              "358  [Na, Na, VA, Na, VE, Na, VA, P, Na, VC, Na, Ca...            VE  "
            ],
            "text/html": [
              "\n",
              "  <div id=\"df-a8ec660e-8aed-4f85-b920-58ade18667a5\">\n",
              "    <div class=\"colab-df-container\">\n",
              "      <div>\n",
              "<style scoped>\n",
              "    .dataframe tbody tr th:only-of-type {\n",
              "        vertical-align: middle;\n",
              "    }\n",
              "\n",
              "    .dataframe tbody tr th {\n",
              "        vertical-align: top;\n",
              "    }\n",
              "\n",
              "    .dataframe thead th {\n",
              "        text-align: right;\n",
              "    }\n",
              "</style>\n",
              "<table border=\"1\" class=\"dataframe\">\n",
              "  <thead>\n",
              "    <tr style=\"text-align: right;\">\n",
              "      <th></th>\n",
              "      <th>PostId</th>\n",
              "      <th>FrontVerb</th>\n",
              "      <th>Type</th>\n",
              "      <th>Kankan_text</th>\n",
              "      <th>Content_ws</th>\n",
              "      <th>Content_pos</th>\n",
              "      <th>FrontVerb_pos</th>\n",
              "    </tr>\n",
              "  </thead>\n",
              "  <tbody>\n",
              "    <tr>\n",
              "      <th>293</th>\n",
              "      <td>229900877</td>\n",
              "      <td>想</td>\n",
              "      <td>看看</td>\n",
              "      <td>[看, 狄卡, 是, 想, 看看, 不同, 地方, 討論區]</td>\n",
              "      <td>[一, 年, 前, 開始, 看, 狄卡, 是, 想, 看看, 不同, 地方, 討論區, 的,...</td>\n",
              "      <td>[Neu, Nf, Ng, VL, VC, Nb, SHI, VE, VE, VH, Na,...</td>\n",
              "      <td>VE</td>\n",
              "    </tr>\n",
              "    <tr>\n",
              "      <th>294</th>\n",
              "      <td>230146291</td>\n",
              "      <td>想</td>\n",
              "      <td>看看</td>\n",
              "      <td>[的, 文章, 無聊, 想, 看看, 能不能, 開版, 更]</td>\n",
              "      <td>[標題, 開版, 中国, 觀點, 時事, 話題, 交流版, 有鑑於, 時事, 及, 部分, ...</td>\n",
              "      <td>[Na, VC, Nc, Na, Na, Na, VH, Cbb, Na, Caa, Neq...</td>\n",
              "      <td>VE</td>\n",
              "    </tr>\n",
              "    <tr>\n",
              "      <th>295</th>\n",
              "      <td>231278984</td>\n",
              "      <td>想</td>\n",
              "      <td>看看</td>\n",
              "      <td>[可以, 接受, 的, 想, 看看, 世界, 冠軍, 店家]</td>\n",
              "      <td>[各位, 好, 這邊, 是, 讀, 統計, 的, 厭世, 咖啡人, 如, 題, 為了, 推廣...</td>\n",
              "      <td>[Nes, VH, Ncd, SHI, VC, Na, DE, VH, Na, P, Na,...</td>\n",
              "      <td>VE</td>\n",
              "    </tr>\n",
              "    <tr>\n",
              "      <th>296</th>\n",
              "      <td>231340522</td>\n",
              "      <td>想</td>\n",
              "      <td>看看</td>\n",
              "      <td>[膠囊, 的, 價錢, 想, 看看, 蝦皮, 或, 拍賣]</td>\n",
              "      <td>[最近, 看到, 好多, 人, 在, 抽, 雀巢, 膠囊, 咖啡機, 我, 也, 跟風, 了...</td>\n",
              "      <td>[Nd, VE, Neqa, Na, P, VC, Na, Na, Na, Nh, D, P...</td>\n",
              "      <td>VE</td>\n",
              "    </tr>\n",
              "    <tr>\n",
              "      <th>297</th>\n",
              "      <td>231518252</td>\n",
              "      <td>想</td>\n",
              "      <td>看看</td>\n",
              "      <td>[便宜, 的, 所以, 想, 看看, 大家, 的, 環保袋]</td>\n",
              "      <td>[先, 說, 這, 篇, 絕對, 不, 是, 要, 賺, 人氣, 還, 什麼, 的, 存粹,...</td>\n",
              "      <td>[D, VE, Nep, Nf, D, D, SHI, D, VC, Na, D, Nep,...</td>\n",
              "      <td>VE</td>\n",
              "    </tr>\n",
              "    <tr>\n",
              "      <th>298</th>\n",
              "      <td>232326337</td>\n",
              "      <td>想</td>\n",
              "      <td>看看</td>\n",
              "      <td>[太, 到, 了, 想, 看看, 大家, 的, 殼]</td>\n",
              "      <td>[嗨, 大家, 想, 問, 大家, 有, 沒有, 正在, 使用, 的, 呢, 不一定, 要是...</td>\n",
              "      <td>[I, Nh, VE, VE, Nh, D, D, D, VC, DE, T, D, D, ...</td>\n",
              "      <td>VE</td>\n",
              "    </tr>\n",
              "    <tr>\n",
              "      <th>299</th>\n",
              "      <td>232342548</td>\n",
              "      <td>想</td>\n",
              "      <td>看看</td>\n",
              "      <td>[許多, 本來, 上, 想, 看看, 的, 超猛, 滑球]</td>\n",
              "      <td>[跟, 宋家豪, 兩, 個, 後援, 王牌, 因, 傷, 不, 比, 了, 雖然, 遞補上,...</td>\n",
              "      <td>[P, Nb, Neu, Nf, Na, Na, P, VH, D, VC, Di, Cbb...</td>\n",
              "      <td>VE</td>\n",
              "    </tr>\n",
              "    <tr>\n",
              "      <th>300</th>\n",
              "      <td>232378343</td>\n",
              "      <td>想</td>\n",
              "      <td>看看</td>\n",
              "      <td>[那, 我, 就, 想, 看看, 他, 的, 照片]</td>\n",
              "      <td>[大家, 好, 這, 本, 書, 的, 介紹, 是, 在, 看到, 的, 請問, 有, 人,...</td>\n",
              "      <td>[Nh, VH, Nep, Nf, Na, DE, Na, SHI, P, VE, DE, ...</td>\n",
              "      <td>VE</td>\n",
              "    </tr>\n",
              "    <tr>\n",
              "      <th>301</th>\n",
              "      <td>232570043</td>\n",
              "      <td>想</td>\n",
              "      <td>看看</td>\n",
              "      <td>[我, 真的, 很, 想, 看看, 各位, 卡友, 都]</td>\n",
              "      <td>[表單, 在, 這邊, 預計, 在, 週四, 前, 會, 整理, 參加, 的, 人, 並, ...</td>\n",
              "      <td>[Na, P, Ncd, VE, P, Nd, Ng, D, VC, VC, DE, Na,...</td>\n",
              "      <td>VE</td>\n",
              "    </tr>\n",
              "    <tr>\n",
              "      <th>302</th>\n",
              "      <td>232574851</td>\n",
              "      <td>想</td>\n",
              "      <td>看看</td>\n",
              "      <td>[連結, 我, 也, 想, 看看, 你, 是, 不]</td>\n",
              "      <td>[正文, 喂, 你, 一生, 中, 有, 幾, 件, 能, 值得, 驕傲, 的, 事情, 呢...</td>\n",
              "      <td>[Na, I, Nh, Na, Ng, V_2, Neu, Nf, D, VH, VH, D...</td>\n",
              "      <td>VE</td>\n",
              "    </tr>\n",
              "    <tr>\n",
              "      <th>303</th>\n",
              "      <td>232600469</td>\n",
              "      <td>想</td>\n",
              "      <td>看看</td>\n",
              "      <td>[個, 是, 版, 想, 看看, 大家, 手帳, 都]</td>\n",
              "      <td>[純, 分享, 給, 也, 在, 挑, 手帳, 的, 人, 我, 的, 候選, 本本, 們,...</td>\n",
              "      <td>[VH, VJ, VD, D, P, VC, Na, DE, Na, Nh, DE, VH,...</td>\n",
              "      <td>VE</td>\n",
              "    </tr>\n",
              "    <tr>\n",
              "      <th>304</th>\n",
              "      <td>232689109</td>\n",
              "      <td>想</td>\n",
              "      <td>看看</td>\n",
              "      <td>[搖頭, 但, 又, 想, 看看, 室友男, 是, 不]</td>\n",
              "      <td>[此, 篇, 非, 創作文, 我, 平時, 努力, 工作, 喜歡, 到處, 玩, 體驗, 不...</td>\n",
              "      <td>[Nep, Nf, D, Na, Nh, Nd, VH, Na, VK, D, VC, VC...</td>\n",
              "      <td>VE</td>\n",
              "    </tr>\n",
              "    <tr>\n",
              "      <th>305</th>\n",
              "      <td>232722743</td>\n",
              "      <td>想</td>\n",
              "      <td>看看</td>\n",
              "      <td>[他, 現在, 只, 想, 看看, 眼前, 這, 冷清]</td>\n",
              "      <td>[謝謝, 上帝, 對, 我, 如此, 厚道, 我, 終於, 設定, 成功, 近, 來, 板,...</td>\n",
              "      <td>[VJ, Na, P, Nh, VH, VH, Nh, D, VC, VH, D, D, N...</td>\n",
              "      <td>VE</td>\n",
              "    </tr>\n",
              "    <tr>\n",
              "      <th>306</th>\n",
              "      <td>232723161</td>\n",
              "      <td>想</td>\n",
              "      <td>看看</td>\n",
              "      <td>[有, 機會, 也, 想, 看看, 有, 沒有, 租]</td>\n",
              "      <td>[昨天, 看到, 了, 站長, 介紹, 的, 媽, 的, 影片, 雖然, 大家, 在, 發表...</td>\n",
              "      <td>[Nd, VE, Di, Na, VE, DE, Na, DE, Na, Cbb, Nh, ...</td>\n",
              "      <td>VE</td>\n",
              "    </tr>\n",
              "    <tr>\n",
              "      <th>307</th>\n",
              "      <td>232726588</td>\n",
              "      <td>想</td>\n",
              "      <td>看看</td>\n",
              "      <td>[久, 了, 也, 想, 看看, 不同, 腔調, 的]</td>\n",
              "      <td>[如, 題, 因為, 想, 藉由, 訓練, 英文, 聽力, 無奈, 小魯, 對, 真人, 的...</td>\n",
              "      <td>[P, Na, Cbb, VE, P, Na, Na, Na, VH, Nb, P, Na,...</td>\n",
              "      <td>VE</td>\n",
              "    </tr>\n",
              "    <tr>\n",
              "      <th>308</th>\n",
              "      <td>232730218</td>\n",
              "      <td>想</td>\n",
              "      <td>看看</td>\n",
              "      <td>[喜歡, 推理片, 或是, 想, 看看, 美國, 隊長, 怎麼]</td>\n",
              "      <td>[故事, 敘述, 知名, 犯罪, 小說, 小說, 作家, 哈倫, 在, 參加完, 自己, 歲...</td>\n",
              "      <td>[Na, VE, VH, VA, Na, Na, Na, Nb, P, VC, Nh, Nf...</td>\n",
              "      <td>VE</td>\n",
              "    </tr>\n",
              "    <tr>\n",
              "      <th>309</th>\n",
              "      <td>232747093</td>\n",
              "      <td>想</td>\n",
              "      <td>看看</td>\n",
              "      <td>[右下方, 有, 下載鍵, 想, 看看, 上, 次, 的]</td>\n",
              "      <td>[璀璨, 藍圖, 算是, 我, 攝影, 生涯, 的, 起點, 當, 我, 入手, 了, 我,...</td>\n",
              "      <td>[VH, Na, VG, Nh, Na, Na, DE, Na, P, Nh, VA, Di...</td>\n",
              "      <td>VE</td>\n",
              "    </tr>\n",
              "    <tr>\n",
              "      <th>310</th>\n",
              "      <td>232762199</td>\n",
              "      <td>想</td>\n",
              "      <td>看看</td>\n",
              "      <td>[上, 看到, 的, 想, 看看, 還, 有, 其他]</td>\n",
              "      <td>[不好意思, 想, 請問, 大家, 下, 學期, 要, 搬出去, 外面, 住, 我, 想, ...</td>\n",
              "      <td>[VH, VE, VE, Nh, Nes, Na, D, VB, Ncd, VCL, Nh,...</td>\n",
              "      <td>VE</td>\n",
              "    </tr>\n",
              "    <tr>\n",
              "      <th>311</th>\n",
              "      <td>232763494</td>\n",
              "      <td>想</td>\n",
              "      <td>看看</td>\n",
              "      <td>[大家, 想, 不, 想, 看看, 自己, 運氣, 好]</td>\n",
              "      <td>[各位, 的, 大大, 們, 期末, 愉快, 填, 問卷, 抽, 飲料, 的, 好, 機會,...</td>\n",
              "      <td>[Nes, DE, Na, Na, Nd, VH, VC, Na, VC, Na, DE, ...</td>\n",
              "      <td>VE</td>\n",
              "    </tr>\n",
              "    <tr>\n",
              "      <th>312</th>\n",
              "      <td>232765672</td>\n",
              "      <td>想</td>\n",
              "      <td>看看</td>\n",
              "      <td>[所以, 愛上, 也, 想, 看看, 之後, 的, 發展]</td>\n",
              "      <td>[以下, 會, 大, 爆雷, 請, 小心, 服用, 入腐劇, 小說, 時間, 尚, 短, 以...</td>\n",
              "      <td>[Ncd, D, VH, VH, VF, VH, VC, VCL, Na, Na, D, V...</td>\n",
              "      <td>VE</td>\n",
              "    </tr>\n",
              "    <tr>\n",
              "      <th>313</th>\n",
              "      <td>232771563</td>\n",
              "      <td>想</td>\n",
              "      <td>看看</td>\n",
              "      <td>[台灣, 買, 的, 想, 看看, 跟, 海外版, 有]</td>\n",
              "      <td>[之前, 在, 滑老王, 的, 微博, 時, 看到, 他們, 把, 送到, 大陸, 賣, 然...</td>\n",
              "      <td>[Nd, P, Nb, DE, Na, Ng, VE, Nh, P, VD, Nc, VD,...</td>\n",
              "      <td>VE</td>\n",
              "    </tr>\n",
              "    <tr>\n",
              "      <th>314</th>\n",
              "      <td>232773310</td>\n",
              "      <td>想</td>\n",
              "      <td>看看</td>\n",
              "      <td>[一, 波, 也, 想, 看看, 還, 有, 沒]</td>\n",
              "      <td>[在, 室友, 的, 慫恿, 下, 我, 決定, 上來, 詢問, 一下, 各位, 且, 聽,...</td>\n",
              "      <td>[P, Na, DE, VF, Ng, Nh, VE, VA, VE, Nd, Nh, D,...</td>\n",
              "      <td>VE</td>\n",
              "    </tr>\n",
              "    <tr>\n",
              "      <th>315</th>\n",
              "      <td>232780734</td>\n",
              "      <td>想</td>\n",
              "      <td>看看</td>\n",
              "      <td>[種, 款式, 太少, 想, 看看, 有, 沒有, 其他]</td>\n",
              "      <td>[請問, 板橋, 中和, 附近, 哪裡, 有, 純, 棉, 床包, 的, 店面, 前, 陣子...</td>\n",
              "      <td>[VE, Nc, Ncd, Nc, Ncd, V_2, VH, Na, Na, DE, Na...</td>\n",
              "      <td>VE</td>\n",
              "    </tr>\n",
              "    <tr>\n",
              "      <th>316</th>\n",
              "      <td>232793330</td>\n",
              "      <td>想</td>\n",
              "      <td>看看</td>\n",
              "      <td>[嘛, 我, 好, 想, 看看, 的, 膠片, 呀]</td>\n",
              "      <td>[我, 很, 開心, 我, 的, 年曆, 來, 了, 聽說, 很多, 都, 有, 一點, 小...</td>\n",
              "      <td>[Nh, Dfa, VH, Nh, DE, Na, VA, Di, VE, Neqa, D,...</td>\n",
              "      <td>VE</td>\n",
              "    </tr>\n",
              "    <tr>\n",
              "      <th>317</th>\n",
              "      <td>232800433</td>\n",
              "      <td>想</td>\n",
              "      <td>看看</td>\n",
              "      <td>[猶豫, 但, 還是, 想, 看看, 台灣, 有, 沒]</td>\n",
              "      <td>[更新, 在, 這邊, 更新, 一下, 我, 所謂, 的, 原則, 是, 家人, 本身, 就...</td>\n",
              "      <td>[Dfa, P, Ncd, VC, Nd, Nh, VK, DE, Na, SHI, Na,...</td>\n",
              "      <td>VE</td>\n",
              "    </tr>\n",
              "    <tr>\n",
              "      <th>318</th>\n",
              "      <td>232803609</td>\n",
              "      <td>想</td>\n",
              "      <td>看看</td>\n",
              "      <td>[的, 母親, 三不五時, 想, 看看, 自己, 的, 孫女]</td>\n",
              "      <td>[就是, 那, 一, 聲, 嘆息, 讓, 秋晴, 下定決心, 離開, 她, 那, 猶, 無,...</td>\n",
              "      <td>[Cbb, Nep, Neu, Nf, VA, VL, Nb, Nes, VC, Nh, N...</td>\n",
              "      <td>VE</td>\n",
              "    </tr>\n",
              "    <tr>\n",
              "      <th>319</th>\n",
              "      <td>232810111</td>\n",
              "      <td>想</td>\n",
              "      <td>看看</td>\n",
              "      <td>[有, 負面, 的, 想, 看看, 有沒有, 讀, 過]</td>\n",
              "      <td>[請問, 有, 人, 唸, 過, 關西, 外語, 專門, 學校, 的, 日, 中, 日, 韓...</td>\n",
              "      <td>[VE, V_2, Na, VC, Di, Nc, Na, VH, Nc, DE, Nc, ...</td>\n",
              "      <td>VE</td>\n",
              "    </tr>\n",
              "    <tr>\n",
              "      <th>320</th>\n",
              "      <td>232811441</td>\n",
              "      <td>想</td>\n",
              "      <td>看看</td>\n",
              "      <td>[秋晴, 的, 長髮, 想, 看看, 她, 那, 美麗]</td>\n",
              "      <td>[金谷, 千, 年, 更, 不, 春青行燈, 趁著, 秋晴, 逃離, 了, 他, 的, 嘴,...</td>\n",
              "      <td>[Na, Neu, Nf, Dfa, D, VH, P, Nb, VCL, Di, Nh, ...</td>\n",
              "      <td>VE</td>\n",
              "    </tr>\n",
              "    <tr>\n",
              "      <th>321</th>\n",
              "      <td>232812670</td>\n",
              "      <td>想</td>\n",
              "      <td>看看</td>\n",
              "      <td>[但, 還是, 滿, 想, 看看, 大家, 如何, 分析]</td>\n",
              "      <td>[如, 題, 最近, 遇到, 以下, 這些, 單字, 絶交, 境況, 更, 好, 尬舞, 因...</td>\n",
              "      <td>[P, Na, Nd, VC, Ng, Neqa, Na, VA, Na, D, VH, N...</td>\n",
              "      <td>VE</td>\n",
              "    </tr>\n",
              "    <tr>\n",
              "      <th>322</th>\n",
              "      <td>232815241</td>\n",
              "      <td>想</td>\n",
              "      <td>看看</td>\n",
              "      <td>[滿心, 期待, 的, 想, 看看, 這, 種, 高科技]</td>\n",
              "      <td>[承, 上, 篇, 我, 的, 胸部, 被, 搞砸, 之後, 我, 要, 來, 說說, 這,...</td>\n",
              "      <td>[P, Nes, Nf, Nh, DE, Nc, P, VC, Ng, Nh, D, D, ...</td>\n",
              "      <td>VE</td>\n",
              "    </tr>\n",
              "    <tr>\n",
              "      <th>323</th>\n",
              "      <td>232827888</td>\n",
              "      <td>想</td>\n",
              "      <td>看看</td>\n",
              "      <td>[一, 本, 讀, 想, 看看, 各位, 在, 考]</td>\n",
              "      <td>[想, 問, 一下, 大家, 在, 讀, 這, 塊, 的, 機率, 是, 用, 些, 什麼,...</td>\n",
              "      <td>[VE, VE, Nd, Nh, P, VC, Nep, Nf, DE, Na, SHI, ...</td>\n",
              "      <td>VE</td>\n",
              "    </tr>\n",
              "    <tr>\n",
              "      <th>324</th>\n",
              "      <td>232828422</td>\n",
              "      <td>想</td>\n",
              "      <td>看看</td>\n",
              "      <td>[她, 她, 還, 想, 看看, 我, 長大, 後]</td>\n",
              "      <td>[這, 次, 夢到, 我, 回家, 我, 媽, 拿, 了, 一, 袋, 零件, 給, 我, ...</td>\n",
              "      <td>[Nep, Nf, VE, Nh, VA, Nh, Na, VC, Di, Neu, Nf,...</td>\n",
              "      <td>VE</td>\n",
              "    </tr>\n",
              "    <tr>\n",
              "      <th>325</th>\n",
              "      <td>232832926</td>\n",
              "      <td>想</td>\n",
              "      <td>看看</td>\n",
              "      <td>[是, 我, 只是, 想, 看看, 阿離, 身子, 有]</td>\n",
              "      <td>[耶, 我, 終於, 想出, 書名, 啦, 撒花, 撒花, 這, 章, 應該, 很多, 錯誤...</td>\n",
              "      <td>[Nb, Nh, D, VE, Na, T, VC, VC, Nep, Na, D, Neq...</td>\n",
              "      <td>VE</td>\n",
              "    </tr>\n",
              "    <tr>\n",
              "      <th>326</th>\n",
              "      <td>232842894</td>\n",
              "      <td>想</td>\n",
              "      <td>看看</td>\n",
              "      <td>[小孩, 沒, 工作, 想, 看看, 大家, 看法, 如何]</td>\n",
              "      <td>[最近, 小叔, 說, 要, 過年, 了, 想, 請, 公婆, 吃飯, 然後, 說, 要, ...</td>\n",
              "      <td>[Nd, Na, VE, D, VA, Di, VE, VF, Na, VA, D, VE,...</td>\n",
              "      <td>VE</td>\n",
              "    </tr>\n",
              "    <tr>\n",
              "      <th>327</th>\n",
              "      <td>232852255</td>\n",
              "      <td>想</td>\n",
              "      <td>看看</td>\n",
              "      <td>[很, 唯美, 很, 想, 看看, 希望, 有, 人]</td>\n",
              "      <td>[小時候, 沒, 電視, 節目, 看, 只有, 過年, 回, 阿嬤, 家, 才, 有, 機會...</td>\n",
              "      <td>[Nd, VJ, Na, Na, VC, D, VA, VCL, Na, Nc, Da, V...</td>\n",
              "      <td>VE</td>\n",
              "    </tr>\n",
              "    <tr>\n",
              "      <th>328</th>\n",
              "      <td>232867708</td>\n",
              "      <td>想</td>\n",
              "      <td>看看</td>\n",
              "      <td>[問題, 真的, 無解, 想, 看看, 版, 上, 的]</td>\n",
              "      <td>[先, 附上, 圖片, 給, 大家, 看, 第一, 次, 清, 冷氣, 時, 冷氣, 內部,...</td>\n",
              "      <td>[D, VC, Na, P, Nh, VC, Neu, Nf, VH, Na, Ng, Na...</td>\n",
              "      <td>VE</td>\n",
              "    </tr>\n",
              "    <tr>\n",
              "      <th>329</th>\n",
              "      <td>232870392</td>\n",
              "      <td>想</td>\n",
              "      <td>看看</td>\n",
              "      <td>[了, 不少, 卡, 想, 看看, 還, 有, 什麼]</td>\n",
              "      <td>[最近, 發現, 自己, 抽, 了, 不少, 卡, 想, 看看, 還, 有, 什麼, 沒, ...</td>\n",
              "      <td>[Nd, VE, Nh, VC, Di, Neqa, Na, VE, VE, D, V_2,...</td>\n",
              "      <td>VE</td>\n",
              "    </tr>\n",
              "    <tr>\n",
              "      <th>330</th>\n",
              "      <td>232878324</td>\n",
              "      <td>想</td>\n",
              "      <td>看看</td>\n",
              "      <td>[雙眼皮, 原本, 還, 想, 看看, 台北, 的, 金]</td>\n",
              "      <td>[文長, 注意, 手機, 排版, 為了, 我, 的, 雙眼皮, 原本, 還, 想, 看看, ...</td>\n",
              "      <td>[Nb, VK, Na, VC, P, Nh, DE, Na, D, D, VE, VC, ...</td>\n",
              "      <td>VE</td>\n",
              "    </tr>\n",
              "    <tr>\n",
              "      <th>331</th>\n",
              "      <td>232878535</td>\n",
              "      <td>想</td>\n",
              "      <td>看看</td>\n",
              "      <td>[他, 的, 懷抱, 想, 看看, 他, 的, 表情]</td>\n",
              "      <td>[深卡月, 全, 文, 女, 主角, 雲, 是, 她, 的, 男人, 閱讀, 此, 篇, 前...</td>\n",
              "      <td>[Na, Na, Na, Na, Na, Na, SHI, Nh, DE, Na, VC, ...</td>\n",
              "      <td>VE</td>\n",
              "    </tr>\n",
              "    <tr>\n",
              "      <th>332</th>\n",
              "      <td>232889441</td>\n",
              "      <td>想</td>\n",
              "      <td>看看</td>\n",
              "      <td>[總, 特意, 繞道, 想, 看看, 她, 今天, 考完]</td>\n",
              "      <td>[橘色, 給, 人, 溫暖, 的, 感覺, 但, 又, 不, 像, 紅色, 那樣, 激進, ...</td>\n",
              "      <td>[Na, VD, Na, VHC, DE, Na, Cbb, D, D, VG, Na, D...</td>\n",
              "      <td>VE</td>\n",
              "    </tr>\n",
              "    <tr>\n",
              "      <th>333</th>\n",
              "      <td>232896303</td>\n",
              "      <td>想</td>\n",
              "      <td>看看</td>\n",
              "      <td>[我, 偶爾, 也, 想, 看看, 他, 穿, 其他]</td>\n",
              "      <td>[華銳, 的, 總裁, 大人, 李澤言, 常常, 看到, 他, 的, 穿著, 都, 是, 西...</td>\n",
              "      <td>[Nb, DE, Na, Na, Nb, D, VE, Nh, DE, Na, D, SHI...</td>\n",
              "      <td>VE</td>\n",
              "    </tr>\n",
              "    <tr>\n",
              "      <th>334</th>\n",
              "      <td>232900162</td>\n",
              "      <td>想</td>\n",
              "      <td>看看</td>\n",
              "      <td>[因為, 好玩, 而是, 想, 看看, 一, 眼, 他]</td>\n",
              "      <td>[有, 人, 曾, 對, 他, 說, 這, 世間, 最, 難, 做到, 的, 是, 相遇, ...</td>\n",
              "      <td>[V_2, Na, D, P, Nh, VE, Nep, Nc, Dfa, VH, VE, ...</td>\n",
              "      <td>VE</td>\n",
              "    </tr>\n",
              "    <tr>\n",
              "      <th>335</th>\n",
              "      <td>232901020</td>\n",
              "      <td>想</td>\n",
              "      <td>看看</td>\n",
              "      <td>[台灣, 網美, 突然, 想, 看看, 她, 在, 日本]</td>\n",
              "      <td>[之前, 在, 上, 有, 看到, 一, 個, 嫁, 去, 日本, 的, 台灣, 網美, 突...</td>\n",
              "      <td>[Nd, P, Ncd, V_2, VE, Neu, Nf, VC, VCL, Nc, DE...</td>\n",
              "      <td>VE</td>\n",
              "    </tr>\n",
              "    <tr>\n",
              "      <th>336</th>\n",
              "      <td>232904384</td>\n",
              "      <td>想</td>\n",
              "      <td>看看</td>\n",
              "      <td>[相隔, 不遠, 除了, 想, 看看, 兩, 邊, 氛圍]</td>\n",
              "      <td>[大選, 當天, 台北, 藍, 綠, 兩, 地, 跑, 因為, 距離, 相隔, 不遠, 除了...</td>\n",
              "      <td>[Na, Nd, Nc, VH, VH, Neu, Na, VA, Cbb, Na, VH,...</td>\n",
              "      <td>VE</td>\n",
              "    </tr>\n",
              "    <tr>\n",
              "      <th>337</th>\n",
              "      <td>232917236</td>\n",
              "      <td>想</td>\n",
              "      <td>看看</td>\n",
              "      <td>[刀, 先, 看到, 想, 看看, 多, 關於, 期貨]</td>\n",
              "      <td>[這, 是, 這, 年種, 模擬, 走勢, 圖表, 今日, 一, 根, 大, 陽線, 千軍萬...</td>\n",
              "      <td>[Nep, SHI, Nep, Na, VC, Na, Na, Nd, Neu, Nf, V...</td>\n",
              "      <td>VE</td>\n",
              "    </tr>\n",
              "    <tr>\n",
              "      <th>338</th>\n",
              "      <td>232922561</td>\n",
              "      <td>想</td>\n",
              "      <td>看看</td>\n",
              "      <td>[看到, 再, 蓋, 想, 看看, 男生板, 的, 唇樓]</td>\n",
              "      <td>[每, 次, 在, 看, 劇, 除了, 感動, 外, 最, 好看, 的, 就, 是, 許光漢...</td>\n",
              "      <td>[Nes, Nf, P, VC, Na, P, VHC, Ng, Dfa, VH, DE, ...</td>\n",
              "      <td>VE</td>\n",
              "    </tr>\n",
              "    <tr>\n",
              "      <th>339</th>\n",
              "      <td>232939298</td>\n",
              "      <td>想</td>\n",
              "      <td>看看</td>\n",
              "      <td>[想, 矯正, 是, 想, 看看, 能不能, 改善, 顳二]</td>\n",
              "      <td>[想, 請問, 各位, 有, 沒有, 推薦, 的, 診所, 或, 醫師, 本人, 有, 些微...</td>\n",
              "      <td>[VE, VE, Nh, D, D, VC, DE, Nc, Caa, Na, Nh, V_...</td>\n",
              "      <td>VE</td>\n",
              "    </tr>\n",
              "    <tr>\n",
              "      <th>340</th>\n",
              "      <td>232940941</td>\n",
              "      <td>想</td>\n",
              "      <td>看看</td>\n",
              "      <td>[覺得, 丟臉, 所以, 想, 看看, 怎麼, 救, 先]</td>\n",
              "      <td>[先, 說說, 我, 的, 背景, 好, 了, 大三, 日文, 非, 相關, 科系, 降轉到...</td>\n",
              "      <td>[D, VE, Nh, DE, Na, VH, Di, Na, Na, D, VH, Na,...</td>\n",
              "      <td>VE</td>\n",
              "    </tr>\n",
              "    <tr>\n",
              "      <th>341</th>\n",
              "      <td>232943355</td>\n",
              "      <td>想</td>\n",
              "      <td>看看</td>\n",
              "      <td>[學妹, 只是, 編出來, 想, 看看, 我, 的, 反應]</td>\n",
              "      <td>[更, 對不起, 大家, 炮火, 太, 猛烈, 了, 我, 有點, 不知所措, 睡, 了, ...</td>\n",
              "      <td>[Dfa, VJ, Nh, Na, Dfa, VH, Di, Nh, Dfa, VH, VA...</td>\n",
              "      <td>VE</td>\n",
              "    </tr>\n",
              "    <tr>\n",
              "      <th>342</th>\n",
              "      <td>232944781</td>\n",
              "      <td>想</td>\n",
              "      <td>看看</td>\n",
              "      <td>[有, 一點, 故意, 想, 看看, 中途, 停下, 崔勝澈]</td>\n",
              "      <td>[同人, 澈漢, 哲漢, 一生, 的, 惡作劇, 高慎入, 同人, 創作, 勿, 上升, 偶...</td>\n",
              "      <td>[Na, VH, Na, Na, DE, Na, VH, Na, VC, D, VA, Na...</td>\n",
              "      <td>VE</td>\n",
              "    </tr>\n",
              "    <tr>\n",
              "      <th>343</th>\n",
              "      <td>232945765</td>\n",
              "      <td>想</td>\n",
              "      <td>看看</td>\n",
              "      <td>[人, 傻爆, 眼, 想, 看看, 兩, 個, 女子]</td>\n",
              "      <td>[前, 幾, 天, 剛, 跟, 好, 姐妹, 從, 首爾, 回來, 滑, 了, 一下, 照片...</td>\n",
              "      <td>[Nes, Neu, Nf, D, P, VH, Na, P, D, VA, VH, Di,...</td>\n",
              "      <td>VE</td>\n",
              "    </tr>\n",
              "    <tr>\n",
              "      <th>344</th>\n",
              "      <td>232963623</td>\n",
              "      <td>想</td>\n",
              "      <td>看看</td>\n",
              "      <td>[]</td>\n",
              "      <td>[我, 個人, 想, 看看, 大家, 對於, 這, 兩, 個, 品牌, 傳動, 後, 組, ...</td>\n",
              "      <td>[Nh, Nh, VE, VE, Nh, P, Nep, Neu, Nf, Na, VA, ...</td>\n",
              "      <td>VE</td>\n",
              "    </tr>\n",
              "    <tr>\n",
              "      <th>345</th>\n",
              "      <td>232965833</td>\n",
              "      <td>想</td>\n",
              "      <td>看看</td>\n",
              "      <td>[]</td>\n",
              "      <td>[想, 看看, 群, 裡, 北漂, 的, 童鞋, 們, 都, 做, 些, 什麼, 行業, 然...</td>\n",
              "      <td>[VE, VC, Nf, Ng, Ncd, DE, Na, Na, D, VC, Nf, N...</td>\n",
              "      <td>VE</td>\n",
              "    </tr>\n",
              "    <tr>\n",
              "      <th>346</th>\n",
              "      <td>232966426</td>\n",
              "      <td>想</td>\n",
              "      <td>看看</td>\n",
              "      <td>[大家, 也, 可以, 想, 看看, 最近, 在, 準備]</td>\n",
              "      <td>[祝, 大家, 新年, 快樂, 今天, 來, 分享, 我, 的, 入坑曲, 吧, 有, 夠,...</td>\n",
              "      <td>[VE, Nh, Nd, VH, Nd, D, D, Nh, DE, Na, T, V_2,...</td>\n",
              "      <td>VE</td>\n",
              "    </tr>\n",
              "    <tr>\n",
              "      <th>347</th>\n",
              "      <td>232967492</td>\n",
              "      <td>想</td>\n",
              "      <td>看看</td>\n",
              "      <td>[聽, 特別, 的, 想, 看看, 大家, 的, 意見]</td>\n",
              "      <td>[到, 了, 新年, 想, 買, 新衣, 因為, 沒, 穿, 過, 大衣, 覺得, 看起來,...</td>\n",
              "      <td>[VCL, Di, Nd, VE, VC, Na, Cbb, D, VCL, Di, Na,...</td>\n",
              "      <td>VE</td>\n",
              "    </tr>\n",
              "    <tr>\n",
              "      <th>348</th>\n",
              "      <td>232968414</td>\n",
              "      <td>想</td>\n",
              "      <td>看看</td>\n",
              "      <td>[過去, 抱, 她, 想, 看看, 她, 會不會, 把]</td>\n",
              "      <td>[最近, 和, 一, 個, 女生, 聊, 的, 來, 幾乎, 天天, 都, 有, 在, 聊天...</td>\n",
              "      <td>[Nd, P, Neu, Nf, Na, VE, DE, D, Da, D, D, V_2,...</td>\n",
              "      <td>VE</td>\n",
              "    </tr>\n",
              "    <tr>\n",
              "      <th>349</th>\n",
              "      <td>232970328</td>\n",
              "      <td>想</td>\n",
              "      <td>看看</td>\n",
              "      <td>[辛苦, 的, 你們, 想, 看看, 如果, 你們, 自己]</td>\n",
              "      <td>[我, 真的, 很, 討厭, 這些, 藝人, 滿, 嘴, 講, 的, 仁義, 道德, 事實,...</td>\n",
              "      <td>[Nh, D, Dfa, VK, Neqa, Na, Neqa, Na, VE, DE, N...</td>\n",
              "      <td>VE</td>\n",
              "    </tr>\n",
              "    <tr>\n",
              "      <th>350</th>\n",
              "      <td>232970467</td>\n",
              "      <td>想</td>\n",
              "      <td>看看</td>\n",
              "      <td>[過, 頭, 來, 想, 看看, 眼前, 的, 開放式]</td>\n",
              "      <td>[第十一, 章, 外, 送, 站, 在, 櫃台, 前, 的, 徐清秋, 看, 向, 吧檯, ...</td>\n",
              "      <td>[Neu, Na, Ng, VD, VA, P, Na, Ng, DE, Nb, VC, P...</td>\n",
              "      <td>VE</td>\n",
              "    </tr>\n",
              "    <tr>\n",
              "      <th>351</th>\n",
              "      <td>232971313</td>\n",
              "      <td>想</td>\n",
              "      <td>看看</td>\n",
              "      <td>[試色, 但, 還是, 想, 看看, 大家, 有沒有, 收]</td>\n",
              "      <td>[最近, 打完, 工, 想, 去, 購入, 人生, 第一, 隻, 專櫃, 唇膏, 在, 小紅...</td>\n",
              "      <td>[Nd, VC, Na, VE, D, VC, Na, Neu, Nf, Nc, Na, P...</td>\n",
              "      <td>VE</td>\n",
              "    </tr>\n",
              "    <tr>\n",
              "      <th>352</th>\n",
              "      <td>232973691</td>\n",
              "      <td>想</td>\n",
              "      <td>看看</td>\n",
              "      <td>[今天, 試, 著, 想, 看看, 是, 不, 是]</td>\n",
              "      <td>[今天, 一如, 往常, 睡, 得, 很, 飽, 沒有, 任何, 人際, 關係, 家庭, 或...</td>\n",
              "      <td>[Nd, VG, Nd, VA, DE, Dfa, VH, D, Neqa, Na, Na,...</td>\n",
              "      <td>VE</td>\n",
              "    </tr>\n",
              "    <tr>\n",
              "      <th>353</th>\n",
              "      <td>232974473</td>\n",
              "      <td>想</td>\n",
              "      <td>看看</td>\n",
              "      <td>[]</td>\n",
              "      <td>[本來, 想, 看看, 兩岸, 人民, 的, 留言, 到, 微博, 逛, 了, 一下, 看到...</td>\n",
              "      <td>[D, VE, VE, Nc, Na, DE, Na, P, Nb, VC, Di, Nd,...</td>\n",
              "      <td>VE</td>\n",
              "    </tr>\n",
              "    <tr>\n",
              "      <th>354</th>\n",
              "      <td>232977342</td>\n",
              "      <td>想</td>\n",
              "      <td>看看</td>\n",
              "      <td>[壓力, 還是, 不少, 想, 看看, 大家, 是否, 能]</td>\n",
              "      <td>[小女子, 有意, 準備, 國考, 因為, 怕, 周遭, 的, 人, 會, 給, 自己, 帶...</td>\n",
              "      <td>[VH, VL, VC, Na, Cbb, VK, Nc, DE, Na, D, VD, N...</td>\n",
              "      <td>VE</td>\n",
              "    </tr>\n",
              "    <tr>\n",
              "      <th>355</th>\n",
              "      <td>233004057</td>\n",
              "      <td>想</td>\n",
              "      <td>看看</td>\n",
              "      <td>[沒, 下手, 啦, 想, 看看, 大家, 都, 拜]</td>\n",
              "      <td>[如, 題, 單純, 好奇, 大家, 有沒有, 被, 包裝, 燒到, 買, 了, 之後, 完...</td>\n",
              "      <td>[P, Na, VH, VH, Nh, D, P, VC, VC, VC, Di, Ng, ...</td>\n",
              "      <td>VE</td>\n",
              "    </tr>\n",
              "    <tr>\n",
              "      <th>356</th>\n",
              "      <td>233007020</td>\n",
              "      <td>想</td>\n",
              "      <td>看看</td>\n",
              "      <td>[啊, 就, 只是, 想, 看看, 前任, 過, 的]</td>\n",
              "      <td>[處女座, 會, 一直, 去, 關注, 前任, 動態, 是, 什麼, 意思, 沒, 什麼, ...</td>\n",
              "      <td>[Nb, D, D, D, VJ, A, Na, SHI, Nep, Na, VJ, Nep...</td>\n",
              "      <td>VE</td>\n",
              "    </tr>\n",
              "    <tr>\n",
              "      <th>357</th>\n",
              "      <td>233007415</td>\n",
              "      <td>想</td>\n",
              "      <td>看看</td>\n",
              "      <td>[刮刮卡, 什麼, 的, 想, 看看, 版, 上, 有]</td>\n",
              "      <td>[第一, 次, 發, 追星版, 不, 知道, 這樣, 會不會, 違規, 但, 我, 找, 了...</td>\n",
              "      <td>[Neu, Nf, VD, Na, D, VK, VH, D, VA, Cbb, Nh, V...</td>\n",
              "      <td>VE</td>\n",
              "    </tr>\n",
              "    <tr>\n",
              "      <th>358</th>\n",
              "      <td>233011872</td>\n",
              "      <td>想</td>\n",
              "      <td>看看</td>\n",
              "      <td>[對面, 書櫃, 繞過來, 想, 看看, 是, 哪, 個]</td>\n",
              "      <td>[國文課, 老師, 點名, 學生, 唸, 課文, 轉身, 在, 黑板, 寫下, 註解, 和,...</td>\n",
              "      <td>[Na, Na, VA, Na, VE, Na, VA, P, Na, VC, Na, Ca...</td>\n",
              "      <td>VE</td>\n",
              "    </tr>\n",
              "  </tbody>\n",
              "</table>\n",
              "</div>\n",
              "      <button class=\"colab-df-convert\" onclick=\"convertToInteractive('df-a8ec660e-8aed-4f85-b920-58ade18667a5')\"\n",
              "              title=\"Convert this dataframe to an interactive table.\"\n",
              "              style=\"display:none;\">\n",
              "        \n",
              "  <svg xmlns=\"http://www.w3.org/2000/svg\" height=\"24px\"viewBox=\"0 0 24 24\"\n",
              "       width=\"24px\">\n",
              "    <path d=\"M0 0h24v24H0V0z\" fill=\"none\"/>\n",
              "    <path d=\"M18.56 5.44l.94 2.06.94-2.06 2.06-.94-2.06-.94-.94-2.06-.94 2.06-2.06.94zm-11 1L8.5 8.5l.94-2.06 2.06-.94-2.06-.94L8.5 2.5l-.94 2.06-2.06.94zm10 10l.94 2.06.94-2.06 2.06-.94-2.06-.94-.94-2.06-.94 2.06-2.06.94z\"/><path d=\"M17.41 7.96l-1.37-1.37c-.4-.4-.92-.59-1.43-.59-.52 0-1.04.2-1.43.59L10.3 9.45l-7.72 7.72c-.78.78-.78 2.05 0 2.83L4 21.41c.39.39.9.59 1.41.59.51 0 1.02-.2 1.41-.59l7.78-7.78 2.81-2.81c.8-.78.8-2.07 0-2.86zM5.41 20L4 18.59l7.72-7.72 1.47 1.35L5.41 20z\"/>\n",
              "  </svg>\n",
              "      </button>\n",
              "      \n",
              "  <style>\n",
              "    .colab-df-container {\n",
              "      display:flex;\n",
              "      flex-wrap:wrap;\n",
              "      gap: 12px;\n",
              "    }\n",
              "\n",
              "    .colab-df-convert {\n",
              "      background-color: #E8F0FE;\n",
              "      border: none;\n",
              "      border-radius: 50%;\n",
              "      cursor: pointer;\n",
              "      display: none;\n",
              "      fill: #1967D2;\n",
              "      height: 32px;\n",
              "      padding: 0 0 0 0;\n",
              "      width: 32px;\n",
              "    }\n",
              "\n",
              "    .colab-df-convert:hover {\n",
              "      background-color: #E2EBFA;\n",
              "      box-shadow: 0px 1px 2px rgba(60, 64, 67, 0.3), 0px 1px 3px 1px rgba(60, 64, 67, 0.15);\n",
              "      fill: #174EA6;\n",
              "    }\n",
              "\n",
              "    [theme=dark] .colab-df-convert {\n",
              "      background-color: #3B4455;\n",
              "      fill: #D2E3FC;\n",
              "    }\n",
              "\n",
              "    [theme=dark] .colab-df-convert:hover {\n",
              "      background-color: #434B5C;\n",
              "      box-shadow: 0px 1px 3px 1px rgba(0, 0, 0, 0.15);\n",
              "      filter: drop-shadow(0px 1px 2px rgba(0, 0, 0, 0.3));\n",
              "      fill: #FFFFFF;\n",
              "    }\n",
              "  </style>\n",
              "\n",
              "      <script>\n",
              "        const buttonEl =\n",
              "          document.querySelector('#df-a8ec660e-8aed-4f85-b920-58ade18667a5 button.colab-df-convert');\n",
              "        buttonEl.style.display =\n",
              "          google.colab.kernel.accessAllowed ? 'block' : 'none';\n",
              "\n",
              "        async function convertToInteractive(key) {\n",
              "          const element = document.querySelector('#df-a8ec660e-8aed-4f85-b920-58ade18667a5');\n",
              "          const dataTable =\n",
              "            await google.colab.kernel.invokeFunction('convertToInteractive',\n",
              "                                                     [key], {});\n",
              "          if (!dataTable) return;\n",
              "\n",
              "          const docLinkHtml = 'Like what you see? Visit the ' +\n",
              "            '<a target=\"_blank\" href=https://colab.research.google.com/notebooks/data_table.ipynb>data table notebook</a>'\n",
              "            + ' to learn more about interactive tables.';\n",
              "          element.innerHTML = '';\n",
              "          dataTable['output_type'] = 'display_data';\n",
              "          await google.colab.output.renderOutput(dataTable, element);\n",
              "          const docLink = document.createElement('div');\n",
              "          docLink.innerHTML = docLinkHtml;\n",
              "          element.appendChild(docLink);\n",
              "        }\n",
              "      </script>\n",
              "    </div>\n",
              "  </div>\n",
              "  "
            ]
          },
          "metadata": {},
          "execution_count": 23
        }
      ]
    },
    {
      "cell_type": "markdown",
      "source": [
        "## Find VV看"
      ],
      "metadata": {
        "id": "TqhGpUyQMjmw"
      }
    },
    {
      "cell_type": "code",
      "source": [
        "text_df = pd.read_pickle('./data/dcard_text_df.pkl')"
      ],
      "metadata": {
        "id": "oWNJdRu3NPkz"
      },
      "execution_count": 15,
      "outputs": []
    },
    {
      "cell_type": "code",
      "source": [
        "# find regex of VV看\n",
        "v_list = []\n",
        "v_pos_list = []\n",
        "k_texts= []\n",
        "k_ids = []\n",
        "for i, r in text_df.iterrows():\n",
        "    if '看' in r['Content_ws']:\n",
        "        kk= r['Content_ws'].index('看')\n",
        "        if 'V' in r['Content_pos'][kk-1] and r['Content_pos'][kk-1]!='VH':\n",
        "            if len(r['Content_ws'][kk-1])==2 or len(r['Content_ws'][kk-1])==4:\n",
        "                front_verb = r['Content_ws'][kk-1]\n",
        "                chars = list(front_verb)\n",
        "                if len(chars)==2 and chars[0]==chars[1]:\n",
        "                    front_verb = \"\".join(chars)\n",
        "                    k_ids.append(kk)\n",
        "                    v_list.append(front_verb)\n",
        "                    v_pos_list.append(r['Content_pos'][kk-1])  \n",
        "                    if kk <= (len(r['Content_ws'])-4) and kk >=4:\n",
        "                        k_texts.append(r['Content_ws'][kk-4:kk+4])\n",
        "                    else:\n",
        "                        k_texts.append(r['Content_ws'])\n",
        "\n",
        "                elif len(chars)==4:\n",
        "                    dup = [x for x in chars if chars.count(x) > 1]\n",
        "                    front_verb = \"\".join(dup)\n",
        "                    k_ids.append(kk)\n",
        "                    v_list.append(front_verb)\n",
        "                    v_pos_list.append(r['Content_pos'][kk-1]) \n",
        "                    if kk <= (len(r['Content_ws'])-4) and kk >=4:\n",
        "                        k_texts.append(r['Content_ws'][kk-4:kk+4])\n",
        "                    else:\n",
        "                        k_texts.append(r['Content_ws'])               \n",
        "                    "
      ],
      "metadata": {
        "id": "1Zttj1udNbAE"
      },
      "execution_count": 49,
      "outputs": []
    },
    {
      "cell_type": "code",
      "source": [
        "vvk_df = text_df.iloc[k_ids]\n",
        "vvk_df['VVK_text'] = k_texts\n",
        "vvk_df['FrontVerb'] = v_list\n",
        "vvk_df['FrontVerb_pos'] = v_pos_list\n",
        "vvk_df['Type'] = '看'\n",
        "vvk_df = vvk_df[['PostId','FrontVerb','Type','VVK_text','Content_ws','Content_pos','FrontVerb_pos']]"
      ],
      "metadata": {
        "id": "t5CoTQohVY3L"
      },
      "execution_count": null,
      "outputs": []
    },
    {
      "cell_type": "code",
      "source": [
        "vvk_df.shape"
      ],
      "metadata": {
        "colab": {
          "base_uri": "https://localhost:8080/"
        },
        "outputId": "179a7063-b40d-4294-e9f9-68030a7b1711",
        "id": "wvFME99dV1Vm"
      },
      "execution_count": 51,
      "outputs": [
        {
          "output_type": "execute_result",
          "data": {
            "text/plain": [
              "(441, 7)"
            ]
          },
          "metadata": {},
          "execution_count": 51
        }
      ]
    },
    {
      "cell_type": "code",
      "source": [
        "vvk_df = vvk_df.sort_values(by=['FrontVerb','PostId']).reset_index(drop=True)"
      ],
      "metadata": {
        "id": "24946GhgV1Vn"
      },
      "execution_count": 52,
      "outputs": []
    },
    {
      "cell_type": "code",
      "source": [
        "#vvk_df.to_pickle('./data/vvk_df.pkl')"
      ],
      "metadata": {
        "id": "mAByNqwHV1Vo"
      },
      "execution_count": 64,
      "outputs": []
    },
    {
      "cell_type": "code",
      "source": [
        "vvk_result = vvk_df.groupby([\"FrontVerb\",'FrontVerb_pos'])['FrontVerb'].count().reset_index(name='count') \\\n",
        "                             .sort_values(['count'], ascending=False)"
      ],
      "metadata": {
        "id": "TS4DIKd1WxRv"
      },
      "execution_count": 55,
      "outputs": []
    },
    {
      "cell_type": "code",
      "source": [
        "#vvk_result.to_pickle('./data/vvk_result.pkl')"
      ],
      "metadata": {
        "id": "8nnTOQkgWxRw"
      },
      "execution_count": 62,
      "outputs": []
    },
    {
      "cell_type": "code",
      "source": [
        "# 共現的動詞pos type數量\n",
        "from collections import Counter \n",
        "Counter(vvk_result['FrontVerb_pos'])"
      ],
      "metadata": {
        "colab": {
          "base_uri": "https://localhost:8080/"
        },
        "outputId": "811fe58f-88aa-4fdf-c0c4-78867367baec",
        "id": "MrpLIgEMWxRw"
      },
      "execution_count": 61,
      "outputs": [
        {
          "output_type": "execute_result",
          "data": {
            "text/plain": [
              "Counter({'VE': 11, 'VF': 3, 'VC': 38, 'VA': 6, 'VJ': 1, 'VCL': 2, 'VD': 1})"
            ]
          },
          "metadata": {},
          "execution_count": 61
        }
      ]
    },
    {
      "cell_type": "code",
      "source": [
        "# 共現的動詞type數量\n",
        "len(set(vvk_result['FrontVerb']))"
      ],
      "metadata": {
        "colab": {
          "base_uri": "https://localhost:8080/"
        },
        "outputId": "2f22e991-b8f0-466f-aa39-499550462479",
        "id": "b3XzpWDaWxRw"
      },
      "execution_count": 58,
      "outputs": [
        {
          "output_type": "execute_result",
          "data": {
            "text/plain": [
              "56"
            ]
          },
          "metadata": {},
          "execution_count": 58
        }
      ]
    },
    {
      "cell_type": "code",
      "source": [
        "# 共現次數summary\n",
        "vvk_result['count'].describe()"
      ],
      "metadata": {
        "colab": {
          "base_uri": "https://localhost:8080/"
        },
        "outputId": "c2eaefe5-43b3-4833-87a4-70fac09bcbe9",
        "id": "Da35vfRVWxRx"
      },
      "execution_count": 59,
      "outputs": [
        {
          "output_type": "execute_result",
          "data": {
            "text/plain": [
              "count    62.000000\n",
              "mean      7.112903\n",
              "std      16.298552\n",
              "min       1.000000\n",
              "25%       1.000000\n",
              "50%       1.000000\n",
              "75%       4.000000\n",
              "max      81.000000\n",
              "Name: count, dtype: float64"
            ]
          },
          "metadata": {},
          "execution_count": 59
        }
      ]
    },
    {
      "cell_type": "code",
      "source": [
        "# 共現次數最多的前十個動詞\n",
        "vvk_result.head(10)"
      ],
      "metadata": {
        "colab": {
          "base_uri": "https://localhost:8080/",
          "height": 363
        },
        "outputId": "78c39fb6-547f-478f-b631-43dc622cc392",
        "id": "50-uKNy_WxRx"
      },
      "execution_count": 60,
      "outputs": [
        {
          "output_type": "execute_result",
          "data": {
            "text/plain": [
              "   FrontVerb FrontVerb_pos  count\n",
              "47        試試            VE     81\n",
              "7         問問            VE     81\n",
              "48        試試            VF     59\n",
              "43        聽聽            VE     28\n",
              "46        試試            VC     26\n",
              "6         吃吃            VC     17\n",
              "3         做做            VC     15\n",
              "15        找找            VC     12\n",
              "8         喝喝            VC     12\n",
              "30        玩玩            VC     10"
            ],
            "text/html": [
              "\n",
              "  <div id=\"df-44db39ce-4722-44ba-afc5-f2e4ee04e600\">\n",
              "    <div class=\"colab-df-container\">\n",
              "      <div>\n",
              "<style scoped>\n",
              "    .dataframe tbody tr th:only-of-type {\n",
              "        vertical-align: middle;\n",
              "    }\n",
              "\n",
              "    .dataframe tbody tr th {\n",
              "        vertical-align: top;\n",
              "    }\n",
              "\n",
              "    .dataframe thead th {\n",
              "        text-align: right;\n",
              "    }\n",
              "</style>\n",
              "<table border=\"1\" class=\"dataframe\">\n",
              "  <thead>\n",
              "    <tr style=\"text-align: right;\">\n",
              "      <th></th>\n",
              "      <th>FrontVerb</th>\n",
              "      <th>FrontVerb_pos</th>\n",
              "      <th>count</th>\n",
              "    </tr>\n",
              "  </thead>\n",
              "  <tbody>\n",
              "    <tr>\n",
              "      <th>47</th>\n",
              "      <td>試試</td>\n",
              "      <td>VE</td>\n",
              "      <td>81</td>\n",
              "    </tr>\n",
              "    <tr>\n",
              "      <th>7</th>\n",
              "      <td>問問</td>\n",
              "      <td>VE</td>\n",
              "      <td>81</td>\n",
              "    </tr>\n",
              "    <tr>\n",
              "      <th>48</th>\n",
              "      <td>試試</td>\n",
              "      <td>VF</td>\n",
              "      <td>59</td>\n",
              "    </tr>\n",
              "    <tr>\n",
              "      <th>43</th>\n",
              "      <td>聽聽</td>\n",
              "      <td>VE</td>\n",
              "      <td>28</td>\n",
              "    </tr>\n",
              "    <tr>\n",
              "      <th>46</th>\n",
              "      <td>試試</td>\n",
              "      <td>VC</td>\n",
              "      <td>26</td>\n",
              "    </tr>\n",
              "    <tr>\n",
              "      <th>6</th>\n",
              "      <td>吃吃</td>\n",
              "      <td>VC</td>\n",
              "      <td>17</td>\n",
              "    </tr>\n",
              "    <tr>\n",
              "      <th>3</th>\n",
              "      <td>做做</td>\n",
              "      <td>VC</td>\n",
              "      <td>15</td>\n",
              "    </tr>\n",
              "    <tr>\n",
              "      <th>15</th>\n",
              "      <td>找找</td>\n",
              "      <td>VC</td>\n",
              "      <td>12</td>\n",
              "    </tr>\n",
              "    <tr>\n",
              "      <th>8</th>\n",
              "      <td>喝喝</td>\n",
              "      <td>VC</td>\n",
              "      <td>12</td>\n",
              "    </tr>\n",
              "    <tr>\n",
              "      <th>30</th>\n",
              "      <td>玩玩</td>\n",
              "      <td>VC</td>\n",
              "      <td>10</td>\n",
              "    </tr>\n",
              "  </tbody>\n",
              "</table>\n",
              "</div>\n",
              "      <button class=\"colab-df-convert\" onclick=\"convertToInteractive('df-44db39ce-4722-44ba-afc5-f2e4ee04e600')\"\n",
              "              title=\"Convert this dataframe to an interactive table.\"\n",
              "              style=\"display:none;\">\n",
              "        \n",
              "  <svg xmlns=\"http://www.w3.org/2000/svg\" height=\"24px\"viewBox=\"0 0 24 24\"\n",
              "       width=\"24px\">\n",
              "    <path d=\"M0 0h24v24H0V0z\" fill=\"none\"/>\n",
              "    <path d=\"M18.56 5.44l.94 2.06.94-2.06 2.06-.94-2.06-.94-.94-2.06-.94 2.06-2.06.94zm-11 1L8.5 8.5l.94-2.06 2.06-.94-2.06-.94L8.5 2.5l-.94 2.06-2.06.94zm10 10l.94 2.06.94-2.06 2.06-.94-2.06-.94-.94-2.06-.94 2.06-2.06.94z\"/><path d=\"M17.41 7.96l-1.37-1.37c-.4-.4-.92-.59-1.43-.59-.52 0-1.04.2-1.43.59L10.3 9.45l-7.72 7.72c-.78.78-.78 2.05 0 2.83L4 21.41c.39.39.9.59 1.41.59.51 0 1.02-.2 1.41-.59l7.78-7.78 2.81-2.81c.8-.78.8-2.07 0-2.86zM5.41 20L4 18.59l7.72-7.72 1.47 1.35L5.41 20z\"/>\n",
              "  </svg>\n",
              "      </button>\n",
              "      \n",
              "  <style>\n",
              "    .colab-df-container {\n",
              "      display:flex;\n",
              "      flex-wrap:wrap;\n",
              "      gap: 12px;\n",
              "    }\n",
              "\n",
              "    .colab-df-convert {\n",
              "      background-color: #E8F0FE;\n",
              "      border: none;\n",
              "      border-radius: 50%;\n",
              "      cursor: pointer;\n",
              "      display: none;\n",
              "      fill: #1967D2;\n",
              "      height: 32px;\n",
              "      padding: 0 0 0 0;\n",
              "      width: 32px;\n",
              "    }\n",
              "\n",
              "    .colab-df-convert:hover {\n",
              "      background-color: #E2EBFA;\n",
              "      box-shadow: 0px 1px 2px rgba(60, 64, 67, 0.3), 0px 1px 3px 1px rgba(60, 64, 67, 0.15);\n",
              "      fill: #174EA6;\n",
              "    }\n",
              "\n",
              "    [theme=dark] .colab-df-convert {\n",
              "      background-color: #3B4455;\n",
              "      fill: #D2E3FC;\n",
              "    }\n",
              "\n",
              "    [theme=dark] .colab-df-convert:hover {\n",
              "      background-color: #434B5C;\n",
              "      box-shadow: 0px 1px 3px 1px rgba(0, 0, 0, 0.15);\n",
              "      filter: drop-shadow(0px 1px 2px rgba(0, 0, 0, 0.3));\n",
              "      fill: #FFFFFF;\n",
              "    }\n",
              "  </style>\n",
              "\n",
              "      <script>\n",
              "        const buttonEl =\n",
              "          document.querySelector('#df-44db39ce-4722-44ba-afc5-f2e4ee04e600 button.colab-df-convert');\n",
              "        buttonEl.style.display =\n",
              "          google.colab.kernel.accessAllowed ? 'block' : 'none';\n",
              "\n",
              "        async function convertToInteractive(key) {\n",
              "          const element = document.querySelector('#df-44db39ce-4722-44ba-afc5-f2e4ee04e600');\n",
              "          const dataTable =\n",
              "            await google.colab.kernel.invokeFunction('convertToInteractive',\n",
              "                                                     [key], {});\n",
              "          if (!dataTable) return;\n",
              "\n",
              "          const docLinkHtml = 'Like what you see? Visit the ' +\n",
              "            '<a target=\"_blank\" href=https://colab.research.google.com/notebooks/data_table.ipynb>data table notebook</a>'\n",
              "            + ' to learn more about interactive tables.';\n",
              "          element.innerHTML = '';\n",
              "          dataTable['output_type'] = 'display_data';\n",
              "          await google.colab.output.renderOutput(dataTable, element);\n",
              "          const docLink = document.createElement('div');\n",
              "          docLink.innerHTML = docLinkHtml;\n",
              "          element.appendChild(docLink);\n",
              "        }\n",
              "      </script>\n",
              "    </div>\n",
              "  </div>\n",
              "  "
            ]
          },
          "metadata": {},
          "execution_count": 60
        }
      ]
    },
    {
      "cell_type": "markdown",
      "source": [
        "Plot 前20共現的verb"
      ],
      "metadata": {
        "id": "EZMI4QXTWxRx"
      }
    },
    {
      "cell_type": "code",
      "source": [
        "import matplotlib as mpl\n",
        "import matplotlib.pyplot as plt\n",
        "import matplotlib.font_manager as fm\n",
        "!wget -O TaipeiSansTCBeta-Regular.ttf https://drive.google.com/uc?id=1eGAsTN1HBpJAkeVM57_C7ccp7hbgSz3_&export=download\n",
        "\n",
        "fm.fontManager.addfont('TaipeiSansTCBeta-Regular.ttf')\n",
        "mpl.rc('font', family='Taipei Sans TC Beta')"
      ],
      "metadata": {
        "id": "nevLFIrlWxRx"
      },
      "execution_count": null,
      "outputs": []
    },
    {
      "cell_type": "code",
      "source": [
        "# plot\n",
        "\n",
        "fig, ax = plt.subplots(figsize=(10,8))\n",
        "\n",
        "\n",
        "df = vvk_result[:11]\n",
        "\n",
        "#assigning variables\n",
        "x = df['FrontVerb']\n",
        "y = df['count']\n",
        "\n",
        "#Graphing\n",
        "plt.barh(x,y)\n",
        "plt.xticks(fontsize=12)\n",
        "plt.yticks(fontsize=12)\n",
        "plt.title(\"Top 10 Verbs with VV看\")\n",
        "plt.xlabel(\"Post_n\")\n",
        "plt.show()"
      ],
      "metadata": {
        "colab": {
          "base_uri": "https://localhost:8080/",
          "height": 516
        },
        "outputId": "c5425f4c-ec7a-4176-a666-088bce9e7c03",
        "id": "1EwVzxmDWxRy"
      },
      "execution_count": 83,
      "outputs": [
        {
          "output_type": "display_data",
          "data": {
            "text/plain": [
              "<Figure size 720x576 with 1 Axes>"
            ],
            "image/png": "[encoded data removed]"
          },
          "metadata": {
            "needs_background": "light"
          }
        }
      ]
    }
  ],
  "metadata": {
    "kernelspec": {
      "display_name": "Python 3",
      "language": "python",
      "name": "python3"
    },
    "language_info": {
      "codemirror_mode": {
        "name": "ipython",
        "version": 3
      },
      "file_extension": ".py",
      "mimetype": "text/x-python",
      "name": "python",
      "nbconvert_exporter": "python",
      "pygments_lexer": "ipython3",
      "version": "3.9.6"
    },
    "orig_nbformat": 4,
    "vscode": {
      "interpreter": {
        "hash": "31f2aee4e71d21fbe5cf8b01ff0e069b9275f58929596ceb00d14d90e3e16cd6"
      }
    },
    "colab": {
      "provenance": [],
      "toc_visible": true
    },
    "gpuClass": "standard"
  },
  "nbformat": 4,
  "nbformat_minor": 0
}