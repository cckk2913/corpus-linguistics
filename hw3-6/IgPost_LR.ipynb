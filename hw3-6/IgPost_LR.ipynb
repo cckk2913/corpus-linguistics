{
  "cells": [
    {
      "attachments": {},
      "cell_type": "markdown",
      "metadata": {},
      "source": [
        "### Idea"
      ]
    },
    {
      "attachments": {},
      "cell_type": "markdown",
      "metadata": {
        "id": "5BwhDN_UEJmM"
      },
      "source": [
        "### Environment setting"
      ]
    },
    {
      "cell_type": "code",
      "execution_count": 1,
      "metadata": {
        "colab": {
          "base_uri": "https://localhost:8080/"
        },
        "id": "6lvFiRXS1zv3",
        "outputId": "3bfa89c5-8d77-42d3-c80f-54ae9b808035"
      },
      "outputs": [
        {
          "name": "stdout",
          "output_type": "stream",
          "text": [
            "Mounted at /content/gdrive\n"
          ]
        }
      ],
      "source": [
        "from google.colab import drive\n",
        "drive.mount('/content/gdrive',force_remount=True)\n",
        "\n",
        "import os"
      ]
    },
    {
      "cell_type": "code",
      "execution_count": 2,
      "metadata": {
        "id": "Mv8gFCGzEJmP"
      },
      "outputs": [],
      "source": [
        "import pandas as pd\n",
        "import re\n",
        "import numpy as np"
      ]
    },
    {
      "cell_type": "code",
      "execution_count": null,
      "metadata": {
        "colab": {
          "base_uri": "https://localhost:8080/"
        },
        "id": "OjcGye13EwNo",
        "outputId": "f7c8e8e3-c3ee-4a36-e938-3b53b7d3a6a7"
      },
      "outputs": [],
      "source": [
        "%pip -U ckip-transformers"
      ]
    },
    {
      "cell_type": "code",
      "execution_count": 4,
      "metadata": {
        "id": "d1jUpYTgEsBu"
      },
      "outputs": [],
      "source": [
        "#from ckip_transformers.nlp import CkipWordSegmenter\n",
        "from ckip_transformers.nlp import CkipPosTagger"
      ]
    },
    {
      "cell_type": "markdown",
      "metadata": {
        "id": "MElYCd4ZEuHC"
      },
      "source": [
        "### Read file"
      ]
    },
    {
      "cell_type": "code",
      "execution_count": 9,
      "metadata": {
        "colab": {
          "base_uri": "https://localhost:8080/",
          "height": 634
        },
        "id": "8Vp6ZFAKEJmQ",
        "outputId": "99d84bf2-4c72-4594-854f-d108765797b3"
      },
      "outputs": [
        {
          "data": {
            "text/html": [
              "\n",
              "  <div id=\"df-0e8bac4b-8e4f-44e7-b066-1579296d8cee\">\n",
              "    <div class=\"colab-df-container\">\n",
              "      <div>\n",
              "<style scoped>\n",
              "    .dataframe tbody tr th:only-of-type {\n",
              "        vertical-align: middle;\n",
              "    }\n",
              "\n",
              "    .dataframe tbody tr th {\n",
              "        vertical-align: top;\n",
              "    }\n",
              "\n",
              "    .dataframe thead th {\n",
              "        text-align: right;\n",
              "    }\n",
              "</style>\n",
              "<table border=\"1\" class=\"dataframe\">\n",
              "  <thead>\n",
              "    <tr style=\"text-align: right;\">\n",
              "      <th></th>\n",
              "      <th>text</th>\n",
              "      <th>label</th>\n",
              "    </tr>\n",
              "  </thead>\n",
              "  <tbody>\n",
              "    <tr>\n",
              "      <th>0</th>\n",
              "      <td>V領設計能夠修飾臉型😍\\r\\n減齡泡泡袖洋裝😉\\r\\n👉https://lihi1.com/...</td>\n",
              "      <td>1</td>\n",
              "    </tr>\n",
              "    <tr>\n",
              "      <th>1</th>\n",
              "      <td>【20210303】\\r\\n能勇敢追夢的人\\r\\n身上都閃著和煦的光芒\\r\\n也是好生羨慕！...</td>\n",
              "      <td>0</td>\n",
              "    </tr>\n",
              "    <tr>\n",
              "      <th>2</th>\n",
              "      <td>玉 耳環\\r\\n#耳環 #玉 #earrings</td>\n",
              "      <td>1</td>\n",
              "    </tr>\n",
              "    <tr>\n",
              "      <th>3</th>\n",
              "      <td>【美國瘋潮WWE Taiwan】\\r\\n不管是WWE Elite還是AEW Unrivale...</td>\n",
              "      <td>1</td>\n",
              "    </tr>\n",
              "    <tr>\n",
              "      <th>4</th>\n",
              "      <td>🌈\\r\\n尋晚的post 一po已經被秒殺好多件的Vintage sports windbr...</td>\n",
              "      <td>1</td>\n",
              "    </tr>\n",
              "  </tbody>\n",
              "</table>\n",
              "</div>\n",
              "      <button class=\"colab-df-convert\" onclick=\"convertToInteractive('df-0e8bac4b-8e4f-44e7-b066-1579296d8cee')\"\n",
              "              title=\"Convert this dataframe to an interactive table.\"\n",
              "              style=\"display:none;\">\n",
              "        \n",
              "  <svg xmlns=\"http://www.w3.org/2000/svg\" height=\"24px\"viewBox=\"0 0 24 24\"\n",
              "       width=\"24px\">\n",
              "    <path d=\"M0 0h24v24H0V0z\" fill=\"none\"/>\n",
              "    <path d=\"M18.56 5.44l.94 2.06.94-2.06 2.06-.94-2.06-.94-.94-2.06-.94 2.06-2.06.94zm-11 1L8.5 8.5l.94-2.06 2.06-.94-2.06-.94L8.5 2.5l-.94 2.06-2.06.94zm10 10l.94 2.06.94-2.06 2.06-.94-2.06-.94-.94-2.06-.94 2.06-2.06.94z\"/><path d=\"M17.41 7.96l-1.37-1.37c-.4-.4-.92-.59-1.43-.59-.52 0-1.04.2-1.43.59L10.3 9.45l-7.72 7.72c-.78.78-.78 2.05 0 2.83L4 21.41c.39.39.9.59 1.41.59.51 0 1.02-.2 1.41-.59l7.78-7.78 2.81-2.81c.8-.78.8-2.07 0-2.86zM5.41 20L4 18.59l7.72-7.72 1.47 1.35L5.41 20z\"/>\n",
              "  </svg>\n",
              "      </button>\n",
              "      \n",
              "  <style>\n",
              "    .colab-df-container {\n",
              "      display:flex;\n",
              "      flex-wrap:wrap;\n",
              "      gap: 12px;\n",
              "    }\n",
              "\n",
              "    .colab-df-convert {\n",
              "      background-color: #E8F0FE;\n",
              "      border: none;\n",
              "      border-radius: 50%;\n",
              "      cursor: pointer;\n",
              "      display: none;\n",
              "      fill: #1967D2;\n",
              "      height: 32px;\n",
              "      padding: 0 0 0 0;\n",
              "      width: 32px;\n",
              "    }\n",
              "\n",
              "    .colab-df-convert:hover {\n",
              "      background-color: #E2EBFA;\n",
              "      box-shadow: 0px 1px 2px rgba(60, 64, 67, 0.3), 0px 1px 3px 1px rgba(60, 64, 67, 0.15);\n",
              "      fill: #174EA6;\n",
              "    }\n",
              "\n",
              "    [theme=dark] .colab-df-convert {\n",
              "      background-color: #3B4455;\n",
              "      fill: #D2E3FC;\n",
              "    }\n",
              "\n",
              "    [theme=dark] .colab-df-convert:hover {\n",
              "      background-color: #434B5C;\n",
              "      box-shadow: 0px 1px 3px 1px rgba(0, 0, 0, 0.15);\n",
              "      filter: drop-shadow(0px 1px 2px rgba(0, 0, 0, 0.3));\n",
              "      fill: #FFFFFF;\n",
              "    }\n",
              "  </style>\n",
              "\n",
              "      <script>\n",
              "        const buttonEl =\n",
              "          document.querySelector('#df-0e8bac4b-8e4f-44e7-b066-1579296d8cee button.colab-df-convert');\n",
              "        buttonEl.style.display =\n",
              "          google.colab.kernel.accessAllowed ? 'block' : 'none';\n",
              "\n",
              "        async function convertToInteractive(key) {\n",
              "          const element = document.querySelector('#df-0e8bac4b-8e4f-44e7-b066-1579296d8cee');\n",
              "          const dataTable =\n",
              "            await google.colab.kernel.invokeFunction('convertToInteractive',\n",
              "                                                     [key], {});\n",
              "          if (!dataTable) return;\n",
              "\n",
              "          const docLinkHtml = 'Like what you see? Visit the ' +\n",
              "            '<a target=\"_blank\" href=https://colab.research.google.com/notebooks/data_table.ipynb>data table notebook</a>'\n",
              "            + ' to learn more about interactive tables.';\n",
              "          element.innerHTML = '';\n",
              "          dataTable['output_type'] = 'display_data';\n",
              "          await google.colab.output.renderOutput(dataTable, element);\n",
              "          const docLink = document.createElement('div');\n",
              "          docLink.innerHTML = docLinkHtml;\n",
              "          element.appendChild(docLink);\n",
              "        }\n",
              "      </script>\n",
              "    </div>\n",
              "  </div>\n",
              "  "
            ],
            "text/plain": [
              "                                                text  label\n",
              "0  V領設計能夠修飾臉型😍\\r\\n減齡泡泡袖洋裝😉\\r\\n👉https://lihi1.com/...      1\n",
              "1  【20210303】\\r\\n能勇敢追夢的人\\r\\n身上都閃著和煦的光芒\\r\\n也是好生羨慕！...      0\n",
              "2                           玉 耳環\\r\\n#耳環 #玉 #earrings      1\n",
              "3  【美國瘋潮WWE Taiwan】\\r\\n不管是WWE Elite還是AEW Unrivale...      1\n",
              "4  🌈\\r\\n尋晚的post 一po已經被秒殺好多件的Vintage sports windbr...      1"
            ]
          },
          "execution_count": 9,
          "metadata": {},
          "output_type": "execute_result"
        }
      ],
      "source": [
        "# read file\n",
        "df = pd.read_csv('./data/ig5000.csv',encoding='utf-8')\n",
        "df.head()"
      ]
    },
    {
      "cell_type": "code",
      "execution_count": 6,
      "metadata": {
        "colab": {
          "base_uri": "https://localhost:8080/"
        },
        "id": "fzCOZcGfEJmR",
        "outputId": "b47b25a3-03fc-4b78-c50e-8e3b7820305e"
      },
      "outputs": [
        {
          "name": "stdout",
          "output_type": "stream",
          "text": [
            "5000\n"
          ]
        },
        {
          "data": {
            "text/plain": [
              "0    2538\n",
              "1    2462\n",
              "Name: label, dtype: int64"
            ]
          },
          "execution_count": 6,
          "metadata": {},
          "output_type": "execute_result"
        }
      ],
      "source": [
        "# raw inspection\n",
        "print(len(df))\n",
        "df['label'].value_counts()"
      ]
    },
    {
      "cell_type": "markdown",
      "metadata": {
        "id": "CwWGoJaUEJmS"
      },
      "source": [
        "### Text preprocessing"
      ]
    },
    {
      "cell_type": "markdown",
      "metadata": {
        "id": "H388qnRLDRWJ"
      },
      "source": [
        "\n",
        "\n",
        "* extract hashtags\n",
        "* clean\n",
        "* tokenize\n",
        "* postag\n",
        "\n"
      ]
    },
    {
      "cell_type": "code",
      "execution_count": 12,
      "metadata": {
        "id": "wIYhJe6SEJmV"
      },
      "outputs": [],
      "source": [
        "# WS\n",
        "ws_driver = CkipWordSegmenter(device=0)"
      ]
    },
    {
      "cell_type": "code",
      "execution_count": 7,
      "metadata": {
        "id": "Nvm1y3C9EJmT"
      },
      "outputs": [],
      "source": [
        "trash_re = \"@\\S+|https?:\\S+|http?:\\S|[^\\u4E00-\\u9FD5]\"\n",
        "\n",
        "def count_hashtag(texts):\n",
        "    output = []\n",
        "    for text in texts:\n",
        "        text = str(text)\n",
        "        hashtags = re.findall('(#[\\w]+)',text)\n",
        "        output.append(hashtags)\n",
        "    return output\n",
        "\n",
        "def clean(texts, clean_re):\n",
        "    output = []\n",
        "    for text in texts:\n",
        "        text = re.sub(clean_re, '', str(text))\n",
        "        output.append(text)\n",
        "    return output\n",
        "\n",
        "def tokenize(texts):\n",
        "    output=[]\n",
        "    ws = ws_driver(texts, use_delim = False)\n",
        "    output = [\" \".join(ls) for ls in ws]\n",
        "\n",
        "    return ws, output"
      ]
    },
    {
      "cell_type": "code",
      "execution_count": 10,
      "metadata": {
        "id": "p6ONVnhYDcd2"
      },
      "outputs": [],
      "source": [
        "# extract hashtags\n",
        "ig_hashtag = count_hashtag(df['text'].to_list())"
      ]
    },
    {
      "cell_type": "code",
      "execution_count": 16,
      "metadata": {
        "colab": {
          "base_uri": "https://localhost:8080/"
        },
        "id": "rvEIH5IVD6il",
        "outputId": "2a6caafe-1947-4a7f-f5b3-45ee4ff26ca5"
      },
      "outputs": [
        {
          "data": {
            "text/plain": [
              "[[], [], ['#耳環', '#玉', '#earrings']]"
            ]
          },
          "execution_count": 16,
          "metadata": {},
          "output_type": "execute_result"
        }
      ],
      "source": [
        "ig_hashtag[:3]"
      ]
    },
    {
      "cell_type": "code",
      "execution_count": 17,
      "metadata": {
        "colab": {
          "base_uri": "https://localhost:8080/"
        },
        "id": "cZ_nexwaEJmW",
        "outputId": "24ef68aa-706a-48ea-e2ea-b879cdf342f8"
      },
      "outputs": [
        {
          "name": "stderr",
          "output_type": "stream",
          "text": [
            "Tokenization: 100%|██████████| 5000/5000 [00:01<00:00, 4232.34it/s]\n",
            "Inference: 100%|██████████| 20/20 [02:26<00:00,  7.30s/it]\n"
          ]
        }
      ],
      "source": [
        "# clean & tokenize\n",
        "\n",
        "ig_cleaned = clean(df['text'].to_list(), trash_re)\n",
        "ig_ws, ig_segmented = tokenize(ig_cleaned)"
      ]
    },
    {
      "cell_type": "code",
      "execution_count": 21,
      "metadata": {
        "colab": {
          "base_uri": "https://localhost:8080/"
        },
        "id": "CgsF4vEgEVir",
        "outputId": "36e86b60-47f1-43a5-edf8-a80d67e35541"
      },
      "outputs": [
        {
          "data": {
            "text/plain": [
              "(['領', '設計', '能夠', '修飾', '臉型', '減齡', '泡泡袖', '洋裝', '領型領', '厚薄', '薄', '款'],\n",
              " '領 設計 能夠 修飾 臉型 減齡 泡泡袖 洋裝 領型領 厚薄 薄 款')"
            ]
          },
          "execution_count": 21,
          "metadata": {},
          "output_type": "execute_result"
        }
      ],
      "source": [
        "ig_ws[0], ig_segmented[0]"
      ]
    },
    {
      "cell_type": "code",
      "execution_count": null,
      "metadata": {
        "colab": {
          "base_uri": "https://localhost:8080/",
          "height": 177,
          "referenced_widgets": [
            "635e7c12dcf64f42b06fa8131f3f8e46",
            "286985d6a6e943e89ae46723cc350d7f",
            "bbe04d0ccf034264ba3f926d4af1129f",
            "cd0b5e8c66e049ae9becfca0e3f23457",
            "c0b6a4b9070c4026a5c75e9eb2f621ce",
            "fa8fe40dce7143b2a58ea00758eb9979",
            "9b059fa68bc44e23876ccbb133e04a67",
            "3623209ad57f46df9e225fdd49cb16bf",
            "d0532909464d494aa235e23ca605f3eb",
            "408aa0c8c3114a40babbde53a39ae0db",
            "d0d22cbb268c47b7b29625aa66f81c03",
            "ed5906dfeabf48b2bb1dd87566a89471",
            "a527d6f91e2a48b4bc517b4170d026d9",
            "448e45b54e3f4fbba3a0ba3e20488fc3",
            "0adfa3dc064949838a192f9563aabaae",
            "c60b5286fc6f447fbe95e198732af318",
            "ad3bc1e34e8a4e0390826bc19541cc8b",
            "3aecc48be2b64a2bad2eaa9a3e9f8636",
            "98a252cd456b42de9d11592dbaaaf818",
            "708efb206edc4ae5baa10f5e4c5acfcd",
            "ea401dea87df402daa07ec1da2ff8701",
            "a0409562a29b4ffea7f9823f144a4b31",
            "1f9599313e104ea0a1173ac6a9f67cb3",
            "210ce223552e4c96a01cccc206494111",
            "04aa2496e09643ca90477a504adc890a",
            "65efa3ca7ade46a394f6c3e2572d6501",
            "042e0b33343a40ce838d7230c1327721",
            "e0df6a30e6d54403aaf28a60dadb5f9d",
            "c3ef6979414f481bad24745b97f7c44a",
            "84acbf5d96404f4cb4a921269e43a5ad",
            "d7208d9a779a4623b876e85e7e468580",
            "4ab3190dcb8f4cb7af245feaf5a9604c",
            "977df045437c44bf8d1f90448a0dde7a",
            "0d98f78761ac4c07b9748723441153bd",
            "4c69a65f9eeb426a8df508745804bd3c",
            "cb9dcf5e9c8d4bd3b8428512315e94c0",
            "0cf92c2886b442c3be2e154de8b1e8ec",
            "7a6c3514b5ad47b2aa6b2b2a77ddc9f1",
            "efbb286e1f4b49c89d2282648f3d816c",
            "21c52f5d96494bb2981c54052686bffa",
            "d8d83fe041044896a3a68d0cbdb03429",
            "df50a256782a4e718a34786cd0e71b40",
            "043a22f008d64e9eadb83b347096d7ed",
            "b74d87ccf3e74c929e28773ae20ac71f",
            "c7c4573e12bf44a19d4d60d5efb20866",
            "aa68a9306ac246b696ef15da2688a1c8",
            "d21ce8a597aa449097c67dba4ef29e1d",
            "1e16174c3db64a899295aebab5d0cce9",
            "c69ee91d577f4732978f1460b3242427",
            "976d627a55ff4de2b1b45a47c8d8727f",
            "606338e894f94d34a8f878ffad7e96ab",
            "cb03fe73ada64b939d353ad2950e130f",
            "283b9a41f35a4fb0b3c7fae9118cb5fa",
            "abc2168794784086a2c166524961bf36",
            "f8439dbf2cb7409285a03cde1a109cf0"
          ]
        },
        "id": "mv8u3yHsEzXj",
        "outputId": "9b91bb51-6a5b-4872-fb7b-a1068c38e9ad"
      },
      "outputs": [],
      "source": [
        "# POS\n",
        "pos_driver = CkipPosTagger(device=0)"
      ]
    },
    {
      "cell_type": "code",
      "execution_count": 8,
      "metadata": {
        "colab": {
          "base_uri": "https://localhost:8080/"
        },
        "id": "Jvv09pDWF6qo",
        "outputId": "13484f82-57c2-491c-8eaa-6605b75dd3cb"
      },
      "outputs": [
        {
          "name": "stderr",
          "output_type": "stream",
          "text": [
            "Tokenization: 100%|██████████| 5000/5000 [00:00<00:00, 5010.92it/s]\n",
            "Inference: 100%|██████████| 20/20 [02:36<00:00,  7.82s/it]\n"
          ]
        },
        {
          "data": {
            "text/plain": [
              "['./ig_pos.pkl']"
            ]
          },
          "execution_count": 8,
          "metadata": {},
          "output_type": "execute_result"
        }
      ],
      "source": [
        "ig_pos = pos_driver(ig_ws, use_delim = False)"
      ]
    },
    {
      "cell_type": "code",
      "execution_count": null,
      "metadata": {
        "id": "pkZdAzmXJ_ZG"
      },
      "outputs": [],
      "source": [
        "#@title joblib \n",
        "#import joblib \n",
        "#joblib.dump(ig_ws, './ig_ws.pkl')\n",
        "#joblib.dump(ig_segmented, './ig_segmented.pkl')\n",
        "#joblib.dump(ig_pos, './ig_pos.pkl')"
      ]
    },
    {
      "cell_type": "markdown",
      "metadata": {
        "id": "Bi8U1ZES7i3M"
      },
      "source": [
        "### Generate 4 features "
      ]
    },
    {
      "cell_type": "markdown",
      "metadata": {
        "id": "s8QPoPKzM6lT"
      },
      "source": [
        "* text length\n",
        "* lexical diversity\n",
        "* pos diversity\n",
        "* hashtag_n"
      ]
    },
    {
      "cell_type": "code",
      "execution_count": 5,
      "metadata": {
        "id": "7U1pn-487hdp"
      },
      "outputs": [],
      "source": [
        "# 要傳ig_segmented\n",
        "def textLength(texts):\n",
        "  output = []\n",
        "  for text in texts:\n",
        "    text = text.replace(\" \", \"\")\n",
        "    length = len(text)\n",
        "    output.append(length)\n",
        "  \n",
        "  return output\n",
        "\n",
        "\n",
        "# 要傳ig_ws\n",
        "def lexicalDiversity(texts):\n",
        "  output = []\n",
        "  for text in texts:\n",
        "    if len(text) == 0:\n",
        "      diversity = 0\n",
        "    else: \n",
        "      diversity = float(len(set(text))) / len(text)\n",
        "    \n",
        "    output.append(diversity)\n",
        "  \n",
        "  return output"
      ]
    },
    {
      "cell_type": "code",
      "execution_count": 48,
      "metadata": {
        "colab": {
          "base_uri": "https://localhost:8080/"
        },
        "id": "QJnv9RKnH-3L",
        "outputId": "eec5151c-efc4-4669-e73a-5ed572e869bb"
      },
      "outputs": [
        {
          "name": "stdout",
          "output_type": "stream",
          "text": [
            "1 4\n"
          ]
        },
        {
          "data": {
            "text/plain": [
              "0.25"
            ]
          },
          "execution_count": 48,
          "metadata": {},
          "output_type": "execute_result"
        }
      ],
      "source": [
        "text = ['玉', '耳環', '耳環', '玉']\n",
        "print(len(set(text)), len(text))\n",
        "float(len(set(text))) / len(text)"
      ]
    },
    {
      "cell_type": "code",
      "execution_count": 3,
      "metadata": {
        "id": "sCbLKfFeWBrf"
      },
      "outputs": [],
      "source": [
        "import joblib \n",
        "ig_ws = joblib.load('./ig_ws.pkl')\n",
        "ig_segmented = joblib.load('./ig_segmented.pkl')\n",
        "ig_pos = joblib.load('./ig_pos.pkl')"
      ]
    },
    {
      "cell_type": "code",
      "execution_count": 11,
      "metadata": {
        "id": "4ZAKYNBy_G4j"
      },
      "outputs": [],
      "source": [
        "ig_length = textLength(ig_segmented)\n",
        "ig_diversity = lexicalDiversity(ig_ws)\n",
        "ig_pos_diversity = lexicalDiversity(ig_pos)\n",
        "ig_hashtag_n = [len(x) for x in ig_hashtag]"
      ]
    },
    {
      "cell_type": "code",
      "execution_count": 12,
      "metadata": {
        "colab": {
          "base_uri": "https://localhost:8080/",
          "height": 337
        },
        "id": "r3AfquZtBU6_",
        "outputId": "f0618852-7bf2-41c6-83e7-6702bced33bf"
      },
      "outputs": [
        {
          "data": {
            "text/html": [
              "\n",
              "  <div id=\"df-e273f8d9-1fda-49cd-99fe-6c658e03dfa6\">\n",
              "    <div class=\"colab-df-container\">\n",
              "      <div>\n",
              "<style scoped>\n",
              "    .dataframe tbody tr th:only-of-type {\n",
              "        vertical-align: middle;\n",
              "    }\n",
              "\n",
              "    .dataframe tbody tr th {\n",
              "        vertical-align: top;\n",
              "    }\n",
              "\n",
              "    .dataframe thead th {\n",
              "        text-align: right;\n",
              "    }\n",
              "</style>\n",
              "<table border=\"1\" class=\"dataframe\">\n",
              "  <thead>\n",
              "    <tr style=\"text-align: right;\">\n",
              "      <th></th>\n",
              "      <th>Text</th>\n",
              "      <th>Text Length</th>\n",
              "      <th>Lexical Diversity</th>\n",
              "      <th>POS</th>\n",
              "      <th>POS Diversity</th>\n",
              "      <th>Hashtag</th>\n",
              "      <th>Hashtag_n</th>\n",
              "      <th>Label</th>\n",
              "    </tr>\n",
              "  </thead>\n",
              "  <tbody>\n",
              "    <tr>\n",
              "      <th>0</th>\n",
              "      <td>領 設計 能夠 修飾 臉型 減齡 泡泡袖 洋裝 領型領 厚薄 薄 款</td>\n",
              "      <td>23</td>\n",
              "      <td>1.000000</td>\n",
              "      <td>[VC, Na, D, VC, Na, VJ, Na, Na, Na, Na, VH, Na]</td>\n",
              "      <td>0.416667</td>\n",
              "      <td>[]</td>\n",
              "      <td>0</td>\n",
              "      <td>1</td>\n",
              "    </tr>\n",
              "    <tr>\n",
              "      <th>1</th>\n",
              "      <td>能 勇敢 追 夢 的 人 身 上 都 閃 著 和煦 的 光芒 也 是 好生 羨慕 敬 那 天...</td>\n",
              "      <td>44</td>\n",
              "      <td>0.823529</td>\n",
              "      <td>[D, VH, VC, Na, DE, Na, Na, Ncd, D, VC, Di, VH...</td>\n",
              "      <td>0.382353</td>\n",
              "      <td>[]</td>\n",
              "      <td>0</td>\n",
              "      <td>0</td>\n",
              "    </tr>\n",
              "    <tr>\n",
              "      <th>2</th>\n",
              "      <td>玉 耳環 耳環 玉</td>\n",
              "      <td>6</td>\n",
              "      <td>0.500000</td>\n",
              "      <td>[Na, Na, Na, Na]</td>\n",
              "      <td>0.250000</td>\n",
              "      <td>[#耳環, #玉, #earrings]</td>\n",
              "      <td>3</td>\n",
              "      <td>1</td>\n",
              "    </tr>\n",
              "    <tr>\n",
              "      <th>3</th>\n",
              "      <td>美國 瘋潮 不管 是 還是 系列 的 人偶 公仔 在 這 應有盡有 正版 周邊 商品 人氣 ...</td>\n",
              "      <td>124</td>\n",
              "      <td>0.692308</td>\n",
              "      <td>[Nc, Na, Cbb, SHI, D, Na, DE, Na, Na, P, Nep, ...</td>\n",
              "      <td>0.276923</td>\n",
              "      <td>[#wwetees, #公仔人偶, #cosplay, #美國瘋潮, #WWE, #WWEs...</td>\n",
              "      <td>21</td>\n",
              "      <td>1</td>\n",
              "    </tr>\n",
              "    <tr>\n",
              "      <th>4</th>\n",
              "      <td>尋晚 的 一 已經 被 秒殺 好多 件 的 每 一 件 成色 和 都 好 靚 而且 都 是 ...</td>\n",
              "      <td>117</td>\n",
              "      <td>0.767442</td>\n",
              "      <td>[VC, DE, Neu, D, P, VC, Neqa, Nf, DE, Nes, Neu...</td>\n",
              "      <td>0.302326</td>\n",
              "      <td>[#男女可穿, #unisex, #vintagewindbreaker, #NIKE, #...</td>\n",
              "      <td>8</td>\n",
              "      <td>1</td>\n",
              "    </tr>\n",
              "  </tbody>\n",
              "</table>\n",
              "</div>\n",
              "      <button class=\"colab-df-convert\" onclick=\"convertToInteractive('df-e273f8d9-1fda-49cd-99fe-6c658e03dfa6')\"\n",
              "              title=\"Convert this dataframe to an interactive table.\"\n",
              "              style=\"display:none;\">\n",
              "        \n",
              "  <svg xmlns=\"http://www.w3.org/2000/svg\" height=\"24px\"viewBox=\"0 0 24 24\"\n",
              "       width=\"24px\">\n",
              "    <path d=\"M0 0h24v24H0V0z\" fill=\"none\"/>\n",
              "    <path d=\"M18.56 5.44l.94 2.06.94-2.06 2.06-.94-2.06-.94-.94-2.06-.94 2.06-2.06.94zm-11 1L8.5 8.5l.94-2.06 2.06-.94-2.06-.94L8.5 2.5l-.94 2.06-2.06.94zm10 10l.94 2.06.94-2.06 2.06-.94-2.06-.94-.94-2.06-.94 2.06-2.06.94z\"/><path d=\"M17.41 7.96l-1.37-1.37c-.4-.4-.92-.59-1.43-.59-.52 0-1.04.2-1.43.59L10.3 9.45l-7.72 7.72c-.78.78-.78 2.05 0 2.83L4 21.41c.39.39.9.59 1.41.59.51 0 1.02-.2 1.41-.59l7.78-7.78 2.81-2.81c.8-.78.8-2.07 0-2.86zM5.41 20L4 18.59l7.72-7.72 1.47 1.35L5.41 20z\"/>\n",
              "  </svg>\n",
              "      </button>\n",
              "      \n",
              "  <style>\n",
              "    .colab-df-container {\n",
              "      display:flex;\n",
              "      flex-wrap:wrap;\n",
              "      gap: 12px;\n",
              "    }\n",
              "\n",
              "    .colab-df-convert {\n",
              "      background-color: #E8F0FE;\n",
              "      border: none;\n",
              "      border-radius: 50%;\n",
              "      cursor: pointer;\n",
              "      display: none;\n",
              "      fill: #1967D2;\n",
              "      height: 32px;\n",
              "      padding: 0 0 0 0;\n",
              "      width: 32px;\n",
              "    }\n",
              "\n",
              "    .colab-df-convert:hover {\n",
              "      background-color: #E2EBFA;\n",
              "      box-shadow: 0px 1px 2px rgba(60, 64, 67, 0.3), 0px 1px 3px 1px rgba(60, 64, 67, 0.15);\n",
              "      fill: #174EA6;\n",
              "    }\n",
              "\n",
              "    [theme=dark] .colab-df-convert {\n",
              "      background-color: #3B4455;\n",
              "      fill: #D2E3FC;\n",
              "    }\n",
              "\n",
              "    [theme=dark] .colab-df-convert:hover {\n",
              "      background-color: #434B5C;\n",
              "      box-shadow: 0px 1px 3px 1px rgba(0, 0, 0, 0.15);\n",
              "      filter: drop-shadow(0px 1px 2px rgba(0, 0, 0, 0.3));\n",
              "      fill: #FFFFFF;\n",
              "    }\n",
              "  </style>\n",
              "\n",
              "      <script>\n",
              "        const buttonEl =\n",
              "          document.querySelector('#df-e273f8d9-1fda-49cd-99fe-6c658e03dfa6 button.colab-df-convert');\n",
              "        buttonEl.style.display =\n",
              "          google.colab.kernel.accessAllowed ? 'block' : 'none';\n",
              "\n",
              "        async function convertToInteractive(key) {\n",
              "          const element = document.querySelector('#df-e273f8d9-1fda-49cd-99fe-6c658e03dfa6');\n",
              "          const dataTable =\n",
              "            await google.colab.kernel.invokeFunction('convertToInteractive',\n",
              "                                                     [key], {});\n",
              "          if (!dataTable) return;\n",
              "\n",
              "          const docLinkHtml = 'Like what you see? Visit the ' +\n",
              "            '<a target=\"_blank\" href=https://colab.research.google.com/notebooks/data_table.ipynb>data table notebook</a>'\n",
              "            + ' to learn more about interactive tables.';\n",
              "          element.innerHTML = '';\n",
              "          dataTable['output_type'] = 'display_data';\n",
              "          await google.colab.output.renderOutput(dataTable, element);\n",
              "          const docLink = document.createElement('div');\n",
              "          docLink.innerHTML = docLinkHtml;\n",
              "          element.appendChild(docLink);\n",
              "        }\n",
              "      </script>\n",
              "    </div>\n",
              "  </div>\n",
              "  "
            ],
            "text/plain": [
              "                                                Text  Text Length  \\\n",
              "0                 領 設計 能夠 修飾 臉型 減齡 泡泡袖 洋裝 領型領 厚薄 薄 款           23   \n",
              "1  能 勇敢 追 夢 的 人 身 上 都 閃 著 和煦 的 光芒 也 是 好生 羨慕 敬 那 天...           44   \n",
              "2                                          玉 耳環 耳環 玉            6   \n",
              "3  美國 瘋潮 不管 是 還是 系列 的 人偶 公仔 在 這 應有盡有 正版 周邊 商品 人氣 ...          124   \n",
              "4  尋晚 的 一 已經 被 秒殺 好多 件 的 每 一 件 成色 和 都 好 靚 而且 都 是 ...          117   \n",
              "\n",
              "   Lexical Diversity                                                POS  \\\n",
              "0           1.000000    [VC, Na, D, VC, Na, VJ, Na, Na, Na, Na, VH, Na]   \n",
              "1           0.823529  [D, VH, VC, Na, DE, Na, Na, Ncd, D, VC, Di, VH...   \n",
              "2           0.500000                                   [Na, Na, Na, Na]   \n",
              "3           0.692308  [Nc, Na, Cbb, SHI, D, Na, DE, Na, Na, P, Nep, ...   \n",
              "4           0.767442  [VC, DE, Neu, D, P, VC, Neqa, Nf, DE, Nes, Neu...   \n",
              "\n",
              "   POS Diversity                                            Hashtag  \\\n",
              "0       0.416667                                                 []   \n",
              "1       0.382353                                                 []   \n",
              "2       0.250000                               [#耳環, #玉, #earrings]   \n",
              "3       0.276923  [#wwetees, #公仔人偶, #cosplay, #美國瘋潮, #WWE, #WWEs...   \n",
              "4       0.302326  [#男女可穿, #unisex, #vintagewindbreaker, #NIKE, #...   \n",
              "\n",
              "   Hashtag_n  Label  \n",
              "0          0      1  \n",
              "1          0      0  \n",
              "2          3      1  \n",
              "3         21      1  \n",
              "4          8      1  "
            ]
          },
          "execution_count": 12,
          "metadata": {},
          "output_type": "execute_result"
        }
      ],
      "source": [
        "# 原始資料+兩個feature建成corpus\n",
        "\n",
        "corpus = pd.DataFrame({\n",
        "    'Text':ig_segmented,\n",
        "    'Text Length':ig_length,\n",
        "    'Lexical Diversity':ig_diversity,\n",
        "    'POS':ig_pos,\n",
        "    'POS Diversity':ig_pos_diversity,\n",
        "    'Hashtag':ig_hashtag,\n",
        "    'Hashtag_n':ig_hashtag_n,\n",
        "    'Label':df['label']\n",
        "  })\n",
        "\n",
        "corpus.head()"
      ]
    },
    {
      "cell_type": "code",
      "execution_count": null,
      "metadata": {
        "id": "kjgcstfwGXQD"
      },
      "outputs": [],
      "source": [
        "#joblib.dump(corpus, './corpus.pkl')"
      ]
    },
    {
      "cell_type": "markdown",
      "metadata": {
        "id": "0u6Rg9QrJ7Aa"
      },
      "source": [
        "### Feature distirbution"
      ]
    },
    {
      "cell_type": "code",
      "execution_count": null,
      "metadata": {
        "id": "ctdpQk-RJ8tW"
      },
      "outputs": [],
      "source": [
        "import joblib \n",
        "corpus = joblib.load('./data/corpus.pkl')"
      ]
    },
    {
      "cell_type": "code",
      "execution_count": 64,
      "metadata": {
        "colab": {
          "base_uri": "https://localhost:8080/",
          "height": 374
        },
        "id": "ZGLsHBO_PMbl",
        "outputId": "2c8f05ba-d060-4c34-f852-b65d32fe3438"
      },
      "outputs": [
        {
          "name": "stderr",
          "output_type": "stream",
          "text": [
            "/usr/local/lib/python3.8/dist-packages/matplotlib/cbook/__init__.py:1376: VisibleDeprecationWarning: Creating an ndarray from ragged nested sequences (which is a list-or-tuple of lists-or-tuples-or ndarrays with different lengths or shapes) is deprecated. If you meant to do this, you must specify 'dtype=object' when creating the ndarray.\n",
            "  X = np.atleast_1d(X.T if isinstance(X, np.ndarray) else np.asarray(X))\n"
          ]
        },
        {
          "data": {
            "text/plain": [
              "<matplotlib.axes._subplots.AxesSubplot at 0x7f966c055d00>"
            ]
          },
          "execution_count": 64,
          "metadata": {},
          "output_type": "execute_result"
        },
        {
          "data": {
            "image/png": "[encoded data removed]",
            "text/plain": [
              "<Figure size 432x288 with 1 Axes>"
            ]
          },
          "metadata": {
            "needs_background": "light"
          },
          "output_type": "display_data"
        }
      ],
      "source": [
        "corpus.boxplot(by ='Label', column =['Text Length'], grid = False)"
      ]
    },
    {
      "cell_type": "code",
      "execution_count": 65,
      "metadata": {
        "colab": {
          "base_uri": "https://localhost:8080/",
          "height": 374
        },
        "id": "mjXas7H-PoG6",
        "outputId": "68ad25a5-5935-498f-9d04-304f98e97452"
      },
      "outputs": [
        {
          "name": "stderr",
          "output_type": "stream",
          "text": [
            "/usr/local/lib/python3.8/dist-packages/matplotlib/cbook/__init__.py:1376: VisibleDeprecationWarning: Creating an ndarray from ragged nested sequences (which is a list-or-tuple of lists-or-tuples-or ndarrays with different lengths or shapes) is deprecated. If you meant to do this, you must specify 'dtype=object' when creating the ndarray.\n",
            "  X = np.atleast_1d(X.T if isinstance(X, np.ndarray) else np.asarray(X))\n"
          ]
        },
        {
          "data": {
            "text/plain": [
              "<matplotlib.axes._subplots.AxesSubplot at 0x7f943f440a30>"
            ]
          },
          "execution_count": 65,
          "metadata": {},
          "output_type": "execute_result"
        },
        {
          "data": {
            "image/png": "[encoded data removed]",
            "text/plain": [
              "<Figure size 432x288 with 1 Axes>"
            ]
          },
          "metadata": {
            "needs_background": "light"
          },
          "output_type": "display_data"
        }
      ],
      "source": [
        "corpus.boxplot(by ='Label', column =['Lexical Diversity'], grid = False)"
      ]
    },
    {
      "cell_type": "code",
      "execution_count": 66,
      "metadata": {
        "colab": {
          "base_uri": "https://localhost:8080/",
          "height": 374
        },
        "id": "ZmK3-NOxPs_b",
        "outputId": "a7a0cf76-dde0-4437-e7b1-3391dc579673"
      },
      "outputs": [
        {
          "name": "stderr",
          "output_type": "stream",
          "text": [
            "/usr/local/lib/python3.8/dist-packages/matplotlib/cbook/__init__.py:1376: VisibleDeprecationWarning: Creating an ndarray from ragged nested sequences (which is a list-or-tuple of lists-or-tuples-or ndarrays with different lengths or shapes) is deprecated. If you meant to do this, you must specify 'dtype=object' when creating the ndarray.\n",
            "  X = np.atleast_1d(X.T if isinstance(X, np.ndarray) else np.asarray(X))\n"
          ]
        },
        {
          "data": {
            "text/plain": [
              "<matplotlib.axes._subplots.AxesSubplot at 0x7f943f3bf580>"
            ]
          },
          "execution_count": 66,
          "metadata": {},
          "output_type": "execute_result"
        },
        {
          "data": {
            "image/png": "[encoded data removed]",
            "text/plain": [
              "<Figure size 432x288 with 1 Axes>"
            ]
          },
          "metadata": {
            "needs_background": "light"
          },
          "output_type": "display_data"
        }
      ],
      "source": [
        "corpus.boxplot(by ='Label', column =['POS Diversity'], grid = False)"
      ]
    },
    {
      "cell_type": "code",
      "execution_count": 29,
      "metadata": {
        "colab": {
          "base_uri": "https://localhost:8080/",
          "height": 374
        },
        "id": "5oFsTs43FOG8",
        "outputId": "26f0caec-2419-4850-872e-4dada483e846"
      },
      "outputs": [
        {
          "name": "stderr",
          "output_type": "stream",
          "text": [
            "/usr/local/lib/python3.8/dist-packages/matplotlib/cbook/__init__.py:1376: VisibleDeprecationWarning: Creating an ndarray from ragged nested sequences (which is a list-or-tuple of lists-or-tuples-or ndarrays with different lengths or shapes) is deprecated. If you meant to do this, you must specify 'dtype=object' when creating the ndarray.\n",
            "  X = np.atleast_1d(X.T if isinstance(X, np.ndarray) else np.asarray(X))\n"
          ]
        },
        {
          "data": {
            "text/plain": [
              "<matplotlib.axes._subplots.AxesSubplot at 0x7f42a42b6970>"
            ]
          },
          "execution_count": 29,
          "metadata": {},
          "output_type": "execute_result"
        },
        {
          "data": {
            "image/png": "[encoded data removed]",
            "text/plain": [
              "<Figure size 432x288 with 1 Axes>"
            ]
          },
          "metadata": {
            "needs_background": "light"
          },
          "output_type": "display_data"
        }
      ],
      "source": [
        "corpus.boxplot(by ='Label', column =['Hashtag_n'], grid = False)"
      ]
    },
    {
      "cell_type": "markdown",
      "metadata": {
        "id": "OSypOmCLQCcE"
      },
      "source": [
        "### Normalize features & train-test dataset"
      ]
    },
    {
      "cell_type": "code",
      "execution_count": 18,
      "metadata": {
        "id": "JzJQKxsdFtaW"
      },
      "outputs": [],
      "source": [
        "# normalize\n",
        "from sklearn.preprocessing import StandardScaler\n",
        "\n",
        "def normalize(corpus):\n",
        "\n",
        "  feature_cols = corpus.drop([\"Text\",\"Label\",'POS','Hashtag'], axis=1)\n",
        "  scale = StandardScaler() \n",
        "  #fea2_scaled = pd.DataFrame(scale.fit_transform(fea2), columns=fea2.keys())\n",
        "  features_scaled = scale.fit_transform(feature_cols)\n",
        "\n",
        "  return features_scaled"
      ]
    },
    {
      "cell_type": "code",
      "execution_count": 22,
      "metadata": {
        "colab": {
          "base_uri": "https://localhost:8080/"
        },
        "id": "7CicJm-_F7iu",
        "outputId": "cbe1db15-380d-4a09-92dd-a6b7f659113a"
      },
      "outputs": [
        {
          "data": {
            "text/plain": [
              "(5000, 4)"
            ]
          },
          "execution_count": 22,
          "metadata": {},
          "output_type": "execute_result"
        }
      ],
      "source": [
        "features_scaled = normalize(corpus)\n",
        "features_scaled.shape"
      ]
    },
    {
      "cell_type": "code",
      "execution_count": 24,
      "metadata": {
        "colab": {
          "base_uri": "https://localhost:8080/",
          "height": 423
        },
        "id": "asweqTT-Mnc3",
        "outputId": "41b06c5c-f81a-4ac9-f383-bd3280911a07"
      },
      "outputs": [
        {
          "data": {
            "text/html": [
              "\n",
              "  <div id=\"df-fa48b987-8a16-46e8-a733-e6877bb5a068\">\n",
              "    <div class=\"colab-df-container\">\n",
              "      <div>\n",
              "<style scoped>\n",
              "    .dataframe tbody tr th:only-of-type {\n",
              "        vertical-align: middle;\n",
              "    }\n",
              "\n",
              "    .dataframe tbody tr th {\n",
              "        vertical-align: top;\n",
              "    }\n",
              "\n",
              "    .dataframe thead th {\n",
              "        text-align: right;\n",
              "    }\n",
              "</style>\n",
              "<table border=\"1\" class=\"dataframe\">\n",
              "  <thead>\n",
              "    <tr style=\"text-align: right;\">\n",
              "      <th></th>\n",
              "      <th>Text Length</th>\n",
              "      <th>Lexical Diversity</th>\n",
              "      <th>POS Diversity</th>\n",
              "      <th>Hashtag_n</th>\n",
              "      <th>Text</th>\n",
              "      <th>Label</th>\n",
              "    </tr>\n",
              "  </thead>\n",
              "  <tbody>\n",
              "    <tr>\n",
              "      <th>0</th>\n",
              "      <td>-0.584318</td>\n",
              "      <td>0.982801</td>\n",
              "      <td>-0.020384</td>\n",
              "      <td>-0.798228</td>\n",
              "      <td>領 設計 能夠 修飾 臉型 減齡 泡泡袖 洋裝 領型領 厚薄 薄 款</td>\n",
              "      <td>1</td>\n",
              "    </tr>\n",
              "    <tr>\n",
              "      <th>1</th>\n",
              "      <td>-0.436743</td>\n",
              "      <td>0.063199</td>\n",
              "      <td>-0.152292</td>\n",
              "      <td>-0.798228</td>\n",
              "      <td>能 勇敢 追 夢 的 人 身 上 都 閃 著 和煦 的 光芒 也 是 好生 羨慕 敬 那 天...</td>\n",
              "      <td>0</td>\n",
              "    </tr>\n",
              "    <tr>\n",
              "      <th>2</th>\n",
              "      <td>-0.703784</td>\n",
              "      <td>-1.622740</td>\n",
              "      <td>-0.661079</td>\n",
              "      <td>-0.499699</td>\n",
              "      <td>玉 耳環 耳環 玉</td>\n",
              "      <td>1</td>\n",
              "    </tr>\n",
              "    <tr>\n",
              "      <th>3</th>\n",
              "      <td>0.125447</td>\n",
              "      <td>-0.620608</td>\n",
              "      <td>-0.557582</td>\n",
              "      <td>1.291479</td>\n",
              "      <td>美國 瘋潮 不管 是 還是 系列 的 人偶 公仔 在 這 應有盡有 正版 周邊 商品 人氣 ...</td>\n",
              "      <td>1</td>\n",
              "    </tr>\n",
              "    <tr>\n",
              "      <th>4</th>\n",
              "      <td>0.076255</td>\n",
              "      <td>-0.229078</td>\n",
              "      <td>-0.459930</td>\n",
              "      <td>-0.002149</td>\n",
              "      <td>尋晚 的 一 已經 被 秒殺 好多 件 的 每 一 件 成色 和 都 好 靚 而且 都 是 ...</td>\n",
              "      <td>1</td>\n",
              "    </tr>\n",
              "    <tr>\n",
              "      <th>...</th>\n",
              "      <td>...</td>\n",
              "      <td>...</td>\n",
              "      <td>...</td>\n",
              "      <td>...</td>\n",
              "      <td>...</td>\n",
              "      <td>...</td>\n",
              "    </tr>\n",
              "    <tr>\n",
              "      <th>4995</th>\n",
              "      <td>-0.584318</td>\n",
              "      <td>0.035332</td>\n",
              "      <td>0.474698</td>\n",
              "      <td>-0.798228</td>\n",
              "      <td>長桿 綠瑪瑙 煙嘴 煙斗 復古 長桿 煙斗 塞入 菸草 即可 使用</td>\n",
              "      <td>1</td>\n",
              "    </tr>\n",
              "    <tr>\n",
              "      <th>4996</th>\n",
              "      <td>0.771966</td>\n",
              "      <td>-0.353373</td>\n",
              "      <td>-0.899286</td>\n",
              "      <td>1.590008</td>\n",
              "      <td>抗 敏 之 選 藍甘菊 舒緩 潔面乳 好多 美容院 都 用 佢 功效 保濕 補充 肌膚 水份...</td>\n",
              "      <td>1</td>\n",
              "    </tr>\n",
              "    <tr>\n",
              "      <th>4997</th>\n",
              "      <td>-0.542154</td>\n",
              "      <td>0.676267</td>\n",
              "      <td>0.865282</td>\n",
              "      <td>-0.798228</td>\n",
              "      <td>今天 特地 比較 慢 出門 但 還是 太早 到 學校 了 可能 下雨 關係 車 好多 今天</td>\n",
              "      <td>1</td>\n",
              "    </tr>\n",
              "    <tr>\n",
              "      <th>4998</th>\n",
              "      <td>-0.268086</td>\n",
              "      <td>0.297133</td>\n",
              "      <td>-0.104686</td>\n",
              "      <td>1.590008</td>\n",
              "      <td>大量 韓國 新貨 上架 歡迎 到 門市 選購 查詢 下單 到 門市 太子 聯合 廣場 網購 ...</td>\n",
              "      <td>1</td>\n",
              "    </tr>\n",
              "    <tr>\n",
              "      <th>4999</th>\n",
              "      <td>-0.689729</td>\n",
              "      <td>0.982801</td>\n",
              "      <td>1.261006</td>\n",
              "      <td>-0.798228</td>\n",
              "      <td>錯過 了 三八 婦女節</td>\n",
              "      <td>0</td>\n",
              "    </tr>\n",
              "  </tbody>\n",
              "</table>\n",
              "<p>5000 rows × 6 columns</p>\n",
              "</div>\n",
              "      <button class=\"colab-df-convert\" onclick=\"convertToInteractive('df-fa48b987-8a16-46e8-a733-e6877bb5a068')\"\n",
              "              title=\"Convert this dataframe to an interactive table.\"\n",
              "              style=\"display:none;\">\n",
              "        \n",
              "  <svg xmlns=\"http://www.w3.org/2000/svg\" height=\"24px\"viewBox=\"0 0 24 24\"\n",
              "       width=\"24px\">\n",
              "    <path d=\"M0 0h24v24H0V0z\" fill=\"none\"/>\n",
              "    <path d=\"M18.56 5.44l.94 2.06.94-2.06 2.06-.94-2.06-.94-.94-2.06-.94 2.06-2.06.94zm-11 1L8.5 8.5l.94-2.06 2.06-.94-2.06-.94L8.5 2.5l-.94 2.06-2.06.94zm10 10l.94 2.06.94-2.06 2.06-.94-2.06-.94-.94-2.06-.94 2.06-2.06.94z\"/><path d=\"M17.41 7.96l-1.37-1.37c-.4-.4-.92-.59-1.43-.59-.52 0-1.04.2-1.43.59L10.3 9.45l-7.72 7.72c-.78.78-.78 2.05 0 2.83L4 21.41c.39.39.9.59 1.41.59.51 0 1.02-.2 1.41-.59l7.78-7.78 2.81-2.81c.8-.78.8-2.07 0-2.86zM5.41 20L4 18.59l7.72-7.72 1.47 1.35L5.41 20z\"/>\n",
              "  </svg>\n",
              "      </button>\n",
              "      \n",
              "  <style>\n",
              "    .colab-df-container {\n",
              "      display:flex;\n",
              "      flex-wrap:wrap;\n",
              "      gap: 12px;\n",
              "    }\n",
              "\n",
              "    .colab-df-convert {\n",
              "      background-color: #E8F0FE;\n",
              "      border: none;\n",
              "      border-radius: 50%;\n",
              "      cursor: pointer;\n",
              "      display: none;\n",
              "      fill: #1967D2;\n",
              "      height: 32px;\n",
              "      padding: 0 0 0 0;\n",
              "      width: 32px;\n",
              "    }\n",
              "\n",
              "    .colab-df-convert:hover {\n",
              "      background-color: #E2EBFA;\n",
              "      box-shadow: 0px 1px 2px rgba(60, 64, 67, 0.3), 0px 1px 3px 1px rgba(60, 64, 67, 0.15);\n",
              "      fill: #174EA6;\n",
              "    }\n",
              "\n",
              "    [theme=dark] .colab-df-convert {\n",
              "      background-color: #3B4455;\n",
              "      fill: #D2E3FC;\n",
              "    }\n",
              "\n",
              "    [theme=dark] .colab-df-convert:hover {\n",
              "      background-color: #434B5C;\n",
              "      box-shadow: 0px 1px 3px 1px rgba(0, 0, 0, 0.15);\n",
              "      filter: drop-shadow(0px 1px 2px rgba(0, 0, 0, 0.3));\n",
              "      fill: #FFFFFF;\n",
              "    }\n",
              "  </style>\n",
              "\n",
              "      <script>\n",
              "        const buttonEl =\n",
              "          document.querySelector('#df-fa48b987-8a16-46e8-a733-e6877bb5a068 button.colab-df-convert');\n",
              "        buttonEl.style.display =\n",
              "          google.colab.kernel.accessAllowed ? 'block' : 'none';\n",
              "\n",
              "        async function convertToInteractive(key) {\n",
              "          const element = document.querySelector('#df-fa48b987-8a16-46e8-a733-e6877bb5a068');\n",
              "          const dataTable =\n",
              "            await google.colab.kernel.invokeFunction('convertToInteractive',\n",
              "                                                     [key], {});\n",
              "          if (!dataTable) return;\n",
              "\n",
              "          const docLinkHtml = 'Like what you see? Visit the ' +\n",
              "            '<a target=\"_blank\" href=https://colab.research.google.com/notebooks/data_table.ipynb>data table notebook</a>'\n",
              "            + ' to learn more about interactive tables.';\n",
              "          element.innerHTML = '';\n",
              "          dataTable['output_type'] = 'display_data';\n",
              "          await google.colab.output.renderOutput(dataTable, element);\n",
              "          const docLink = document.createElement('div');\n",
              "          docLink.innerHTML = docLinkHtml;\n",
              "          element.appendChild(docLink);\n",
              "        }\n",
              "      </script>\n",
              "    </div>\n",
              "  </div>\n",
              "  "
            ],
            "text/plain": [
              "      Text Length  Lexical Diversity  POS Diversity  Hashtag_n  \\\n",
              "0       -0.584318           0.982801      -0.020384  -0.798228   \n",
              "1       -0.436743           0.063199      -0.152292  -0.798228   \n",
              "2       -0.703784          -1.622740      -0.661079  -0.499699   \n",
              "3        0.125447          -0.620608      -0.557582   1.291479   \n",
              "4        0.076255          -0.229078      -0.459930  -0.002149   \n",
              "...           ...                ...            ...        ...   \n",
              "4995    -0.584318           0.035332       0.474698  -0.798228   \n",
              "4996     0.771966          -0.353373      -0.899286   1.590008   \n",
              "4997    -0.542154           0.676267       0.865282  -0.798228   \n",
              "4998    -0.268086           0.297133      -0.104686   1.590008   \n",
              "4999    -0.689729           0.982801       1.261006  -0.798228   \n",
              "\n",
              "                                                   Text  Label  \n",
              "0                    領 設計 能夠 修飾 臉型 減齡 泡泡袖 洋裝 領型領 厚薄 薄 款      1  \n",
              "1     能 勇敢 追 夢 的 人 身 上 都 閃 著 和煦 的 光芒 也 是 好生 羨慕 敬 那 天...      0  \n",
              "2                                             玉 耳環 耳環 玉      1  \n",
              "3     美國 瘋潮 不管 是 還是 系列 的 人偶 公仔 在 這 應有盡有 正版 周邊 商品 人氣 ...      1  \n",
              "4     尋晚 的 一 已經 被 秒殺 好多 件 的 每 一 件 成色 和 都 好 靚 而且 都 是 ...      1  \n",
              "...                                                 ...    ...  \n",
              "4995                  長桿 綠瑪瑙 煙嘴 煙斗 復古 長桿 煙斗 塞入 菸草 即可 使用      1  \n",
              "4996  抗 敏 之 選 藍甘菊 舒緩 潔面乳 好多 美容院 都 用 佢 功效 保濕 補充 肌膚 水份...      1  \n",
              "4997      今天 特地 比較 慢 出門 但 還是 太早 到 學校 了 可能 下雨 關係 車 好多 今天      1  \n",
              "4998  大量 韓國 新貨 上架 歡迎 到 門市 選購 查詢 下單 到 門市 太子 聯合 廣場 網購 ...      1  \n",
              "4999                                        錯過 了 三八 婦女節      0  \n",
              "\n",
              "[5000 rows x 6 columns]"
            ]
          },
          "execution_count": 24,
          "metadata": {},
          "output_type": "execute_result"
        }
      ],
      "source": [
        "feature_cols = ['Text Length', 'Lexical Diversity','POS Diversity','Hashtag_n']\n",
        "\n",
        "corpus_norm = pd.DataFrame(features_scaled, columns=feature_cols)\n",
        "corpus_norm['Text'] = corpus['Text'].to_list()\n",
        "corpus_norm['Label'] = corpus['Label'].to_list()\n",
        "\n",
        "corpus_norm"
      ]
    },
    {
      "cell_type": "markdown",
      "metadata": {
        "id": "3infwWZBIeQK"
      },
      "source": [
        "### Classification"
      ]
    },
    {
      "cell_type": "code",
      "execution_count": 42,
      "metadata": {
        "id": "iius5GUOIyTO"
      },
      "outputs": [],
      "source": [
        "from sklearn import metrics\n",
        "from sklearn.metrics import recall_score, classification_report, accuracy_score,confusion_matrix\n",
        "from sklearn.model_selection import train_test_split\n",
        "from sklearn.linear_model import LogisticRegression"
      ]
    },
    {
      "cell_type": "markdown",
      "metadata": {
        "id": "HzC7dixOL-WR"
      },
      "source": [
        "#### all features"
      ]
    },
    {
      "cell_type": "code",
      "execution_count": 31,
      "metadata": {
        "id": "zlr18dlLFeeU"
      },
      "outputs": [],
      "source": [
        "X = corpus_norm[feature_cols]\n",
        "y = corpus_norm.Label\n",
        "\n",
        "X_train, X_test, y_train, y_test = train_test_split(X, y, random_state=101)"
      ]
    },
    {
      "cell_type": "code",
      "execution_count": 33,
      "metadata": {
        "id": "yTeTpvEoIg4H"
      },
      "outputs": [],
      "source": [
        "# model\n",
        "model = LogisticRegression()"
      ]
    },
    {
      "cell_type": "code",
      "execution_count": null,
      "metadata": {
        "id": "R9UW1f0hIp2W"
      },
      "outputs": [],
      "source": [
        "# fit \n",
        "model.fit(X_train, y_train)\n",
        "\n",
        "# prediction\n",
        "y_pred = model.predict(X_test)"
      ]
    },
    {
      "cell_type": "code",
      "execution_count": 50,
      "metadata": {
        "colab": {
          "base_uri": "https://localhost:8080/"
        },
        "id": "Wl4bNpz4Ju9P",
        "outputId": "7bb1f244-fe38-45a7-8726-261802f2c757"
      },
      "outputs": [
        {
          "name": "stdout",
          "output_type": "stream",
          "text": [
            "Accurracy: 0.7152\n",
            "Recall: 0.7852 \n",
            "\n",
            "              precision    recall  f1-score   support\n",
            "\n",
            "           0       0.77      0.65      0.71       654\n",
            "           1       0.67      0.79      0.72       596\n",
            "\n",
            "    accuracy                           0.72      1250\n",
            "   macro avg       0.72      0.72      0.71      1250\n",
            "weighted avg       0.72      0.72      0.71      1250\n",
            "\n"
          ]
        }
      ],
      "source": [
        "print('Accurracy: {:.4f}'.format(accuracy_score(y_test, y_pred)))\n",
        "print('Recall: {:.4f}'.format(recall_score(y_test, y_pred)),'\\n')\n",
        "\n",
        "print(classification_report(y_test, y_pred))"
      ]
    },
    {
      "cell_type": "code",
      "execution_count": 35,
      "metadata": {
        "colab": {
          "base_uri": "https://localhost:8080/"
        },
        "id": "tkzPL3-WIuLK",
        "outputId": "a33bd092-2150-48de-cfd1-edf4487ae468"
      },
      "outputs": [
        {
          "data": {
            "text/plain": [
              "array([[426, 228],\n",
              "       [128, 468]])"
            ]
          },
          "execution_count": 35,
          "metadata": {},
          "output_type": "execute_result"
        }
      ],
      "source": [
        "confusion_matrix(y_test, y_pred)"
      ]
    },
    {
      "cell_type": "markdown",
      "metadata": {
        "id": "rmrMNbVlKdYE"
      },
      "source": [
        "Dummy baseline"
      ]
    },
    {
      "cell_type": "code",
      "execution_count": 51,
      "metadata": {
        "colab": {
          "base_uri": "https://localhost:8080/"
        },
        "id": "vBlYNDS1Kc1u",
        "outputId": "60c96dc1-bae5-42dc-d66b-51c8f3cda84d"
      },
      "outputs": [
        {
          "name": "stdout",
          "output_type": "stream",
          "text": [
            "Dummy Accurracy: 0.5232 \n",
            "\n",
            "              precision    recall  f1-score   support\n",
            "\n",
            "           0       0.52      1.00      0.69       654\n",
            "           1       0.00      0.00      0.00       596\n",
            "\n",
            "    accuracy                           0.52      1250\n",
            "   macro avg       0.26      0.50      0.34      1250\n",
            "weighted avg       0.27      0.52      0.36      1250\n",
            "\n",
            "[[654   0]\n",
            " [596   0]]\n"
          ]
        },
        {
          "name": "stderr",
          "output_type": "stream",
          "text": [
            "/usr/local/lib/python3.8/dist-packages/sklearn/metrics/_classification.py:1318: UndefinedMetricWarning: Precision and F-score are ill-defined and being set to 0.0 in labels with no predicted samples. Use `zero_division` parameter to control this behavior.\n",
            "  _warn_prf(average, modifier, msg_start, len(result))\n",
            "/usr/local/lib/python3.8/dist-packages/sklearn/metrics/_classification.py:1318: UndefinedMetricWarning: Precision and F-score are ill-defined and being set to 0.0 in labels with no predicted samples. Use `zero_division` parameter to control this behavior.\n",
            "  _warn_prf(average, modifier, msg_start, len(result))\n",
            "/usr/local/lib/python3.8/dist-packages/sklearn/metrics/_classification.py:1318: UndefinedMetricWarning: Precision and F-score are ill-defined and being set to 0.0 in labels with no predicted samples. Use `zero_division` parameter to control this behavior.\n",
            "  _warn_prf(average, modifier, msg_start, len(result))\n"
          ]
        }
      ],
      "source": [
        "from sklearn.dummy import DummyClassifier\n",
        "\n",
        "dummy = DummyClassifier(strategy='most_frequent')\n",
        "dummy.fit(X_train, y_train)\n",
        "dummy_pred = dummy.predict(X_test)\n",
        "    \n",
        "print('Dummy Accurracy: {:.4f}'.format(accuracy_score(y_test, dummy_pred)),'\\n')\n",
        "print(classification_report(y_test, dummy_pred))\n",
        "print(confusion_matrix(y_test,dummy_pred))"
      ]
    },
    {
      "cell_type": "markdown",
      "metadata": {
        "id": "vpf1FjwvMFQu"
      },
      "source": [
        "#### 3 features"
      ]
    },
    {
      "cell_type": "code",
      "execution_count": 52,
      "metadata": {
        "id": "2gdNmxjeMEdN"
      },
      "outputs": [],
      "source": [
        "X = corpus_norm[['Text Length', 'Lexical Diversity','POS Diversity']] # 拿掉 hashtag_n\n",
        "y = corpus_norm.Label\n",
        "\n",
        "X_train, X_test, y_train, y_test = train_test_split(X, y, random_state=101)\n",
        "\n",
        "# model\n",
        "model = LogisticRegression()\n",
        "\n",
        "# fit \n",
        "model.fit(X_train, y_train)\n",
        "\n",
        "# prediction\n",
        "y_pred = model.predict(X_test)"
      ]
    },
    {
      "cell_type": "code",
      "execution_count": 55,
      "metadata": {
        "colab": {
          "base_uri": "https://localhost:8080/"
        },
        "id": "B4wHCFxaMEdP",
        "outputId": "71744ead-75b5-4513-a2f5-7e3d4308bdd7"
      },
      "outputs": [
        {
          "name": "stdout",
          "output_type": "stream",
          "text": [
            "Accurracy: 0.7200\n",
            "Recall: 0.8289 \n",
            "\n",
            "              precision    recall  f1-score   support\n",
            "\n",
            "           0       0.80      0.62      0.70       654\n",
            "           1       0.67      0.83      0.74       596\n",
            "\n",
            "    accuracy                           0.72      1250\n",
            "   macro avg       0.73      0.72      0.72      1250\n",
            "weighted avg       0.74      0.72      0.72      1250\n",
            "\n"
          ]
        }
      ],
      "source": [
        "print('Accurracy: {:.4f}'.format(accuracy_score(y_test, y_pred)))\n",
        "print('Recall: {:.4f}'.format(recall_score(y_test, y_pred)),'\\n')\n",
        "\n",
        "print(classification_report(y_test, y_pred))"
      ]
    },
    {
      "cell_type": "code",
      "execution_count": 56,
      "metadata": {
        "id": "nLVD2MpXMXJU"
      },
      "outputs": [],
      "source": [
        "X = corpus_norm[['Text Length', 'Lexical Diversity','Hashtag_n']] # 拿掉 POS Diversity\n",
        "y = corpus_norm.Label\n",
        "\n",
        "X_train, X_test, y_train, y_test = train_test_split(X, y, random_state=101)\n",
        "\n",
        "# model\n",
        "model = LogisticRegression()\n",
        "\n",
        "# fit \n",
        "model.fit(X_train, y_train)\n",
        "\n",
        "# prediction\n",
        "y_pred = model.predict(X_test)"
      ]
    },
    {
      "cell_type": "code",
      "execution_count": 58,
      "metadata": {
        "colab": {
          "base_uri": "https://localhost:8080/"
        },
        "id": "sswhm7WmMXJW",
        "outputId": "ee6d3b5a-4ad4-4e72-f8b8-2cabcbe3afd6"
      },
      "outputs": [
        {
          "name": "stdout",
          "output_type": "stream",
          "text": [
            "Accurracy: 0.6808\n",
            "Recall: 0.6242 \n",
            "\n",
            "              precision    recall  f1-score   support\n",
            "\n",
            "           0       0.68      0.73      0.71       654\n",
            "           1       0.68      0.62      0.65       596\n",
            "\n",
            "    accuracy                           0.68      1250\n",
            "   macro avg       0.68      0.68      0.68      1250\n",
            "weighted avg       0.68      0.68      0.68      1250\n",
            "\n"
          ]
        }
      ],
      "source": [
        "print('Accurracy: {:.4f}'.format(accuracy_score(y_test, y_pred)))\n",
        "print('Recall: {:.4f}'.format(recall_score(y_test, y_pred)),'\\n')\n",
        "\n",
        "print(classification_report(y_test, y_pred))"
      ]
    },
    {
      "cell_type": "code",
      "execution_count": 59,
      "metadata": {
        "id": "s4cMMX33Mehw"
      },
      "outputs": [],
      "source": [
        "X = corpus_norm[['Text Length', 'POS Diversity','Hashtag_n']] # 拿掉 Lexical Diversity\n",
        "y = corpus_norm.Label\n",
        "\n",
        "X_train, X_test, y_train, y_test = train_test_split(X, y, random_state=101)\n",
        "\n",
        "# model\n",
        "model = LogisticRegression()\n",
        "\n",
        "# fit \n",
        "model.fit(X_train, y_train)\n",
        "\n",
        "# prediction\n",
        "y_pred = model.predict(X_test)"
      ]
    },
    {
      "cell_type": "code",
      "execution_count": 61,
      "metadata": {
        "colab": {
          "base_uri": "https://localhost:8080/"
        },
        "id": "fv1E9vgwMehy",
        "outputId": "e93be465-ae69-43e6-a42d-7b5000e9029a"
      },
      "outputs": [
        {
          "name": "stdout",
          "output_type": "stream",
          "text": [
            "Accurracy: 0.7152\n",
            "Recall: 0.7852 \n",
            "\n",
            "              precision    recall  f1-score   support\n",
            "\n",
            "           0       0.77      0.65      0.71       654\n",
            "           1       0.67      0.79      0.72       596\n",
            "\n",
            "    accuracy                           0.72      1250\n",
            "   macro avg       0.72      0.72      0.71      1250\n",
            "weighted avg       0.72      0.72      0.71      1250\n",
            "\n"
          ]
        }
      ],
      "source": [
        "print('Accurracy: {:.4f}'.format(accuracy_score(y_test, y_pred)))\n",
        "print('Recall: {:.4f}'.format(recall_score(y_test, y_pred)),'\\n')\n",
        "\n",
        "print(classification_report(y_test, y_pred))"
      ]
    },
    {
      "cell_type": "code",
      "execution_count": 62,
      "metadata": {
        "id": "63nLRNVJMtBn"
      },
      "outputs": [],
      "source": [
        "X = corpus_norm[['Lexical Diversity', 'POS Diversity','Hashtag_n']] # 拿掉 Text Length\n",
        "y = corpus_norm.Label\n",
        "\n",
        "X_train, X_test, y_train, y_test = train_test_split(X, y, random_state=101)\n",
        "\n",
        "# model\n",
        "model = LogisticRegression()\n",
        "\n",
        "# fit \n",
        "model.fit(X_train, y_train)\n",
        "\n",
        "# prediction\n",
        "y_pred = model.predict(X_test)"
      ]
    },
    {
      "cell_type": "code",
      "execution_count": 63,
      "metadata": {
        "colab": {
          "base_uri": "https://localhost:8080/"
        },
        "id": "HadPh8VfMtBo",
        "outputId": "3b727751-86cc-48c9-b18c-c236800dadcf"
      },
      "outputs": [
        {
          "name": "stdout",
          "output_type": "stream",
          "text": [
            "Accurracy: 0.7160\n",
            "Recall: 0.7735 \n",
            "\n",
            "              precision    recall  f1-score   support\n",
            "\n",
            "           0       0.76      0.66      0.71       654\n",
            "           1       0.68      0.77      0.72       596\n",
            "\n",
            "    accuracy                           0.72      1250\n",
            "   macro avg       0.72      0.72      0.72      1250\n",
            "weighted avg       0.72      0.72      0.72      1250\n",
            "\n"
          ]
        }
      ],
      "source": [
        "print('Accurracy: {:.4f}'.format(accuracy_score(y_test, y_pred)))\n",
        "print('Recall: {:.4f}'.format(recall_score(y_test, y_pred)),'\\n')\n",
        "\n",
        "print(classification_report(y_test, y_pred))"
      ]
    }
  ],
  "metadata": {
    "colab": {
      "collapsed_sections": [
        "5BwhDN_UEJmM",
        "MElYCd4ZEuHC"
      ],
      "provenance": [],
      "toc_visible": true
    },
    "gpuClass": "standard",
    "kernelspec": {
      "display_name": "Python 3 (ipykernel)",
      "language": "python",
      "name": "python3"
    },
    "language_info": {
      "codemirror_mode": {
        "name": "ipython",
        "version": 3
      },
      "file_extension": ".py",
      "mimetype": "text/x-python",
      "name": "python",
      "nbconvert_exporter": "python",
      "pygments_lexer": "ipython3",
      "version": "3.9.6 (default, Aug  5 2022, 15:21:02) \n[Clang 14.0.0 (clang-1400.0.29.102)]"
    },
    "orig_nbformat": 4,
    "vscode": {
      "interpreter": {
        "hash": "31f2aee4e71d21fbe5cf8b01ff0e069b9275f58929596ceb00d14d90e3e16cd6"
      }
    },
    "widgets": {
      "application/vnd.jupyter.widget-state+json": {
        "042e0b33343a40ce838d7230c1327721": {
          "model_module": "@jupyter-widgets/base",
          "model_module_version": "1.2.0",
          "model_name": "LayoutModel",
          "state": {
            "_model_module": "@jupyter-widgets/base",
            "_model_module_version": "1.2.0",
            "_model_name": "LayoutModel",
            "_view_count": null,
            "_view_module": "@jupyter-widgets/base",
            "_view_module_version": "1.2.0",
            "_view_name": "LayoutView",
            "align_content": null,
            "align_items": null,
            "align_self": null,
            "border": null,
            "bottom": null,
            "display": null,
            "flex": null,
            "flex_flow": null,
            "grid_area": null,
            "grid_auto_columns": null,
            "grid_auto_flow": null,
            "grid_auto_rows": null,
            "grid_column": null,
            "grid_gap": null,
            "grid_row": null,
            "grid_template_areas": null,
            "grid_template_columns": null,
            "grid_template_rows": null,
            "height": null,
            "justify_content": null,
            "justify_items": null,
            "left": null,
            "margin": null,
            "max_height": null,
            "max_width": null,
            "min_height": null,
            "min_width": null,
            "object_fit": null,
            "object_position": null,
            "order": null,
            "overflow": null,
            "overflow_x": null,
            "overflow_y": null,
            "padding": null,
            "right": null,
            "top": null,
            "visibility": null,
            "width": null
          }
        },
        "043a22f008d64e9eadb83b347096d7ed": {
          "model_module": "@jupyter-widgets/base",
          "model_module_version": "1.2.0",
          "model_name": "LayoutModel",
          "state": {
            "_model_module": "@jupyter-widgets/base",
            "_model_module_version": "1.2.0",
            "_model_name": "LayoutModel",
            "_view_count": null,
            "_view_module": "@jupyter-widgets/base",
            "_view_module_version": "1.2.0",
            "_view_name": "LayoutView",
            "align_content": null,
            "align_items": null,
            "align_self": null,
            "border": null,
            "bottom": null,
            "display": null,
            "flex": null,
            "flex_flow": null,
            "grid_area": null,
            "grid_auto_columns": null,
            "grid_auto_flow": null,
            "grid_auto_rows": null,
            "grid_column": null,
            "grid_gap": null,
            "grid_row": null,
            "grid_template_areas": null,
            "grid_template_columns": null,
            "grid_template_rows": null,
            "height": null,
            "justify_content": null,
            "justify_items": null,
            "left": null,
            "margin": null,
            "max_height": null,
            "max_width": null,
            "min_height": null,
            "min_width": null,
            "object_fit": null,
            "object_position": null,
            "order": null,
            "overflow": null,
            "overflow_x": null,
            "overflow_y": null,
            "padding": null,
            "right": null,
            "top": null,
            "visibility": null,
            "width": null
          }
        },
        "04aa2496e09643ca90477a504adc890a": {
          "model_module": "@jupyter-widgets/controls",
          "model_module_version": "1.5.0",
          "model_name": "FloatProgressModel",
          "state": {
            "_dom_classes": [],
            "_model_module": "@jupyter-widgets/controls",
            "_model_module_version": "1.5.0",
            "_model_name": "FloatProgressModel",
            "_view_count": null,
            "_view_module": "@jupyter-widgets/controls",
            "_view_module_version": "1.5.0",
            "_view_name": "ProgressView",
            "bar_style": "success",
            "description": "",
            "description_tooltip": null,
            "layout": "IPY_MODEL_84acbf5d96404f4cb4a921269e43a5ad",
            "max": 301,
            "min": 0,
            "orientation": "horizontal",
            "style": "IPY_MODEL_d7208d9a779a4623b876e85e7e468580",
            "value": 301
          }
        },
        "0adfa3dc064949838a192f9563aabaae": {
          "model_module": "@jupyter-widgets/controls",
          "model_module_version": "1.5.0",
          "model_name": "HTMLModel",
          "state": {
            "_dom_classes": [],
            "_model_module": "@jupyter-widgets/controls",
            "_model_module_version": "1.5.0",
            "_model_name": "HTMLModel",
            "_view_count": null,
            "_view_module": "@jupyter-widgets/controls",
            "_view_module_version": "1.5.0",
            "_view_name": "HTMLView",
            "description": "",
            "description_tooltip": null,
            "layout": "IPY_MODEL_ea401dea87df402daa07ec1da2ff8701",
            "placeholder": "​",
            "style": "IPY_MODEL_a0409562a29b4ffea7f9823f144a4b31",
            "value": " 407M/407M [00:08&lt;00:00, 83.7MB/s]"
          }
        },
        "0cf92c2886b442c3be2e154de8b1e8ec": {
          "model_module": "@jupyter-widgets/controls",
          "model_module_version": "1.5.0",
          "model_name": "HTMLModel",
          "state": {
            "_dom_classes": [],
            "_model_module": "@jupyter-widgets/controls",
            "_model_module_version": "1.5.0",
            "_model_name": "HTMLModel",
            "_view_count": null,
            "_view_module": "@jupyter-widgets/controls",
            "_view_module_version": "1.5.0",
            "_view_name": "HTMLView",
            "description": "",
            "description_tooltip": null,
            "layout": "IPY_MODEL_043a22f008d64e9eadb83b347096d7ed",
            "placeholder": "​",
            "style": "IPY_MODEL_b74d87ccf3e74c929e28773ae20ac71f",
            "value": " 110k/110k [00:00&lt;00:00, 266kB/s]"
          }
        },
        "0d98f78761ac4c07b9748723441153bd": {
          "model_module": "@jupyter-widgets/controls",
          "model_module_version": "1.5.0",
          "model_name": "HBoxModel",
          "state": {
            "_dom_classes": [],
            "_model_module": "@jupyter-widgets/controls",
            "_model_module_version": "1.5.0",
            "_model_name": "HBoxModel",
            "_view_count": null,
            "_view_module": "@jupyter-widgets/controls",
            "_view_module_version": "1.5.0",
            "_view_name": "HBoxView",
            "box_style": "",
            "children": [
              "IPY_MODEL_4c69a65f9eeb426a8df508745804bd3c",
              "IPY_MODEL_cb9dcf5e9c8d4bd3b8428512315e94c0",
              "IPY_MODEL_0cf92c2886b442c3be2e154de8b1e8ec"
            ],
            "layout": "IPY_MODEL_7a6c3514b5ad47b2aa6b2b2a77ddc9f1"
          }
        },
        "1e16174c3db64a899295aebab5d0cce9": {
          "model_module": "@jupyter-widgets/controls",
          "model_module_version": "1.5.0",
          "model_name": "HTMLModel",
          "state": {
            "_dom_classes": [],
            "_model_module": "@jupyter-widgets/controls",
            "_model_module_version": "1.5.0",
            "_model_name": "HTMLModel",
            "_view_count": null,
            "_view_module": "@jupyter-widgets/controls",
            "_view_module_version": "1.5.0",
            "_view_name": "HTMLView",
            "description": "",
            "description_tooltip": null,
            "layout": "IPY_MODEL_abc2168794784086a2c166524961bf36",
            "placeholder": "​",
            "style": "IPY_MODEL_f8439dbf2cb7409285a03cde1a109cf0",
            "value": " 112/112 [00:00&lt;00:00, 6.26kB/s]"
          }
        },
        "1f9599313e104ea0a1173ac6a9f67cb3": {
          "model_module": "@jupyter-widgets/controls",
          "model_module_version": "1.5.0",
          "model_name": "HBoxModel",
          "state": {
            "_dom_classes": [],
            "_model_module": "@jupyter-widgets/controls",
            "_model_module_version": "1.5.0",
            "_model_name": "HBoxModel",
            "_view_count": null,
            "_view_module": "@jupyter-widgets/controls",
            "_view_module_version": "1.5.0",
            "_view_name": "HBoxView",
            "box_style": "",
            "children": [
              "IPY_MODEL_210ce223552e4c96a01cccc206494111",
              "IPY_MODEL_04aa2496e09643ca90477a504adc890a",
              "IPY_MODEL_65efa3ca7ade46a394f6c3e2572d6501"
            ],
            "layout": "IPY_MODEL_042e0b33343a40ce838d7230c1327721"
          }
        },
        "210ce223552e4c96a01cccc206494111": {
          "model_module": "@jupyter-widgets/controls",
          "model_module_version": "1.5.0",
          "model_name": "HTMLModel",
          "state": {
            "_dom_classes": [],
            "_model_module": "@jupyter-widgets/controls",
            "_model_module_version": "1.5.0",
            "_model_name": "HTMLModel",
            "_view_count": null,
            "_view_module": "@jupyter-widgets/controls",
            "_view_module_version": "1.5.0",
            "_view_name": "HTMLView",
            "description": "",
            "description_tooltip": null,
            "layout": "IPY_MODEL_e0df6a30e6d54403aaf28a60dadb5f9d",
            "placeholder": "​",
            "style": "IPY_MODEL_c3ef6979414f481bad24745b97f7c44a",
            "value": "Downloading: 100%"
          }
        },
        "21c52f5d96494bb2981c54052686bffa": {
          "model_module": "@jupyter-widgets/controls",
          "model_module_version": "1.5.0",
          "model_name": "DescriptionStyleModel",
          "state": {
            "_model_module": "@jupyter-widgets/controls",
            "_model_module_version": "1.5.0",
            "_model_name": "DescriptionStyleModel",
            "_view_count": null,
            "_view_module": "@jupyter-widgets/base",
            "_view_module_version": "1.2.0",
            "_view_name": "StyleView",
            "description_width": ""
          }
        },
        "283b9a41f35a4fb0b3c7fae9118cb5fa": {
          "model_module": "@jupyter-widgets/controls",
          "model_module_version": "1.5.0",
          "model_name": "ProgressStyleModel",
          "state": {
            "_model_module": "@jupyter-widgets/controls",
            "_model_module_version": "1.5.0",
            "_model_name": "ProgressStyleModel",
            "_view_count": null,
            "_view_module": "@jupyter-widgets/base",
            "_view_module_version": "1.2.0",
            "_view_name": "StyleView",
            "bar_color": null,
            "description_width": ""
          }
        },
        "286985d6a6e943e89ae46723cc350d7f": {
          "model_module": "@jupyter-widgets/controls",
          "model_module_version": "1.5.0",
          "model_name": "HTMLModel",
          "state": {
            "_dom_classes": [],
            "_model_module": "@jupyter-widgets/controls",
            "_model_module_version": "1.5.0",
            "_model_name": "HTMLModel",
            "_view_count": null,
            "_view_module": "@jupyter-widgets/controls",
            "_view_module_version": "1.5.0",
            "_view_name": "HTMLView",
            "description": "",
            "description_tooltip": null,
            "layout": "IPY_MODEL_fa8fe40dce7143b2a58ea00758eb9979",
            "placeholder": "​",
            "style": "IPY_MODEL_9b059fa68bc44e23876ccbb133e04a67",
            "value": "Downloading: 100%"
          }
        },
        "3623209ad57f46df9e225fdd49cb16bf": {
          "model_module": "@jupyter-widgets/base",
          "model_module_version": "1.2.0",
          "model_name": "LayoutModel",
          "state": {
            "_model_module": "@jupyter-widgets/base",
            "_model_module_version": "1.2.0",
            "_model_name": "LayoutModel",
            "_view_count": null,
            "_view_module": "@jupyter-widgets/base",
            "_view_module_version": "1.2.0",
            "_view_name": "LayoutView",
            "align_content": null,
            "align_items": null,
            "align_self": null,
            "border": null,
            "bottom": null,
            "display": null,
            "flex": null,
            "flex_flow": null,
            "grid_area": null,
            "grid_auto_columns": null,
            "grid_auto_flow": null,
            "grid_auto_rows": null,
            "grid_column": null,
            "grid_gap": null,
            "grid_row": null,
            "grid_template_areas": null,
            "grid_template_columns": null,
            "grid_template_rows": null,
            "height": null,
            "justify_content": null,
            "justify_items": null,
            "left": null,
            "margin": null,
            "max_height": null,
            "max_width": null,
            "min_height": null,
            "min_width": null,
            "object_fit": null,
            "object_position": null,
            "order": null,
            "overflow": null,
            "overflow_x": null,
            "overflow_y": null,
            "padding": null,
            "right": null,
            "top": null,
            "visibility": null,
            "width": null
          }
        },
        "3aecc48be2b64a2bad2eaa9a3e9f8636": {
          "model_module": "@jupyter-widgets/controls",
          "model_module_version": "1.5.0",
          "model_name": "DescriptionStyleModel",
          "state": {
            "_model_module": "@jupyter-widgets/controls",
            "_model_module_version": "1.5.0",
            "_model_name": "DescriptionStyleModel",
            "_view_count": null,
            "_view_module": "@jupyter-widgets/base",
            "_view_module_version": "1.2.0",
            "_view_name": "StyleView",
            "description_width": ""
          }
        },
        "408aa0c8c3114a40babbde53a39ae0db": {
          "model_module": "@jupyter-widgets/base",
          "model_module_version": "1.2.0",
          "model_name": "LayoutModel",
          "state": {
            "_model_module": "@jupyter-widgets/base",
            "_model_module_version": "1.2.0",
            "_model_name": "LayoutModel",
            "_view_count": null,
            "_view_module": "@jupyter-widgets/base",
            "_view_module_version": "1.2.0",
            "_view_name": "LayoutView",
            "align_content": null,
            "align_items": null,
            "align_self": null,
            "border": null,
            "bottom": null,
            "display": null,
            "flex": null,
            "flex_flow": null,
            "grid_area": null,
            "grid_auto_columns": null,
            "grid_auto_flow": null,
            "grid_auto_rows": null,
            "grid_column": null,
            "grid_gap": null,
            "grid_row": null,
            "grid_template_areas": null,
            "grid_template_columns": null,
            "grid_template_rows": null,
            "height": null,
            "justify_content": null,
            "justify_items": null,
            "left": null,
            "margin": null,
            "max_height": null,
            "max_width": null,
            "min_height": null,
            "min_width": null,
            "object_fit": null,
            "object_position": null,
            "order": null,
            "overflow": null,
            "overflow_x": null,
            "overflow_y": null,
            "padding": null,
            "right": null,
            "top": null,
            "visibility": null,
            "width": null
          }
        },
        "448e45b54e3f4fbba3a0ba3e20488fc3": {
          "model_module": "@jupyter-widgets/controls",
          "model_module_version": "1.5.0",
          "model_name": "FloatProgressModel",
          "state": {
            "_dom_classes": [],
            "_model_module": "@jupyter-widgets/controls",
            "_model_module_version": "1.5.0",
            "_model_name": "FloatProgressModel",
            "_view_count": null,
            "_view_module": "@jupyter-widgets/controls",
            "_view_module_version": "1.5.0",
            "_view_name": "ProgressView",
            "bar_style": "success",
            "description": "",
            "description_tooltip": null,
            "layout": "IPY_MODEL_98a252cd456b42de9d11592dbaaaf818",
            "max": 406981303,
            "min": 0,
            "orientation": "horizontal",
            "style": "IPY_MODEL_708efb206edc4ae5baa10f5e4c5acfcd",
            "value": 406981303
          }
        },
        "4ab3190dcb8f4cb7af245feaf5a9604c": {
          "model_module": "@jupyter-widgets/base",
          "model_module_version": "1.2.0",
          "model_name": "LayoutModel",
          "state": {
            "_model_module": "@jupyter-widgets/base",
            "_model_module_version": "1.2.0",
            "_model_name": "LayoutModel",
            "_view_count": null,
            "_view_module": "@jupyter-widgets/base",
            "_view_module_version": "1.2.0",
            "_view_name": "LayoutView",
            "align_content": null,
            "align_items": null,
            "align_self": null,
            "border": null,
            "bottom": null,
            "display": null,
            "flex": null,
            "flex_flow": null,
            "grid_area": null,
            "grid_auto_columns": null,
            "grid_auto_flow": null,
            "grid_auto_rows": null,
            "grid_column": null,
            "grid_gap": null,
            "grid_row": null,
            "grid_template_areas": null,
            "grid_template_columns": null,
            "grid_template_rows": null,
            "height": null,
            "justify_content": null,
            "justify_items": null,
            "left": null,
            "margin": null,
            "max_height": null,
            "max_width": null,
            "min_height": null,
            "min_width": null,
            "object_fit": null,
            "object_position": null,
            "order": null,
            "overflow": null,
            "overflow_x": null,
            "overflow_y": null,
            "padding": null,
            "right": null,
            "top": null,
            "visibility": null,
            "width": null
          }
        },
        "4c69a65f9eeb426a8df508745804bd3c": {
          "model_module": "@jupyter-widgets/controls",
          "model_module_version": "1.5.0",
          "model_name": "HTMLModel",
          "state": {
            "_dom_classes": [],
            "_model_module": "@jupyter-widgets/controls",
            "_model_module_version": "1.5.0",
            "_model_name": "HTMLModel",
            "_view_count": null,
            "_view_module": "@jupyter-widgets/controls",
            "_view_module_version": "1.5.0",
            "_view_name": "HTMLView",
            "description": "",
            "description_tooltip": null,
            "layout": "IPY_MODEL_efbb286e1f4b49c89d2282648f3d816c",
            "placeholder": "​",
            "style": "IPY_MODEL_21c52f5d96494bb2981c54052686bffa",
            "value": "Downloading: 100%"
          }
        },
        "606338e894f94d34a8f878ffad7e96ab": {
          "model_module": "@jupyter-widgets/controls",
          "model_module_version": "1.5.0",
          "model_name": "DescriptionStyleModel",
          "state": {
            "_model_module": "@jupyter-widgets/controls",
            "_model_module_version": "1.5.0",
            "_model_name": "DescriptionStyleModel",
            "_view_count": null,
            "_view_module": "@jupyter-widgets/base",
            "_view_module_version": "1.2.0",
            "_view_name": "StyleView",
            "description_width": ""
          }
        },
        "635e7c12dcf64f42b06fa8131f3f8e46": {
          "model_module": "@jupyter-widgets/controls",
          "model_module_version": "1.5.0",
          "model_name": "HBoxModel",
          "state": {
            "_dom_classes": [],
            "_model_module": "@jupyter-widgets/controls",
            "_model_module_version": "1.5.0",
            "_model_name": "HBoxModel",
            "_view_count": null,
            "_view_module": "@jupyter-widgets/controls",
            "_view_module_version": "1.5.0",
            "_view_name": "HBoxView",
            "box_style": "",
            "children": [
              "IPY_MODEL_286985d6a6e943e89ae46723cc350d7f",
              "IPY_MODEL_bbe04d0ccf034264ba3f926d4af1129f",
              "IPY_MODEL_cd0b5e8c66e049ae9becfca0e3f23457"
            ],
            "layout": "IPY_MODEL_c0b6a4b9070c4026a5c75e9eb2f621ce"
          }
        },
        "65efa3ca7ade46a394f6c3e2572d6501": {
          "model_module": "@jupyter-widgets/controls",
          "model_module_version": "1.5.0",
          "model_name": "HTMLModel",
          "state": {
            "_dom_classes": [],
            "_model_module": "@jupyter-widgets/controls",
            "_model_module_version": "1.5.0",
            "_model_name": "HTMLModel",
            "_view_count": null,
            "_view_module": "@jupyter-widgets/controls",
            "_view_module_version": "1.5.0",
            "_view_name": "HTMLView",
            "description": "",
            "description_tooltip": null,
            "layout": "IPY_MODEL_4ab3190dcb8f4cb7af245feaf5a9604c",
            "placeholder": "​",
            "style": "IPY_MODEL_977df045437c44bf8d1f90448a0dde7a",
            "value": " 301/301 [00:00&lt;00:00, 17.6kB/s]"
          }
        },
        "708efb206edc4ae5baa10f5e4c5acfcd": {
          "model_module": "@jupyter-widgets/controls",
          "model_module_version": "1.5.0",
          "model_name": "ProgressStyleModel",
          "state": {
            "_model_module": "@jupyter-widgets/controls",
            "_model_module_version": "1.5.0",
            "_model_name": "ProgressStyleModel",
            "_view_count": null,
            "_view_module": "@jupyter-widgets/base",
            "_view_module_version": "1.2.0",
            "_view_name": "StyleView",
            "bar_color": null,
            "description_width": ""
          }
        },
        "7a6c3514b5ad47b2aa6b2b2a77ddc9f1": {
          "model_module": "@jupyter-widgets/base",
          "model_module_version": "1.2.0",
          "model_name": "LayoutModel",
          "state": {
            "_model_module": "@jupyter-widgets/base",
            "_model_module_version": "1.2.0",
            "_model_name": "LayoutModel",
            "_view_count": null,
            "_view_module": "@jupyter-widgets/base",
            "_view_module_version": "1.2.0",
            "_view_name": "LayoutView",
            "align_content": null,
            "align_items": null,
            "align_self": null,
            "border": null,
            "bottom": null,
            "display": null,
            "flex": null,
            "flex_flow": null,
            "grid_area": null,
            "grid_auto_columns": null,
            "grid_auto_flow": null,
            "grid_auto_rows": null,
            "grid_column": null,
            "grid_gap": null,
            "grid_row": null,
            "grid_template_areas": null,
            "grid_template_columns": null,
            "grid_template_rows": null,
            "height": null,
            "justify_content": null,
            "justify_items": null,
            "left": null,
            "margin": null,
            "max_height": null,
            "max_width": null,
            "min_height": null,
            "min_width": null,
            "object_fit": null,
            "object_position": null,
            "order": null,
            "overflow": null,
            "overflow_x": null,
            "overflow_y": null,
            "padding": null,
            "right": null,
            "top": null,
            "visibility": null,
            "width": null
          }
        },
        "84acbf5d96404f4cb4a921269e43a5ad": {
          "model_module": "@jupyter-widgets/base",
          "model_module_version": "1.2.0",
          "model_name": "LayoutModel",
          "state": {
            "_model_module": "@jupyter-widgets/base",
            "_model_module_version": "1.2.0",
            "_model_name": "LayoutModel",
            "_view_count": null,
            "_view_module": "@jupyter-widgets/base",
            "_view_module_version": "1.2.0",
            "_view_name": "LayoutView",
            "align_content": null,
            "align_items": null,
            "align_self": null,
            "border": null,
            "bottom": null,
            "display": null,
            "flex": null,
            "flex_flow": null,
            "grid_area": null,
            "grid_auto_columns": null,
            "grid_auto_flow": null,
            "grid_auto_rows": null,
            "grid_column": null,
            "grid_gap": null,
            "grid_row": null,
            "grid_template_areas": null,
            "grid_template_columns": null,
            "grid_template_rows": null,
            "height": null,
            "justify_content": null,
            "justify_items": null,
            "left": null,
            "margin": null,
            "max_height": null,
            "max_width": null,
            "min_height": null,
            "min_width": null,
            "object_fit": null,
            "object_position": null,
            "order": null,
            "overflow": null,
            "overflow_x": null,
            "overflow_y": null,
            "padding": null,
            "right": null,
            "top": null,
            "visibility": null,
            "width": null
          }
        },
        "976d627a55ff4de2b1b45a47c8d8727f": {
          "model_module": "@jupyter-widgets/base",
          "model_module_version": "1.2.0",
          "model_name": "LayoutModel",
          "state": {
            "_model_module": "@jupyter-widgets/base",
            "_model_module_version": "1.2.0",
            "_model_name": "LayoutModel",
            "_view_count": null,
            "_view_module": "@jupyter-widgets/base",
            "_view_module_version": "1.2.0",
            "_view_name": "LayoutView",
            "align_content": null,
            "align_items": null,
            "align_self": null,
            "border": null,
            "bottom": null,
            "display": null,
            "flex": null,
            "flex_flow": null,
            "grid_area": null,
            "grid_auto_columns": null,
            "grid_auto_flow": null,
            "grid_auto_rows": null,
            "grid_column": null,
            "grid_gap": null,
            "grid_row": null,
            "grid_template_areas": null,
            "grid_template_columns": null,
            "grid_template_rows": null,
            "height": null,
            "justify_content": null,
            "justify_items": null,
            "left": null,
            "margin": null,
            "max_height": null,
            "max_width": null,
            "min_height": null,
            "min_width": null,
            "object_fit": null,
            "object_position": null,
            "order": null,
            "overflow": null,
            "overflow_x": null,
            "overflow_y": null,
            "padding": null,
            "right": null,
            "top": null,
            "visibility": null,
            "width": null
          }
        },
        "977df045437c44bf8d1f90448a0dde7a": {
          "model_module": "@jupyter-widgets/controls",
          "model_module_version": "1.5.0",
          "model_name": "DescriptionStyleModel",
          "state": {
            "_model_module": "@jupyter-widgets/controls",
            "_model_module_version": "1.5.0",
            "_model_name": "DescriptionStyleModel",
            "_view_count": null,
            "_view_module": "@jupyter-widgets/base",
            "_view_module_version": "1.2.0",
            "_view_name": "StyleView",
            "description_width": ""
          }
        },
        "98a252cd456b42de9d11592dbaaaf818": {
          "model_module": "@jupyter-widgets/base",
          "model_module_version": "1.2.0",
          "model_name": "LayoutModel",
          "state": {
            "_model_module": "@jupyter-widgets/base",
            "_model_module_version": "1.2.0",
            "_model_name": "LayoutModel",
            "_view_count": null,
            "_view_module": "@jupyter-widgets/base",
            "_view_module_version": "1.2.0",
            "_view_name": "LayoutView",
            "align_content": null,
            "align_items": null,
            "align_self": null,
            "border": null,
            "bottom": null,
            "display": null,
            "flex": null,
            "flex_flow": null,
            "grid_area": null,
            "grid_auto_columns": null,
            "grid_auto_flow": null,
            "grid_auto_rows": null,
            "grid_column": null,
            "grid_gap": null,
            "grid_row": null,
            "grid_template_areas": null,
            "grid_template_columns": null,
            "grid_template_rows": null,
            "height": null,
            "justify_content": null,
            "justify_items": null,
            "left": null,
            "margin": null,
            "max_height": null,
            "max_width": null,
            "min_height": null,
            "min_width": null,
            "object_fit": null,
            "object_position": null,
            "order": null,
            "overflow": null,
            "overflow_x": null,
            "overflow_y": null,
            "padding": null,
            "right": null,
            "top": null,
            "visibility": null,
            "width": null
          }
        },
        "9b059fa68bc44e23876ccbb133e04a67": {
          "model_module": "@jupyter-widgets/controls",
          "model_module_version": "1.5.0",
          "model_name": "DescriptionStyleModel",
          "state": {
            "_model_module": "@jupyter-widgets/controls",
            "_model_module_version": "1.5.0",
            "_model_name": "DescriptionStyleModel",
            "_view_count": null,
            "_view_module": "@jupyter-widgets/base",
            "_view_module_version": "1.2.0",
            "_view_name": "StyleView",
            "description_width": ""
          }
        },
        "a0409562a29b4ffea7f9823f144a4b31": {
          "model_module": "@jupyter-widgets/controls",
          "model_module_version": "1.5.0",
          "model_name": "DescriptionStyleModel",
          "state": {
            "_model_module": "@jupyter-widgets/controls",
            "_model_module_version": "1.5.0",
            "_model_name": "DescriptionStyleModel",
            "_view_count": null,
            "_view_module": "@jupyter-widgets/base",
            "_view_module_version": "1.2.0",
            "_view_name": "StyleView",
            "description_width": ""
          }
        },
        "a527d6f91e2a48b4bc517b4170d026d9": {
          "model_module": "@jupyter-widgets/controls",
          "model_module_version": "1.5.0",
          "model_name": "HTMLModel",
          "state": {
            "_dom_classes": [],
            "_model_module": "@jupyter-widgets/controls",
            "_model_module_version": "1.5.0",
            "_model_name": "HTMLModel",
            "_view_count": null,
            "_view_module": "@jupyter-widgets/controls",
            "_view_module_version": "1.5.0",
            "_view_name": "HTMLView",
            "description": "",
            "description_tooltip": null,
            "layout": "IPY_MODEL_ad3bc1e34e8a4e0390826bc19541cc8b",
            "placeholder": "​",
            "style": "IPY_MODEL_3aecc48be2b64a2bad2eaa9a3e9f8636",
            "value": "Downloading: 100%"
          }
        },
        "aa68a9306ac246b696ef15da2688a1c8": {
          "model_module": "@jupyter-widgets/controls",
          "model_module_version": "1.5.0",
          "model_name": "HTMLModel",
          "state": {
            "_dom_classes": [],
            "_model_module": "@jupyter-widgets/controls",
            "_model_module_version": "1.5.0",
            "_model_name": "HTMLModel",
            "_view_count": null,
            "_view_module": "@jupyter-widgets/controls",
            "_view_module_version": "1.5.0",
            "_view_name": "HTMLView",
            "description": "",
            "description_tooltip": null,
            "layout": "IPY_MODEL_976d627a55ff4de2b1b45a47c8d8727f",
            "placeholder": "​",
            "style": "IPY_MODEL_606338e894f94d34a8f878ffad7e96ab",
            "value": "Downloading: 100%"
          }
        },
        "abc2168794784086a2c166524961bf36": {
          "model_module": "@jupyter-widgets/base",
          "model_module_version": "1.2.0",
          "model_name": "LayoutModel",
          "state": {
            "_model_module": "@jupyter-widgets/base",
            "_model_module_version": "1.2.0",
            "_model_name": "LayoutModel",
            "_view_count": null,
            "_view_module": "@jupyter-widgets/base",
            "_view_module_version": "1.2.0",
            "_view_name": "LayoutView",
            "align_content": null,
            "align_items": null,
            "align_self": null,
            "border": null,
            "bottom": null,
            "display": null,
            "flex": null,
            "flex_flow": null,
            "grid_area": null,
            "grid_auto_columns": null,
            "grid_auto_flow": null,
            "grid_auto_rows": null,
            "grid_column": null,
            "grid_gap": null,
            "grid_row": null,
            "grid_template_areas": null,
            "grid_template_columns": null,
            "grid_template_rows": null,
            "height": null,
            "justify_content": null,
            "justify_items": null,
            "left": null,
            "margin": null,
            "max_height": null,
            "max_width": null,
            "min_height": null,
            "min_width": null,
            "object_fit": null,
            "object_position": null,
            "order": null,
            "overflow": null,
            "overflow_x": null,
            "overflow_y": null,
            "padding": null,
            "right": null,
            "top": null,
            "visibility": null,
            "width": null
          }
        },
        "ad3bc1e34e8a4e0390826bc19541cc8b": {
          "model_module": "@jupyter-widgets/base",
          "model_module_version": "1.2.0",
          "model_name": "LayoutModel",
          "state": {
            "_model_module": "@jupyter-widgets/base",
            "_model_module_version": "1.2.0",
            "_model_name": "LayoutModel",
            "_view_count": null,
            "_view_module": "@jupyter-widgets/base",
            "_view_module_version": "1.2.0",
            "_view_name": "LayoutView",
            "align_content": null,
            "align_items": null,
            "align_self": null,
            "border": null,
            "bottom": null,
            "display": null,
            "flex": null,
            "flex_flow": null,
            "grid_area": null,
            "grid_auto_columns": null,
            "grid_auto_flow": null,
            "grid_auto_rows": null,
            "grid_column": null,
            "grid_gap": null,
            "grid_row": null,
            "grid_template_areas": null,
            "grid_template_columns": null,
            "grid_template_rows": null,
            "height": null,
            "justify_content": null,
            "justify_items": null,
            "left": null,
            "margin": null,
            "max_height": null,
            "max_width": null,
            "min_height": null,
            "min_width": null,
            "object_fit": null,
            "object_position": null,
            "order": null,
            "overflow": null,
            "overflow_x": null,
            "overflow_y": null,
            "padding": null,
            "right": null,
            "top": null,
            "visibility": null,
            "width": null
          }
        },
        "b74d87ccf3e74c929e28773ae20ac71f": {
          "model_module": "@jupyter-widgets/controls",
          "model_module_version": "1.5.0",
          "model_name": "DescriptionStyleModel",
          "state": {
            "_model_module": "@jupyter-widgets/controls",
            "_model_module_version": "1.5.0",
            "_model_name": "DescriptionStyleModel",
            "_view_count": null,
            "_view_module": "@jupyter-widgets/base",
            "_view_module_version": "1.2.0",
            "_view_name": "StyleView",
            "description_width": ""
          }
        },
        "bbe04d0ccf034264ba3f926d4af1129f": {
          "model_module": "@jupyter-widgets/controls",
          "model_module_version": "1.5.0",
          "model_name": "FloatProgressModel",
          "state": {
            "_dom_classes": [],
            "_model_module": "@jupyter-widgets/controls",
            "_model_module_version": "1.5.0",
            "_model_name": "FloatProgressModel",
            "_view_count": null,
            "_view_module": "@jupyter-widgets/controls",
            "_view_module_version": "1.5.0",
            "_view_name": "ProgressView",
            "bar_style": "success",
            "description": "",
            "description_tooltip": null,
            "layout": "IPY_MODEL_3623209ad57f46df9e225fdd49cb16bf",
            "max": 2860,
            "min": 0,
            "orientation": "horizontal",
            "style": "IPY_MODEL_d0532909464d494aa235e23ca605f3eb",
            "value": 2860
          }
        },
        "c0b6a4b9070c4026a5c75e9eb2f621ce": {
          "model_module": "@jupyter-widgets/base",
          "model_module_version": "1.2.0",
          "model_name": "LayoutModel",
          "state": {
            "_model_module": "@jupyter-widgets/base",
            "_model_module_version": "1.2.0",
            "_model_name": "LayoutModel",
            "_view_count": null,
            "_view_module": "@jupyter-widgets/base",
            "_view_module_version": "1.2.0",
            "_view_name": "LayoutView",
            "align_content": null,
            "align_items": null,
            "align_self": null,
            "border": null,
            "bottom": null,
            "display": null,
            "flex": null,
            "flex_flow": null,
            "grid_area": null,
            "grid_auto_columns": null,
            "grid_auto_flow": null,
            "grid_auto_rows": null,
            "grid_column": null,
            "grid_gap": null,
            "grid_row": null,
            "grid_template_areas": null,
            "grid_template_columns": null,
            "grid_template_rows": null,
            "height": null,
            "justify_content": null,
            "justify_items": null,
            "left": null,
            "margin": null,
            "max_height": null,
            "max_width": null,
            "min_height": null,
            "min_width": null,
            "object_fit": null,
            "object_position": null,
            "order": null,
            "overflow": null,
            "overflow_x": null,
            "overflow_y": null,
            "padding": null,
            "right": null,
            "top": null,
            "visibility": null,
            "width": null
          }
        },
        "c3ef6979414f481bad24745b97f7c44a": {
          "model_module": "@jupyter-widgets/controls",
          "model_module_version": "1.5.0",
          "model_name": "DescriptionStyleModel",
          "state": {
            "_model_module": "@jupyter-widgets/controls",
            "_model_module_version": "1.5.0",
            "_model_name": "DescriptionStyleModel",
            "_view_count": null,
            "_view_module": "@jupyter-widgets/base",
            "_view_module_version": "1.2.0",
            "_view_name": "StyleView",
            "description_width": ""
          }
        },
        "c60b5286fc6f447fbe95e198732af318": {
          "model_module": "@jupyter-widgets/base",
          "model_module_version": "1.2.0",
          "model_name": "LayoutModel",
          "state": {
            "_model_module": "@jupyter-widgets/base",
            "_model_module_version": "1.2.0",
            "_model_name": "LayoutModel",
            "_view_count": null,
            "_view_module": "@jupyter-widgets/base",
            "_view_module_version": "1.2.0",
            "_view_name": "LayoutView",
            "align_content": null,
            "align_items": null,
            "align_self": null,
            "border": null,
            "bottom": null,
            "display": null,
            "flex": null,
            "flex_flow": null,
            "grid_area": null,
            "grid_auto_columns": null,
            "grid_auto_flow": null,
            "grid_auto_rows": null,
            "grid_column": null,
            "grid_gap": null,
            "grid_row": null,
            "grid_template_areas": null,
            "grid_template_columns": null,
            "grid_template_rows": null,
            "height": null,
            "justify_content": null,
            "justify_items": null,
            "left": null,
            "margin": null,
            "max_height": null,
            "max_width": null,
            "min_height": null,
            "min_width": null,
            "object_fit": null,
            "object_position": null,
            "order": null,
            "overflow": null,
            "overflow_x": null,
            "overflow_y": null,
            "padding": null,
            "right": null,
            "top": null,
            "visibility": null,
            "width": null
          }
        },
        "c69ee91d577f4732978f1460b3242427": {
          "model_module": "@jupyter-widgets/base",
          "model_module_version": "1.2.0",
          "model_name": "LayoutModel",
          "state": {
            "_model_module": "@jupyter-widgets/base",
            "_model_module_version": "1.2.0",
            "_model_name": "LayoutModel",
            "_view_count": null,
            "_view_module": "@jupyter-widgets/base",
            "_view_module_version": "1.2.0",
            "_view_name": "LayoutView",
            "align_content": null,
            "align_items": null,
            "align_self": null,
            "border": null,
            "bottom": null,
            "display": null,
            "flex": null,
            "flex_flow": null,
            "grid_area": null,
            "grid_auto_columns": null,
            "grid_auto_flow": null,
            "grid_auto_rows": null,
            "grid_column": null,
            "grid_gap": null,
            "grid_row": null,
            "grid_template_areas": null,
            "grid_template_columns": null,
            "grid_template_rows": null,
            "height": null,
            "justify_content": null,
            "justify_items": null,
            "left": null,
            "margin": null,
            "max_height": null,
            "max_width": null,
            "min_height": null,
            "min_width": null,
            "object_fit": null,
            "object_position": null,
            "order": null,
            "overflow": null,
            "overflow_x": null,
            "overflow_y": null,
            "padding": null,
            "right": null,
            "top": null,
            "visibility": null,
            "width": null
          }
        },
        "c7c4573e12bf44a19d4d60d5efb20866": {
          "model_module": "@jupyter-widgets/controls",
          "model_module_version": "1.5.0",
          "model_name": "HBoxModel",
          "state": {
            "_dom_classes": [],
            "_model_module": "@jupyter-widgets/controls",
            "_model_module_version": "1.5.0",
            "_model_name": "HBoxModel",
            "_view_count": null,
            "_view_module": "@jupyter-widgets/controls",
            "_view_module_version": "1.5.0",
            "_view_name": "HBoxView",
            "box_style": "",
            "children": [
              "IPY_MODEL_aa68a9306ac246b696ef15da2688a1c8",
              "IPY_MODEL_d21ce8a597aa449097c67dba4ef29e1d",
              "IPY_MODEL_1e16174c3db64a899295aebab5d0cce9"
            ],
            "layout": "IPY_MODEL_c69ee91d577f4732978f1460b3242427"
          }
        },
        "cb03fe73ada64b939d353ad2950e130f": {
          "model_module": "@jupyter-widgets/base",
          "model_module_version": "1.2.0",
          "model_name": "LayoutModel",
          "state": {
            "_model_module": "@jupyter-widgets/base",
            "_model_module_version": "1.2.0",
            "_model_name": "LayoutModel",
            "_view_count": null,
            "_view_module": "@jupyter-widgets/base",
            "_view_module_version": "1.2.0",
            "_view_name": "LayoutView",
            "align_content": null,
            "align_items": null,
            "align_self": null,
            "border": null,
            "bottom": null,
            "display": null,
            "flex": null,
            "flex_flow": null,
            "grid_area": null,
            "grid_auto_columns": null,
            "grid_auto_flow": null,
            "grid_auto_rows": null,
            "grid_column": null,
            "grid_gap": null,
            "grid_row": null,
            "grid_template_areas": null,
            "grid_template_columns": null,
            "grid_template_rows": null,
            "height": null,
            "justify_content": null,
            "justify_items": null,
            "left": null,
            "margin": null,
            "max_height": null,
            "max_width": null,
            "min_height": null,
            "min_width": null,
            "object_fit": null,
            "object_position": null,
            "order": null,
            "overflow": null,
            "overflow_x": null,
            "overflow_y": null,
            "padding": null,
            "right": null,
            "top": null,
            "visibility": null,
            "width": null
          }
        },
        "cb9dcf5e9c8d4bd3b8428512315e94c0": {
          "model_module": "@jupyter-widgets/controls",
          "model_module_version": "1.5.0",
          "model_name": "FloatProgressModel",
          "state": {
            "_dom_classes": [],
            "_model_module": "@jupyter-widgets/controls",
            "_model_module_version": "1.5.0",
            "_model_name": "FloatProgressModel",
            "_view_count": null,
            "_view_module": "@jupyter-widgets/controls",
            "_view_module_version": "1.5.0",
            "_view_name": "ProgressView",
            "bar_style": "success",
            "description": "",
            "description_tooltip": null,
            "layout": "IPY_MODEL_d8d83fe041044896a3a68d0cbdb03429",
            "max": 109540,
            "min": 0,
            "orientation": "horizontal",
            "style": "IPY_MODEL_df50a256782a4e718a34786cd0e71b40",
            "value": 109540
          }
        },
        "cd0b5e8c66e049ae9becfca0e3f23457": {
          "model_module": "@jupyter-widgets/controls",
          "model_module_version": "1.5.0",
          "model_name": "HTMLModel",
          "state": {
            "_dom_classes": [],
            "_model_module": "@jupyter-widgets/controls",
            "_model_module_version": "1.5.0",
            "_model_name": "HTMLModel",
            "_view_count": null,
            "_view_module": "@jupyter-widgets/controls",
            "_view_module_version": "1.5.0",
            "_view_name": "HTMLView",
            "description": "",
            "description_tooltip": null,
            "layout": "IPY_MODEL_408aa0c8c3114a40babbde53a39ae0db",
            "placeholder": "​",
            "style": "IPY_MODEL_d0d22cbb268c47b7b29625aa66f81c03",
            "value": " 2.86k/2.86k [00:00&lt;00:00, 114kB/s]"
          }
        },
        "d0532909464d494aa235e23ca605f3eb": {
          "model_module": "@jupyter-widgets/controls",
          "model_module_version": "1.5.0",
          "model_name": "ProgressStyleModel",
          "state": {
            "_model_module": "@jupyter-widgets/controls",
            "_model_module_version": "1.5.0",
            "_model_name": "ProgressStyleModel",
            "_view_count": null,
            "_view_module": "@jupyter-widgets/base",
            "_view_module_version": "1.2.0",
            "_view_name": "StyleView",
            "bar_color": null,
            "description_width": ""
          }
        },
        "d0d22cbb268c47b7b29625aa66f81c03": {
          "model_module": "@jupyter-widgets/controls",
          "model_module_version": "1.5.0",
          "model_name": "DescriptionStyleModel",
          "state": {
            "_model_module": "@jupyter-widgets/controls",
            "_model_module_version": "1.5.0",
            "_model_name": "DescriptionStyleModel",
            "_view_count": null,
            "_view_module": "@jupyter-widgets/base",
            "_view_module_version": "1.2.0",
            "_view_name": "StyleView",
            "description_width": ""
          }
        },
        "d21ce8a597aa449097c67dba4ef29e1d": {
          "model_module": "@jupyter-widgets/controls",
          "model_module_version": "1.5.0",
          "model_name": "FloatProgressModel",
          "state": {
            "_dom_classes": [],
            "_model_module": "@jupyter-widgets/controls",
            "_model_module_version": "1.5.0",
            "_model_name": "FloatProgressModel",
            "_view_count": null,
            "_view_module": "@jupyter-widgets/controls",
            "_view_module_version": "1.5.0",
            "_view_name": "ProgressView",
            "bar_style": "success",
            "description": "",
            "description_tooltip": null,
            "layout": "IPY_MODEL_cb03fe73ada64b939d353ad2950e130f",
            "max": 112,
            "min": 0,
            "orientation": "horizontal",
            "style": "IPY_MODEL_283b9a41f35a4fb0b3c7fae9118cb5fa",
            "value": 112
          }
        },
        "d7208d9a779a4623b876e85e7e468580": {
          "model_module": "@jupyter-widgets/controls",
          "model_module_version": "1.5.0",
          "model_name": "ProgressStyleModel",
          "state": {
            "_model_module": "@jupyter-widgets/controls",
            "_model_module_version": "1.5.0",
            "_model_name": "ProgressStyleModel",
            "_view_count": null,
            "_view_module": "@jupyter-widgets/base",
            "_view_module_version": "1.2.0",
            "_view_name": "StyleView",
            "bar_color": null,
            "description_width": ""
          }
        },
        "d8d83fe041044896a3a68d0cbdb03429": {
          "model_module": "@jupyter-widgets/base",
          "model_module_version": "1.2.0",
          "model_name": "LayoutModel",
          "state": {
            "_model_module": "@jupyter-widgets/base",
            "_model_module_version": "1.2.0",
            "_model_name": "LayoutModel",
            "_view_count": null,
            "_view_module": "@jupyter-widgets/base",
            "_view_module_version": "1.2.0",
            "_view_name": "LayoutView",
            "align_content": null,
            "align_items": null,
            "align_self": null,
            "border": null,
            "bottom": null,
            "display": null,
            "flex": null,
            "flex_flow": null,
            "grid_area": null,
            "grid_auto_columns": null,
            "grid_auto_flow": null,
            "grid_auto_rows": null,
            "grid_column": null,
            "grid_gap": null,
            "grid_row": null,
            "grid_template_areas": null,
            "grid_template_columns": null,
            "grid_template_rows": null,
            "height": null,
            "justify_content": null,
            "justify_items": null,
            "left": null,
            "margin": null,
            "max_height": null,
            "max_width": null,
            "min_height": null,
            "min_width": null,
            "object_fit": null,
            "object_position": null,
            "order": null,
            "overflow": null,
            "overflow_x": null,
            "overflow_y": null,
            "padding": null,
            "right": null,
            "top": null,
            "visibility": null,
            "width": null
          }
        },
        "df50a256782a4e718a34786cd0e71b40": {
          "model_module": "@jupyter-widgets/controls",
          "model_module_version": "1.5.0",
          "model_name": "ProgressStyleModel",
          "state": {
            "_model_module": "@jupyter-widgets/controls",
            "_model_module_version": "1.5.0",
            "_model_name": "ProgressStyleModel",
            "_view_count": null,
            "_view_module": "@jupyter-widgets/base",
            "_view_module_version": "1.2.0",
            "_view_name": "StyleView",
            "bar_color": null,
            "description_width": ""
          }
        },
        "e0df6a30e6d54403aaf28a60dadb5f9d": {
          "model_module": "@jupyter-widgets/base",
          "model_module_version": "1.2.0",
          "model_name": "LayoutModel",
          "state": {
            "_model_module": "@jupyter-widgets/base",
            "_model_module_version": "1.2.0",
            "_model_name": "LayoutModel",
            "_view_count": null,
            "_view_module": "@jupyter-widgets/base",
            "_view_module_version": "1.2.0",
            "_view_name": "LayoutView",
            "align_content": null,
            "align_items": null,
            "align_self": null,
            "border": null,
            "bottom": null,
            "display": null,
            "flex": null,
            "flex_flow": null,
            "grid_area": null,
            "grid_auto_columns": null,
            "grid_auto_flow": null,
            "grid_auto_rows": null,
            "grid_column": null,
            "grid_gap": null,
            "grid_row": null,
            "grid_template_areas": null,
            "grid_template_columns": null,
            "grid_template_rows": null,
            "height": null,
            "justify_content": null,
            "justify_items": null,
            "left": null,
            "margin": null,
            "max_height": null,
            "max_width": null,
            "min_height": null,
            "min_width": null,
            "object_fit": null,
            "object_position": null,
            "order": null,
            "overflow": null,
            "overflow_x": null,
            "overflow_y": null,
            "padding": null,
            "right": null,
            "top": null,
            "visibility": null,
            "width": null
          }
        },
        "ea401dea87df402daa07ec1da2ff8701": {
          "model_module": "@jupyter-widgets/base",
          "model_module_version": "1.2.0",
          "model_name": "LayoutModel",
          "state": {
            "_model_module": "@jupyter-widgets/base",
            "_model_module_version": "1.2.0",
            "_model_name": "LayoutModel",
            "_view_count": null,
            "_view_module": "@jupyter-widgets/base",
            "_view_module_version": "1.2.0",
            "_view_name": "LayoutView",
            "align_content": null,
            "align_items": null,
            "align_self": null,
            "border": null,
            "bottom": null,
            "display": null,
            "flex": null,
            "flex_flow": null,
            "grid_area": null,
            "grid_auto_columns": null,
            "grid_auto_flow": null,
            "grid_auto_rows": null,
            "grid_column": null,
            "grid_gap": null,
            "grid_row": null,
            "grid_template_areas": null,
            "grid_template_columns": null,
            "grid_template_rows": null,
            "height": null,
            "justify_content": null,
            "justify_items": null,
            "left": null,
            "margin": null,
            "max_height": null,
            "max_width": null,
            "min_height": null,
            "min_width": null,
            "object_fit": null,
            "object_position": null,
            "order": null,
            "overflow": null,
            "overflow_x": null,
            "overflow_y": null,
            "padding": null,
            "right": null,
            "top": null,
            "visibility": null,
            "width": null
          }
        },
        "ed5906dfeabf48b2bb1dd87566a89471": {
          "model_module": "@jupyter-widgets/controls",
          "model_module_version": "1.5.0",
          "model_name": "HBoxModel",
          "state": {
            "_dom_classes": [],
            "_model_module": "@jupyter-widgets/controls",
            "_model_module_version": "1.5.0",
            "_model_name": "HBoxModel",
            "_view_count": null,
            "_view_module": "@jupyter-widgets/controls",
            "_view_module_version": "1.5.0",
            "_view_name": "HBoxView",
            "box_style": "",
            "children": [
              "IPY_MODEL_a527d6f91e2a48b4bc517b4170d026d9",
              "IPY_MODEL_448e45b54e3f4fbba3a0ba3e20488fc3",
              "IPY_MODEL_0adfa3dc064949838a192f9563aabaae"
            ],
            "layout": "IPY_MODEL_c60b5286fc6f447fbe95e198732af318"
          }
        },
        "efbb286e1f4b49c89d2282648f3d816c": {
          "model_module": "@jupyter-widgets/base",
          "model_module_version": "1.2.0",
          "model_name": "LayoutModel",
          "state": {
            "_model_module": "@jupyter-widgets/base",
            "_model_module_version": "1.2.0",
            "_model_name": "LayoutModel",
            "_view_count": null,
            "_view_module": "@jupyter-widgets/base",
            "_view_module_version": "1.2.0",
            "_view_name": "LayoutView",
            "align_content": null,
            "align_items": null,
            "align_self": null,
            "border": null,
            "bottom": null,
            "display": null,
            "flex": null,
            "flex_flow": null,
            "grid_area": null,
            "grid_auto_columns": null,
            "grid_auto_flow": null,
            "grid_auto_rows": null,
            "grid_column": null,
            "grid_gap": null,
            "grid_row": null,
            "grid_template_areas": null,
            "grid_template_columns": null,
            "grid_template_rows": null,
            "height": null,
            "justify_content": null,
            "justify_items": null,
            "left": null,
            "margin": null,
            "max_height": null,
            "max_width": null,
            "min_height": null,
            "min_width": null,
            "object_fit": null,
            "object_position": null,
            "order": null,
            "overflow": null,
            "overflow_x": null,
            "overflow_y": null,
            "padding": null,
            "right": null,
            "top": null,
            "visibility": null,
            "width": null
          }
        },
        "f8439dbf2cb7409285a03cde1a109cf0": {
          "model_module": "@jupyter-widgets/controls",
          "model_module_version": "1.5.0",
          "model_name": "DescriptionStyleModel",
          "state": {
            "_model_module": "@jupyter-widgets/controls",
            "_model_module_version": "1.5.0",
            "_model_name": "DescriptionStyleModel",
            "_view_count": null,
            "_view_module": "@jupyter-widgets/base",
            "_view_module_version": "1.2.0",
            "_view_name": "StyleView",
            "description_width": ""
          }
        },
        "fa8fe40dce7143b2a58ea00758eb9979": {
          "model_module": "@jupyter-widgets/base",
          "model_module_version": "1.2.0",
          "model_name": "LayoutModel",
          "state": {
            "_model_module": "@jupyter-widgets/base",
            "_model_module_version": "1.2.0",
            "_model_name": "LayoutModel",
            "_view_count": null,
            "_view_module": "@jupyter-widgets/base",
            "_view_module_version": "1.2.0",
            "_view_name": "LayoutView",
            "align_content": null,
            "align_items": null,
            "align_self": null,
            "border": null,
            "bottom": null,
            "display": null,
            "flex": null,
            "flex_flow": null,
            "grid_area": null,
            "grid_auto_columns": null,
            "grid_auto_flow": null,
            "grid_auto_rows": null,
            "grid_column": null,
            "grid_gap": null,
            "grid_row": null,
            "grid_template_areas": null,
            "grid_template_columns": null,
            "grid_template_rows": null,
            "height": null,
            "justify_content": null,
            "justify_items": null,
            "left": null,
            "margin": null,
            "max_height": null,
            "max_width": null,
            "min_height": null,
            "min_width": null,
            "object_fit": null,
            "object_position": null,
            "order": null,
            "overflow": null,
            "overflow_x": null,
            "overflow_y": null,
            "padding": null,
            "right": null,
            "top": null,
            "visibility": null,
            "width": null
          }
        }
      }
    }
  },
  "nbformat": 4,
  "nbformat_minor": 0
}
