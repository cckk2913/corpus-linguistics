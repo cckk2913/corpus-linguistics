{
 "cells": [
  {
   "cell_type": "code",
   "execution_count": 10,
   "metadata": {},
   "outputs": [],
   "source": [
    "import pandas as pd\n",
    "import numpy as np\n",
    "import re\n",
    "import os\n",
    "import json\n",
    "from tqdm import tqdm \n",
    "import joblib\n"
   ]
  },
  {
   "cell_type": "code",
   "execution_count": 3,
   "metadata": {},
   "outputs": [
    {
     "data": {
      "text/plain": [
       "99"
      ]
     },
     "execution_count": 3,
     "metadata": {},
     "output_type": "execute_result"
    }
   ],
   "source": [
    "forum_folders = os.listdir(\"./data/dcard_popular\")\n",
    "len(forum_folders)"
   ]
  },
  {
   "attachments": {},
   "cell_type": "markdown",
   "metadata": {},
   "source": [
    "### Preprocess texts of posts"
   ]
  },
  {
   "cell_type": "code",
   "execution_count": 9,
   "metadata": {},
   "outputs": [
    {
     "name": "stderr",
     "output_type": "stream",
     "text": [
      "100%|██████████| 99/99 [00:00<00:00, 674.17it/s]\n"
     ]
    },
    {
     "data": {
      "text/plain": [
       "1529"
      ]
     },
     "execution_count": 9,
     "metadata": {},
     "output_type": "execute_result"
    }
   ],
   "source": [
    "posts = []\n",
    "for forum in tqdm(forum_folders):\n",
    "    if forum != \".DS_Store\":\n",
    "        forum_path = f\"./data/dcard_popular/{forum}\"\n",
    "        jsonfiles = os.listdir(forum_path)\n",
    "        for jsonfile in jsonfiles:\n",
    "            jsonpath = f\"{forum_path}/{jsonfile}\"\n",
    "            with open(jsonpath, \"r\", encoding=\"utf-8\") as f:\n",
    "                post = json.load(f)\n",
    "                posts.append(post)\n",
    "len(posts)"
   ]
  },
  {
   "cell_type": "code",
   "execution_count": 12,
   "metadata": {},
   "outputs": [
    {
     "data": {
      "text/plain": [
       "['./data/dcard_posts.pkl']"
      ]
     },
     "execution_count": 12,
     "metadata": {},
     "output_type": "execute_result"
    }
   ],
   "source": [
    "#joblib.dump(posts, \"./data/dcard_posts.pkl\")"
   ]
  },
  {
   "cell_type": "code",
   "execution_count": 19,
   "metadata": {},
   "outputs": [
    {
     "name": "stdout",
     "output_type": "stream",
     "text": [
      "dict_keys(['id', 'title', 'content', 'excerpt', 'anonymousSchool', 'anonymousDepartment', 'pinned', 'forumId', 'replyId', 'createdAt', 'updatedAt', 'commentCount', 'likeCount', 'tags', 'topics', 'supportedReactions', 'withNickname', 'reportReason', 'hiddenByAuthor', 'meta', 'forumName', 'forumAlias', 'school', 'replyTitle', 'gender', 'personaSubscriptable', 'reactions', 'hidden', 'customStyle', 'isSuspiciousAccount', 'layout', 'withImages', 'withVideos', 'media', 'reportReasonText', 'mediaMeta', 'postAvatar'])\n"
     ]
    }
   ],
   "source": [
    "# Post metadata\n",
    "for post in posts[:1]:\n",
    "    print(post.keys())"
   ]
  },
  {
   "cell_type": "code",
   "execution_count": 23,
   "metadata": {},
   "outputs": [
    {
     "data": {
      "text/plain": [
       "1529"
      ]
     },
     "execution_count": 23,
     "metadata": {},
     "output_type": "execute_result"
    }
   ],
   "source": [
    "# pick out the columns we want\n",
    "results = []\n",
    "for p in posts:\n",
    "    data = [p['id'],  p['createdAt'], p['forumName'], p['gender'], p['title'], p['content'], p['topics'], p['commentCount'], p['likeCount']]\n",
    "    results.append(data)\n",
    "\n",
    "len(results)"
   ]
  },
  {
   "cell_type": "code",
   "execution_count": 24,
   "metadata": {},
   "outputs": [
    {
     "data": {
      "text/html": [
       "<div>\n",
       "<style scoped>\n",
       "    .dataframe tbody tr th:only-of-type {\n",
       "        vertical-align: middle;\n",
       "    }\n",
       "\n",
       "    .dataframe tbody tr th {\n",
       "        vertical-align: top;\n",
       "    }\n",
       "\n",
       "    .dataframe thead th {\n",
       "        text-align: right;\n",
       "    }\n",
       "</style>\n",
       "<table border=\"1\" class=\"dataframe\">\n",
       "  <thead>\n",
       "    <tr style=\"text-align: right;\">\n",
       "      <th></th>\n",
       "      <th>id</th>\n",
       "      <th>createdAt</th>\n",
       "      <th>forum</th>\n",
       "      <th>gender</th>\n",
       "      <th>title</th>\n",
       "      <th>content</th>\n",
       "      <th>topics</th>\n",
       "      <th>commentCount</th>\n",
       "      <th>likeCount</th>\n",
       "    </tr>\n",
       "  </thead>\n",
       "  <tbody>\n",
       "    <tr>\n",
       "      <th>0</th>\n",
       "      <td>233006165</td>\n",
       "      <td>2020-02-03T04:47:26.058Z</td>\n",
       "      <td>Apple</td>\n",
       "      <td>M</td>\n",
       "      <td>#問題 關於Siri</td>\n",
       "      <td>https://megapx-assets.dcard.tw/images/45dbac63...</td>\n",
       "      <td>[Apple, 問題, 求救文]</td>\n",
       "      <td>0</td>\n",
       "      <td>3</td>\n",
       "    </tr>\n",
       "    <tr>\n",
       "      <th>1</th>\n",
       "      <td>233012413</td>\n",
       "      <td>2020-02-04T02:11:08.007Z</td>\n",
       "      <td>Apple</td>\n",
       "      <td>F</td>\n",
       "      <td>iPhone 11 啊啊啊啊啊啊啊啊😭</td>\n",
       "      <td>#問題\\n#求救\\n#急在線等\\n#HELP \\n\\n\\n本人使用iphone11\\n今天無...</td>\n",
       "      <td>[手機, iPhone]</td>\n",
       "      <td>3</td>\n",
       "      <td>0</td>\n",
       "    </tr>\n",
       "    <tr>\n",
       "      <th>2</th>\n",
       "      <td>232795451</td>\n",
       "      <td>2019-12-31T03:40:36.331Z</td>\n",
       "      <td>Apple</td>\n",
       "      <td>M</td>\n",
       "      <td>Apple 板  Mac 教學文章</td>\n",
       "      <td>哈囉大家好\\n我是 Apple 板板主 Macintosh \\n\\n有鑑於版友有問題需要協助...</td>\n",
       "      <td>[教學, Apple, 問題, macOS]</td>\n",
       "      <td>9</td>\n",
       "      <td>13</td>\n",
       "    </tr>\n",
       "    <tr>\n",
       "      <th>3</th>\n",
       "      <td>233010090</td>\n",
       "      <td>2020-02-03T14:59:06.646Z</td>\n",
       "      <td>Apple</td>\n",
       "      <td>M</td>\n",
       "      <td>請問大家都哪裡買五星梅花起子呀？</td>\n",
       "      <td>今天去了光華某家電子材料行\\n\\n希望買到可以拆macbook pro 的背蓋的梅花起子\\n...</td>\n",
       "      <td>[diy, 起子, 梅花, macbook, 累]</td>\n",
       "      <td>7</td>\n",
       "      <td>0</td>\n",
       "    </tr>\n",
       "    <tr>\n",
       "      <th>4</th>\n",
       "      <td>233005085</td>\n",
       "      <td>2020-02-02T20:05:18.803Z</td>\n",
       "      <td>Apple</td>\n",
       "      <td>M</td>\n",
       "      <td>要換iphone11 還是等iphone12</td>\n",
       "      <td>小弟菜味濃，若有錯誤麻煩多多包含😅😅\\n小弟目前用8 使用約兩年，操作上都還很順，沒什麼大問...</td>\n",
       "      <td>[iPhone, 手機, 詢問, 問題, Apple]</td>\n",
       "      <td>33</td>\n",
       "      <td>8</td>\n",
       "    </tr>\n",
       "  </tbody>\n",
       "</table>\n",
       "</div>"
      ],
      "text/plain": [
       "          id                 createdAt  forum gender                   title  \\\n",
       "0  233006165  2020-02-03T04:47:26.058Z  Apple      M              #問題 關於Siri   \n",
       "1  233012413  2020-02-04T02:11:08.007Z  Apple      F     iPhone 11 啊啊啊啊啊啊啊啊😭   \n",
       "2  232795451  2019-12-31T03:40:36.331Z  Apple      M       Apple 板  Mac 教學文章   \n",
       "3  233010090  2020-02-03T14:59:06.646Z  Apple      M        請問大家都哪裡買五星梅花起子呀？   \n",
       "4  233005085  2020-02-02T20:05:18.803Z  Apple      M  要換iphone11 還是等iphone12   \n",
       "\n",
       "                                             content  \\\n",
       "0  https://megapx-assets.dcard.tw/images/45dbac63...   \n",
       "1  #問題\\n#求救\\n#急在線等\\n#HELP \\n\\n\\n本人使用iphone11\\n今天無...   \n",
       "2  哈囉大家好\\n我是 Apple 板板主 Macintosh \\n\\n有鑑於版友有問題需要協助...   \n",
       "3  今天去了光華某家電子材料行\\n\\n希望買到可以拆macbook pro 的背蓋的梅花起子\\n...   \n",
       "4  小弟菜味濃，若有錯誤麻煩多多包含😅😅\\n小弟目前用8 使用約兩年，操作上都還很順，沒什麼大問...   \n",
       "\n",
       "                        topics  commentCount  likeCount  \n",
       "0             [Apple, 問題, 求救文]             0          3  \n",
       "1                 [手機, iPhone]             3          0  \n",
       "2       [教學, Apple, 問題, macOS]             9         13  \n",
       "3    [diy, 起子, 梅花, macbook, 累]             7          0  \n",
       "4  [iPhone, 手機, 詢問, 問題, Apple]            33          8  "
      ]
     },
     "execution_count": 24,
     "metadata": {},
     "output_type": "execute_result"
    }
   ],
   "source": [
    "# create a dataframe\n",
    "df = pd.DataFrame(results, columns=['id', 'createdAt', 'forum', 'gender', 'title','content','topics','commentCount','likeCount'])\n",
    "df.head()"
   ]
  },
  {
   "attachments": {},
   "cell_type": "markdown",
   "metadata": {},
   "source": [
    "**Tokenization & POS tagging**"
   ]
  },
  {
   "cell_type": "code",
   "execution_count": 31,
   "metadata": {},
   "outputs": [],
   "source": [
    "trash_re = \"@\\S+|https?:\\S+|http?:\\S|[^\\u4E00-\\u9FD5]\"\n",
    "\n",
    "def clean(texts, trash_re):\n",
    "    output = []\n",
    "    for text in texts:\n",
    "        text = re.sub(trash_re, '', str(text))\n",
    "        output.append(text)\n",
    "    return output"
   ]
  },
  {
   "cell_type": "code",
   "execution_count": null,
   "metadata": {},
   "outputs": [],
   "source": [
    "df['content_clean'] = clean(df['content'], trash_re)"
   ]
  },
  {
   "cell_type": "code",
   "execution_count": null,
   "metadata": {},
   "outputs": [],
   "source": [
    "#joblib.dump(df, \"./data/dcard_df_cleaned.pkl\")"
   ]
  },
  {
   "cell_type": "code",
   "execution_count": 34,
   "metadata": {},
   "outputs": [
    {
     "name": "stdout",
     "output_type": "stream",
     "text": [
      "\n",
      "Usage:   \n",
      "  /Library/Developer/CommandLineTools/usr/bin/python3 -m pip <command> [options]\n",
      "\n",
      "no such option: -U\n",
      "Note: you may need to restart the kernel to use updated packages.\n"
     ]
    },
    {
     "name": "stderr",
     "output_type": "stream",
     "text": [
      "/Users/cckk2913/Library/Python/3.9/lib/python/site-packages/tqdm/auto.py:22: TqdmWarning: IProgress not found. Please update jupyter and ipywidgets. See https://ipywidgets.readthedocs.io/en/stable/user_install.html\n",
      "  from .autonotebook import tqdm as notebook_tqdm\n"
     ]
    }
   ],
   "source": [
    "%pip -U ckip-transformers\n",
    "from ckip_transformers.nlp import CkipWordSegmenter\n",
    "from ckip_transformers.nlp import CkipPosTagger"
   ]
  },
  {
   "cell_type": "code",
   "execution_count": null,
   "metadata": {},
   "outputs": [],
   "source": [
    "# WS\n",
    "ws_driver = CkipWordSegmenter(device=0)"
   ]
  },
  {
   "cell_type": "code",
   "execution_count": null,
   "metadata": {},
   "outputs": [],
   "source": [
    "dcard_ws = ws_driver(texts, use_delim = False)\n",
    "dcard_segmented = [\" \".join(ls) for ls in ws]"
   ]
  },
  {
   "cell_type": "code",
   "execution_count": null,
   "metadata": {},
   "outputs": [],
   "source": [
    "#joblib.dump(dcard_ws, \"./data/dcard_ws.pkl\")\n",
    "#joblib.dump(dcard_segmented, \"./data/dcard_segmented.pkl\")"
   ]
  },
  {
   "cell_type": "code",
   "execution_count": null,
   "metadata": {},
   "outputs": [],
   "source": [
    "# POS\n",
    "pos_driver = CkipPosTagger(device=0)\n",
    "dcard_pos = pos_driver(dcard_ws, use_delim = False)"
   ]
  }
 ],
 "metadata": {
  "kernelspec": {
   "display_name": "Python 3",
   "language": "python",
   "name": "python3"
  },
  "language_info": {
   "codemirror_mode": {
    "name": "ipython",
    "version": 3
   },
   "file_extension": ".py",
   "mimetype": "text/x-python",
   "name": "python",
   "nbconvert_exporter": "python",
   "pygments_lexer": "ipython3",
   "version": "3.9.6"
  },
  "orig_nbformat": 4,
  "vscode": {
   "interpreter": {
    "hash": "31f2aee4e71d21fbe5cf8b01ff0e069b9275f58929596ceb00d14d90e3e16cd6"
   }
  }
 },
 "nbformat": 4,
 "nbformat_minor": 2
}
