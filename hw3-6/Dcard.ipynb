{
  "cells": [
    {
      "cell_type": "markdown",
      "metadata": {
        "id": "v4PuELIoaZuF"
      },
      "source": [
        "### Idea"
      ]
    },
    {
      "attachments": {},
      "cell_type": "markdown",
      "metadata": {
        "id": "OcInl4ZGactv"
      },
      "source": [
        "且哥之前在語法學的 term paper 使用 PTT 語料，分析了<strong>「V 看看」</strong> 和<strong>「VV 看」</strong>（e.g., 試看看 和 試試看）的動詞共現頻率和語境。\n",
        "他發現\n",
        "\n",
        "- <strong>「V 看看」</strong>出現的頻率更高、搭配的動詞種類也更多\n",
        "- _試、問_ 等動詞明顯傾向與<strong>「V 看看」</strong>共現（2188 vs 5; 1539 vs 13）\n",
        "- _瞧、攻_ 等動詞只有和<strong>「VV 看」</strong>共現的資料\n",
        "\n",
        "不過且哥也想知道在 Dcard 論壇是不是也有相似的狀況，於是他想請你利用賦神爬取的 Dcard 貼文 raw data（197 個 folders，共 20069 個 json），找出\n",
        "\n",
        "1. 在<strong>「V 看看」</strong>的 V-slot 最常出現的 10 個動詞和詞性（e.g., VC, VE, or VA)\n",
        "2. 在<strong>「VV 看」</strong>的 V-slot 最常出現的 10 個動詞和詞性\n",
        "3. 在兩個構式的 V-slot 出現次數總和最多的前 10 個動詞\n",
        "4. 在兩個構式的 V-slot 出現次數差異最大的前 10 個動詞\n",
        "5. 在兩個構式的 V-slot 都有出現的動詞\n",
        "\n"
      ]
    },
    {
      "cell_type": "markdown",
      "metadata": {
        "id": "0PzUlTXSadXb"
      },
      "source": [
        "### Environment Setting"
      ]
    },
    {
      "cell_type": "code",
      "execution_count": 1,
      "metadata": {
        "colab": {
          "base_uri": "https://localhost:8080/"
        },
        "id": "YYm9LVuFeH1M",
        "outputId": "c511c253-09e6-4e41-8efd-fb3dd5eec85f"
      },
      "outputs": [
        {
          "name": "stdout",
          "output_type": "stream",
          "text": [
            "Mounted at /content/gdrive\n"
          ]
        }
      ],
      "source": [
        "from google.colab import drive\n",
        "drive.mount('/content/gdrive', force_remount=True)"
      ]
    },
    {
      "cell_type": "code",
      "execution_count": 2,
      "metadata": {
        "id": "jar_0nx2dP0m"
      },
      "outputs": [],
      "source": [
        "import pandas as pd\n",
        "import numpy as np\n",
        "import re\n",
        "import os\n",
        "import json\n",
        "from tqdm import tqdm \n",
        "import joblib\n",
        "import pickle"
      ]
    },
    {
      "cell_type": "markdown",
      "metadata": {
        "id": "S34lUw7pdP0o"
      },
      "source": [
        "### Preprocess posts"
      ]
    },
    {
      "cell_type": "code",
      "execution_count": null,
      "metadata": {
        "id": "jg54oSeEdP0n",
        "outputId": "09381ea6-54a1-4000-898f-bc72e883940e"
      },
      "outputs": [
        {
          "data": {
            "text/plain": [
              "99"
            ]
          },
          "execution_count": 3,
          "metadata": {},
          "output_type": "execute_result"
        }
      ],
      "source": [
        "forum_folders1 = os.listdir(\"./data/dcard_popular\")\n",
        "forum_folders2 = os.listdir(\"./data/dcard_latest\")\n",
        "\n",
        "len(forum_folders1), len(forum_folders2)"
      ]
    },
    {
      "cell_type": "code",
      "execution_count": null,
      "metadata": {
        "id": "KcGc0vXvdP0p",
        "outputId": "25f91555-3003-4085-9e92-a8a830b73544"
      },
      "outputs": [
        {
          "name": "stderr",
          "output_type": "stream",
          "text": [
            "100%|██████████| 99/99 [00:00<00:00, 674.17it/s]\n"
          ]
        },
        {
          "data": {
            "text/plain": [
              "1529"
            ]
          },
          "execution_count": 9,
          "metadata": {},
          "output_type": "execute_result"
        }
      ],
      "source": [
        "# dcard_popular (forum_folders1)\n",
        "posts = []\n",
        "for forum in tqdm(forum_folders1):\n",
        "    if forum != \".DS_Store\":\n",
        "        forum_path = f\"./data/dcard_popular/{forum}\"\n",
        "        jsonfiles = os.listdir(forum_path)\n",
        "        for jsonfile in jsonfiles:\n",
        "            jsonpath = f\"{forum_path}/{jsonfile}\"\n",
        "            with open(jsonpath, \"r\", encoding=\"utf-8\") as f:\n",
        "                post = json.load(f)\n",
        "                posts.append(post)\n",
        "len(posts)"
      ]
    },
    {
      "cell_type": "code",
      "execution_count": null,
      "metadata": {
        "id": "j2-dl9kSdP0q",
        "outputId": "4a9da50c-3f45-46cb-9cf1-7a03fb9aaeeb"
      },
      "outputs": [],
      "source": [
        "# dcard_latest (forum_folders2)\n",
        "latest = []\n",
        "for forum in tqdm(forum_folders2)):\n",
        "    if forum != \".DS_Store\":\n",
        "        forum_path = f\"./data/dcard_latest/{forum}\"\n",
        "        jsonfiles = os.listdir(forum_path)\n",
        "        for jsonfile in jsonfiles:\n",
        "            jsonpath = f\"{forum_path}/{jsonfile}\"\n",
        "            with open(jsonpath, \"r\", encoding=\"utf-8\") as f:\n",
        "                post = json.load(f)\n",
        "                latest.append(post)\n",
        "len(latest)"
      ]
    },
    {
      "cell_type": "code",
      "execution_count": null,
      "metadata": {
        "id": "lBPWsFNmwTM9"
      },
      "outputs": [],
      "source": [
        "posts_v2 = posts + latest\n",
        "#with open(\"./data/posts_v2.json\", \"w\", encoding=\"utf-8\") as f:\n",
        " #   json.dump(posts_v2, f, ensure_ascii=False)"
      ]
    },
    {
      "cell_type": "markdown",
      "metadata": {
        "id": "cOxS9Lizwp63"
      },
      "source": [
        "**Read posts_v2.json**"
      ]
    },
    {
      "cell_type": "code",
      "execution_count": 4,
      "metadata": {
        "id": "LORsYKU4wfMb"
      },
      "outputs": [],
      "source": [
        "with open(\"./data/posts_v2.json\", \"r\", encoding=\"utf-8\") as f:\n",
        "    posts_v2 = json.load(f)"
      ]
    },
    {
      "cell_type": "code",
      "execution_count": 5,
      "metadata": {
        "colab": {
          "base_uri": "https://localhost:8080/"
        },
        "id": "YXjctIXkwnzd",
        "outputId": "1486927f-c4ef-4572-a879-bd1411c4eb9a"
      },
      "outputs": [
        {
          "data": {
            "text/plain": [
              "20069"
            ]
          },
          "execution_count": 5,
          "metadata": {},
          "output_type": "execute_result"
        }
      ],
      "source": [
        "len(posts_v2)"
      ]
    },
    {
      "cell_type": "code",
      "execution_count": 6,
      "metadata": {
        "colab": {
          "base_uri": "https://localhost:8080/"
        },
        "id": "dhnEPA_4dP0q",
        "outputId": "86c631ac-1c03-4f2e-ed82-1852b6a7769f"
      },
      "outputs": [
        {
          "name": "stdout",
          "output_type": "stream",
          "text": [
            "dict_keys(['id', 'title', 'content', 'excerpt', 'anonymousSchool', 'anonymousDepartment', 'pinned', 'forumId', 'replyId', 'createdAt', 'updatedAt', 'commentCount', 'likeCount', 'tags', 'topics', 'supportedReactions', 'withNickname', 'reportReason', 'hiddenByAuthor', 'meta', 'forumName', 'forumAlias', 'school', 'replyTitle', 'gender', 'personaSubscriptable', 'reactions', 'hidden', 'customStyle', 'isSuspiciousAccount', 'layout', 'withImages', 'withVideos', 'media', 'reportReasonText', 'mediaMeta', 'postAvatar'])\n"
          ]
        }
      ],
      "source": [
        "# Post metadata\n",
        "for post in posts_v2[:1]:\n",
        "    print(post.keys())"
      ]
    },
    {
      "cell_type": "code",
      "execution_count": 7,
      "metadata": {
        "colab": {
          "base_uri": "https://localhost:8080/"
        },
        "id": "26-_w2KDdP0r",
        "outputId": "4fc22e89-0f0c-4bc7-8059-eb4d0cdc5bd0"
      },
      "outputs": [
        {
          "data": {
            "text/plain": [
              "20069"
            ]
          },
          "execution_count": 7,
          "metadata": {},
          "output_type": "execute_result"
        }
      ],
      "source": [
        "# pick out the columns we want\n",
        "results = []\n",
        "for p in posts_v2:\n",
        "    data = [p['id'],  p['createdAt'], p['forumName'], p['gender'], p['title'], p['content'], p['topics'], p['commentCount'], p['likeCount']]\n",
        "    results.append(data)\n",
        "\n",
        "len(results)"
      ]
    },
    {
      "cell_type": "code",
      "execution_count": 8,
      "metadata": {
        "colab": {
          "base_uri": "https://localhost:8080/",
          "height": 337
        },
        "id": "9UZfB6wwdP0r",
        "outputId": "7edfa4cc-32d9-447c-af39-8ba5dfeb22b9"
      },
      "outputs": [
        {
          "data": {
            "text/html": [
              "\n",
              "  <div id=\"df-acdd467e-de79-4887-a27e-2c590bc2f7ce\">\n",
              "    <div class=\"colab-df-container\">\n",
              "      <div>\n",
              "<style scoped>\n",
              "    .dataframe tbody tr th:only-of-type {\n",
              "        vertical-align: middle;\n",
              "    }\n",
              "\n",
              "    .dataframe tbody tr th {\n",
              "        vertical-align: top;\n",
              "    }\n",
              "\n",
              "    .dataframe thead th {\n",
              "        text-align: right;\n",
              "    }\n",
              "</style>\n",
              "<table border=\"1\" class=\"dataframe\">\n",
              "  <thead>\n",
              "    <tr style=\"text-align: right;\">\n",
              "      <th></th>\n",
              "      <th>id</th>\n",
              "      <th>createdAt</th>\n",
              "      <th>forum</th>\n",
              "      <th>gender</th>\n",
              "      <th>title</th>\n",
              "      <th>content</th>\n",
              "      <th>topics</th>\n",
              "      <th>commentCount</th>\n",
              "      <th>likeCount</th>\n",
              "    </tr>\n",
              "  </thead>\n",
              "  <tbody>\n",
              "    <tr>\n",
              "      <th>0</th>\n",
              "      <td>233006165</td>\n",
              "      <td>2020-02-03T04:47:26.058Z</td>\n",
              "      <td>Apple</td>\n",
              "      <td>M</td>\n",
              "      <td>#問題 關於Siri</td>\n",
              "      <td>https://megapx-assets.dcard.tw/images/45dbac63...</td>\n",
              "      <td>[Apple, 問題, 求救文]</td>\n",
              "      <td>0</td>\n",
              "      <td>3</td>\n",
              "    </tr>\n",
              "    <tr>\n",
              "      <th>1</th>\n",
              "      <td>233012413</td>\n",
              "      <td>2020-02-04T02:11:08.007Z</td>\n",
              "      <td>Apple</td>\n",
              "      <td>F</td>\n",
              "      <td>iPhone 11 啊啊啊啊啊啊啊啊😭</td>\n",
              "      <td>#問題\\n#求救\\n#急在線等\\n#HELP \\n\\n\\n本人使用iphone11\\n今天無...</td>\n",
              "      <td>[手機, iPhone]</td>\n",
              "      <td>3</td>\n",
              "      <td>0</td>\n",
              "    </tr>\n",
              "    <tr>\n",
              "      <th>2</th>\n",
              "      <td>232795451</td>\n",
              "      <td>2019-12-31T03:40:36.331Z</td>\n",
              "      <td>Apple</td>\n",
              "      <td>M</td>\n",
              "      <td>Apple 板  Mac 教學文章</td>\n",
              "      <td>哈囉大家好\\n我是 Apple 板板主 Macintosh \\n\\n有鑑於版友有問題需要協助...</td>\n",
              "      <td>[教學, Apple, 問題, macOS]</td>\n",
              "      <td>9</td>\n",
              "      <td>13</td>\n",
              "    </tr>\n",
              "    <tr>\n",
              "      <th>3</th>\n",
              "      <td>233010090</td>\n",
              "      <td>2020-02-03T14:59:06.646Z</td>\n",
              "      <td>Apple</td>\n",
              "      <td>M</td>\n",
              "      <td>請問大家都哪裡買五星梅花起子呀？</td>\n",
              "      <td>今天去了光華某家電子材料行\\n\\n希望買到可以拆macbook pro 的背蓋的梅花起子\\n...</td>\n",
              "      <td>[diy, 起子, 梅花, macbook, 累]</td>\n",
              "      <td>7</td>\n",
              "      <td>0</td>\n",
              "    </tr>\n",
              "    <tr>\n",
              "      <th>4</th>\n",
              "      <td>233005085</td>\n",
              "      <td>2020-02-02T20:05:18.803Z</td>\n",
              "      <td>Apple</td>\n",
              "      <td>M</td>\n",
              "      <td>要換iphone11 還是等iphone12</td>\n",
              "      <td>小弟菜味濃，若有錯誤麻煩多多包含😅😅\\n小弟目前用8 使用約兩年，操作上都還很順，沒什麼大問...</td>\n",
              "      <td>[iPhone, 手機, 詢問, 問題, Apple]</td>\n",
              "      <td>33</td>\n",
              "      <td>8</td>\n",
              "    </tr>\n",
              "  </tbody>\n",
              "</table>\n",
              "</div>\n",
              "      <button class=\"colab-df-convert\" onclick=\"convertToInteractive('df-acdd467e-de79-4887-a27e-2c590bc2f7ce')\"\n",
              "              title=\"Convert this dataframe to an interactive table.\"\n",
              "              style=\"display:none;\">\n",
              "        \n",
              "  <svg xmlns=\"http://www.w3.org/2000/svg\" height=\"24px\"viewBox=\"0 0 24 24\"\n",
              "       width=\"24px\">\n",
              "    <path d=\"M0 0h24v24H0V0z\" fill=\"none\"/>\n",
              "    <path d=\"M18.56 5.44l.94 2.06.94-2.06 2.06-.94-2.06-.94-.94-2.06-.94 2.06-2.06.94zm-11 1L8.5 8.5l.94-2.06 2.06-.94-2.06-.94L8.5 2.5l-.94 2.06-2.06.94zm10 10l.94 2.06.94-2.06 2.06-.94-2.06-.94-.94-2.06-.94 2.06-2.06.94z\"/><path d=\"M17.41 7.96l-1.37-1.37c-.4-.4-.92-.59-1.43-.59-.52 0-1.04.2-1.43.59L10.3 9.45l-7.72 7.72c-.78.78-.78 2.05 0 2.83L4 21.41c.39.39.9.59 1.41.59.51 0 1.02-.2 1.41-.59l7.78-7.78 2.81-2.81c.8-.78.8-2.07 0-2.86zM5.41 20L4 18.59l7.72-7.72 1.47 1.35L5.41 20z\"/>\n",
              "  </svg>\n",
              "      </button>\n",
              "      \n",
              "  <style>\n",
              "    .colab-df-container {\n",
              "      display:flex;\n",
              "      flex-wrap:wrap;\n",
              "      gap: 12px;\n",
              "    }\n",
              "\n",
              "    .colab-df-convert {\n",
              "      background-color: #E8F0FE;\n",
              "      border: none;\n",
              "      border-radius: 50%;\n",
              "      cursor: pointer;\n",
              "      display: none;\n",
              "      fill: #1967D2;\n",
              "      height: 32px;\n",
              "      padding: 0 0 0 0;\n",
              "      width: 32px;\n",
              "    }\n",
              "\n",
              "    .colab-df-convert:hover {\n",
              "      background-color: #E2EBFA;\n",
              "      box-shadow: 0px 1px 2px rgba(60, 64, 67, 0.3), 0px 1px 3px 1px rgba(60, 64, 67, 0.15);\n",
              "      fill: #174EA6;\n",
              "    }\n",
              "\n",
              "    [theme=dark] .colab-df-convert {\n",
              "      background-color: #3B4455;\n",
              "      fill: #D2E3FC;\n",
              "    }\n",
              "\n",
              "    [theme=dark] .colab-df-convert:hover {\n",
              "      background-color: #434B5C;\n",
              "      box-shadow: 0px 1px 3px 1px rgba(0, 0, 0, 0.15);\n",
              "      filter: drop-shadow(0px 1px 2px rgba(0, 0, 0, 0.3));\n",
              "      fill: #FFFFFF;\n",
              "    }\n",
              "  </style>\n",
              "\n",
              "      <script>\n",
              "        const buttonEl =\n",
              "          document.querySelector('#df-acdd467e-de79-4887-a27e-2c590bc2f7ce button.colab-df-convert');\n",
              "        buttonEl.style.display =\n",
              "          google.colab.kernel.accessAllowed ? 'block' : 'none';\n",
              "\n",
              "        async function convertToInteractive(key) {\n",
              "          const element = document.querySelector('#df-acdd467e-de79-4887-a27e-2c590bc2f7ce');\n",
              "          const dataTable =\n",
              "            await google.colab.kernel.invokeFunction('convertToInteractive',\n",
              "                                                     [key], {});\n",
              "          if (!dataTable) return;\n",
              "\n",
              "          const docLinkHtml = 'Like what you see? Visit the ' +\n",
              "            '<a target=\"_blank\" href=https://colab.research.google.com/notebooks/data_table.ipynb>data table notebook</a>'\n",
              "            + ' to learn more about interactive tables.';\n",
              "          element.innerHTML = '';\n",
              "          dataTable['output_type'] = 'display_data';\n",
              "          await google.colab.output.renderOutput(dataTable, element);\n",
              "          const docLink = document.createElement('div');\n",
              "          docLink.innerHTML = docLinkHtml;\n",
              "          element.appendChild(docLink);\n",
              "        }\n",
              "      </script>\n",
              "    </div>\n",
              "  </div>\n",
              "  "
            ],
            "text/plain": [
              "          id                 createdAt  forum gender                   title  \\\n",
              "0  233006165  2020-02-03T04:47:26.058Z  Apple      M              #問題 關於Siri   \n",
              "1  233012413  2020-02-04T02:11:08.007Z  Apple      F     iPhone 11 啊啊啊啊啊啊啊啊😭   \n",
              "2  232795451  2019-12-31T03:40:36.331Z  Apple      M       Apple 板  Mac 教學文章   \n",
              "3  233010090  2020-02-03T14:59:06.646Z  Apple      M        請問大家都哪裡買五星梅花起子呀？   \n",
              "4  233005085  2020-02-02T20:05:18.803Z  Apple      M  要換iphone11 還是等iphone12   \n",
              "\n",
              "                                             content  \\\n",
              "0  https://megapx-assets.dcard.tw/images/45dbac63...   \n",
              "1  #問題\\n#求救\\n#急在線等\\n#HELP \\n\\n\\n本人使用iphone11\\n今天無...   \n",
              "2  哈囉大家好\\n我是 Apple 板板主 Macintosh \\n\\n有鑑於版友有問題需要協助...   \n",
              "3  今天去了光華某家電子材料行\\n\\n希望買到可以拆macbook pro 的背蓋的梅花起子\\n...   \n",
              "4  小弟菜味濃，若有錯誤麻煩多多包含😅😅\\n小弟目前用8 使用約兩年，操作上都還很順，沒什麼大問...   \n",
              "\n",
              "                        topics  commentCount  likeCount  \n",
              "0             [Apple, 問題, 求救文]             0          3  \n",
              "1                 [手機, iPhone]             3          0  \n",
              "2       [教學, Apple, 問題, macOS]             9         13  \n",
              "3    [diy, 起子, 梅花, macbook, 累]             7          0  \n",
              "4  [iPhone, 手機, 詢問, 問題, Apple]            33          8  "
            ]
          },
          "execution_count": 8,
          "metadata": {},
          "output_type": "execute_result"
        }
      ],
      "source": [
        "# create a dataframe\n",
        "df = pd.DataFrame(results, columns=['id', 'createdAt', 'forum', 'gender', 'title','content','topics','commentCount','likeCount'])\n",
        "df.head()"
      ]
    },
    {
      "cell_type": "markdown",
      "metadata": {
        "id": "u1xAyn5vdP0s"
      },
      "source": [
        "**Cleaning**"
      ]
    },
    {
      "cell_type": "code",
      "execution_count": 10,
      "metadata": {
        "id": "fuJVAs_0dP0s"
      },
      "outputs": [],
      "source": [
        "trash_re = \"@\\S+|https?:\\S+|http?:\\S|[^\\u4E00-\\u9FD5]\"\n",
        "\n",
        "def clean(texts, trash_re):\n",
        "    output = []\n",
        "    for text in texts:\n",
        "        text = re.sub(trash_re, '', str(text))\n",
        "        output.append(text)\n",
        "    return output\n",
        "\n",
        "def clean_title(texts):\n",
        "    title_re = \"@\\S+|https?:\\S+|http?:\\S|\\W\"\n",
        "    output = []\n",
        "    for text in texts:\n",
        "        text = re.sub(title_re, '', str(text))\n",
        "        output.append(text)\n",
        "    return output"
      ]
    },
    {
      "cell_type": "code",
      "execution_count": 11,
      "metadata": {
        "colab": {
          "base_uri": "https://localhost:8080/",
          "height": 510
        },
        "id": "XCyKb2z0dP0t",
        "outputId": "8ad55b17-4c42-460e-fc17-c86f984faf62"
      },
      "outputs": [
        {
          "data": {
            "text/html": [
              "\n",
              "  <div id=\"df-0cc3bd7e-9107-4801-a346-671acfa23552\">\n",
              "    <div class=\"colab-df-container\">\n",
              "      <div>\n",
              "<style scoped>\n",
              "    .dataframe tbody tr th:only-of-type {\n",
              "        vertical-align: middle;\n",
              "    }\n",
              "\n",
              "    .dataframe tbody tr th {\n",
              "        vertical-align: top;\n",
              "    }\n",
              "\n",
              "    .dataframe thead th {\n",
              "        text-align: right;\n",
              "    }\n",
              "</style>\n",
              "<table border=\"1\" class=\"dataframe\">\n",
              "  <thead>\n",
              "    <tr style=\"text-align: right;\">\n",
              "      <th></th>\n",
              "      <th>id</th>\n",
              "      <th>createdAt</th>\n",
              "      <th>forum</th>\n",
              "      <th>gender</th>\n",
              "      <th>title</th>\n",
              "      <th>content</th>\n",
              "      <th>topics</th>\n",
              "      <th>commentCount</th>\n",
              "      <th>likeCount</th>\n",
              "      <th>content_clean</th>\n",
              "    </tr>\n",
              "  </thead>\n",
              "  <tbody>\n",
              "    <tr>\n",
              "      <th>0</th>\n",
              "      <td>233006165</td>\n",
              "      <td>2020-02-03T04:47:26.058Z</td>\n",
              "      <td>Apple</td>\n",
              "      <td>M</td>\n",
              "      <td>#問題 關於Siri</td>\n",
              "      <td>https://megapx-assets.dcard.tw/images/45dbac63...</td>\n",
              "      <td>[Apple, 問題, 求救文]</td>\n",
              "      <td>0</td>\n",
              "      <td>3</td>\n",
              "      <td>請問一下如何刪除這個建議這隻手機是家人不要用給我用的爬了很多文章也不知道怎麼刪又或者是我搜尋...</td>\n",
              "    </tr>\n",
              "    <tr>\n",
              "      <th>1</th>\n",
              "      <td>233012413</td>\n",
              "      <td>2020-02-04T02:11:08.007Z</td>\n",
              "      <td>Apple</td>\n",
              "      <td>F</td>\n",
              "      <td>iPhone 11 啊啊啊啊啊啊啊啊😭</td>\n",
              "      <td>#問題\\n#求救\\n#急在線等\\n#HELP \\n\\n\\n本人使用iphone11\\n今天無...</td>\n",
              "      <td>[手機, iPhone]</td>\n",
              "      <td>3</td>\n",
              "      <td>0</td>\n",
              "      <td>問題求救急在線等本人使用今天無論如何都叫不出也看了設定都有開啟的服務不知道為什麼就是叫不出來...</td>\n",
              "    </tr>\n",
              "    <tr>\n",
              "      <th>2</th>\n",
              "      <td>232795451</td>\n",
              "      <td>2019-12-31T03:40:36.331Z</td>\n",
              "      <td>Apple</td>\n",
              "      <td>M</td>\n",
              "      <td>Apple 板  Mac 教學文章</td>\n",
              "      <td>哈囉大家好\\n我是 Apple 板板主 Macintosh \\n\\n有鑑於版友有問題需要協助...</td>\n",
              "      <td>[教學, Apple, 問題, macOS]</td>\n",
              "      <td>9</td>\n",
              "      <td>13</td>\n",
              "      <td>哈囉大家好我是板板主有鑑於版友有問題需要協助時無法在版找到答案想請各位板友提供問題或是想要了...</td>\n",
              "    </tr>\n",
              "    <tr>\n",
              "      <th>3</th>\n",
              "      <td>233010090</td>\n",
              "      <td>2020-02-03T14:59:06.646Z</td>\n",
              "      <td>Apple</td>\n",
              "      <td>M</td>\n",
              "      <td>請問大家都哪裡買五星梅花起子呀？</td>\n",
              "      <td>今天去了光華某家電子材料行\\n\\n希望買到可以拆macbook pro 的背蓋的梅花起子\\n...</td>\n",
              "      <td>[diy, 起子, 梅花, macbook, 累]</td>\n",
              "      <td>7</td>\n",
              "      <td>0</td>\n",
              "      <td>今天去了光華某家電子材料行希望買到可以拆的背蓋的梅花起子但結果他明明就是畫的一顆五角星星回家...</td>\n",
              "    </tr>\n",
              "    <tr>\n",
              "      <th>4</th>\n",
              "      <td>233005085</td>\n",
              "      <td>2020-02-02T20:05:18.803Z</td>\n",
              "      <td>Apple</td>\n",
              "      <td>M</td>\n",
              "      <td>要換iphone11 還是等iphone12</td>\n",
              "      <td>小弟菜味濃，若有錯誤麻煩多多包含😅😅\\n小弟目前用8 使用約兩年，操作上都還很順，沒什麼大問...</td>\n",
              "      <td>[iPhone, 手機, 詢問, 問題, Apple]</td>\n",
              "      <td>33</td>\n",
              "      <td>8</td>\n",
              "      <td>小弟菜味濃若有錯誤麻煩多多包含小弟目前用使用約兩年操作上都還很順沒什麼大問題只有電池續航力有...</td>\n",
              "    </tr>\n",
              "  </tbody>\n",
              "</table>\n",
              "</div>\n",
              "      <button class=\"colab-df-convert\" onclick=\"convertToInteractive('df-0cc3bd7e-9107-4801-a346-671acfa23552')\"\n",
              "              title=\"Convert this dataframe to an interactive table.\"\n",
              "              style=\"display:none;\">\n",
              "        \n",
              "  <svg xmlns=\"http://www.w3.org/2000/svg\" height=\"24px\"viewBox=\"0 0 24 24\"\n",
              "       width=\"24px\">\n",
              "    <path d=\"M0 0h24v24H0V0z\" fill=\"none\"/>\n",
              "    <path d=\"M18.56 5.44l.94 2.06.94-2.06 2.06-.94-2.06-.94-.94-2.06-.94 2.06-2.06.94zm-11 1L8.5 8.5l.94-2.06 2.06-.94-2.06-.94L8.5 2.5l-.94 2.06-2.06.94zm10 10l.94 2.06.94-2.06 2.06-.94-2.06-.94-.94-2.06-.94 2.06-2.06.94z\"/><path d=\"M17.41 7.96l-1.37-1.37c-.4-.4-.92-.59-1.43-.59-.52 0-1.04.2-1.43.59L10.3 9.45l-7.72 7.72c-.78.78-.78 2.05 0 2.83L4 21.41c.39.39.9.59 1.41.59.51 0 1.02-.2 1.41-.59l7.78-7.78 2.81-2.81c.8-.78.8-2.07 0-2.86zM5.41 20L4 18.59l7.72-7.72 1.47 1.35L5.41 20z\"/>\n",
              "  </svg>\n",
              "      </button>\n",
              "      \n",
              "  <style>\n",
              "    .colab-df-container {\n",
              "      display:flex;\n",
              "      flex-wrap:wrap;\n",
              "      gap: 12px;\n",
              "    }\n",
              "\n",
              "    .colab-df-convert {\n",
              "      background-color: #E8F0FE;\n",
              "      border: none;\n",
              "      border-radius: 50%;\n",
              "      cursor: pointer;\n",
              "      display: none;\n",
              "      fill: #1967D2;\n",
              "      height: 32px;\n",
              "      padding: 0 0 0 0;\n",
              "      width: 32px;\n",
              "    }\n",
              "\n",
              "    .colab-df-convert:hover {\n",
              "      background-color: #E2EBFA;\n",
              "      box-shadow: 0px 1px 2px rgba(60, 64, 67, 0.3), 0px 1px 3px 1px rgba(60, 64, 67, 0.15);\n",
              "      fill: #174EA6;\n",
              "    }\n",
              "\n",
              "    [theme=dark] .colab-df-convert {\n",
              "      background-color: #3B4455;\n",
              "      fill: #D2E3FC;\n",
              "    }\n",
              "\n",
              "    [theme=dark] .colab-df-convert:hover {\n",
              "      background-color: #434B5C;\n",
              "      box-shadow: 0px 1px 3px 1px rgba(0, 0, 0, 0.15);\n",
              "      filter: drop-shadow(0px 1px 2px rgba(0, 0, 0, 0.3));\n",
              "      fill: #FFFFFF;\n",
              "    }\n",
              "  </style>\n",
              "\n",
              "      <script>\n",
              "        const buttonEl =\n",
              "          document.querySelector('#df-0cc3bd7e-9107-4801-a346-671acfa23552 button.colab-df-convert');\n",
              "        buttonEl.style.display =\n",
              "          google.colab.kernel.accessAllowed ? 'block' : 'none';\n",
              "\n",
              "        async function convertToInteractive(key) {\n",
              "          const element = document.querySelector('#df-0cc3bd7e-9107-4801-a346-671acfa23552');\n",
              "          const dataTable =\n",
              "            await google.colab.kernel.invokeFunction('convertToInteractive',\n",
              "                                                     [key], {});\n",
              "          if (!dataTable) return;\n",
              "\n",
              "          const docLinkHtml = 'Like what you see? Visit the ' +\n",
              "            '<a target=\"_blank\" href=https://colab.research.google.com/notebooks/data_table.ipynb>data table notebook</a>'\n",
              "            + ' to learn more about interactive tables.';\n",
              "          element.innerHTML = '';\n",
              "          dataTable['output_type'] = 'display_data';\n",
              "          await google.colab.output.renderOutput(dataTable, element);\n",
              "          const docLink = document.createElement('div');\n",
              "          docLink.innerHTML = docLinkHtml;\n",
              "          element.appendChild(docLink);\n",
              "        }\n",
              "      </script>\n",
              "    </div>\n",
              "  </div>\n",
              "  "
            ],
            "text/plain": [
              "          id                 createdAt  forum gender                   title  \\\n",
              "0  233006165  2020-02-03T04:47:26.058Z  Apple      M              #問題 關於Siri   \n",
              "1  233012413  2020-02-04T02:11:08.007Z  Apple      F     iPhone 11 啊啊啊啊啊啊啊啊😭   \n",
              "2  232795451  2019-12-31T03:40:36.331Z  Apple      M       Apple 板  Mac 教學文章   \n",
              "3  233010090  2020-02-03T14:59:06.646Z  Apple      M        請問大家都哪裡買五星梅花起子呀？   \n",
              "4  233005085  2020-02-02T20:05:18.803Z  Apple      M  要換iphone11 還是等iphone12   \n",
              "\n",
              "                                             content  \\\n",
              "0  https://megapx-assets.dcard.tw/images/45dbac63...   \n",
              "1  #問題\\n#求救\\n#急在線等\\n#HELP \\n\\n\\n本人使用iphone11\\n今天無...   \n",
              "2  哈囉大家好\\n我是 Apple 板板主 Macintosh \\n\\n有鑑於版友有問題需要協助...   \n",
              "3  今天去了光華某家電子材料行\\n\\n希望買到可以拆macbook pro 的背蓋的梅花起子\\n...   \n",
              "4  小弟菜味濃，若有錯誤麻煩多多包含😅😅\\n小弟目前用8 使用約兩年，操作上都還很順，沒什麼大問...   \n",
              "\n",
              "                        topics  commentCount  likeCount  \\\n",
              "0             [Apple, 問題, 求救文]             0          3   \n",
              "1                 [手機, iPhone]             3          0   \n",
              "2       [教學, Apple, 問題, macOS]             9         13   \n",
              "3    [diy, 起子, 梅花, macbook, 累]             7          0   \n",
              "4  [iPhone, 手機, 詢問, 問題, Apple]            33          8   \n",
              "\n",
              "                                       content_clean  \n",
              "0  請問一下如何刪除這個建議這隻手機是家人不要用給我用的爬了很多文章也不知道怎麼刪又或者是我搜尋...  \n",
              "1  問題求救急在線等本人使用今天無論如何都叫不出也看了設定都有開啟的服務不知道為什麼就是叫不出來...  \n",
              "2  哈囉大家好我是板板主有鑑於版友有問題需要協助時無法在版找到答案想請各位板友提供問題或是想要了...  \n",
              "3  今天去了光華某家電子材料行希望買到可以拆的背蓋的梅花起子但結果他明明就是畫的一顆五角星星回家...  \n",
              "4  小弟菜味濃若有錯誤麻煩多多包含小弟目前用使用約兩年操作上都還很順沒什麼大問題只有電池續航力有...  "
            ]
          },
          "execution_count": 11,
          "metadata": {},
          "output_type": "execute_result"
        }
      ],
      "source": [
        "df['content_clean'] = clean(df['content'], trash_re)\n",
        "df.head()"
      ]
    },
    {
      "cell_type": "code",
      "execution_count": 14,
      "metadata": {
        "colab": {
          "base_uri": "https://localhost:8080/"
        },
        "id": "HeVIdg7zjbEO",
        "outputId": "b3b03b6a-55af-4fbf-a24b-4896140e6c5f"
      },
      "outputs": [
        {
          "data": {
            "text/plain": [
              "20025"
            ]
          },
          "execution_count": 14,
          "metadata": {},
          "output_type": "execute_result"
        }
      ],
      "source": [
        "# filter out rows that only has numbers in content_clean / len==1\n",
        "str_rowids = []\n",
        "for i,r in df.iterrows():\n",
        "    if type(r['content_clean']) != float:\n",
        "        if len(r['content_clean']) >1:\n",
        "            str_rowids.append(i)\n",
        "\n",
        "len(str_rowids)"
      ]
    },
    {
      "cell_type": "code",
      "execution_count": null,
      "metadata": {
        "id": "JhxkaVR-lNeb"
      },
      "outputs": [],
      "source": [
        "df = df.iloc[str_rowids]"
      ]
    },
    {
      "cell_type": "code",
      "execution_count": 20,
      "metadata": {
        "colab": {
          "base_uri": "https://localhost:8080/"
        },
        "id": "kEoxjfLhxfbG",
        "outputId": "a2b75a14-208f-44e6-8697-0080a44f80b0"
      },
      "outputs": [
        {
          "data": {
            "text/plain": [
              "(19898, 10)"
            ]
          },
          "execution_count": 20,
          "metadata": {},
          "output_type": "execute_result"
        }
      ],
      "source": [
        "# remove duplicates\n",
        "df.drop_duplicates(\"content_clean\", inplace=True)\n",
        "df.shape"
      ]
    },
    {
      "cell_type": "code",
      "execution_count": 21,
      "metadata": {
        "id": "-JSEUWB2dP0u"
      },
      "outputs": [],
      "source": [
        "#df.to_csv('./data/dcard_df_cleaned.csv',encoding='utf-8',index=False)"
      ]
    },
    {
      "cell_type": "markdown",
      "metadata": {
        "id": "QArIjZyMhVQv"
      },
      "source": [
        "### Tokenization & POS tagging"
      ]
    },
    {
      "cell_type": "code",
      "execution_count": 21,
      "metadata": {
        "id": "Ojs05cFVhrmK"
      },
      "outputs": [],
      "source": [
        "df = pd.read_csv('./data/dcard_df_cleaned.csv',encoding='utf-8')"
      ]
    },
    {
      "cell_type": "code",
      "execution_count": null,
      "metadata": {
        "id": "JK8BXHrQdP0u"
      },
      "outputs": [],
      "source": [
        "!pip install ckip-transformers\n",
        "from ckip_transformers.nlp import CkipWordSegmenter\n",
        "from ckip_transformers.nlp import CkipPosTagger"
      ]
    },
    {
      "cell_type": "code",
      "execution_count": 22,
      "metadata": {
        "id": "gw3gpHXZdP0u"
      },
      "outputs": [],
      "source": [
        "# WS\n",
        "ws_driver = CkipWordSegmenter(device=0)"
      ]
    },
    {
      "cell_type": "code",
      "execution_count": 23,
      "metadata": {
        "colab": {
          "base_uri": "https://localhost:8080/"
        },
        "id": "v4oaNLYbdP0u",
        "outputId": "941db701-b5e2-46b8-8895-2cc81b35b598"
      },
      "outputs": [
        {
          "name": "stderr",
          "output_type": "stream",
          "text": [
            "Tokenization: 100%|██████████| 19898/19898 [00:12<00:00, 1649.07it/s]\n",
            "Inference: 100%|██████████| 101/101 [13:13<00:00,  7.86s/it]\n"
          ]
        }
      ],
      "source": [
        "dcard_ws = ws_driver(df['content_clean'], use_delim = False)\n",
        "dcard_segmented = [\" \".join(ls) for ls in dcard_ws]"
      ]
    },
    {
      "cell_type": "code",
      "execution_count": 24,
      "metadata": {
        "colab": {
          "base_uri": "https://localhost:8080/"
        },
        "id": "Cjdjsx0WdP0v",
        "outputId": "cf46f883-5ec3-4fa9-968e-ebcf3a41dfc0"
      },
      "outputs": [
        {
          "data": {
            "text/plain": [
              "['./data/dcard_segmented.pkl']"
            ]
          },
          "execution_count": 24,
          "metadata": {},
          "output_type": "execute_result"
        }
      ],
      "source": [
        "#joblib.dump(dcard_ws, \"./data/dcard_ws.pkl\")\n",
        "#joblib.dump(dcard_segmented, \"./data/dcard_segmented.pkl\")"
      ]
    },
    {
      "cell_type": "code",
      "execution_count": 25,
      "metadata": {
        "colab": {
          "base_uri": "https://localhost:8080/"
        },
        "id": "xmV3H9WBdP0v",
        "outputId": "921a037e-ee85-4594-8f91-523bd69ad3e5"
      },
      "outputs": [
        {
          "name": "stderr",
          "output_type": "stream",
          "text": [
            "Tokenization: 100%|██████████| 19898/19898 [00:08<00:00, 2338.19it/s]\n",
            "Inference: 100%|██████████| 101/101 [13:23<00:00,  7.96s/it]\n"
          ]
        }
      ],
      "source": [
        "# POS\n",
        "pos_driver = CkipPosTagger(device=0)\n",
        "dcard_pos = pos_driver(dcard_ws, use_delim = False)"
      ]
    },
    {
      "cell_type": "code",
      "execution_count": 26,
      "metadata": {
        "colab": {
          "base_uri": "https://localhost:8080/"
        },
        "id": "lY4k6OE2iVGL",
        "outputId": "0f0a0d34-e0bc-4e39-9019-453a60c61274"
      },
      "outputs": [
        {
          "data": {
            "text/plain": [
              "['./data/dcard_pos.pkl']"
            ]
          },
          "execution_count": 26,
          "metadata": {},
          "output_type": "execute_result"
        }
      ],
      "source": [
        "#joblib.dump(dcard_pos, \"./data/dcard_pos.pkl\")"
      ]
    },
    {
      "cell_type": "markdown",
      "metadata": {
        "id": "wTy9hmCGidMs"
      },
      "source": [
        "**Make text only df**"
      ]
    },
    {
      "cell_type": "code",
      "execution_count": 27,
      "metadata": {
        "id": "B0aC3rcaihgN"
      },
      "outputs": [],
      "source": [
        "text_df = pd.DataFrame({\n",
        "    'PostId':df['id'].to_list(),\n",
        "    'Content_ws':dcard_ws,\n",
        "    'Content_pos':dcard_pos,\n",
        "    'Content_segmented':dcard_segmented,\n",
        "})"
      ]
    },
    {
      "cell_type": "code",
      "execution_count": 28,
      "metadata": {
        "colab": {
          "base_uri": "https://localhost:8080/",
          "height": 337
        },
        "id": "R3MzUQIIjL2Q",
        "outputId": "b71d880e-3e9c-486e-fbb2-f38d7213525d"
      },
      "outputs": [
        {
          "data": {
            "text/html": [
              "\n",
              "  <div id=\"df-ad08c8b0-293a-47b2-86ff-94a78bcc36f1\">\n",
              "    <div class=\"colab-df-container\">\n",
              "      <div>\n",
              "<style scoped>\n",
              "    .dataframe tbody tr th:only-of-type {\n",
              "        vertical-align: middle;\n",
              "    }\n",
              "\n",
              "    .dataframe tbody tr th {\n",
              "        vertical-align: top;\n",
              "    }\n",
              "\n",
              "    .dataframe thead th {\n",
              "        text-align: right;\n",
              "    }\n",
              "</style>\n",
              "<table border=\"1\" class=\"dataframe\">\n",
              "  <thead>\n",
              "    <tr style=\"text-align: right;\">\n",
              "      <th></th>\n",
              "      <th>PostId</th>\n",
              "      <th>Content_ws</th>\n",
              "      <th>Content_pos</th>\n",
              "      <th>Content_segmented</th>\n",
              "    </tr>\n",
              "  </thead>\n",
              "  <tbody>\n",
              "    <tr>\n",
              "      <th>0</th>\n",
              "      <td>233006165</td>\n",
              "      <td>[請問, 一下, 如何, 刪除, 這, 個, 建議, 這, 隻, 手機, 是, 家人, 不要...</td>\n",
              "      <td>[VE, Nd, D, VC, Nep, Nf, Na, Nep, Nf, Na, SHI,...</td>\n",
              "      <td>請問 一下 如何 刪除 這 個 建議 這 隻 手機 是 家人 不要 用 給 我 用 的 爬 ...</td>\n",
              "    </tr>\n",
              "    <tr>\n",
              "      <th>1</th>\n",
              "      <td>233012413</td>\n",
              "      <td>[問題, 求救, 急, 在, 線, 等, 本人, 使用, 今天, 無論如何, 都, 叫, 不...</td>\n",
              "      <td>[Na, VF, Na, P, Nc, Cab, Nh, VC, Nd, Dk, D, VC...</td>\n",
              "      <td>問題 求救 急 在 線 等 本人 使用 今天 無論如何 都 叫 不 出 也 看 了 設定 都...</td>\n",
              "    </tr>\n",
              "    <tr>\n",
              "      <th>2</th>\n",
              "      <td>232795451</td>\n",
              "      <td>[哈囉, 大家, 好, 我, 是, 板板主, 有鑑於, 版友, 有, 問題, 需要, 協助,...</td>\n",
              "      <td>[I, Nh, VH, Nh, SHI, Na, Cbb, Na, V_2, Na, VK,...</td>\n",
              "      <td>哈囉 大家 好 我 是 板板主 有鑑於 版友 有 問題 需要 協助 時 無法 在 版 找到 ...</td>\n",
              "    </tr>\n",
              "    <tr>\n",
              "      <th>3</th>\n",
              "      <td>233010090</td>\n",
              "      <td>[今天, 去, 了, 光華, 某, 家, 電子, 材料行, 希望, 買到, 可以, 拆, 的...</td>\n",
              "      <td>[Nd, VCL, Di, Na, Nes, Nf, Na, Nc, VK, VC, D, ...</td>\n",
              "      <td>今天 去 了 光華 某 家 電子 材料行 希望 買到 可以 拆 的 背蓋 的 梅花 起子 但...</td>\n",
              "    </tr>\n",
              "    <tr>\n",
              "      <th>4</th>\n",
              "      <td>233005085</td>\n",
              "      <td>[小弟菜, 味, 濃, 若, 有, 錯誤, 麻煩, 多多, 包含, 小弟, 目前, 用, 使...</td>\n",
              "      <td>[Na, Na, VH, Cbb, V_2, Na, Na, D, VJ, Na, Nd, ...</td>\n",
              "      <td>小弟菜 味 濃 若 有 錯誤 麻煩 多多 包含 小弟 目前 用 使用 約 兩 年 操作 上 ...</td>\n",
              "    </tr>\n",
              "  </tbody>\n",
              "</table>\n",
              "</div>\n",
              "      <button class=\"colab-df-convert\" onclick=\"convertToInteractive('df-ad08c8b0-293a-47b2-86ff-94a78bcc36f1')\"\n",
              "              title=\"Convert this dataframe to an interactive table.\"\n",
              "              style=\"display:none;\">\n",
              "        \n",
              "  <svg xmlns=\"http://www.w3.org/2000/svg\" height=\"24px\"viewBox=\"0 0 24 24\"\n",
              "       width=\"24px\">\n",
              "    <path d=\"M0 0h24v24H0V0z\" fill=\"none\"/>\n",
              "    <path d=\"M18.56 5.44l.94 2.06.94-2.06 2.06-.94-2.06-.94-.94-2.06-.94 2.06-2.06.94zm-11 1L8.5 8.5l.94-2.06 2.06-.94-2.06-.94L8.5 2.5l-.94 2.06-2.06.94zm10 10l.94 2.06.94-2.06 2.06-.94-2.06-.94-.94-2.06-.94 2.06-2.06.94z\"/><path d=\"M17.41 7.96l-1.37-1.37c-.4-.4-.92-.59-1.43-.59-.52 0-1.04.2-1.43.59L10.3 9.45l-7.72 7.72c-.78.78-.78 2.05 0 2.83L4 21.41c.39.39.9.59 1.41.59.51 0 1.02-.2 1.41-.59l7.78-7.78 2.81-2.81c.8-.78.8-2.07 0-2.86zM5.41 20L4 18.59l7.72-7.72 1.47 1.35L5.41 20z\"/>\n",
              "  </svg>\n",
              "      </button>\n",
              "      \n",
              "  <style>\n",
              "    .colab-df-container {\n",
              "      display:flex;\n",
              "      flex-wrap:wrap;\n",
              "      gap: 12px;\n",
              "    }\n",
              "\n",
              "    .colab-df-convert {\n",
              "      background-color: #E8F0FE;\n",
              "      border: none;\n",
              "      border-radius: 50%;\n",
              "      cursor: pointer;\n",
              "      display: none;\n",
              "      fill: #1967D2;\n",
              "      height: 32px;\n",
              "      padding: 0 0 0 0;\n",
              "      width: 32px;\n",
              "    }\n",
              "\n",
              "    .colab-df-convert:hover {\n",
              "      background-color: #E2EBFA;\n",
              "      box-shadow: 0px 1px 2px rgba(60, 64, 67, 0.3), 0px 1px 3px 1px rgba(60, 64, 67, 0.15);\n",
              "      fill: #174EA6;\n",
              "    }\n",
              "\n",
              "    [theme=dark] .colab-df-convert {\n",
              "      background-color: #3B4455;\n",
              "      fill: #D2E3FC;\n",
              "    }\n",
              "\n",
              "    [theme=dark] .colab-df-convert:hover {\n",
              "      background-color: #434B5C;\n",
              "      box-shadow: 0px 1px 3px 1px rgba(0, 0, 0, 0.15);\n",
              "      filter: drop-shadow(0px 1px 2px rgba(0, 0, 0, 0.3));\n",
              "      fill: #FFFFFF;\n",
              "    }\n",
              "  </style>\n",
              "\n",
              "      <script>\n",
              "        const buttonEl =\n",
              "          document.querySelector('#df-ad08c8b0-293a-47b2-86ff-94a78bcc36f1 button.colab-df-convert');\n",
              "        buttonEl.style.display =\n",
              "          google.colab.kernel.accessAllowed ? 'block' : 'none';\n",
              "\n",
              "        async function convertToInteractive(key) {\n",
              "          const element = document.querySelector('#df-ad08c8b0-293a-47b2-86ff-94a78bcc36f1');\n",
              "          const dataTable =\n",
              "            await google.colab.kernel.invokeFunction('convertToInteractive',\n",
              "                                                     [key], {});\n",
              "          if (!dataTable) return;\n",
              "\n",
              "          const docLinkHtml = 'Like what you see? Visit the ' +\n",
              "            '<a target=\"_blank\" href=https://colab.research.google.com/notebooks/data_table.ipynb>data table notebook</a>'\n",
              "            + ' to learn more about interactive tables.';\n",
              "          element.innerHTML = '';\n",
              "          dataTable['output_type'] = 'display_data';\n",
              "          await google.colab.output.renderOutput(dataTable, element);\n",
              "          const docLink = document.createElement('div');\n",
              "          docLink.innerHTML = docLinkHtml;\n",
              "          element.appendChild(docLink);\n",
              "        }\n",
              "      </script>\n",
              "    </div>\n",
              "  </div>\n",
              "  "
            ],
            "text/plain": [
              "      PostId                                         Content_ws  \\\n",
              "0  233006165  [請問, 一下, 如何, 刪除, 這, 個, 建議, 這, 隻, 手機, 是, 家人, 不要...   \n",
              "1  233012413  [問題, 求救, 急, 在, 線, 等, 本人, 使用, 今天, 無論如何, 都, 叫, 不...   \n",
              "2  232795451  [哈囉, 大家, 好, 我, 是, 板板主, 有鑑於, 版友, 有, 問題, 需要, 協助,...   \n",
              "3  233010090  [今天, 去, 了, 光華, 某, 家, 電子, 材料行, 希望, 買到, 可以, 拆, 的...   \n",
              "4  233005085  [小弟菜, 味, 濃, 若, 有, 錯誤, 麻煩, 多多, 包含, 小弟, 目前, 用, 使...   \n",
              "\n",
              "                                         Content_pos  \\\n",
              "0  [VE, Nd, D, VC, Nep, Nf, Na, Nep, Nf, Na, SHI,...   \n",
              "1  [Na, VF, Na, P, Nc, Cab, Nh, VC, Nd, Dk, D, VC...   \n",
              "2  [I, Nh, VH, Nh, SHI, Na, Cbb, Na, V_2, Na, VK,...   \n",
              "3  [Nd, VCL, Di, Na, Nes, Nf, Na, Nc, VK, VC, D, ...   \n",
              "4  [Na, Na, VH, Cbb, V_2, Na, Na, D, VJ, Na, Nd, ...   \n",
              "\n",
              "                                   Content_segmented  \n",
              "0  請問 一下 如何 刪除 這 個 建議 這 隻 手機 是 家人 不要 用 給 我 用 的 爬 ...  \n",
              "1  問題 求救 急 在 線 等 本人 使用 今天 無論如何 都 叫 不 出 也 看 了 設定 都...  \n",
              "2  哈囉 大家 好 我 是 板板主 有鑑於 版友 有 問題 需要 協助 時 無法 在 版 找到 ...  \n",
              "3  今天 去 了 光華 某 家 電子 材料行 希望 買到 可以 拆 的 背蓋 的 梅花 起子 但...  \n",
              "4  小弟菜 味 濃 若 有 錯誤 麻煩 多多 包含 小弟 目前 用 使用 約 兩 年 操作 上 ...  "
            ]
          },
          "execution_count": 28,
          "metadata": {},
          "output_type": "execute_result"
        }
      ],
      "source": [
        "text_df.head()"
      ]
    },
    {
      "cell_type": "markdown",
      "metadata": {
        "id": "yDwti2ESqLv-"
      },
      "source": [
        "## Find posts with V 看看"
      ]
    },
    {
      "cell_type": "code",
      "execution_count": 65,
      "metadata": {
        "id": "aNz_aHRtYsyM"
      },
      "outputs": [],
      "source": [
        "text_df = pd.read_pickle('./data/dcard_text_df.pkl')"
      ]
    },
    {
      "cell_type": "code",
      "execution_count": 66,
      "metadata": {
        "colab": {
          "base_uri": "https://localhost:8080/"
        },
        "id": "MOasNxr2qQkk",
        "outputId": "234d4206-817d-4f85-9233-063b62cd001a"
      },
      "outputs": [
        {
          "data": {
            "text/plain": [
              "763"
            ]
          },
          "execution_count": 66,
          "metadata": {},
          "output_type": "execute_result"
        }
      ],
      "source": [
        "v_list = []\n",
        "v_poslist = []\n",
        "kankan_texts= []\n",
        "kankan_ids = []\n",
        "for i, r in text_df.iterrows():\n",
        "    if '看看' in r['Content_ws']:\n",
        "        kk= r['Content_ws'].index('看看')\n",
        "        if 'V' in r['Content_pos'][kk-1]:\n",
        "            kankan_ids.append(i)\n",
        "            if len(r['Content_pos'])>=8:\n",
        "                kankan_texts.append(r['Content_ws'][kk-4:kk+4])\n",
        "                v_list.append(r['Content_ws'][kk-1])\n",
        "                v_poslist.append(r['Content_pos'][kk-1])\n",
        "            else:\n",
        "                kankan_texts.append(r['Content_ws'])\n",
        "                v_list.append(r['Content_ws'][kk-1])\n",
        "                v_poslist.append(r['Content_pos'][kk-1])\n",
        "len(kankan_ids)"
      ]
    },
    {
      "cell_type": "code",
      "execution_count": null,
      "metadata": {
        "id": "lJ5nQnZWqucB"
      },
      "outputs": [],
      "source": [
        "pd.set_option('display.max_rows',1000)\n",
        "kankan_df = text_df.iloc[kankan_ids]\n",
        "kankan_df['Kankan_text'] = kankan_texts\n",
        "kankan_df['FrontVerb'] = v_list\n",
        "kankan_df['FrontVerb_pos'] = v_poslist\n",
        "kankan_df['Type'] = '看看'\n",
        "kankan_df = kankan_df[['PostId','FrontVerb','Type','Kankan_text','FrontVerb_pos','Content_ws','Content_pos']]"
      ]
    },
    {
      "cell_type": "code",
      "execution_count": 68,
      "metadata": {
        "colab": {
          "base_uri": "https://localhost:8080/"
        },
        "id": "t3wnPgKat2t8",
        "outputId": "39221c7c-96cd-4d9b-88e9-2ec3041005c9"
      },
      "outputs": [
        {
          "data": {
            "text/plain": [
              "(763, 7)"
            ]
          },
          "execution_count": 68,
          "metadata": {},
          "output_type": "execute_result"
        }
      ],
      "source": [
        "kankan_df.shape"
      ]
    },
    {
      "cell_type": "code",
      "execution_count": 69,
      "metadata": {
        "id": "40a-ibX8uZu1"
      },
      "outputs": [],
      "source": [
        "kankan_df = kankan_df.sort_values(by=['FrontVerb','PostId']).reset_index(drop=True)"
      ]
    },
    {
      "cell_type": "code",
      "execution_count": 75,
      "metadata": {
        "colab": {
          "base_uri": "https://localhost:8080/",
          "height": 337
        },
        "id": "aicu4he9ZAfK",
        "outputId": "f10af197-effc-461e-991a-3e59be95e05e"
      },
      "outputs": [
        {
          "data": {
            "text/html": [
              "\n",
              "  <div id=\"df-4017a72b-f260-4976-8538-adb6bd13c292\">\n",
              "    <div class=\"colab-df-container\">\n",
              "      <div>\n",
              "<style scoped>\n",
              "    .dataframe tbody tr th:only-of-type {\n",
              "        vertical-align: middle;\n",
              "    }\n",
              "\n",
              "    .dataframe tbody tr th {\n",
              "        vertical-align: top;\n",
              "    }\n",
              "\n",
              "    .dataframe thead th {\n",
              "        text-align: right;\n",
              "    }\n",
              "</style>\n",
              "<table border=\"1\" class=\"dataframe\">\n",
              "  <thead>\n",
              "    <tr style=\"text-align: right;\">\n",
              "      <th></th>\n",
              "      <th>PostId</th>\n",
              "      <th>FrontVerb</th>\n",
              "      <th>Type</th>\n",
              "      <th>Kankan_text</th>\n",
              "      <th>FrontVerb_pos</th>\n",
              "      <th>Content_ws</th>\n",
              "      <th>Content_pos</th>\n",
              "    </tr>\n",
              "  </thead>\n",
              "  <tbody>\n",
              "    <tr>\n",
              "      <th>0</th>\n",
              "      <td>232873689</td>\n",
              "      <td>上上網</td>\n",
              "      <td>看看</td>\n",
              "      <td>[平時, 一樣, 可以, 上上網, 看看, 影片, 還, 有]</td>\n",
              "      <td>VC</td>\n",
              "      <td>[先, 說, 我, 目前, 的, 筆電, 是, 服役, 了, 年, 的, 就是, 之前, 能...</td>\n",
              "      <td>[D, VE, Nh, Nd, DE, Na, SHI, VA, Di, Nf, DE, C...</td>\n",
              "    </tr>\n",
              "    <tr>\n",
              "      <th>1</th>\n",
              "      <td>232699296</td>\n",
              "      <td>上來</td>\n",
              "      <td>看看</td>\n",
              "      <td>[交流, 於是, 分享, 上來, 看看, 大家, 有, 沒]</td>\n",
              "      <td>VA</td>\n",
              "      <td>[和, 朋友, 一時, 興起, 定, 了, 一, 個, 題目, 做, 一, 個, 文字, 交...</td>\n",
              "      <td>[P, Na, Nd, VC, VC, Di, Neu, Nf, Na, VC, Neu, ...</td>\n",
              "    </tr>\n",
              "    <tr>\n",
              "      <th>2</th>\n",
              "      <td>232799658</td>\n",
              "      <td>上來</td>\n",
              "      <td>看看</td>\n",
              "      <td>[必須, 每, 天, 上來, 看看, 但, 只要, 看到]</td>\n",
              "      <td>VA</td>\n",
              "      <td>[大家, 好, 我, 是, 米糕, 麻麻, 各位, 先, 不要, 檢舉, 我, 發, 錯, ...</td>\n",
              "      <td>[Nh, VH, Nh, SHI, Na, VH, Nes, D, D, VC, Nh, V...</td>\n",
              "    </tr>\n",
              "    <tr>\n",
              "      <th>3</th>\n",
              "      <td>232972577</td>\n",
              "      <td>上來</td>\n",
              "      <td>看看</td>\n",
              "      <td>[集, 了, 想, 上來, 看看, 大家, 有, 沒]</td>\n",
              "      <td>VA</td>\n",
              "      <td>[哈嘍, 大家, 看到, 現在, 剩下, 集, 了, 想, 上來, 看看, 大家, 有, 沒...</td>\n",
              "      <td>[I, Nh, VE, Nd, VJ, Na, Di, VE, VA, VE, Nh, V_...</td>\n",
              "    </tr>\n",
              "    <tr>\n",
              "      <th>4</th>\n",
              "      <td>232939403</td>\n",
              "      <td>上去</td>\n",
              "      <td>看看</td>\n",
              "      <td>[女孩, 們, 可以, 上去, 看看, 喔猴猴, 賺, 這]</td>\n",
              "      <td>VA</td>\n",
              "      <td>[對於, 一, 個, 打工, 收入, 微薄, 的, 窮, 大學生, 而言, 我, 自己, 覺...</td>\n",
              "      <td>[P, Neu, Nf, VA, Na, VH, DE, VH, Na, Ng, Nh, N...</td>\n",
              "    </tr>\n",
              "  </tbody>\n",
              "</table>\n",
              "</div>\n",
              "      <button class=\"colab-df-convert\" onclick=\"convertToInteractive('df-4017a72b-f260-4976-8538-adb6bd13c292')\"\n",
              "              title=\"Convert this dataframe to an interactive table.\"\n",
              "              style=\"display:none;\">\n",
              "        \n",
              "  <svg xmlns=\"http://www.w3.org/2000/svg\" height=\"24px\"viewBox=\"0 0 24 24\"\n",
              "       width=\"24px\">\n",
              "    <path d=\"M0 0h24v24H0V0z\" fill=\"none\"/>\n",
              "    <path d=\"M18.56 5.44l.94 2.06.94-2.06 2.06-.94-2.06-.94-.94-2.06-.94 2.06-2.06.94zm-11 1L8.5 8.5l.94-2.06 2.06-.94-2.06-.94L8.5 2.5l-.94 2.06-2.06.94zm10 10l.94 2.06.94-2.06 2.06-.94-2.06-.94-.94-2.06-.94 2.06-2.06.94z\"/><path d=\"M17.41 7.96l-1.37-1.37c-.4-.4-.92-.59-1.43-.59-.52 0-1.04.2-1.43.59L10.3 9.45l-7.72 7.72c-.78.78-.78 2.05 0 2.83L4 21.41c.39.39.9.59 1.41.59.51 0 1.02-.2 1.41-.59l7.78-7.78 2.81-2.81c.8-.78.8-2.07 0-2.86zM5.41 20L4 18.59l7.72-7.72 1.47 1.35L5.41 20z\"/>\n",
              "  </svg>\n",
              "      </button>\n",
              "      \n",
              "  <style>\n",
              "    .colab-df-container {\n",
              "      display:flex;\n",
              "      flex-wrap:wrap;\n",
              "      gap: 12px;\n",
              "    }\n",
              "\n",
              "    .colab-df-convert {\n",
              "      background-color: #E8F0FE;\n",
              "      border: none;\n",
              "      border-radius: 50%;\n",
              "      cursor: pointer;\n",
              "      display: none;\n",
              "      fill: #1967D2;\n",
              "      height: 32px;\n",
              "      padding: 0 0 0 0;\n",
              "      width: 32px;\n",
              "    }\n",
              "\n",
              "    .colab-df-convert:hover {\n",
              "      background-color: #E2EBFA;\n",
              "      box-shadow: 0px 1px 2px rgba(60, 64, 67, 0.3), 0px 1px 3px 1px rgba(60, 64, 67, 0.15);\n",
              "      fill: #174EA6;\n",
              "    }\n",
              "\n",
              "    [theme=dark] .colab-df-convert {\n",
              "      background-color: #3B4455;\n",
              "      fill: #D2E3FC;\n",
              "    }\n",
              "\n",
              "    [theme=dark] .colab-df-convert:hover {\n",
              "      background-color: #434B5C;\n",
              "      box-shadow: 0px 1px 3px 1px rgba(0, 0, 0, 0.15);\n",
              "      filter: drop-shadow(0px 1px 2px rgba(0, 0, 0, 0.3));\n",
              "      fill: #FFFFFF;\n",
              "    }\n",
              "  </style>\n",
              "\n",
              "      <script>\n",
              "        const buttonEl =\n",
              "          document.querySelector('#df-4017a72b-f260-4976-8538-adb6bd13c292 button.colab-df-convert');\n",
              "        buttonEl.style.display =\n",
              "          google.colab.kernel.accessAllowed ? 'block' : 'none';\n",
              "\n",
              "        async function convertToInteractive(key) {\n",
              "          const element = document.querySelector('#df-4017a72b-f260-4976-8538-adb6bd13c292');\n",
              "          const dataTable =\n",
              "            await google.colab.kernel.invokeFunction('convertToInteractive',\n",
              "                                                     [key], {});\n",
              "          if (!dataTable) return;\n",
              "\n",
              "          const docLinkHtml = 'Like what you see? Visit the ' +\n",
              "            '<a target=\"_blank\" href=https://colab.research.google.com/notebooks/data_table.ipynb>data table notebook</a>'\n",
              "            + ' to learn more about interactive tables.';\n",
              "          element.innerHTML = '';\n",
              "          dataTable['output_type'] = 'display_data';\n",
              "          await google.colab.output.renderOutput(dataTable, element);\n",
              "          const docLink = document.createElement('div');\n",
              "          docLink.innerHTML = docLinkHtml;\n",
              "          element.appendChild(docLink);\n",
              "        }\n",
              "      </script>\n",
              "    </div>\n",
              "  </div>\n",
              "  "
            ],
            "text/plain": [
              "      PostId FrontVerb Type                      Kankan_text FrontVerb_pos  \\\n",
              "0  232873689       上上網   看看  [平時, 一樣, 可以, 上上網, 看看, 影片, 還, 有]            VC   \n",
              "1  232699296        上來   看看   [交流, 於是, 分享, 上來, 看看, 大家, 有, 沒]            VA   \n",
              "2  232799658        上來   看看    [必須, 每, 天, 上來, 看看, 但, 只要, 看到]            VA   \n",
              "3  232972577        上來   看看      [集, 了, 想, 上來, 看看, 大家, 有, 沒]            VA   \n",
              "4  232939403        上去   看看   [女孩, 們, 可以, 上去, 看看, 喔猴猴, 賺, 這]            VA   \n",
              "\n",
              "                                          Content_ws  \\\n",
              "0  [先, 說, 我, 目前, 的, 筆電, 是, 服役, 了, 年, 的, 就是, 之前, 能...   \n",
              "1  [和, 朋友, 一時, 興起, 定, 了, 一, 個, 題目, 做, 一, 個, 文字, 交...   \n",
              "2  [大家, 好, 我, 是, 米糕, 麻麻, 各位, 先, 不要, 檢舉, 我, 發, 錯, ...   \n",
              "3  [哈嘍, 大家, 看到, 現在, 剩下, 集, 了, 想, 上來, 看看, 大家, 有, 沒...   \n",
              "4  [對於, 一, 個, 打工, 收入, 微薄, 的, 窮, 大學生, 而言, 我, 自己, 覺...   \n",
              "\n",
              "                                         Content_pos  \n",
              "0  [D, VE, Nh, Nd, DE, Na, SHI, VA, Di, Nf, DE, C...  \n",
              "1  [P, Na, Nd, VC, VC, Di, Neu, Nf, Na, VC, Neu, ...  \n",
              "2  [Nh, VH, Nh, SHI, Na, VH, Nes, D, D, VC, Nh, V...  \n",
              "3  [I, Nh, VE, Nd, VJ, Na, Di, VE, VA, VE, Nh, V_...  \n",
              "4  [P, Neu, Nf, VA, Na, VH, DE, VH, Na, Ng, Nh, N...  "
            ]
          },
          "execution_count": 75,
          "metadata": {},
          "output_type": "execute_result"
        }
      ],
      "source": [
        "kankan_df.head()"
      ]
    },
    {
      "cell_type": "code",
      "execution_count": 72,
      "metadata": {
        "id": "985E4khqtU_5"
      },
      "outputs": [],
      "source": [
        "#kankan_df.to_pickle('./data/kankan_df.pkl')"
      ]
    },
    {
      "cell_type": "markdown",
      "metadata": {
        "id": "fgPtUzcueI66"
      },
      "source": [
        "### Top 10 Verb in V看看"
      ]
    },
    {
      "cell_type": "code",
      "execution_count": 9,
      "metadata": {
        "id": "FmDRRXoVkE-J"
      },
      "outputs": [],
      "source": [
        "def change_listofstring_tolist(texts):\n",
        "    new_texts = []\n",
        "    for text in texts:\n",
        "        if type(text) == str:\n",
        "            text = re.sub(\"\\[|\\]|\\'\",'',text)\n",
        "            text = text.split(', ')\n",
        "            new_texts.append(text)\n",
        "        else:\n",
        "            print(text)\n",
        "            new_texts.append([])\n",
        "    return new_texts"
      ]
    },
    {
      "cell_type": "code",
      "execution_count": 74,
      "metadata": {
        "id": "HqVR6k9Td48A"
      },
      "outputs": [],
      "source": [
        "kankan_df = pd.read_pickle('./data/kankan_df.pkl')"
      ]
    },
    {
      "cell_type": "code",
      "execution_count": 76,
      "metadata": {
        "id": "NZKZFNUzd9g-"
      },
      "outputs": [],
      "source": [
        "kankan_result = kankan_df.groupby([\"FrontVerb\",'FrontVerb_pos'])['FrontVerb'].count().reset_index(name='count') \\\n",
        "                             .sort_values(['count'], ascending=False)"
      ]
    },
    {
      "cell_type": "code",
      "execution_count": 77,
      "metadata": {
        "id": "fTMZ481xhKEi"
      },
      "outputs": [],
      "source": [
        "#kankan_result.to_pickle('./data/kankan_result.pkl')"
      ]
    },
    {
      "cell_type": "code",
      "execution_count": 78,
      "metadata": {
        "colab": {
          "base_uri": "https://localhost:8080/"
        },
        "id": "0Mmk18t6iQ1P",
        "outputId": "ccd7dd61-316e-4e41-9261-82e7ee58647b"
      },
      "outputs": [
        {
          "data": {
            "text/plain": [
              "Counter({'VE': 30,\n",
              "         'VF': 5,\n",
              "         'VC': 116,\n",
              "         'VJ': 4,\n",
              "         'VA': 53,\n",
              "         'VH': 26,\n",
              "         'VCL': 5,\n",
              "         'VB': 10,\n",
              "         'VK': 8,\n",
              "         'VD': 4,\n",
              "         'VL': 2,\n",
              "         'VHC': 1,\n",
              "         'VG': 1,\n",
              "         'V_2': 1})"
            ]
          },
          "execution_count": 78,
          "metadata": {},
          "output_type": "execute_result"
        }
      ],
      "source": [
        "# 共現的動詞pos type數量\n",
        "from collections import Counter \n",
        "Counter(kankan_result['FrontVerb_pos'])"
      ]
    },
    {
      "cell_type": "code",
      "execution_count": 79,
      "metadata": {
        "colab": {
          "base_uri": "https://localhost:8080/"
        },
        "id": "TNz3aTQ2gk_W",
        "outputId": "7e30fe58-8d5f-4796-8396-90df053caa60"
      },
      "outputs": [
        {
          "data": {
            "text/plain": [
              "258"
            ]
          },
          "execution_count": 79,
          "metadata": {},
          "output_type": "execute_result"
        }
      ],
      "source": [
        "# 共現的動詞type數量\n",
        "len(set(kankan_result['FrontVerb']))"
      ]
    },
    {
      "cell_type": "code",
      "execution_count": 80,
      "metadata": {
        "colab": {
          "base_uri": "https://localhost:8080/"
        },
        "id": "IkrrzYMnmyW5",
        "outputId": "e5cc9104-79e3-484b-c64d-aa3a3c9b1378"
      },
      "outputs": [
        {
          "data": {
            "text/plain": [
              "count    266.000000\n",
              "mean       2.868421\n",
              "std        7.442457\n",
              "min        1.000000\n",
              "25%        1.000000\n",
              "50%        1.000000\n",
              "75%        2.000000\n",
              "max       76.000000\n",
              "Name: count, dtype: float64"
            ]
          },
          "execution_count": 80,
          "metadata": {},
          "output_type": "execute_result"
        }
      ],
      "source": [
        "# 共現次數summary\n",
        "kankan_result['count'].describe()"
      ]
    },
    {
      "cell_type": "code",
      "execution_count": 81,
      "metadata": {
        "colab": {
          "base_uri": "https://localhost:8080/",
          "height": 363
        },
        "id": "eusjUlCgfu75",
        "outputId": "098c15d7-059c-483f-956d-a6a0a608c408"
      },
      "outputs": [
        {
          "data": {
            "text/html": [
              "\n",
              "  <div id=\"df-512b026b-74c3-4610-bd60-94f970f548df\">\n",
              "    <div class=\"colab-df-container\">\n",
              "      <div>\n",
              "<style scoped>\n",
              "    .dataframe tbody tr th:only-of-type {\n",
              "        vertical-align: middle;\n",
              "    }\n",
              "\n",
              "    .dataframe tbody tr th {\n",
              "        vertical-align: top;\n",
              "    }\n",
              "\n",
              "    .dataframe thead th {\n",
              "        text-align: right;\n",
              "    }\n",
              "</style>\n",
              "<table border=\"1\" class=\"dataframe\">\n",
              "  <thead>\n",
              "    <tr style=\"text-align: right;\">\n",
              "      <th></th>\n",
              "      <th>FrontVerb</th>\n",
              "      <th>FrontVerb_pos</th>\n",
              "      <th>count</th>\n",
              "    </tr>\n",
              "  </thead>\n",
              "  <tbody>\n",
              "    <tr>\n",
              "      <th>38</th>\n",
              "      <td>問</td>\n",
              "      <td>VE</td>\n",
              "      <td>76</td>\n",
              "    </tr>\n",
              "    <tr>\n",
              "      <th>65</th>\n",
              "      <td>想</td>\n",
              "      <td>VE</td>\n",
              "      <td>66</td>\n",
              "    </tr>\n",
              "    <tr>\n",
              "      <th>42</th>\n",
              "      <td>嘗試</td>\n",
              "      <td>VF</td>\n",
              "      <td>44</td>\n",
              "    </tr>\n",
              "    <tr>\n",
              "      <th>28</th>\n",
              "      <td>參考</td>\n",
              "      <td>VC</td>\n",
              "      <td>43</td>\n",
              "    </tr>\n",
              "    <tr>\n",
              "      <th>256</th>\n",
              "      <td>體驗</td>\n",
              "      <td>VC</td>\n",
              "      <td>18</td>\n",
              "    </tr>\n",
              "    <tr>\n",
              "      <th>18</th>\n",
              "      <td>分享</td>\n",
              "      <td>VJ</td>\n",
              "      <td>18</td>\n",
              "    </tr>\n",
              "    <tr>\n",
              "      <th>184</th>\n",
              "      <td>詢問</td>\n",
              "      <td>VE</td>\n",
              "      <td>18</td>\n",
              "    </tr>\n",
              "    <tr>\n",
              "      <th>198</th>\n",
              "      <td>說</td>\n",
              "      <td>VE</td>\n",
              "      <td>13</td>\n",
              "    </tr>\n",
              "    <tr>\n",
              "      <th>78</th>\n",
              "      <td>找</td>\n",
              "      <td>VC</td>\n",
              "      <td>13</td>\n",
              "    </tr>\n",
              "    <tr>\n",
              "      <th>14</th>\n",
              "      <td>做</td>\n",
              "      <td>VC</td>\n",
              "      <td>13</td>\n",
              "    </tr>\n",
              "  </tbody>\n",
              "</table>\n",
              "</div>\n",
              "      <button class=\"colab-df-convert\" onclick=\"convertToInteractive('df-512b026b-74c3-4610-bd60-94f970f548df')\"\n",
              "              title=\"Convert this dataframe to an interactive table.\"\n",
              "              style=\"display:none;\">\n",
              "        \n",
              "  <svg xmlns=\"http://www.w3.org/2000/svg\" height=\"24px\"viewBox=\"0 0 24 24\"\n",
              "       width=\"24px\">\n",
              "    <path d=\"M0 0h24v24H0V0z\" fill=\"none\"/>\n",
              "    <path d=\"M18.56 5.44l.94 2.06.94-2.06 2.06-.94-2.06-.94-.94-2.06-.94 2.06-2.06.94zm-11 1L8.5 8.5l.94-2.06 2.06-.94-2.06-.94L8.5 2.5l-.94 2.06-2.06.94zm10 10l.94 2.06.94-2.06 2.06-.94-2.06-.94-.94-2.06-.94 2.06-2.06.94z\"/><path d=\"M17.41 7.96l-1.37-1.37c-.4-.4-.92-.59-1.43-.59-.52 0-1.04.2-1.43.59L10.3 9.45l-7.72 7.72c-.78.78-.78 2.05 0 2.83L4 21.41c.39.39.9.59 1.41.59.51 0 1.02-.2 1.41-.59l7.78-7.78 2.81-2.81c.8-.78.8-2.07 0-2.86zM5.41 20L4 18.59l7.72-7.72 1.47 1.35L5.41 20z\"/>\n",
              "  </svg>\n",
              "      </button>\n",
              "      \n",
              "  <style>\n",
              "    .colab-df-container {\n",
              "      display:flex;\n",
              "      flex-wrap:wrap;\n",
              "      gap: 12px;\n",
              "    }\n",
              "\n",
              "    .colab-df-convert {\n",
              "      background-color: #E8F0FE;\n",
              "      border: none;\n",
              "      border-radius: 50%;\n",
              "      cursor: pointer;\n",
              "      display: none;\n",
              "      fill: #1967D2;\n",
              "      height: 32px;\n",
              "      padding: 0 0 0 0;\n",
              "      width: 32px;\n",
              "    }\n",
              "\n",
              "    .colab-df-convert:hover {\n",
              "      background-color: #E2EBFA;\n",
              "      box-shadow: 0px 1px 2px rgba(60, 64, 67, 0.3), 0px 1px 3px 1px rgba(60, 64, 67, 0.15);\n",
              "      fill: #174EA6;\n",
              "    }\n",
              "\n",
              "    [theme=dark] .colab-df-convert {\n",
              "      background-color: #3B4455;\n",
              "      fill: #D2E3FC;\n",
              "    }\n",
              "\n",
              "    [theme=dark] .colab-df-convert:hover {\n",
              "      background-color: #434B5C;\n",
              "      box-shadow: 0px 1px 3px 1px rgba(0, 0, 0, 0.15);\n",
              "      filter: drop-shadow(0px 1px 2px rgba(0, 0, 0, 0.3));\n",
              "      fill: #FFFFFF;\n",
              "    }\n",
              "  </style>\n",
              "\n",
              "      <script>\n",
              "        const buttonEl =\n",
              "          document.querySelector('#df-512b026b-74c3-4610-bd60-94f970f548df button.colab-df-convert');\n",
              "        buttonEl.style.display =\n",
              "          google.colab.kernel.accessAllowed ? 'block' : 'none';\n",
              "\n",
              "        async function convertToInteractive(key) {\n",
              "          const element = document.querySelector('#df-512b026b-74c3-4610-bd60-94f970f548df');\n",
              "          const dataTable =\n",
              "            await google.colab.kernel.invokeFunction('convertToInteractive',\n",
              "                                                     [key], {});\n",
              "          if (!dataTable) return;\n",
              "\n",
              "          const docLinkHtml = 'Like what you see? Visit the ' +\n",
              "            '<a target=\"_blank\" href=https://colab.research.google.com/notebooks/data_table.ipynb>data table notebook</a>'\n",
              "            + ' to learn more about interactive tables.';\n",
              "          element.innerHTML = '';\n",
              "          dataTable['output_type'] = 'display_data';\n",
              "          await google.colab.output.renderOutput(dataTable, element);\n",
              "          const docLink = document.createElement('div');\n",
              "          docLink.innerHTML = docLinkHtml;\n",
              "          element.appendChild(docLink);\n",
              "        }\n",
              "      </script>\n",
              "    </div>\n",
              "  </div>\n",
              "  "
            ],
            "text/plain": [
              "    FrontVerb FrontVerb_pos  count\n",
              "38          問            VE     76\n",
              "65          想            VE     66\n",
              "42         嘗試            VF     44\n",
              "28         參考            VC     43\n",
              "256        體驗            VC     18\n",
              "18         分享            VJ     18\n",
              "184        詢問            VE     18\n",
              "198         說            VE     13\n",
              "78          找            VC     13\n",
              "14          做            VC     13"
            ]
          },
          "execution_count": 81,
          "metadata": {},
          "output_type": "execute_result"
        }
      ],
      "source": [
        "# 共現次數最多的前十個動詞\n",
        "kankan_result.head(10)"
      ]
    },
    {
      "cell_type": "markdown",
      "metadata": {
        "id": "NI6YNxURoPX-"
      },
      "source": [
        "**Plot 前10共現的V**"
      ]
    },
    {
      "cell_type": "code",
      "execution_count": null,
      "metadata": {
        "id": "AXzjsMIFv1wh"
      },
      "outputs": [],
      "source": [
        "import matplotlib as mpl\n",
        "import matplotlib.pyplot as plt\n",
        "import matplotlib.font_manager as fm\n",
        "!wget -O TaipeiSansTCBeta-Regular.ttf https://drive.google.com/uc?id=1eGAsTN1HBpJAkeVM57_C7ccp7hbgSz3_&export=download\n",
        "\n",
        "fm.fontManager.addfont('TaipeiSansTCBeta-Regular.ttf')\n",
        "mpl.rc('font', family='Taipei Sans TC Beta')"
      ]
    },
    {
      "cell_type": "code",
      "execution_count": 4,
      "metadata": {
        "id": "QG1Ruz6iBhsB"
      },
      "outputs": [],
      "source": [
        "kankan_result = pd.read_pickle('./data/kankan_result.pkl')"
      ]
    },
    {
      "cell_type": "code",
      "execution_count": 21,
      "metadata": {
        "colab": {
          "base_uri": "https://localhost:8080/",
          "height": 516
        },
        "id": "fCfQcdAznnig",
        "outputId": "62407b69-102f-4967-a4c2-71903b09c74b"
      },
      "outputs": [
        {
          "data": {
            "image/png": "[encoded data removed]",
            "text/plain": [
              "<Figure size 720x576 with 1 Axes>"
            ]
          },
          "metadata": {
            "needs_background": "light"
          },
          "output_type": "display_data"
        }
      ],
      "source": [
        "# plot\n",
        "\n",
        "fig, ax = plt.subplots(figsize=(10,8))\n",
        "\n",
        "\n",
        "df = kankan_result[:11]\n",
        "\n",
        "#assigning variables\n",
        "x = df['FrontVerb']\n",
        "y = df['count']\n",
        "\n",
        "#Graphing\n",
        "plt.barh(x,y)\n",
        "\n",
        "plt.xticks(fontsize=12)\n",
        "plt.yticks(fontsize=12)\n",
        "plt.title(\"Top 10 Verbs Co-occurring with 看看\")\n",
        "plt.xlabel(\"Post_n\")\n",
        "plt.show()"
      ]
    },
    {
      "cell_type": "markdown",
      "metadata": {
        "id": "JzTc2EdICzx7"
      },
      "source": [
        "### 想看看 vs 想看看"
      ]
    },
    {
      "cell_type": "code",
      "execution_count": 27,
      "metadata": {
        "id": "f9LVPEV3WxTJ"
      },
      "outputs": [],
      "source": [
        "kankan_df = pd.read_pickle('./data/kankan_df.pkl')"
      ]
    },
    {
      "cell_type": "code",
      "execution_count": 28,
      "metadata": {
        "colab": {
          "base_uri": "https://localhost:8080/"
        },
        "id": "ERQ7IDD3GeZJ",
        "outputId": "36c7e94c-145b-428a-a07e-7c8309e678cd"
      },
      "outputs": [
        {
          "data": {
            "text/plain": [
              "293      [看, 狄卡, 是, 想, 看看, 不同, 地方, 討論區]\n",
              "294      [的, 文章, 無聊, 想, 看看, 能不能, 開版, 更]\n",
              "295      [可以, 接受, 的, 想, 看看, 世界, 冠軍, 店家]\n",
              "296       [膠囊, 的, 價錢, 想, 看看, 蝦皮, 或, 拍賣]\n",
              "297      [便宜, 的, 所以, 想, 看看, 大家, 的, 環保袋]\n",
              "298          [太, 到, 了, 想, 看看, 大家, 的, 殼]\n",
              "299       [許多, 本來, 上, 想, 看看, 的, 超猛, 滑球]\n",
              "300          [那, 我, 就, 想, 看看, 他, 的, 照片]\n",
              "301        [我, 真的, 很, 想, 看看, 各位, 卡友, 都]\n",
              "302          [連結, 我, 也, 想, 看看, 你, 是, 不]\n",
              "303         [個, 是, 版, 想, 看看, 大家, 手帳, 都]\n",
              "304        [搖頭, 但, 又, 想, 看看, 室友男, 是, 不]\n",
              "305        [他, 現在, 只, 想, 看看, 眼前, 這, 冷清]\n",
              "306         [有, 機會, 也, 想, 看看, 有, 沒有, 租]\n",
              "307         [久, 了, 也, 想, 看看, 不同, 腔調, 的]\n",
              "308    [喜歡, 推理片, 或是, 想, 看看, 美國, 隊長, 怎麼]\n",
              "309       [右下方, 有, 下載鍵, 想, 看看, 上, 次, 的]\n",
              "310         [上, 看到, 的, 想, 看看, 還, 有, 其他]\n",
              "311        [大家, 想, 不, 想, 看看, 自己, 運氣, 好]\n",
              "312       [所以, 愛上, 也, 想, 看看, 之後, 的, 發展]\n",
              "313        [台灣, 買, 的, 想, 看看, 跟, 海外版, 有]\n",
              "314           [一, 波, 也, 想, 看看, 還, 有, 沒]\n",
              "315       [種, 款式, 太少, 想, 看看, 有, 沒有, 其他]\n",
              "316          [嘛, 我, 好, 想, 看看, 的, 膠片, 呀]\n",
              "317        [猶豫, 但, 還是, 想, 看看, 台灣, 有, 沒]\n",
              "318     [的, 母親, 三不五時, 想, 看看, 自己, 的, 孫女]\n",
              "319        [有, 負面, 的, 想, 看看, 有沒有, 讀, 過]\n",
              "320        [秋晴, 的, 長髮, 想, 看看, 她, 那, 美麗]\n",
              "321       [但, 還是, 滿, 想, 看看, 大家, 如何, 分析]\n",
              "322       [滿心, 期待, 的, 想, 看看, 這, 種, 高科技]\n",
              "323          [一, 本, 讀, 想, 看看, 各位, 在, 考]\n",
              "324          [她, 她, 還, 想, 看看, 我, 長大, 後]\n",
              "325        [是, 我, 只是, 想, 看看, 阿離, 身子, 有]\n",
              "326      [小孩, 沒, 工作, 想, 看看, 大家, 看法, 如何]\n",
              "327         [很, 唯美, 很, 想, 看看, 希望, 有, 人]\n",
              "328        [問題, 真的, 無解, 想, 看看, 版, 上, 的]\n",
              "329         [了, 不少, 卡, 想, 看看, 還, 有, 什麼]\n",
              "330       [雙眼皮, 原本, 還, 想, 看看, 台北, 的, 金]\n",
              "331         [他, 的, 懷抱, 想, 看看, 他, 的, 表情]\n",
              "332       [總, 特意, 繞道, 想, 看看, 她, 今天, 考完]\n",
              "333         [我, 偶爾, 也, 想, 看看, 他, 穿, 其他]\n",
              "334        [因為, 好玩, 而是, 想, 看看, 一, 眼, 他]\n",
              "335       [台灣, 網美, 突然, 想, 看看, 她, 在, 日本]\n",
              "336       [相隔, 不遠, 除了, 想, 看看, 兩, 邊, 氛圍]\n",
              "337        [刀, 先, 看到, 想, 看看, 多, 關於, 期貨]\n",
              "338       [看到, 再, 蓋, 想, 看看, 男生板, 的, 唇樓]\n",
              "339      [想, 矯正, 是, 想, 看看, 能不能, 改善, 顳二]\n",
              "340       [覺得, 丟臉, 所以, 想, 看看, 怎麼, 救, 先]\n",
              "341      [學妹, 只是, 編出來, 想, 看看, 我, 的, 反應]\n",
              "342     [有, 一點, 故意, 想, 看看, 中途, 停下, 崔勝澈]\n",
              "343         [人, 傻爆, 眼, 想, 看看, 兩, 個, 女子]\n",
              "344                  [想, 看看, 大家, 對於, 這]\n",
              "345                   [想, 看看, 群, 裡, 北漂]\n",
              "346       [大家, 也, 可以, 想, 看看, 最近, 在, 準備]\n",
              "347        [聽, 特別, 的, 想, 看看, 大家, 的, 意見]\n",
              "348        [過去, 抱, 她, 想, 看看, 她, 會不會, 把]\n",
              "349      [辛苦, 的, 你們, 想, 看看, 如果, 你們, 自己]\n",
              "350        [過, 頭, 來, 想, 看看, 眼前, 的, 開放式]\n",
              "351      [試色, 但, 還是, 想, 看看, 大家, 有沒有, 收]\n",
              "352          [今天, 試, 著, 想, 看看, 是, 不, 是]\n",
              "353                  [想, 看看, 兩岸, 人民, 的]\n",
              "354      [壓力, 還是, 不少, 想, 看看, 大家, 是否, 能]\n",
              "355         [沒, 下手, 啦, 想, 看看, 大家, 都, 拜]\n",
              "356         [啊, 就, 只是, 想, 看看, 前任, 過, 的]\n",
              "357        [刮刮卡, 什麼, 的, 想, 看看, 版, 上, 有]\n",
              "358       [對面, 書櫃, 繞過來, 想, 看看, 是, 哪, 個]\n",
              "Name: Kankan_text, dtype: object"
            ]
          },
          "execution_count": 28,
          "metadata": {},
          "output_type": "execute_result"
        }
      ],
      "source": [
        "pd.set_option('display.max_rows',1000)\n",
        "kankan_df.loc[kankan_df['FrontVerb']=='想']['Kankan_text']"
      ]
    },
    {
      "cell_type": "markdown",
      "metadata": {
        "id": "TqhGpUyQMjmw"
      },
      "source": [
        "## Find posts with VV看"
      ]
    },
    {
      "cell_type": "code",
      "execution_count": 15,
      "metadata": {
        "id": "oWNJdRu3NPkz"
      },
      "outputs": [],
      "source": [
        "text_df = pd.read_pickle('./data/dcard_text_df.pkl')"
      ]
    },
    {
      "cell_type": "code",
      "execution_count": 49,
      "metadata": {
        "id": "1Zttj1udNbAE"
      },
      "outputs": [],
      "source": [
        "# find regex of VV看\n",
        "v_list = []\n",
        "v_pos_list = []\n",
        "k_texts= []\n",
        "k_ids = []\n",
        "for i, r in text_df.iterrows():\n",
        "    if '看' in r['Content_ws']:\n",
        "        kk= r['Content_ws'].index('看')\n",
        "        if 'V' in r['Content_pos'][kk-1] and r['Content_pos'][kk-1]!='VH':\n",
        "            if len(r['Content_ws'][kk-1])==2 or len(r['Content_ws'][kk-1])==4:\n",
        "                front_verb = r['Content_ws'][kk-1]\n",
        "                chars = list(front_verb)\n",
        "                if len(chars)==2 and chars[0]==chars[1]:\n",
        "                    front_verb = \"\".join(chars)\n",
        "                    k_ids.append(kk)\n",
        "                    v_list.append(front_verb)\n",
        "                    v_pos_list.append(r['Content_pos'][kk-1])  \n",
        "                    if kk <= (len(r['Content_ws'])-4) and kk >=4:\n",
        "                        k_texts.append(r['Content_ws'][kk-4:kk+4])\n",
        "                    else:\n",
        "                        k_texts.append(r['Content_ws'])\n",
        "\n",
        "                elif len(chars)==4:\n",
        "                    dup = [x for x in chars if chars.count(x) > 1]\n",
        "                    front_verb = \"\".join(dup)\n",
        "                    k_ids.append(kk)\n",
        "                    v_list.append(front_verb)\n",
        "                    v_pos_list.append(r['Content_pos'][kk-1]) \n",
        "                    if kk <= (len(r['Content_ws'])-4) and kk >=4:\n",
        "                        k_texts.append(r['Content_ws'][kk-4:kk+4])\n",
        "                    else:\n",
        "                        k_texts.append(r['Content_ws'])               \n",
        "                    "
      ]
    },
    {
      "cell_type": "code",
      "execution_count": null,
      "metadata": {
        "id": "t5CoTQohVY3L"
      },
      "outputs": [],
      "source": [
        "vvk_df = text_df.iloc[k_ids]\n",
        "vvk_df['VVK_text'] = k_texts\n",
        "vvk_df['FrontVerb'] = v_list\n",
        "vvk_df['FrontVerb_pos'] = v_pos_list\n",
        "vvk_df['Type'] = '看'\n",
        "vvk_df = vvk_df[['PostId','FrontVerb','Type','VVK_text','Content_ws','Content_pos','FrontVerb_pos']]"
      ]
    },
    {
      "cell_type": "code",
      "execution_count": 51,
      "metadata": {
        "colab": {
          "base_uri": "https://localhost:8080/"
        },
        "id": "wvFME99dV1Vm",
        "outputId": "179a7063-b40d-4294-e9f9-68030a7b1711"
      },
      "outputs": [
        {
          "data": {
            "text/plain": [
              "(441, 7)"
            ]
          },
          "execution_count": 51,
          "metadata": {},
          "output_type": "execute_result"
        }
      ],
      "source": [
        "vvk_df.shape"
      ]
    },
    {
      "cell_type": "code",
      "execution_count": 52,
      "metadata": {
        "id": "24946GhgV1Vn"
      },
      "outputs": [],
      "source": [
        "vvk_df = vvk_df.sort_values(by=['FrontVerb','PostId']).reset_index(drop=True)\n",
        "vvk_result = vvk_df.groupby([\"FrontVerb\",'FrontVerb_pos'])['FrontVerb'].count().reset_index(name='count') \\\n",
        "                             .sort_values(['count'], ascending=False)"
      ]
    },
    {
      "cell_type": "code",
      "execution_count": 64,
      "metadata": {
        "id": "mAByNqwHV1Vo"
      },
      "outputs": [],
      "source": [
        "#vvk_df.to_pickle('./data/vvk_df.pkl')"
      ]
    },
    {
      "cell_type": "code",
      "execution_count": 62,
      "metadata": {
        "id": "8nnTOQkgWxRw"
      },
      "outputs": [],
      "source": [
        "#vvk_result.to_pickle('./data/vvk_result.pkl')"
      ]
    },
    {
      "cell_type": "markdown",
      "metadata": {
        "id": "PxGDbIQdbG72"
      },
      "source": [
        "### Top 10 Verb in VV看"
      ]
    },
    {
      "cell_type": "code",
      "execution_count": 61,
      "metadata": {
        "colab": {
          "base_uri": "https://localhost:8080/"
        },
        "id": "MrpLIgEMWxRw",
        "outputId": "811fe58f-88aa-4fdf-c0c4-78867367baec"
      },
      "outputs": [
        {
          "data": {
            "text/plain": [
              "Counter({'VE': 11, 'VF': 3, 'VC': 38, 'VA': 6, 'VJ': 1, 'VCL': 2, 'VD': 1})"
            ]
          },
          "execution_count": 61,
          "metadata": {},
          "output_type": "execute_result"
        }
      ],
      "source": [
        "# 共現的動詞pos type數量\n",
        "from collections import Counter \n",
        "Counter(vvk_result['FrontVerb_pos'])"
      ]
    },
    {
      "cell_type": "code",
      "execution_count": 58,
      "metadata": {
        "colab": {
          "base_uri": "https://localhost:8080/"
        },
        "id": "b3XzpWDaWxRw",
        "outputId": "2f22e991-b8f0-466f-aa39-499550462479"
      },
      "outputs": [
        {
          "data": {
            "text/plain": [
              "56"
            ]
          },
          "execution_count": 58,
          "metadata": {},
          "output_type": "execute_result"
        }
      ],
      "source": [
        "# 共現的動詞type數量\n",
        "len(set(vvk_result['FrontVerb']))"
      ]
    },
    {
      "cell_type": "code",
      "execution_count": 59,
      "metadata": {
        "colab": {
          "base_uri": "https://localhost:8080/"
        },
        "id": "Da35vfRVWxRx",
        "outputId": "c2eaefe5-43b3-4833-87a4-70fac09bcbe9"
      },
      "outputs": [
        {
          "data": {
            "text/plain": [
              "count    62.000000\n",
              "mean      7.112903\n",
              "std      16.298552\n",
              "min       1.000000\n",
              "25%       1.000000\n",
              "50%       1.000000\n",
              "75%       4.000000\n",
              "max      81.000000\n",
              "Name: count, dtype: float64"
            ]
          },
          "execution_count": 59,
          "metadata": {},
          "output_type": "execute_result"
        }
      ],
      "source": [
        "# 共現次數summary\n",
        "vvk_result['count'].describe()"
      ]
    },
    {
      "cell_type": "code",
      "execution_count": 60,
      "metadata": {
        "colab": {
          "base_uri": "https://localhost:8080/",
          "height": 363
        },
        "id": "50-uKNy_WxRx",
        "outputId": "78c39fb6-547f-478f-b631-43dc622cc392"
      },
      "outputs": [
        {
          "data": {
            "text/html": [
              "\n",
              "  <div id=\"df-44db39ce-4722-44ba-afc5-f2e4ee04e600\">\n",
              "    <div class=\"colab-df-container\">\n",
              "      <div>\n",
              "<style scoped>\n",
              "    .dataframe tbody tr th:only-of-type {\n",
              "        vertical-align: middle;\n",
              "    }\n",
              "\n",
              "    .dataframe tbody tr th {\n",
              "        vertical-align: top;\n",
              "    }\n",
              "\n",
              "    .dataframe thead th {\n",
              "        text-align: right;\n",
              "    }\n",
              "</style>\n",
              "<table border=\"1\" class=\"dataframe\">\n",
              "  <thead>\n",
              "    <tr style=\"text-align: right;\">\n",
              "      <th></th>\n",
              "      <th>FrontVerb</th>\n",
              "      <th>FrontVerb_pos</th>\n",
              "      <th>count</th>\n",
              "    </tr>\n",
              "  </thead>\n",
              "  <tbody>\n",
              "    <tr>\n",
              "      <th>47</th>\n",
              "      <td>試試</td>\n",
              "      <td>VE</td>\n",
              "      <td>81</td>\n",
              "    </tr>\n",
              "    <tr>\n",
              "      <th>7</th>\n",
              "      <td>問問</td>\n",
              "      <td>VE</td>\n",
              "      <td>81</td>\n",
              "    </tr>\n",
              "    <tr>\n",
              "      <th>48</th>\n",
              "      <td>試試</td>\n",
              "      <td>VF</td>\n",
              "      <td>59</td>\n",
              "    </tr>\n",
              "    <tr>\n",
              "      <th>43</th>\n",
              "      <td>聽聽</td>\n",
              "      <td>VE</td>\n",
              "      <td>28</td>\n",
              "    </tr>\n",
              "    <tr>\n",
              "      <th>46</th>\n",
              "      <td>試試</td>\n",
              "      <td>VC</td>\n",
              "      <td>26</td>\n",
              "    </tr>\n",
              "    <tr>\n",
              "      <th>6</th>\n",
              "      <td>吃吃</td>\n",
              "      <td>VC</td>\n",
              "      <td>17</td>\n",
              "    </tr>\n",
              "    <tr>\n",
              "      <th>3</th>\n",
              "      <td>做做</td>\n",
              "      <td>VC</td>\n",
              "      <td>15</td>\n",
              "    </tr>\n",
              "    <tr>\n",
              "      <th>15</th>\n",
              "      <td>找找</td>\n",
              "      <td>VC</td>\n",
              "      <td>12</td>\n",
              "    </tr>\n",
              "    <tr>\n",
              "      <th>8</th>\n",
              "      <td>喝喝</td>\n",
              "      <td>VC</td>\n",
              "      <td>12</td>\n",
              "    </tr>\n",
              "    <tr>\n",
              "      <th>30</th>\n",
              "      <td>玩玩</td>\n",
              "      <td>VC</td>\n",
              "      <td>10</td>\n",
              "    </tr>\n",
              "  </tbody>\n",
              "</table>\n",
              "</div>\n",
              "      <button class=\"colab-df-convert\" onclick=\"convertToInteractive('df-44db39ce-4722-44ba-afc5-f2e4ee04e600')\"\n",
              "              title=\"Convert this dataframe to an interactive table.\"\n",
              "              style=\"display:none;\">\n",
              "        \n",
              "  <svg xmlns=\"http://www.w3.org/2000/svg\" height=\"24px\"viewBox=\"0 0 24 24\"\n",
              "       width=\"24px\">\n",
              "    <path d=\"M0 0h24v24H0V0z\" fill=\"none\"/>\n",
              "    <path d=\"M18.56 5.44l.94 2.06.94-2.06 2.06-.94-2.06-.94-.94-2.06-.94 2.06-2.06.94zm-11 1L8.5 8.5l.94-2.06 2.06-.94-2.06-.94L8.5 2.5l-.94 2.06-2.06.94zm10 10l.94 2.06.94-2.06 2.06-.94-2.06-.94-.94-2.06-.94 2.06-2.06.94z\"/><path d=\"M17.41 7.96l-1.37-1.37c-.4-.4-.92-.59-1.43-.59-.52 0-1.04.2-1.43.59L10.3 9.45l-7.72 7.72c-.78.78-.78 2.05 0 2.83L4 21.41c.39.39.9.59 1.41.59.51 0 1.02-.2 1.41-.59l7.78-7.78 2.81-2.81c.8-.78.8-2.07 0-2.86zM5.41 20L4 18.59l7.72-7.72 1.47 1.35L5.41 20z\"/>\n",
              "  </svg>\n",
              "      </button>\n",
              "      \n",
              "  <style>\n",
              "    .colab-df-container {\n",
              "      display:flex;\n",
              "      flex-wrap:wrap;\n",
              "      gap: 12px;\n",
              "    }\n",
              "\n",
              "    .colab-df-convert {\n",
              "      background-color: #E8F0FE;\n",
              "      border: none;\n",
              "      border-radius: 50%;\n",
              "      cursor: pointer;\n",
              "      display: none;\n",
              "      fill: #1967D2;\n",
              "      height: 32px;\n",
              "      padding: 0 0 0 0;\n",
              "      width: 32px;\n",
              "    }\n",
              "\n",
              "    .colab-df-convert:hover {\n",
              "      background-color: #E2EBFA;\n",
              "      box-shadow: 0px 1px 2px rgba(60, 64, 67, 0.3), 0px 1px 3px 1px rgba(60, 64, 67, 0.15);\n",
              "      fill: #174EA6;\n",
              "    }\n",
              "\n",
              "    [theme=dark] .colab-df-convert {\n",
              "      background-color: #3B4455;\n",
              "      fill: #D2E3FC;\n",
              "    }\n",
              "\n",
              "    [theme=dark] .colab-df-convert:hover {\n",
              "      background-color: #434B5C;\n",
              "      box-shadow: 0px 1px 3px 1px rgba(0, 0, 0, 0.15);\n",
              "      filter: drop-shadow(0px 1px 2px rgba(0, 0, 0, 0.3));\n",
              "      fill: #FFFFFF;\n",
              "    }\n",
              "  </style>\n",
              "\n",
              "      <script>\n",
              "        const buttonEl =\n",
              "          document.querySelector('#df-44db39ce-4722-44ba-afc5-f2e4ee04e600 button.colab-df-convert');\n",
              "        buttonEl.style.display =\n",
              "          google.colab.kernel.accessAllowed ? 'block' : 'none';\n",
              "\n",
              "        async function convertToInteractive(key) {\n",
              "          const element = document.querySelector('#df-44db39ce-4722-44ba-afc5-f2e4ee04e600');\n",
              "          const dataTable =\n",
              "            await google.colab.kernel.invokeFunction('convertToInteractive',\n",
              "                                                     [key], {});\n",
              "          if (!dataTable) return;\n",
              "\n",
              "          const docLinkHtml = 'Like what you see? Visit the ' +\n",
              "            '<a target=\"_blank\" href=https://colab.research.google.com/notebooks/data_table.ipynb>data table notebook</a>'\n",
              "            + ' to learn more about interactive tables.';\n",
              "          element.innerHTML = '';\n",
              "          dataTable['output_type'] = 'display_data';\n",
              "          await google.colab.output.renderOutput(dataTable, element);\n",
              "          const docLink = document.createElement('div');\n",
              "          docLink.innerHTML = docLinkHtml;\n",
              "          element.appendChild(docLink);\n",
              "        }\n",
              "      </script>\n",
              "    </div>\n",
              "  </div>\n",
              "  "
            ],
            "text/plain": [
              "   FrontVerb FrontVerb_pos  count\n",
              "47        試試            VE     81\n",
              "7         問問            VE     81\n",
              "48        試試            VF     59\n",
              "43        聽聽            VE     28\n",
              "46        試試            VC     26\n",
              "6         吃吃            VC     17\n",
              "3         做做            VC     15\n",
              "15        找找            VC     12\n",
              "8         喝喝            VC     12\n",
              "30        玩玩            VC     10"
            ]
          },
          "execution_count": 60,
          "metadata": {},
          "output_type": "execute_result"
        }
      ],
      "source": [
        "# 共現次數最多的前十個動詞\n",
        "vvk_result.head(10)"
      ]
    },
    {
      "cell_type": "markdown",
      "metadata": {
        "id": "EZMI4QXTWxRx"
      },
      "source": [
        "**Plot 前10 共現的verb**"
      ]
    },
    {
      "cell_type": "code",
      "execution_count": null,
      "metadata": {
        "id": "nevLFIrlWxRx"
      },
      "outputs": [],
      "source": [
        "import matplotlib as mpl\n",
        "import matplotlib.pyplot as plt\n",
        "import matplotlib.font_manager as fm\n",
        "!wget -O TaipeiSansTCBeta-Regular.ttf https://drive.google.com/uc?id=1eGAsTN1HBpJAkeVM57_C7ccp7hbgSz3_&export=download\n",
        "\n",
        "fm.fontManager.addfont('TaipeiSansTCBeta-Regular.ttf')\n",
        "mpl.rc('font', family='Taipei Sans TC Beta')"
      ]
    },
    {
      "cell_type": "code",
      "execution_count": 83,
      "metadata": {
        "colab": {
          "base_uri": "https://localhost:8080/",
          "height": 516
        },
        "id": "1EwVzxmDWxRy",
        "outputId": "c5425f4c-ec7a-4176-a666-088bce9e7c03"
      },
      "outputs": [
        {
          "data": {
            "image/png": "[encoded data removed]",
            "text/plain": [
              "<Figure size 720x576 with 1 Axes>"
            ]
          },
          "metadata": {
            "needs_background": "light"
          },
          "output_type": "display_data"
        }
      ],
      "source": [
        "# plot\n",
        "\n",
        "fig, ax = plt.subplots(figsize=(10,8))\n",
        "\n",
        "\n",
        "df = vvk_result[:11]\n",
        "\n",
        "#assigning variables\n",
        "x = df['FrontVerb']\n",
        "y = df['count']\n",
        "\n",
        "#Graphing\n",
        "plt.barh(x,y)\n",
        "plt.xticks(fontsize=12)\n",
        "plt.yticks(fontsize=12)\n",
        "plt.title(\"Top 10 Verbs with VV看\")\n",
        "plt.xlabel(\"Post_n\")\n",
        "plt.show()"
      ]
    },
    {
      "cell_type": "markdown",
      "metadata": {
        "id": "oFpZgD5mXG00"
      },
      "source": [
        "## 總次數最多、相差次數最多、兩構式皆有"
      ]
    },
    {
      "cell_type": "code",
      "execution_count": 57,
      "metadata": {
        "id": "H4fn9I9tlATq"
      },
      "outputs": [],
      "source": [
        "def plot_barh(data_df, x_col, y_col,titletext):\n",
        "    fig, ax = plt.subplots(figsize=(10,8))\n",
        "    df = data_df[:11]\n",
        "\n",
        "    #assigning variables\n",
        "    x = df[x_col]\n",
        "    y = df[y_col]\n",
        "\n",
        "    #Graphing\n",
        "    plt.barh(x,y)\n",
        "    plt.xticks(fontsize=12)\n",
        "    plt.yticks(fontsize=12)\n",
        "    plt.title(titletext)\n",
        "    plt.xlabel(\"Post_n\")\n",
        "    plt.show()"
      ]
    },
    {
      "cell_type": "code",
      "execution_count": 29,
      "metadata": {
        "id": "GBgGCC-PXPNy"
      },
      "outputs": [],
      "source": [
        "vvk_result = pd.read_pickle('./data/vvk_result.pkl')\n",
        "kankan_result = pd.read_pickle('./data/kankan_result.pkl')"
      ]
    },
    {
      "cell_type": "code",
      "execution_count": 35,
      "metadata": {
        "id": "KFB2-ptbXd3C"
      },
      "outputs": [],
      "source": [
        "# 兩個各自的動詞dict\n",
        "vvk_dict =dict(zip(vvk_result['FrontVerb'], vvk_result['count']))\n",
        "kankan_dict = dict(zip(kankan_result['FrontVerb'], kankan_result['count']))"
      ]
    },
    {
      "cell_type": "code",
      "execution_count": 37,
      "metadata": {
        "colab": {
          "base_uri": "https://localhost:8080/"
        },
        "id": "cYCkbRIZYcrE",
        "outputId": "f3274e77-0e5b-41f1-cd70-e60a016b965c"
      },
      "outputs": [
        {
          "data": {
            "text/plain": [
              "284"
            ]
          },
          "execution_count": 37,
          "metadata": {},
          "output_type": "execute_result"
        }
      ],
      "source": [
        "# 聯集動詞\n",
        "union_verbs = []\n",
        "for v in vvk_dict.keys():   # 這裡面的key是疊字\n",
        "    union_verbs.append(v[0])\n",
        "\n",
        "for v in kankan_dict.keys():   # 這裡面的key只有一個字\n",
        "    union_verbs.append(v)\n",
        "\n",
        "union_verbs = list(set(union_verbs))\n",
        "len(union_verbs)"
      ]
    },
    {
      "cell_type": "code",
      "execution_count": 46,
      "metadata": {
        "colab": {
          "base_uri": "https://localhost:8080/"
        },
        "id": "awxehlBMY3xK",
        "outputId": "3e21734e-8f2c-4374-bb88-2f4eb9190627"
      },
      "outputs": [
        {
          "data": {
            "text/plain": [
              "284"
            ]
          },
          "execution_count": 46,
          "metadata": {},
          "output_type": "execute_result"
        }
      ],
      "source": [
        "datalist = []\n",
        "# 做成大表\n",
        "for v in union_verbs:\n",
        "    data = [v]\n",
        "    if v in kankan_dict.keys():     # 有V看看\n",
        "        data.append(kankan_dict[v])\n",
        "    else:\n",
        "        data.append(0)\n",
        "    if (v*2) in vvk_dict.keys():    # 有vv看\n",
        "        data.append(vvk_dict[(v*2)])\n",
        "    else:\n",
        "        data.append(0)\n",
        "    \n",
        "    sum = data[1]+data[2]\n",
        "    gap = max(data[1], data[2]) - min(data[1], data[2])\n",
        "    data.append(sum)\n",
        "    data.append(gap)\n",
        "    \n",
        "    datalist.append(data)\n",
        "\n",
        "len(datalist)"
      ]
    },
    {
      "cell_type": "code",
      "execution_count": 54,
      "metadata": {
        "id": "p_rl-z7iZmpS"
      },
      "outputs": [],
      "source": [
        "union_df = pd.DataFrame(datalist, columns=['FrontVerb', 'V看看_n', 'vv看_n', '出現總次數', '相差次數'])"
      ]
    },
    {
      "cell_type": "code",
      "execution_count": 56,
      "metadata": {
        "id": "7Dc6i-PgkaZ5"
      },
      "outputs": [],
      "source": [
        "union_df.to_pickle('./data/union_df.pkl')"
      ]
    },
    {
      "cell_type": "code",
      "execution_count": 58,
      "metadata": {
        "colab": {
          "base_uri": "https://localhost:8080/",
          "height": 516
        },
        "id": "32MmBA_wa6TB",
        "outputId": "09077b82-2788-4f6a-fee3-6fef3eb81ce3"
      },
      "outputs": [
        {
          "data": {
            "image/png": "[encoded data removed]",
            "text/plain": [
              "<Figure size 720x576 with 1 Axes>"
            ]
          },
          "metadata": {
            "needs_background": "light"
          },
          "output_type": "display_data"
        }
      ],
      "source": [
        "df = union_df.sort_values(['出現總次數'], ascending=False).reset_index(drop=True)\n",
        "plot_barh(df, 'FrontVerb', '出現總次數', '出現總次數 Top 10')"
      ]
    },
    {
      "cell_type": "code",
      "execution_count": 59,
      "metadata": {
        "colab": {
          "base_uri": "https://localhost:8080/",
          "height": 516
        },
        "id": "GAiKing8cCC5",
        "outputId": "2bb10ac0-3491-4ef3-aed0-c2f78621b0e2"
      },
      "outputs": [
        {
          "data": {
            "image/png": "[encoded data removed]",
            "text/plain": [
              "<Figure size 720x576 with 1 Axes>"
            ]
          },
          "metadata": {
            "needs_background": "light"
          },
          "output_type": "display_data"
        }
      ],
      "source": [
        "df = union_df.sort_values(['相差次數'], ascending=False).reset_index(drop=True)\n",
        "plot_barh(df, 'FrontVerb', '相差次數', '相差次數 Top 10')"
      ]
    },
    {
      "cell_type": "markdown",
      "metadata": {
        "id": "54lL4-5cmR6C"
      },
      "source": [
        "**兩構式皆有出現**"
      ]
    },
    {
      "cell_type": "code",
      "execution_count": 62,
      "metadata": {
        "colab": {
          "base_uri": "https://localhost:8080/",
          "height": 990
        },
        "id": "xeFsz8YxkXLa",
        "outputId": "6294938f-5180-46cb-88c8-d1cca44f7b51"
      },
      "outputs": [
        {
          "data": {
            "text/html": [
              "\n",
              "  <div id=\"df-c25c3c3d-f3b8-46a0-bc5a-28db5fd2ea51\">\n",
              "    <div class=\"colab-df-container\">\n",
              "      <div>\n",
              "<style scoped>\n",
              "    .dataframe tbody tr th:only-of-type {\n",
              "        vertical-align: middle;\n",
              "    }\n",
              "\n",
              "    .dataframe tbody tr th {\n",
              "        vertical-align: top;\n",
              "    }\n",
              "\n",
              "    .dataframe thead th {\n",
              "        text-align: right;\n",
              "    }\n",
              "</style>\n",
              "<table border=\"1\" class=\"dataframe\">\n",
              "  <thead>\n",
              "    <tr style=\"text-align: right;\">\n",
              "      <th></th>\n",
              "      <th>FrontVerb</th>\n",
              "      <th>V看看_n</th>\n",
              "      <th>vv看_n</th>\n",
              "      <th>出現總次數</th>\n",
              "      <th>相差次數</th>\n",
              "    </tr>\n",
              "  </thead>\n",
              "  <tbody>\n",
              "    <tr>\n",
              "      <th>0</th>\n",
              "      <td>問</td>\n",
              "      <td>76</td>\n",
              "      <td>81</td>\n",
              "      <td>157</td>\n",
              "      <td>5</td>\n",
              "    </tr>\n",
              "    <tr>\n",
              "      <th>1</th>\n",
              "      <td>想</td>\n",
              "      <td>66</td>\n",
              "      <td>10</td>\n",
              "      <td>76</td>\n",
              "      <td>56</td>\n",
              "    </tr>\n",
              "    <tr>\n",
              "      <th>2</th>\n",
              "      <td>聽</td>\n",
              "      <td>9</td>\n",
              "      <td>28</td>\n",
              "      <td>37</td>\n",
              "      <td>19</td>\n",
              "    </tr>\n",
              "    <tr>\n",
              "      <th>3</th>\n",
              "      <td>吃</td>\n",
              "      <td>12</td>\n",
              "      <td>17</td>\n",
              "      <td>29</td>\n",
              "      <td>5</td>\n",
              "    </tr>\n",
              "    <tr>\n",
              "      <th>4</th>\n",
              "      <td>做</td>\n",
              "      <td>13</td>\n",
              "      <td>15</td>\n",
              "      <td>28</td>\n",
              "      <td>2</td>\n",
              "    </tr>\n",
              "    <tr>\n",
              "      <th>5</th>\n",
              "      <td>找</td>\n",
              "      <td>13</td>\n",
              "      <td>12</td>\n",
              "      <td>25</td>\n",
              "      <td>1</td>\n",
              "    </tr>\n",
              "    <tr>\n",
              "      <th>6</th>\n",
              "      <td>玩</td>\n",
              "      <td>10</td>\n",
              "      <td>10</td>\n",
              "      <td>20</td>\n",
              "      <td>0</td>\n",
              "    </tr>\n",
              "    <tr>\n",
              "      <th>7</th>\n",
              "      <td>說</td>\n",
              "      <td>13</td>\n",
              "      <td>3</td>\n",
              "      <td>16</td>\n",
              "      <td>10</td>\n",
              "    </tr>\n",
              "    <tr>\n",
              "      <th>8</th>\n",
              "      <td>喝</td>\n",
              "      <td>4</td>\n",
              "      <td>12</td>\n",
              "      <td>16</td>\n",
              "      <td>8</td>\n",
              "    </tr>\n",
              "    <tr>\n",
              "      <th>9</th>\n",
              "      <td>用</td>\n",
              "      <td>3</td>\n",
              "      <td>9</td>\n",
              "      <td>12</td>\n",
              "      <td>6</td>\n",
              "    </tr>\n",
              "    <tr>\n",
              "      <th>10</th>\n",
              "      <td>聞</td>\n",
              "      <td>5</td>\n",
              "      <td>4</td>\n",
              "      <td>9</td>\n",
              "      <td>1</td>\n",
              "    </tr>\n",
              "    <tr>\n",
              "      <th>11</th>\n",
              "      <td>買</td>\n",
              "      <td>4</td>\n",
              "      <td>4</td>\n",
              "      <td>8</td>\n",
              "      <td>0</td>\n",
              "    </tr>\n",
              "    <tr>\n",
              "      <th>12</th>\n",
              "      <td>嚐</td>\n",
              "      <td>1</td>\n",
              "      <td>6</td>\n",
              "      <td>7</td>\n",
              "      <td>5</td>\n",
              "    </tr>\n",
              "    <tr>\n",
              "      <th>13</th>\n",
              "      <td>猜</td>\n",
              "      <td>2</td>\n",
              "      <td>4</td>\n",
              "      <td>6</td>\n",
              "      <td>2</td>\n",
              "    </tr>\n",
              "    <tr>\n",
              "      <th>14</th>\n",
              "      <td>摸</td>\n",
              "      <td>1</td>\n",
              "      <td>4</td>\n",
              "      <td>5</td>\n",
              "      <td>3</td>\n",
              "    </tr>\n",
              "    <tr>\n",
              "      <th>15</th>\n",
              "      <td>試</td>\n",
              "      <td>4</td>\n",
              "      <td>1</td>\n",
              "      <td>5</td>\n",
              "      <td>3</td>\n",
              "    </tr>\n",
              "    <tr>\n",
              "      <th>16</th>\n",
              "      <td>讀</td>\n",
              "      <td>1</td>\n",
              "      <td>2</td>\n",
              "      <td>3</td>\n",
              "      <td>1</td>\n",
              "    </tr>\n",
              "    <tr>\n",
              "      <th>17</th>\n",
              "      <td>拍</td>\n",
              "      <td>2</td>\n",
              "      <td>1</td>\n",
              "      <td>3</td>\n",
              "      <td>1</td>\n",
              "    </tr>\n",
              "    <tr>\n",
              "      <th>18</th>\n",
              "      <td>選</td>\n",
              "      <td>2</td>\n",
              "      <td>1</td>\n",
              "      <td>3</td>\n",
              "      <td>1</td>\n",
              "    </tr>\n",
              "    <tr>\n",
              "      <th>19</th>\n",
              "      <td>看</td>\n",
              "      <td>1</td>\n",
              "      <td>2</td>\n",
              "      <td>3</td>\n",
              "      <td>1</td>\n",
              "    </tr>\n",
              "    <tr>\n",
              "      <th>20</th>\n",
              "      <td>考</td>\n",
              "      <td>1</td>\n",
              "      <td>2</td>\n",
              "      <td>3</td>\n",
              "      <td>1</td>\n",
              "    </tr>\n",
              "    <tr>\n",
              "      <th>21</th>\n",
              "      <td>逛</td>\n",
              "      <td>1</td>\n",
              "      <td>1</td>\n",
              "      <td>2</td>\n",
              "      <td>0</td>\n",
              "    </tr>\n",
              "    <tr>\n",
              "      <th>22</th>\n",
              "      <td>辦</td>\n",
              "      <td>1</td>\n",
              "      <td>1</td>\n",
              "      <td>2</td>\n",
              "      <td>0</td>\n",
              "    </tr>\n",
              "    <tr>\n",
              "      <th>23</th>\n",
              "      <td>賭</td>\n",
              "      <td>1</td>\n",
              "      <td>1</td>\n",
              "      <td>2</td>\n",
              "      <td>0</td>\n",
              "    </tr>\n",
              "    <tr>\n",
              "      <th>24</th>\n",
              "      <td>送</td>\n",
              "      <td>1</td>\n",
              "      <td>1</td>\n",
              "      <td>2</td>\n",
              "      <td>0</td>\n",
              "    </tr>\n",
              "    <tr>\n",
              "      <th>25</th>\n",
              "      <td>發</td>\n",
              "      <td>1</td>\n",
              "      <td>1</td>\n",
              "      <td>2</td>\n",
              "      <td>0</td>\n",
              "    </tr>\n",
              "    <tr>\n",
              "      <th>26</th>\n",
              "      <td>揪</td>\n",
              "      <td>1</td>\n",
              "      <td>1</td>\n",
              "      <td>2</td>\n",
              "      <td>0</td>\n",
              "    </tr>\n",
              "    <tr>\n",
              "      <th>27</th>\n",
              "      <td>搭</td>\n",
              "      <td>1</td>\n",
              "      <td>1</td>\n",
              "      <td>2</td>\n",
              "      <td>0</td>\n",
              "    </tr>\n",
              "    <tr>\n",
              "      <th>28</th>\n",
              "      <td>投</td>\n",
              "      <td>1</td>\n",
              "      <td>1</td>\n",
              "      <td>2</td>\n",
              "      <td>0</td>\n",
              "    </tr>\n",
              "    <tr>\n",
              "      <th>29</th>\n",
              "      <td>等</td>\n",
              "      <td>1</td>\n",
              "      <td>1</td>\n",
              "      <td>2</td>\n",
              "      <td>0</td>\n",
              "    </tr>\n",
              "  </tbody>\n",
              "</table>\n",
              "</div>\n",
              "      <button class=\"colab-df-convert\" onclick=\"convertToInteractive('df-c25c3c3d-f3b8-46a0-bc5a-28db5fd2ea51')\"\n",
              "              title=\"Convert this dataframe to an interactive table.\"\n",
              "              style=\"display:none;\">\n",
              "        \n",
              "  <svg xmlns=\"http://www.w3.org/2000/svg\" height=\"24px\"viewBox=\"0 0 24 24\"\n",
              "       width=\"24px\">\n",
              "    <path d=\"M0 0h24v24H0V0z\" fill=\"none\"/>\n",
              "    <path d=\"M18.56 5.44l.94 2.06.94-2.06 2.06-.94-2.06-.94-.94-2.06-.94 2.06-2.06.94zm-11 1L8.5 8.5l.94-2.06 2.06-.94-2.06-.94L8.5 2.5l-.94 2.06-2.06.94zm10 10l.94 2.06.94-2.06 2.06-.94-2.06-.94-.94-2.06-.94 2.06-2.06.94z\"/><path d=\"M17.41 7.96l-1.37-1.37c-.4-.4-.92-.59-1.43-.59-.52 0-1.04.2-1.43.59L10.3 9.45l-7.72 7.72c-.78.78-.78 2.05 0 2.83L4 21.41c.39.39.9.59 1.41.59.51 0 1.02-.2 1.41-.59l7.78-7.78 2.81-2.81c.8-.78.8-2.07 0-2.86zM5.41 20L4 18.59l7.72-7.72 1.47 1.35L5.41 20z\"/>\n",
              "  </svg>\n",
              "      </button>\n",
              "      \n",
              "  <style>\n",
              "    .colab-df-container {\n",
              "      display:flex;\n",
              "      flex-wrap:wrap;\n",
              "      gap: 12px;\n",
              "    }\n",
              "\n",
              "    .colab-df-convert {\n",
              "      background-color: #E8F0FE;\n",
              "      border: none;\n",
              "      border-radius: 50%;\n",
              "      cursor: pointer;\n",
              "      display: none;\n",
              "      fill: #1967D2;\n",
              "      height: 32px;\n",
              "      padding: 0 0 0 0;\n",
              "      width: 32px;\n",
              "    }\n",
              "\n",
              "    .colab-df-convert:hover {\n",
              "      background-color: #E2EBFA;\n",
              "      box-shadow: 0px 1px 2px rgba(60, 64, 67, 0.3), 0px 1px 3px 1px rgba(60, 64, 67, 0.15);\n",
              "      fill: #174EA6;\n",
              "    }\n",
              "\n",
              "    [theme=dark] .colab-df-convert {\n",
              "      background-color: #3B4455;\n",
              "      fill: #D2E3FC;\n",
              "    }\n",
              "\n",
              "    [theme=dark] .colab-df-convert:hover {\n",
              "      background-color: #434B5C;\n",
              "      box-shadow: 0px 1px 3px 1px rgba(0, 0, 0, 0.15);\n",
              "      filter: drop-shadow(0px 1px 2px rgba(0, 0, 0, 0.3));\n",
              "      fill: #FFFFFF;\n",
              "    }\n",
              "  </style>\n",
              "\n",
              "      <script>\n",
              "        const buttonEl =\n",
              "          document.querySelector('#df-c25c3c3d-f3b8-46a0-bc5a-28db5fd2ea51 button.colab-df-convert');\n",
              "        buttonEl.style.display =\n",
              "          google.colab.kernel.accessAllowed ? 'block' : 'none';\n",
              "\n",
              "        async function convertToInteractive(key) {\n",
              "          const element = document.querySelector('#df-c25c3c3d-f3b8-46a0-bc5a-28db5fd2ea51');\n",
              "          const dataTable =\n",
              "            await google.colab.kernel.invokeFunction('convertToInteractive',\n",
              "                                                     [key], {});\n",
              "          if (!dataTable) return;\n",
              "\n",
              "          const docLinkHtml = 'Like what you see? Visit the ' +\n",
              "            '<a target=\"_blank\" href=https://colab.research.google.com/notebooks/data_table.ipynb>data table notebook</a>'\n",
              "            + ' to learn more about interactive tables.';\n",
              "          element.innerHTML = '';\n",
              "          dataTable['output_type'] = 'display_data';\n",
              "          await google.colab.output.renderOutput(dataTable, element);\n",
              "          const docLink = document.createElement('div');\n",
              "          docLink.innerHTML = docLinkHtml;\n",
              "          element.appendChild(docLink);\n",
              "        }\n",
              "      </script>\n",
              "    </div>\n",
              "  </div>\n",
              "  "
            ],
            "text/plain": [
              "   FrontVerb  V看看_n  vv看_n  出現總次數  相差次數\n",
              "0          問     76     81    157     5\n",
              "1          想     66     10     76    56\n",
              "2          聽      9     28     37    19\n",
              "3          吃     12     17     29     5\n",
              "4          做     13     15     28     2\n",
              "5          找     13     12     25     1\n",
              "6          玩     10     10     20     0\n",
              "7          說     13      3     16    10\n",
              "8          喝      4     12     16     8\n",
              "9          用      3      9     12     6\n",
              "10         聞      5      4      9     1\n",
              "11         買      4      4      8     0\n",
              "12         嚐      1      6      7     5\n",
              "13         猜      2      4      6     2\n",
              "14         摸      1      4      5     3\n",
              "15         試      4      1      5     3\n",
              "16         讀      1      2      3     1\n",
              "17         拍      2      1      3     1\n",
              "18         選      2      1      3     1\n",
              "19         看      1      2      3     1\n",
              "20         考      1      2      3     1\n",
              "21         逛      1      1      2     0\n",
              "22         辦      1      1      2     0\n",
              "23         賭      1      1      2     0\n",
              "24         送      1      1      2     0\n",
              "25         發      1      1      2     0\n",
              "26         揪      1      1      2     0\n",
              "27         搭      1      1      2     0\n",
              "28         投      1      1      2     0\n",
              "29         等      1      1      2     0"
            ]
          },
          "execution_count": 62,
          "metadata": {},
          "output_type": "execute_result"
        }
      ],
      "source": [
        "output = []\n",
        "df = union_df.loc[(union_df['V看看_n']!=0) & (union_df['vv看_n']!=0)]\n",
        "df.sort_values(['出現總次數'], ascending=False).reset_index(drop=True)"
      ]
    }
  ],
  "metadata": {
    "colab": {
      "provenance": [],
      "toc_visible": true
    },
    "gpuClass": "standard",
    "kernelspec": {
      "display_name": "Python 3",
      "language": "python",
      "name": "python3"
    },
    "language_info": {
      "codemirror_mode": {
        "name": "ipython",
        "version": 3
      },
      "file_extension": ".py",
      "mimetype": "text/x-python",
      "name": "python",
      "nbconvert_exporter": "python",
      "pygments_lexer": "ipython3",
      "version": "3.9.6"
    },
    "orig_nbformat": 4,
    "vscode": {
      "interpreter": {
        "hash": "31f2aee4e71d21fbe5cf8b01ff0e069b9275f58929596ceb00d14d90e3e16cd6"
      }
    }
  },
  "nbformat": 4,
  "nbformat_minor": 0
}
