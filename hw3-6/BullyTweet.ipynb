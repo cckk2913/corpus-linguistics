{
  "cells": [
    {
      "attachments": {},
      "cell_type": "markdown",
      "metadata": {
        "id": "uV5j_y5DAdht"
      },
      "source": [
        "### Idea"
      ]
    },
    {
      "attachments": {},
      "cell_type": "markdown",
      "metadata": {},
      "source": [
        "且哥的一天有 48 小時，每個社群平台都可以滑滿 10 小時，留著 8 小時睡覺。不過她常看到推特上有些人會用尖酸苛薄的文字辱罵、霸凌他人；因此，且哥想要做一個網路霸凌偵測器，來辨識推文是否有霸凌，並分類該推文的主題（e.g., 宗教、年齡、種族、性別、其他、無霸凌）。\n",
        "\n",
        "由於且哥不確定哪種提取文本特徵的方式較有效，也不確定要使用哪個模型作為分類器，因此他想請你利用已標記的推文資料集，**比較 [TfidfTransformer & Naive Bayes] 和 [Word2Vec & SVM] 兩個 [embedding&模型] 的組合**，告訴她哪一組的 wordembedding 和 classifier 能較好地預測推文是否與網絡霸凌相關。\n",
        "\n",
        "1. 使用英文推文資料集，進行前處理（斷詞、去除停用詞、去除標點符號、去除數字、去除網址、去除 emoji、去除 @標註人）\n",
        "2. 使用 TfidfTransformer >> Naive Bayes 進行推文分類預測\n",
        "3. 使用 Word2Vec >> SVM 進行推文分類預測"
      ]
    },
    {
      "cell_type": "markdown",
      "metadata": {
        "id": "pXTO3uSoBMZI"
      },
      "source": [
        "## Setting"
      ]
    },
    {
      "cell_type": "code",
      "execution_count": null,
      "metadata": {
        "colab": {
          "base_uri": "https://localhost:8080/"
        },
        "id": "FMFRbGdogb16",
        "outputId": "a3f670f5-49f9-40ac-87c6-2013e49c42d7"
      },
      "outputs": [
        {
          "name": "stdout",
          "output_type": "stream",
          "text": [
            "Mounted at /content/gdrive\n"
          ]
        }
      ],
      "source": [
        "from google.colab import drive\n",
        "drive.mount('/content/gdrive',force_remount=True)"
      ]
    },
    {
      "cell_type": "code",
      "execution_count": null,
      "metadata": {
        "id": "sD_k3EHeggmH"
      },
      "outputs": [],
      "source": [
        "import os\n",
        "os.chdir('/content/gdrive/MyDrive/研/碩二/語料庫語言學/hw3-6')"
      ]
    },
    {
      "cell_type": "code",
      "execution_count": null,
      "metadata": {
        "id": "5AwQ0eyCkxMg"
      },
      "outputs": [],
      "source": [
        "import pandas as pd\n",
        "import numpy as np\n",
        "import re\n",
        "import joblib"
      ]
    },
    {
      "cell_type": "code",
      "execution_count": null,
      "metadata": {
        "colab": {
          "base_uri": "https://localhost:8080/"
        },
        "id": "lUvP7dLuDEcy",
        "outputId": "85d50566-f3fa-4da8-f8ef-1957b77645b5"
      },
      "outputs": [
        {
          "name": "stdout",
          "output_type": "stream",
          "text": [
            "Looking in indexes: https://pypi.org/simple, https://us-python.pkg.dev/colab-wheels/public/simple/\n",
            "Collecting emoji\n",
            "  Downloading emoji-2.2.0.tar.gz (240 kB)\n",
            "\u001b[K     |████████████████████████████████| 240 kB 14.4 MB/s \n",
            "\u001b[?25hBuilding wheels for collected packages: emoji\n",
            "  Building wheel for emoji (setup.py) ... \u001b[?25l\u001b[?25hdone\n",
            "  Created wheel for emoji: filename=emoji-2.2.0-py3-none-any.whl size=234926 sha256=0d53a202410f5052921e4df7762044eb9b82cf4fa58f117847208844a904f64b\n",
            "  Stored in directory: /root/.cache/pip/wheels/86/62/9e/a6b27a681abcde69970dbc0326ff51955f3beac72f15696984\n",
            "Successfully built emoji\n",
            "Installing collected packages: emoji\n",
            "Successfully installed emoji-2.2.0\n"
          ]
        }
      ],
      "source": [
        "!pip install -U emoji"
      ]
    },
    {
      "cell_type": "code",
      "execution_count": null,
      "metadata": {
        "id": "tmzm6H4kByT_"
      },
      "outputs": [],
      "source": [
        "#Text cleaning\n",
        "import string\n",
        "import emoji\n",
        "import nltk\n",
        "from nltk.stem import WordNetLemmatizer,PorterStemmer\n",
        "from nltk.corpus import stopwords\n",
        "#stopwords = stopwords.words('english')\n",
        "\n",
        "# Data preprocessing\n",
        "from sklearn import preprocessing\n",
        "from sklearn.metrics import classification_report, confusion_matrix, accuracy_score, recall_score, precision_score, f1_score\n",
        "from sklearn.model_selection import train_test_split\n",
        "from imblearn.over_sampling import RandomOverSampler\n",
        "\n",
        "\n",
        "# Naive Bayes\n",
        "from sklearn.feature_extraction.text import CountVectorizer\n",
        "from sklearn.feature_extraction.text import TfidfTransformer\n",
        "from sklearn.naive_bayes import MultinomialNB\n",
        "\n",
        "# LSTM\n",
        "import torch\n",
        "import torch.nn as nn\n",
        "import torch.nn.functional as F\n",
        "from torch.utils.data import TensorDataset, DataLoader, RandomSampler, SequentialSampler\n",
        "from collections import Counter\n",
        "from gensim.models import Word2Vec"
      ]
    },
    {
      "cell_type": "code",
      "execution_count": null,
      "metadata": {
        "colab": {
          "base_uri": "https://localhost:8080/"
        },
        "id": "bmxAAO4nXyId",
        "outputId": "b31de29d-5025-43d5-8426-8a17b003a139"
      },
      "outputs": [
        {
          "name": "stdout",
          "output_type": "stream",
          "text": [
            "--2022-12-21 12:17:36--  https://drive.google.com/uc?id=1eGAsTN1HBpJAkeVM57_C7ccp7hbgSz3_\n",
            "Resolving drive.google.com (drive.google.com)... 173.194.79.101, 173.194.79.138, 173.194.79.113, ...\n",
            "Connecting to drive.google.com (drive.google.com)|173.194.79.101|:443... connected.\n",
            "HTTP request sent, awaiting response... 303 See Other\n",
            "Location: https://doc-0k-9o-docs.googleusercontent.com/docs/securesc/ha0ro937gcuc7l7deffksulhg5h7mbp1/b308fe8bd923mhlp9v11mc2a6k4tb882/1671625050000/02847987870453524430/*/1eGAsTN1HBpJAkeVM57_C7ccp7hbgSz3_?uuid=03ffd296-2020-42e3-9198-1e652efe55ff [following]\n",
            "Warning: wildcards not supported in HTTP.\n",
            "--2022-12-21 12:17:40--  https://doc-0k-9o-docs.googleusercontent.com/docs/securesc/ha0ro937gcuc7l7deffksulhg5h7mbp1/b308fe8bd923mhlp9v11mc2a6k4tb882/1671625050000/02847987870453524430/*/1eGAsTN1HBpJAkeVM57_C7ccp7hbgSz3_?uuid=03ffd296-2020-42e3-9198-1e652efe55ff\n",
            "Resolving doc-0k-9o-docs.googleusercontent.com (doc-0k-9o-docs.googleusercontent.com)... 142.251.31.132, 2a00:1450:4013:c1a::84\n",
            "Connecting to doc-0k-9o-docs.googleusercontent.com (doc-0k-9o-docs.googleusercontent.com)|142.251.31.132|:443... connected.\n",
            "HTTP request sent, awaiting response... 200 OK\n",
            "Length: 20659344 (20M) [application/x-font-ttf]\n",
            "Saving to: ‘taipei_sans_tc_beta.ttf’\n",
            "\n",
            "taipei_sans_tc_beta 100%[===================>]  19.70M  13.9MB/s    in 1.4s    \n",
            "\n",
            "2022-12-21 12:17:42 (13.9 MB/s) - ‘taipei_sans_tc_beta.ttf’ saved [20659344/20659344]\n",
            "\n"
          ]
        }
      ],
      "source": [
        "import matplotlib\n",
        "import matplotlib.pyplot as plt\n",
        "import seaborn as sns\n",
        "%matplotlib inline\n",
        "\n",
        "!wget -O taipei_sans_tc_beta.ttf https://drive.google.com/uc?id=1eGAsTN1HBpJAkeVM57_C7ccp7hbgSz3_&export=download\n",
        "matplotlib.font_manager.fontManager.addfont('taipei_sans_tc_beta.ttf')\n",
        "matplotlib.rc('font', family = 'Taipei Sans TC Beta')"
      ]
    },
    {
      "cell_type": "markdown",
      "metadata": {
        "id": "O1zkRcoSCbT9"
      },
      "source": [
        "## Data Import"
      ]
    },
    {
      "cell_type": "code",
      "execution_count": null,
      "metadata": {
        "id": "8uYfHtxwCdO3"
      },
      "outputs": [],
      "source": [
        "df = pd.read_csv('./cyberbullying_tweets.csv')"
      ]
    },
    {
      "cell_type": "code",
      "execution_count": null,
      "metadata": {
        "colab": {
          "base_uri": "https://localhost:8080/",
          "height": 206
        },
        "id": "IFea7s3TCynn",
        "outputId": "de879980-553e-4cfc-960a-cbaad8ccae25"
      },
      "outputs": [
        {
          "data": {
            "text/html": [
              "\n",
              "  <div id=\"df-49d99380-1942-4252-a281-d00e210fb60f\">\n",
              "    <div class=\"colab-df-container\">\n",
              "      <div>\n",
              "<style scoped>\n",
              "    .dataframe tbody tr th:only-of-type {\n",
              "        vertical-align: middle;\n",
              "    }\n",
              "\n",
              "    .dataframe tbody tr th {\n",
              "        vertical-align: top;\n",
              "    }\n",
              "\n",
              "    .dataframe thead th {\n",
              "        text-align: right;\n",
              "    }\n",
              "</style>\n",
              "<table border=\"1\" class=\"dataframe\">\n",
              "  <thead>\n",
              "    <tr style=\"text-align: right;\">\n",
              "      <th></th>\n",
              "      <th>tweet_text</th>\n",
              "      <th>cyberbullying_type</th>\n",
              "    </tr>\n",
              "  </thead>\n",
              "  <tbody>\n",
              "    <tr>\n",
              "      <th>0</th>\n",
              "      <td>In other words #katandandre, your food was cra...</td>\n",
              "      <td>not_cyberbullying</td>\n",
              "    </tr>\n",
              "    <tr>\n",
              "      <th>1</th>\n",
              "      <td>Why is #aussietv so white? #MKR #theblock #ImA...</td>\n",
              "      <td>not_cyberbullying</td>\n",
              "    </tr>\n",
              "    <tr>\n",
              "      <th>2</th>\n",
              "      <td>@XochitlSuckkks a classy whore? Or more red ve...</td>\n",
              "      <td>not_cyberbullying</td>\n",
              "    </tr>\n",
              "    <tr>\n",
              "      <th>3</th>\n",
              "      <td>@Jason_Gio meh. :P  thanks for the heads up, b...</td>\n",
              "      <td>not_cyberbullying</td>\n",
              "    </tr>\n",
              "    <tr>\n",
              "      <th>4</th>\n",
              "      <td>@RudhoeEnglish This is an ISIS account pretend...</td>\n",
              "      <td>not_cyberbullying</td>\n",
              "    </tr>\n",
              "  </tbody>\n",
              "</table>\n",
              "</div>\n",
              "      <button class=\"colab-df-convert\" onclick=\"convertToInteractive('df-49d99380-1942-4252-a281-d00e210fb60f')\"\n",
              "              title=\"Convert this dataframe to an interactive table.\"\n",
              "              style=\"display:none;\">\n",
              "        \n",
              "  <svg xmlns=\"http://www.w3.org/2000/svg\" height=\"24px\"viewBox=\"0 0 24 24\"\n",
              "       width=\"24px\">\n",
              "    <path d=\"M0 0h24v24H0V0z\" fill=\"none\"/>\n",
              "    <path d=\"M18.56 5.44l.94 2.06.94-2.06 2.06-.94-2.06-.94-.94-2.06-.94 2.06-2.06.94zm-11 1L8.5 8.5l.94-2.06 2.06-.94-2.06-.94L8.5 2.5l-.94 2.06-2.06.94zm10 10l.94 2.06.94-2.06 2.06-.94-2.06-.94-.94-2.06-.94 2.06-2.06.94z\"/><path d=\"M17.41 7.96l-1.37-1.37c-.4-.4-.92-.59-1.43-.59-.52 0-1.04.2-1.43.59L10.3 9.45l-7.72 7.72c-.78.78-.78 2.05 0 2.83L4 21.41c.39.39.9.59 1.41.59.51 0 1.02-.2 1.41-.59l7.78-7.78 2.81-2.81c.8-.78.8-2.07 0-2.86zM5.41 20L4 18.59l7.72-7.72 1.47 1.35L5.41 20z\"/>\n",
              "  </svg>\n",
              "      </button>\n",
              "      \n",
              "  <style>\n",
              "    .colab-df-container {\n",
              "      display:flex;\n",
              "      flex-wrap:wrap;\n",
              "      gap: 12px;\n",
              "    }\n",
              "\n",
              "    .colab-df-convert {\n",
              "      background-color: #E8F0FE;\n",
              "      border: none;\n",
              "      border-radius: 50%;\n",
              "      cursor: pointer;\n",
              "      display: none;\n",
              "      fill: #1967D2;\n",
              "      height: 32px;\n",
              "      padding: 0 0 0 0;\n",
              "      width: 32px;\n",
              "    }\n",
              "\n",
              "    .colab-df-convert:hover {\n",
              "      background-color: #E2EBFA;\n",
              "      box-shadow: 0px 1px 2px rgba(60, 64, 67, 0.3), 0px 1px 3px 1px rgba(60, 64, 67, 0.15);\n",
              "      fill: #174EA6;\n",
              "    }\n",
              "\n",
              "    [theme=dark] .colab-df-convert {\n",
              "      background-color: #3B4455;\n",
              "      fill: #D2E3FC;\n",
              "    }\n",
              "\n",
              "    [theme=dark] .colab-df-convert:hover {\n",
              "      background-color: #434B5C;\n",
              "      box-shadow: 0px 1px 3px 1px rgba(0, 0, 0, 0.15);\n",
              "      filter: drop-shadow(0px 1px 2px rgba(0, 0, 0, 0.3));\n",
              "      fill: #FFFFFF;\n",
              "    }\n",
              "  </style>\n",
              "\n",
              "      <script>\n",
              "        const buttonEl =\n",
              "          document.querySelector('#df-49d99380-1942-4252-a281-d00e210fb60f button.colab-df-convert');\n",
              "        buttonEl.style.display =\n",
              "          google.colab.kernel.accessAllowed ? 'block' : 'none';\n",
              "\n",
              "        async function convertToInteractive(key) {\n",
              "          const element = document.querySelector('#df-49d99380-1942-4252-a281-d00e210fb60f');\n",
              "          const dataTable =\n",
              "            await google.colab.kernel.invokeFunction('convertToInteractive',\n",
              "                                                     [key], {});\n",
              "          if (!dataTable) return;\n",
              "\n",
              "          const docLinkHtml = 'Like what you see? Visit the ' +\n",
              "            '<a target=\"_blank\" href=https://colab.research.google.com/notebooks/data_table.ipynb>data table notebook</a>'\n",
              "            + ' to learn more about interactive tables.';\n",
              "          element.innerHTML = '';\n",
              "          dataTable['output_type'] = 'display_data';\n",
              "          await google.colab.output.renderOutput(dataTable, element);\n",
              "          const docLink = document.createElement('div');\n",
              "          docLink.innerHTML = docLinkHtml;\n",
              "          element.appendChild(docLink);\n",
              "        }\n",
              "      </script>\n",
              "    </div>\n",
              "  </div>\n",
              "  "
            ],
            "text/plain": [
              "                                          tweet_text cyberbullying_type\n",
              "0  In other words #katandandre, your food was cra...  not_cyberbullying\n",
              "1  Why is #aussietv so white? #MKR #theblock #ImA...  not_cyberbullying\n",
              "2  @XochitlSuckkks a classy whore? Or more red ve...  not_cyberbullying\n",
              "3  @Jason_Gio meh. :P  thanks for the heads up, b...  not_cyberbullying\n",
              "4  @RudhoeEnglish This is an ISIS account pretend...  not_cyberbullying"
            ]
          },
          "execution_count": 16,
          "metadata": {},
          "output_type": "execute_result"
        }
      ],
      "source": [
        "df.head()"
      ]
    },
    {
      "cell_type": "code",
      "execution_count": null,
      "metadata": {
        "id": "WUt4-k8uD8PX"
      },
      "outputs": [],
      "source": [
        "df = df.rename(columns={'tweet_text': 'text', 'cyberbullying_type': 'bully_type'})"
      ]
    },
    {
      "cell_type": "code",
      "execution_count": null,
      "metadata": {
        "colab": {
          "base_uri": "https://localhost:8080/"
        },
        "id": "f667U0jJC0ci",
        "outputId": "9b69cb9f-5c4b-45f1-81bf-56b5b74569ed"
      },
      "outputs": [
        {
          "data": {
            "text/plain": [
              "religion               7997\n",
              "age                    7992\n",
              "ethnicity              7959\n",
              "gender                 7948\n",
              "not_cyberbullying      7937\n",
              "other_cyberbullying    7823\n",
              "Name: bully_type, dtype: int64"
            ]
          },
          "execution_count": 23,
          "metadata": {},
          "output_type": "execute_result"
        }
      ],
      "source": [
        "# bully types in raw data\n",
        "df['bully_type'].value_counts()"
      ]
    },
    {
      "cell_type": "markdown",
      "metadata": {
        "id": "gGjVbfkzEdsR"
      },
      "source": [
        "## Text Cleaning"
      ]
    },
    {
      "cell_type": "code",
      "execution_count": null,
      "metadata": {
        "id": "d2jPbEViEgE4"
      },
      "outputs": [],
      "source": [
        "trash = \"@[A-Za-z0-9]+|(?:\\@|http?\\://|https?\\://|www)\\S+|(\\s\\s+)|\\'|\\\"|“|”\" #  @ sign links spaces\n",
        "\n",
        "def clean(text):\n",
        "    text = re.sub(trash, '', str(text))\n",
        "    text  = \"\".join([char for char in text if char not in string.punctuation])\n",
        "    text = emoji.replace_emoji(text,'')           \n",
        "    text = text.replace(\"#\", \"\").replace(\"_\", \" \") #Remove # but keep the text\n",
        "    text = text.lower()\n",
        "     \n",
        "    text = [word for word in text.split() if word not in stopwords]\n",
        "    text = \" \".join(text)\n",
        "    return text"
      ]
    },
    {
      "cell_type": "code",
      "execution_count": null,
      "metadata": {
        "colab": {
          "base_uri": "https://localhost:8080/",
          "height": 206
        },
        "id": "SG59D9xYIyge",
        "outputId": "5dd2ae26-308a-41eb-9d3c-8598fa619b44"
      },
      "outputs": [
        {
          "data": {
            "text/html": [
              "\n",
              "  <div id=\"df-1e6a94a4-d1c0-4469-8949-65036bcd911b\">\n",
              "    <div class=\"colab-df-container\">\n",
              "      <div>\n",
              "<style scoped>\n",
              "    .dataframe tbody tr th:only-of-type {\n",
              "        vertical-align: middle;\n",
              "    }\n",
              "\n",
              "    .dataframe tbody tr th {\n",
              "        vertical-align: top;\n",
              "    }\n",
              "\n",
              "    .dataframe thead th {\n",
              "        text-align: right;\n",
              "    }\n",
              "</style>\n",
              "<table border=\"1\" class=\"dataframe\">\n",
              "  <thead>\n",
              "    <tr style=\"text-align: right;\">\n",
              "      <th></th>\n",
              "      <th>text</th>\n",
              "      <th>bully_type</th>\n",
              "      <th>text_clean</th>\n",
              "      <th>text_len</th>\n",
              "    </tr>\n",
              "  </thead>\n",
              "  <tbody>\n",
              "    <tr>\n",
              "      <th>0</th>\n",
              "      <td>In other words #katandandre, your food was cra...</td>\n",
              "      <td>0</td>\n",
              "      <td>words katandandre food crapilicious mkr</td>\n",
              "      <td>9</td>\n",
              "    </tr>\n",
              "    <tr>\n",
              "      <th>1</th>\n",
              "      <td>Why is #aussietv so white? #MKR #theblock #ImA...</td>\n",
              "      <td>0</td>\n",
              "      <td>aussietv white mkr theblock imacelebrityau tod...</td>\n",
              "      <td>14</td>\n",
              "    </tr>\n",
              "    <tr>\n",
              "      <th>2</th>\n",
              "      <td>@XochitlSuckkks a classy whore? Or more red ve...</td>\n",
              "      <td>0</td>\n",
              "      <td>classy whore red velvet cupcakes</td>\n",
              "      <td>8</td>\n",
              "    </tr>\n",
              "    <tr>\n",
              "      <th>3</th>\n",
              "      <td>@Jason_Gio meh. :P  thanks for the heads up, b...</td>\n",
              "      <td>0</td>\n",
              "      <td>gio meh pthanks heads concerned another angry ...</td>\n",
              "      <td>17</td>\n",
              "    </tr>\n",
              "    <tr>\n",
              "      <th>4</th>\n",
              "      <td>@RudhoeEnglish This is an ISIS account pretend...</td>\n",
              "      <td>0</td>\n",
              "      <td>isis account pretending kurdish accountlike is...</td>\n",
              "      <td>16</td>\n",
              "    </tr>\n",
              "  </tbody>\n",
              "</table>\n",
              "</div>\n",
              "      <button class=\"colab-df-convert\" onclick=\"convertToInteractive('df-1e6a94a4-d1c0-4469-8949-65036bcd911b')\"\n",
              "              title=\"Convert this dataframe to an interactive table.\"\n",
              "              style=\"display:none;\">\n",
              "        \n",
              "  <svg xmlns=\"http://www.w3.org/2000/svg\" height=\"24px\"viewBox=\"0 0 24 24\"\n",
              "       width=\"24px\">\n",
              "    <path d=\"M0 0h24v24H0V0z\" fill=\"none\"/>\n",
              "    <path d=\"M18.56 5.44l.94 2.06.94-2.06 2.06-.94-2.06-.94-.94-2.06-.94 2.06-2.06.94zm-11 1L8.5 8.5l.94-2.06 2.06-.94-2.06-.94L8.5 2.5l-.94 2.06-2.06.94zm10 10l.94 2.06.94-2.06 2.06-.94-2.06-.94-.94-2.06-.94 2.06-2.06.94z\"/><path d=\"M17.41 7.96l-1.37-1.37c-.4-.4-.92-.59-1.43-.59-.52 0-1.04.2-1.43.59L10.3 9.45l-7.72 7.72c-.78.78-.78 2.05 0 2.83L4 21.41c.39.39.9.59 1.41.59.51 0 1.02-.2 1.41-.59l7.78-7.78 2.81-2.81c.8-.78.8-2.07 0-2.86zM5.41 20L4 18.59l7.72-7.72 1.47 1.35L5.41 20z\"/>\n",
              "  </svg>\n",
              "      </button>\n",
              "      \n",
              "  <style>\n",
              "    .colab-df-container {\n",
              "      display:flex;\n",
              "      flex-wrap:wrap;\n",
              "      gap: 12px;\n",
              "    }\n",
              "\n",
              "    .colab-df-convert {\n",
              "      background-color: #E8F0FE;\n",
              "      border: none;\n",
              "      border-radius: 50%;\n",
              "      cursor: pointer;\n",
              "      display: none;\n",
              "      fill: #1967D2;\n",
              "      height: 32px;\n",
              "      padding: 0 0 0 0;\n",
              "      width: 32px;\n",
              "    }\n",
              "\n",
              "    .colab-df-convert:hover {\n",
              "      background-color: #E2EBFA;\n",
              "      box-shadow: 0px 1px 2px rgba(60, 64, 67, 0.3), 0px 1px 3px 1px rgba(60, 64, 67, 0.15);\n",
              "      fill: #174EA6;\n",
              "    }\n",
              "\n",
              "    [theme=dark] .colab-df-convert {\n",
              "      background-color: #3B4455;\n",
              "      fill: #D2E3FC;\n",
              "    }\n",
              "\n",
              "    [theme=dark] .colab-df-convert:hover {\n",
              "      background-color: #434B5C;\n",
              "      box-shadow: 0px 1px 3px 1px rgba(0, 0, 0, 0.15);\n",
              "      filter: drop-shadow(0px 1px 2px rgba(0, 0, 0, 0.3));\n",
              "      fill: #FFFFFF;\n",
              "    }\n",
              "  </style>\n",
              "\n",
              "      <script>\n",
              "        const buttonEl =\n",
              "          document.querySelector('#df-1e6a94a4-d1c0-4469-8949-65036bcd911b button.colab-df-convert');\n",
              "        buttonEl.style.display =\n",
              "          google.colab.kernel.accessAllowed ? 'block' : 'none';\n",
              "\n",
              "        async function convertToInteractive(key) {\n",
              "          const element = document.querySelector('#df-1e6a94a4-d1c0-4469-8949-65036bcd911b');\n",
              "          const dataTable =\n",
              "            await google.colab.kernel.invokeFunction('convertToInteractive',\n",
              "                                                     [key], {});\n",
              "          if (!dataTable) return;\n",
              "\n",
              "          const docLinkHtml = 'Like what you see? Visit the ' +\n",
              "            '<a target=\"_blank\" href=https://colab.research.google.com/notebooks/data_table.ipynb>data table notebook</a>'\n",
              "            + ' to learn more about interactive tables.';\n",
              "          element.innerHTML = '';\n",
              "          dataTable['output_type'] = 'display_data';\n",
              "          await google.colab.output.renderOutput(dataTable, element);\n",
              "          const docLink = document.createElement('div');\n",
              "          docLink.innerHTML = docLinkHtml;\n",
              "          element.appendChild(docLink);\n",
              "        }\n",
              "      </script>\n",
              "    </div>\n",
              "  </div>\n",
              "  "
            ],
            "text/plain": [
              "                                                text  bully_type  \\\n",
              "0  In other words #katandandre, your food was cra...           0   \n",
              "1  Why is #aussietv so white? #MKR #theblock #ImA...           0   \n",
              "2  @XochitlSuckkks a classy whore? Or more red ve...           0   \n",
              "3  @Jason_Gio meh. :P  thanks for the heads up, b...           0   \n",
              "4  @RudhoeEnglish This is an ISIS account pretend...           0   \n",
              "\n",
              "                                          text_clean  text_len  \n",
              "0            words katandandre food crapilicious mkr         9  \n",
              "1  aussietv white mkr theblock imacelebrityau tod...        14  \n",
              "2                   classy whore red velvet cupcakes         8  \n",
              "3  gio meh pthanks heads concerned another angry ...        17  \n",
              "4  isis account pretending kurdish accountlike is...        16  "
            ]
          },
          "execution_count": 172,
          "metadata": {},
          "output_type": "execute_result"
        }
      ],
      "source": [
        "df['text_clean'] = df['text'].apply(lambda x: clean(x))\n",
        "df.head()"
      ]
    },
    {
      "cell_type": "code",
      "execution_count": null,
      "metadata": {
        "colab": {
          "base_uri": "https://localhost:8080/"
        },
        "id": "Hnr7J9SzM5-5",
        "outputId": "9c9eb39b-3198-4b3f-b68f-616bf3e44281"
      },
      "outputs": [
        {
          "data": {
            "text/plain": [
              "(43157, 4)"
            ]
          },
          "execution_count": 173,
          "metadata": {},
          "output_type": "execute_result"
        }
      ],
      "source": [
        "df.drop_duplicates(\"text_clean\", inplace=True)\n",
        "df.shape"
      ]
    },
    {
      "cell_type": "code",
      "execution_count": null,
      "metadata": {
        "colab": {
          "base_uri": "https://localhost:8080/"
        },
        "id": "V_SpPP-INHS_",
        "outputId": "9c5f81bf-b350-4bcb-ff43-ae54a7d74384"
      },
      "outputs": [
        {
          "data": {
            "text/plain": [
              "4    7944\n",
              "1    7879\n",
              "2    7788\n",
              "3    7473\n",
              "0    6899\n",
              "5    5174\n",
              "Name: bully_type, dtype: int64"
            ]
          },
          "execution_count": 174,
          "metadata": {},
          "output_type": "execute_result"
        }
      ],
      "source": [
        "df['bully_type'].value_counts()"
      ]
    },
    {
      "cell_type": "code",
      "execution_count": null,
      "metadata": {
        "id": "xC58Qs7SNNKH"
      },
      "outputs": [],
      "source": [
        "TYPES = set(df['bully_type'])"
      ]
    },
    {
      "cell_type": "code",
      "execution_count": null,
      "metadata": {
        "id": "5P4cMz4RNkXZ"
      },
      "outputs": [],
      "source": [
        "# add 'text_len'\n",
        "\n",
        "text_len = []\n",
        "for text in df.text_clean:\n",
        "    tweet_len = len(text.split())\n",
        "    text_len.append(tweet_len)\n",
        "\n",
        "df['text_len'] = text_len"
      ]
    },
    {
      "cell_type": "code",
      "execution_count": null,
      "metadata": {
        "colab": {
          "base_uri": "https://localhost:8080/",
          "height": 423
        },
        "id": "X6l1YN6cOm9W",
        "outputId": "da580f8b-aa29-415d-9ead-3170197716dc"
      },
      "outputs": [
        {
          "data": {
            "text/html": [
              "\n",
              "  <div id=\"df-99e534dc-d96a-43c8-8cdd-5ef1965b2272\">\n",
              "    <div class=\"colab-df-container\">\n",
              "      <div>\n",
              "<style scoped>\n",
              "    .dataframe tbody tr th:only-of-type {\n",
              "        vertical-align: middle;\n",
              "    }\n",
              "\n",
              "    .dataframe tbody tr th {\n",
              "        vertical-align: top;\n",
              "    }\n",
              "\n",
              "    .dataframe thead th {\n",
              "        text-align: right;\n",
              "    }\n",
              "</style>\n",
              "<table border=\"1\" class=\"dataframe\">\n",
              "  <thead>\n",
              "    <tr style=\"text-align: right;\">\n",
              "      <th></th>\n",
              "      <th>text</th>\n",
              "      <th>bully_type</th>\n",
              "      <th>text_clean</th>\n",
              "      <th>text_len</th>\n",
              "    </tr>\n",
              "  </thead>\n",
              "  <tbody>\n",
              "    <tr>\n",
              "      <th>29205</th>\n",
              "      <td>is feminazi an actual word with a denot…\\r\\n@N...</td>\n",
              "      <td>5</td>\n",
              "      <td>feminazi actual word denot… job means protecti...</td>\n",
              "      <td>402</td>\n",
              "    </tr>\n",
              "    <tr>\n",
              "      <th>24516</th>\n",
              "      <td>@NICKIMINAJ: #WutKinda\\r\\nAt this rate the MKR...</td>\n",
              "      <td>5</td>\n",
              "      <td>wutkindaat rate mkr final december mkr haha tr...</td>\n",
              "      <td>366</td>\n",
              "    </tr>\n",
              "    <tr>\n",
              "      <th>30752</th>\n",
              "      <td>I don't retreat.\\r\\nyessssssss http://t.co/Td9...</td>\n",
              "      <td>5</td>\n",
              "      <td>dont retreatyessssssss uh make grownups boruto...</td>\n",
              "      <td>244</td>\n",
              "    </tr>\n",
              "    <tr>\n",
              "      <th>44035</th>\n",
              "      <td>You so black and white trying to live like a n...</td>\n",
              "      <td>2</td>\n",
              "      <td>black white trying live like nigger pahahahaha...</td>\n",
              "      <td>187</td>\n",
              "    </tr>\n",
              "    <tr>\n",
              "      <th>45165</th>\n",
              "      <td>@hermdiggz: “@tayyoung_: FUCK OBAMA, dumb ass ...</td>\n",
              "      <td>2</td>\n",
              "      <td>fuck obama dumb ass nigger bitch ltthis whore ...</td>\n",
              "      <td>165</td>\n",
              "    </tr>\n",
              "    <tr>\n",
              "      <th>...</th>\n",
              "      <td>...</td>\n",
              "      <td>...</td>\n",
              "      <td>...</td>\n",
              "      <td>...</td>\n",
              "    </tr>\n",
              "    <tr>\n",
              "      <th>3381</th>\n",
              "      <td>@KhaledHamaki Where did he say that?</td>\n",
              "      <td>0</td>\n",
              "      <td>say</td>\n",
              "      <td>1</td>\n",
              "    </tr>\n",
              "    <tr>\n",
              "      <th>25496</th>\n",
              "      <td>@ServbotMitch i'd be down for this.</td>\n",
              "      <td>5</td>\n",
              "      <td>id</td>\n",
              "      <td>1</td>\n",
              "    </tr>\n",
              "    <tr>\n",
              "      <th>3013</th>\n",
              "      <td>@truaemusic @mattybboi83 @Number10gov What are...</td>\n",
              "      <td>0</td>\n",
              "      <td>talking</td>\n",
              "      <td>1</td>\n",
              "    </tr>\n",
              "    <tr>\n",
              "      <th>11776</th>\n",
              "      <td>@RandomHero30 @rooshv @minasmith64 Who was she...</td>\n",
              "      <td>3</td>\n",
              "      <td>raped</td>\n",
              "      <td>1</td>\n",
              "    </tr>\n",
              "    <tr>\n",
              "      <th>31205</th>\n",
              "      <td>@wrarebit what does that have to do with anyth...</td>\n",
              "      <td>5</td>\n",
              "      <td>anything</td>\n",
              "      <td>1</td>\n",
              "    </tr>\n",
              "  </tbody>\n",
              "</table>\n",
              "<p>43157 rows × 4 columns</p>\n",
              "</div>\n",
              "      <button class=\"colab-df-convert\" onclick=\"convertToInteractive('df-99e534dc-d96a-43c8-8cdd-5ef1965b2272')\"\n",
              "              title=\"Convert this dataframe to an interactive table.\"\n",
              "              style=\"display:none;\">\n",
              "        \n",
              "  <svg xmlns=\"http://www.w3.org/2000/svg\" height=\"24px\"viewBox=\"0 0 24 24\"\n",
              "       width=\"24px\">\n",
              "    <path d=\"M0 0h24v24H0V0z\" fill=\"none\"/>\n",
              "    <path d=\"M18.56 5.44l.94 2.06.94-2.06 2.06-.94-2.06-.94-.94-2.06-.94 2.06-2.06.94zm-11 1L8.5 8.5l.94-2.06 2.06-.94-2.06-.94L8.5 2.5l-.94 2.06-2.06.94zm10 10l.94 2.06.94-2.06 2.06-.94-2.06-.94-.94-2.06-.94 2.06-2.06.94z\"/><path d=\"M17.41 7.96l-1.37-1.37c-.4-.4-.92-.59-1.43-.59-.52 0-1.04.2-1.43.59L10.3 9.45l-7.72 7.72c-.78.78-.78 2.05 0 2.83L4 21.41c.39.39.9.59 1.41.59.51 0 1.02-.2 1.41-.59l7.78-7.78 2.81-2.81c.8-.78.8-2.07 0-2.86zM5.41 20L4 18.59l7.72-7.72 1.47 1.35L5.41 20z\"/>\n",
              "  </svg>\n",
              "      </button>\n",
              "      \n",
              "  <style>\n",
              "    .colab-df-container {\n",
              "      display:flex;\n",
              "      flex-wrap:wrap;\n",
              "      gap: 12px;\n",
              "    }\n",
              "\n",
              "    .colab-df-convert {\n",
              "      background-color: #E8F0FE;\n",
              "      border: none;\n",
              "      border-radius: 50%;\n",
              "      cursor: pointer;\n",
              "      display: none;\n",
              "      fill: #1967D2;\n",
              "      height: 32px;\n",
              "      padding: 0 0 0 0;\n",
              "      width: 32px;\n",
              "    }\n",
              "\n",
              "    .colab-df-convert:hover {\n",
              "      background-color: #E2EBFA;\n",
              "      box-shadow: 0px 1px 2px rgba(60, 64, 67, 0.3), 0px 1px 3px 1px rgba(60, 64, 67, 0.15);\n",
              "      fill: #174EA6;\n",
              "    }\n",
              "\n",
              "    [theme=dark] .colab-df-convert {\n",
              "      background-color: #3B4455;\n",
              "      fill: #D2E3FC;\n",
              "    }\n",
              "\n",
              "    [theme=dark] .colab-df-convert:hover {\n",
              "      background-color: #434B5C;\n",
              "      box-shadow: 0px 1px 3px 1px rgba(0, 0, 0, 0.15);\n",
              "      filter: drop-shadow(0px 1px 2px rgba(0, 0, 0, 0.3));\n",
              "      fill: #FFFFFF;\n",
              "    }\n",
              "  </style>\n",
              "\n",
              "      <script>\n",
              "        const buttonEl =\n",
              "          document.querySelector('#df-99e534dc-d96a-43c8-8cdd-5ef1965b2272 button.colab-df-convert');\n",
              "        buttonEl.style.display =\n",
              "          google.colab.kernel.accessAllowed ? 'block' : 'none';\n",
              "\n",
              "        async function convertToInteractive(key) {\n",
              "          const element = document.querySelector('#df-99e534dc-d96a-43c8-8cdd-5ef1965b2272');\n",
              "          const dataTable =\n",
              "            await google.colab.kernel.invokeFunction('convertToInteractive',\n",
              "                                                     [key], {});\n",
              "          if (!dataTable) return;\n",
              "\n",
              "          const docLinkHtml = 'Like what you see? Visit the ' +\n",
              "            '<a target=\"_blank\" href=https://colab.research.google.com/notebooks/data_table.ipynb>data table notebook</a>'\n",
              "            + ' to learn more about interactive tables.';\n",
              "          element.innerHTML = '';\n",
              "          dataTable['output_type'] = 'display_data';\n",
              "          await google.colab.output.renderOutput(dataTable, element);\n",
              "          const docLink = document.createElement('div');\n",
              "          docLink.innerHTML = docLinkHtml;\n",
              "          element.appendChild(docLink);\n",
              "        }\n",
              "      </script>\n",
              "    </div>\n",
              "  </div>\n",
              "  "
            ],
            "text/plain": [
              "                                                    text  bully_type  \\\n",
              "29205  is feminazi an actual word with a denot…\\r\\n@N...           5   \n",
              "24516  @NICKIMINAJ: #WutKinda\\r\\nAt this rate the MKR...           5   \n",
              "30752  I don't retreat.\\r\\nyessssssss http://t.co/Td9...           5   \n",
              "44035  You so black and white trying to live like a n...           2   \n",
              "45165  @hermdiggz: “@tayyoung_: FUCK OBAMA, dumb ass ...           2   \n",
              "...                                                  ...         ...   \n",
              "3381                @KhaledHamaki Where did he say that?           0   \n",
              "25496                @ServbotMitch i'd be down for this.           5   \n",
              "3013   @truaemusic @mattybboi83 @Number10gov What are...           0   \n",
              "11776  @RandomHero30 @rooshv @minasmith64 Who was she...           3   \n",
              "31205  @wrarebit what does that have to do with anyth...           5   \n",
              "\n",
              "                                              text_clean  text_len  \n",
              "29205  feminazi actual word denot… job means protecti...       402  \n",
              "24516  wutkindaat rate mkr final december mkr haha tr...       366  \n",
              "30752  dont retreatyessssssss uh make grownups boruto...       244  \n",
              "44035  black white trying live like nigger pahahahaha...       187  \n",
              "45165  fuck obama dumb ass nigger bitch ltthis whore ...       165  \n",
              "...                                                  ...       ...  \n",
              "3381                                                 say         1  \n",
              "25496                                                 id         1  \n",
              "3013                                             talking         1  \n",
              "11776                                              raped         1  \n",
              "31205                                           anything         1  \n",
              "\n",
              "[43157 rows x 4 columns]"
            ]
          },
          "execution_count": 177,
          "metadata": {},
          "output_type": "execute_result"
        }
      ],
      "source": [
        "df.sort_values(by=['text_len'], ascending=False)"
      ]
    },
    {
      "cell_type": "code",
      "execution_count": null,
      "metadata": {
        "colab": {
          "base_uri": "https://localhost:8080/"
        },
        "id": "vMlauUgPPeY8",
        "outputId": "66cef23b-b0ef-4c86-9c67-02318c651642"
      },
      "outputs": [
        {
          "data": {
            "text/plain": [
              "40788"
            ]
          },
          "execution_count": 178,
          "metadata": {},
          "output_type": "execute_result"
        }
      ],
      "source": [
        "# remove text shorter than 5 words\n",
        "df = df[df['text_len'] > 4]\n",
        "len(df)"
      ]
    },
    {
      "cell_type": "code",
      "execution_count": null,
      "metadata": {
        "colab": {
          "base_uri": "https://localhost:8080/"
        },
        "id": "6VpkMebmN3nY",
        "outputId": "d3d0651f-4a49-49bd-82f6-fdabc82793bc"
      },
      "outputs": [
        {
          "data": {
            "text/plain": [
              "['./bully_tweet_df.pkl']"
            ]
          },
          "execution_count": 179,
          "metadata": {},
          "output_type": "execute_result"
        }
      ],
      "source": [
        "#joblib.dump(df,'./bully_tweet_df.pkl')"
      ]
    },
    {
      "cell_type": "markdown",
      "metadata": {
        "id": "y5hl4VR-ackt"
      },
      "source": [
        "## Models"
      ]
    },
    {
      "cell_type": "markdown",
      "metadata": {
        "id": "F6qSicftP4jr"
      },
      "source": [
        "### Prepare data for NB"
      ]
    },
    {
      "cell_type": "code",
      "execution_count": null,
      "metadata": {
        "id": "8CWHOyPdP8u4"
      },
      "outputs": [],
      "source": [
        "# recode bully_type\n",
        "\n",
        "df['bully_type'] = df['bully_type'].replace({'not_cyberbullying':0,\n",
        "                                             'age':1,'ethnicity':2,'gender':3,'religion':4,\n",
        "                                             'other_cyberbullying':5})"
      ]
    },
    {
      "cell_type": "code",
      "execution_count": null,
      "metadata": {
        "id": "eEi2APwDRia5"
      },
      "outputs": [],
      "source": [
        "X = df['text_clean']\n",
        "y = df['bully_type']\n",
        "\n",
        "X_train, X_test, y_train, y_test = train_test_split(X, y, test_size=0.3, random_state=101)"
      ]
    },
    {
      "cell_type": "code",
      "execution_count": null,
      "metadata": {
        "colab": {
          "base_uri": "https://localhost:8080/"
        },
        "id": "KNRiD1NjR09m",
        "outputId": "9be1c4b1-4960-4f8f-eccf-7cc55ec38f26"
      },
      "outputs": [
        {
          "data": {
            "text/plain": [
              "array([[   0, 4127],\n",
              "       [   1, 5522],\n",
              "       [   2, 5412],\n",
              "       [   3, 5042],\n",
              "       [   4, 5454],\n",
              "       [   5, 2994]])"
            ]
          },
          "execution_count": 193,
          "metadata": {},
          "output_type": "execute_result"
        }
      ],
      "source": [
        "(unique, counts) = np.unique(y_train, return_counts=True)\n",
        "np.asarray((unique, counts)).T"
      ]
    },
    {
      "cell_type": "code",
      "execution_count": null,
      "metadata": {
        "id": "BwLMRUSJSLWH"
      },
      "outputs": [],
      "source": [
        "# random over sample to balance the training data size of each bully_type\n",
        "ros = RandomOverSampler()\n",
        "X_train, y_train = ros.fit_resample(np.array(X_train).reshape(-1, 1), np.array(y_train).reshape(-1, 1));\n",
        "train_os = pd.DataFrame(list(zip([x[0] for x in X_train], y_train)), columns = ['text_clean', 'bully_type'])\n",
        "\n",
        "X_train = train_os['text_clean'].values\n",
        "y_train = train_os['bully_type'].values"
      ]
    },
    {
      "cell_type": "code",
      "execution_count": null,
      "metadata": {
        "colab": {
          "base_uri": "https://localhost:8080/"
        },
        "id": "KCAR8pj8SVi9",
        "outputId": "32bba291-c4e9-4402-8734-e36096eb88de"
      },
      "outputs": [
        {
          "data": {
            "text/plain": [
              "array([[   0, 5522],\n",
              "       [   1, 5522],\n",
              "       [   2, 5522],\n",
              "       [   3, 5522],\n",
              "       [   4, 5522],\n",
              "       [   5, 5522]])"
            ]
          },
          "execution_count": 195,
          "metadata": {},
          "output_type": "execute_result"
        }
      ],
      "source": [
        "(unique, counts) = np.unique(y_train, return_counts=True)\n",
        "np.asarray((unique, counts)).T"
      ]
    },
    {
      "cell_type": "code",
      "execution_count": null,
      "metadata": {
        "cellView": "form",
        "colab": {
          "base_uri": "https://localhost:8080/"
        },
        "id": "zUiwyJ15S0Gc",
        "outputId": "d71ff1b8-d923-4505-a813-4c91d3f8b4d0"
      },
      "outputs": [
        {
          "data": {
            "text/plain": [
              "['./bully_y_test.pkl']"
            ]
          },
          "execution_count": 201,
          "metadata": {},
          "output_type": "execute_result"
        }
      ],
      "source": [
        "#@title -\n",
        "#joblib.dump(X_train,'./bully_X_train.pkl')\n",
        "#joblib.dump(y_train,'./bully_y_train.pkl')\n",
        "#joblib.dump(X_test,'./bully_X_test.pkl')\n",
        "#joblib.dump(y_test,'./bully_y_test.pkl')"
      ]
    },
    {
      "cell_type": "markdown",
      "metadata": {
        "id": "-pknk_zvTXTx"
      },
      "source": [
        "### Naive Bayes baseline"
      ]
    },
    {
      "cell_type": "code",
      "execution_count": null,
      "metadata": {
        "id": "UOzf0OsjTYid"
      },
      "outputs": [],
      "source": [
        "# bag of words\n",
        "cv = CountVectorizer()\n",
        "X_train_cv =  cv.fit_transform(X_train)\n",
        "X_test_cv = cv.transform(X_test)"
      ]
    },
    {
      "cell_type": "code",
      "execution_count": null,
      "metadata": {
        "id": "ssYrUI6tTm7i"
      },
      "outputs": [],
      "source": [
        "# associate weights to each word based on frequency \n",
        "tf_transformer = TfidfTransformer(use_idf=True).fit(X_train_cv)\n",
        "X_train_tf = tf_transformer.transform(X_train_cv)\n",
        "X_test_tf = tf_transformer.transform(X_test_cv)"
      ]
    },
    {
      "cell_type": "code",
      "execution_count": null,
      "metadata": {
        "id": "kffe5_M1T22n"
      },
      "outputs": [],
      "source": [
        "nb_model = MultinomialNB()"
      ]
    },
    {
      "cell_type": "code",
      "execution_count": null,
      "metadata": {
        "id": "K9XNJwMgT56t"
      },
      "outputs": [],
      "source": [
        "nb_model.fit(X_train_tf, y_train)\n",
        "\n",
        "nb_pred = nb_model.predict(X_test_tf)"
      ]
    },
    {
      "cell_type": "code",
      "execution_count": null,
      "metadata": {
        "colab": {
          "base_uri": "https://localhost:8080/"
        },
        "id": "6MAKpiUYUDYL",
        "outputId": "819b2b36-2280-4e4e-f412-b17f1a574d1c"
      },
      "outputs": [
        {
          "name": "stdout",
          "output_type": "stream",
          "text": [
            "Naive Bayes Accuracy 0.8027 \n",
            "                      precision    recall  f1-score   support\n",
            "\n",
            "  not_cyberbullying       0.75      0.40      0.52      1812\n",
            "                age       0.77      0.98      0.86      2238\n",
            "          ethnicity       0.88      0.94      0.91      2250\n",
            "           religion       0.85      0.84      0.84      2184\n",
            "other_cyberbullying       0.86      0.96      0.91      2390\n",
            "             gender       0.58      0.50      0.53      1363\n",
            "\n",
            "           accuracy                           0.80     12237\n",
            "          macro avg       0.78      0.77      0.76     12237\n",
            "       weighted avg       0.79      0.80      0.79     12237\n",
            "\n"
          ]
        }
      ],
      "source": [
        "# results for NB prediction\n",
        "print('Naive Bayes Accuracy {:.4f} \\n'.format(accuracy_score(y_test,nb_pred)),\n",
        "      classification_report(y_test, nb_pred, target_names=TYPES))\n"
      ]
    },
    {
      "cell_type": "code",
      "execution_count": null,
      "metadata": {
        "id": "DqH7yy4lVtiP"
      },
      "outputs": [],
      "source": [
        "def plot_confusion_matrix(y, y_pred, title, labels):\n",
        "\n",
        "    fig, ax = plt.subplots(figsize=(9,9))\n",
        "    ax=sns.heatmap(confusion_matrix(y, y_pred), annot=True,  cmap=\"Purples\", fmt='g', cbar=False, annot_kws={\"size\":20}, )\n",
        "    plt.title(title, fontsize=25)\n",
        "    ax.xaxis.set_ticklabels(labels, fontsize=10) \n",
        "    ax.yaxis.set_ticklabels(labels, fontsize=10)\n",
        "    ax.set_ylabel('Test', fontsize=20)\n",
        "    ax.set_xlabel('Predicted', fontsize=20)\n",
        "    plt.show()"
      ]
    },
    {
      "cell_type": "code",
      "execution_count": null,
      "metadata": {
        "colab": {
          "base_uri": "https://localhost:8080/",
          "height": 587
        },
        "id": "qd6xHkukV46G",
        "outputId": "102136f4-0158-4e7c-ab3e-f61354c68924"
      },
      "outputs": [
        {
          "data": {
            "image/png": "[encoded data removed]",
            "text/plain": [
              "<Figure size 648x648 with 1 Axes>"
            ]
          },
          "metadata": {
            "needs_background": "light"
          },
          "output_type": "display_data"
        }
      ],
      "source": [
        "plot_confusion_matrix(y_test, nb_pred, 'Naive Bayes', TYPES)"
      ]
    },
    {
      "cell_type": "markdown",
      "metadata": {
        "id": "eMj5VkHrV-FB"
      },
      "source": [
        "### Create Document Vectors from Word Embedding"
      ]
    },
    {
      "cell_type": "code",
      "execution_count": null,
      "metadata": {
        "id": "xNCVlKOmNlu-"
      },
      "outputs": [],
      "source": [
        "import joblib\n",
        "df = joblib.load('./bully_tweet_df.pkl')"
      ]
    },
    {
      "cell_type": "code",
      "execution_count": null,
      "metadata": {
        "colab": {
          "base_uri": "https://localhost:8080/",
          "height": 206
        },
        "id": "kBsJ-T6fOp80",
        "outputId": "0d89d0a1-fa5f-4d8f-834d-bb7d54c995aa"
      },
      "outputs": [
        {
          "data": {
            "text/html": [
              "\n",
              "  <div id=\"df-33e15b1f-a11b-4597-81cc-c082f6f31563\">\n",
              "    <div class=\"colab-df-container\">\n",
              "      <div>\n",
              "<style scoped>\n",
              "    .dataframe tbody tr th:only-of-type {\n",
              "        vertical-align: middle;\n",
              "    }\n",
              "\n",
              "    .dataframe tbody tr th {\n",
              "        vertical-align: top;\n",
              "    }\n",
              "\n",
              "    .dataframe thead th {\n",
              "        text-align: right;\n",
              "    }\n",
              "</style>\n",
              "<table border=\"1\" class=\"dataframe\">\n",
              "  <thead>\n",
              "    <tr style=\"text-align: right;\">\n",
              "      <th></th>\n",
              "      <th>text</th>\n",
              "      <th>bully_type</th>\n",
              "      <th>text_clean</th>\n",
              "      <th>text_len</th>\n",
              "    </tr>\n",
              "  </thead>\n",
              "  <tbody>\n",
              "    <tr>\n",
              "      <th>0</th>\n",
              "      <td>In other words #katandandre, your food was cra...</td>\n",
              "      <td>0</td>\n",
              "      <td>words katandandre food crapilicious mkr</td>\n",
              "      <td>5</td>\n",
              "    </tr>\n",
              "    <tr>\n",
              "      <th>1</th>\n",
              "      <td>Why is #aussietv so white? #MKR #theblock #ImA...</td>\n",
              "      <td>0</td>\n",
              "      <td>aussietv white mkr theblock imacelebrityau tod...</td>\n",
              "      <td>11</td>\n",
              "    </tr>\n",
              "    <tr>\n",
              "      <th>2</th>\n",
              "      <td>@XochitlSuckkks a classy whore? Or more red ve...</td>\n",
              "      <td>0</td>\n",
              "      <td>classy whore red velvet cupcakes</td>\n",
              "      <td>5</td>\n",
              "    </tr>\n",
              "    <tr>\n",
              "      <th>3</th>\n",
              "      <td>@Jason_Gio meh. :P  thanks for the heads up, b...</td>\n",
              "      <td>0</td>\n",
              "      <td>gio meh pthanks heads concerned another angry ...</td>\n",
              "      <td>9</td>\n",
              "    </tr>\n",
              "    <tr>\n",
              "      <th>4</th>\n",
              "      <td>@RudhoeEnglish This is an ISIS account pretend...</td>\n",
              "      <td>0</td>\n",
              "      <td>isis account pretending kurdish accountlike is...</td>\n",
              "      <td>7</td>\n",
              "    </tr>\n",
              "  </tbody>\n",
              "</table>\n",
              "</div>\n",
              "      <button class=\"colab-df-convert\" onclick=\"convertToInteractive('df-33e15b1f-a11b-4597-81cc-c082f6f31563')\"\n",
              "              title=\"Convert this dataframe to an interactive table.\"\n",
              "              style=\"display:none;\">\n",
              "        \n",
              "  <svg xmlns=\"http://www.w3.org/2000/svg\" height=\"24px\"viewBox=\"0 0 24 24\"\n",
              "       width=\"24px\">\n",
              "    <path d=\"M0 0h24v24H0V0z\" fill=\"none\"/>\n",
              "    <path d=\"M18.56 5.44l.94 2.06.94-2.06 2.06-.94-2.06-.94-.94-2.06-.94 2.06-2.06.94zm-11 1L8.5 8.5l.94-2.06 2.06-.94-2.06-.94L8.5 2.5l-.94 2.06-2.06.94zm10 10l.94 2.06.94-2.06 2.06-.94-2.06-.94-.94-2.06-.94 2.06-2.06.94z\"/><path d=\"M17.41 7.96l-1.37-1.37c-.4-.4-.92-.59-1.43-.59-.52 0-1.04.2-1.43.59L10.3 9.45l-7.72 7.72c-.78.78-.78 2.05 0 2.83L4 21.41c.39.39.9.59 1.41.59.51 0 1.02-.2 1.41-.59l7.78-7.78 2.81-2.81c.8-.78.8-2.07 0-2.86zM5.41 20L4 18.59l7.72-7.72 1.47 1.35L5.41 20z\"/>\n",
              "  </svg>\n",
              "      </button>\n",
              "      \n",
              "  <style>\n",
              "    .colab-df-container {\n",
              "      display:flex;\n",
              "      flex-wrap:wrap;\n",
              "      gap: 12px;\n",
              "    }\n",
              "\n",
              "    .colab-df-convert {\n",
              "      background-color: #E8F0FE;\n",
              "      border: none;\n",
              "      border-radius: 50%;\n",
              "      cursor: pointer;\n",
              "      display: none;\n",
              "      fill: #1967D2;\n",
              "      height: 32px;\n",
              "      padding: 0 0 0 0;\n",
              "      width: 32px;\n",
              "    }\n",
              "\n",
              "    .colab-df-convert:hover {\n",
              "      background-color: #E2EBFA;\n",
              "      box-shadow: 0px 1px 2px rgba(60, 64, 67, 0.3), 0px 1px 3px 1px rgba(60, 64, 67, 0.15);\n",
              "      fill: #174EA6;\n",
              "    }\n",
              "\n",
              "    [theme=dark] .colab-df-convert {\n",
              "      background-color: #3B4455;\n",
              "      fill: #D2E3FC;\n",
              "    }\n",
              "\n",
              "    [theme=dark] .colab-df-convert:hover {\n",
              "      background-color: #434B5C;\n",
              "      box-shadow: 0px 1px 3px 1px rgba(0, 0, 0, 0.15);\n",
              "      filter: drop-shadow(0px 1px 2px rgba(0, 0, 0, 0.3));\n",
              "      fill: #FFFFFF;\n",
              "    }\n",
              "  </style>\n",
              "\n",
              "      <script>\n",
              "        const buttonEl =\n",
              "          document.querySelector('#df-33e15b1f-a11b-4597-81cc-c082f6f31563 button.colab-df-convert');\n",
              "        buttonEl.style.display =\n",
              "          google.colab.kernel.accessAllowed ? 'block' : 'none';\n",
              "\n",
              "        async function convertToInteractive(key) {\n",
              "          const element = document.querySelector('#df-33e15b1f-a11b-4597-81cc-c082f6f31563');\n",
              "          const dataTable =\n",
              "            await google.colab.kernel.invokeFunction('convertToInteractive',\n",
              "                                                     [key], {});\n",
              "          if (!dataTable) return;\n",
              "\n",
              "          const docLinkHtml = 'Like what you see? Visit the ' +\n",
              "            '<a target=\"_blank\" href=https://colab.research.google.com/notebooks/data_table.ipynb>data table notebook</a>'\n",
              "            + ' to learn more about interactive tables.';\n",
              "          element.innerHTML = '';\n",
              "          dataTable['output_type'] = 'display_data';\n",
              "          await google.colab.output.renderOutput(dataTable, element);\n",
              "          const docLink = document.createElement('div');\n",
              "          docLink.innerHTML = docLinkHtml;\n",
              "          element.appendChild(docLink);\n",
              "        }\n",
              "      </script>\n",
              "    </div>\n",
              "  </div>\n",
              "  "
            ],
            "text/plain": [
              "                                                text  bully_type  \\\n",
              "0  In other words #katandandre, your food was cra...           0   \n",
              "1  Why is #aussietv so white? #MKR #theblock #ImA...           0   \n",
              "2  @XochitlSuckkks a classy whore? Or more red ve...           0   \n",
              "3  @Jason_Gio meh. :P  thanks for the heads up, b...           0   \n",
              "4  @RudhoeEnglish This is an ISIS account pretend...           0   \n",
              "\n",
              "                                          text_clean  text_len  \n",
              "0            words katandandre food crapilicious mkr         5  \n",
              "1  aussietv white mkr theblock imacelebrityau tod...        11  \n",
              "2                   classy whore red velvet cupcakes         5  \n",
              "3  gio meh pthanks heads concerned another angry ...         9  \n",
              "4  isis account pretending kurdish accountlike is...         7  "
            ]
          },
          "execution_count": 10,
          "metadata": {},
          "output_type": "execute_result"
        }
      ],
      "source": [
        "df.head()"
      ]
    },
    {
      "cell_type": "markdown",
      "metadata": {
        "id": "2aJ329tyUoA4"
      },
      "source": [
        "**Build Word embeddings**"
      ]
    },
    {
      "cell_type": "code",
      "execution_count": null,
      "metadata": {
        "id": "wj0mSRkrRiNq"
      },
      "outputs": [],
      "source": [
        "def tokenize(texts):\n",
        "\n",
        "  lists_of_list = []\n",
        "\n",
        "  for text in texts:\n",
        "    text = text.split()\n",
        "    lists_of_list.append(text)\n",
        "\n",
        "  return lists_of_list"
      ]
    },
    {
      "cell_type": "code",
      "execution_count": null,
      "metadata": {
        "id": "B50rXcwTZYG1"
      },
      "outputs": [],
      "source": [
        "texts = tokenize(df['text_clean'])"
      ]
    },
    {
      "cell_type": "code",
      "execution_count": null,
      "metadata": {
        "id": "pPcQ6qfPQoVw"
      },
      "outputs": [],
      "source": [
        "from gensim.models import Word2Vec\n",
        "\n",
        "wv_model = Word2Vec(texts, size=128, workers=1, seed=101)"
      ]
    },
    {
      "cell_type": "code",
      "execution_count": null,
      "metadata": {
        "colab": {
          "base_uri": "https://localhost:8080/"
        },
        "id": "3uCcqGX1UDmJ",
        "outputId": "0fe680ae-9ed9-41e1-98ac-d3f9e4f0469d"
      },
      "outputs": [
        {
          "data": {
            "text/plain": [
              "['school', 'like', 'fuck']"
            ]
          },
          "execution_count": 20,
          "metadata": {},
          "output_type": "execute_result"
        }
      ],
      "source": [
        "wordindex = wv_model.wv.index2word\n",
        "wordindex[:3]"
      ]
    },
    {
      "cell_type": "code",
      "execution_count": null,
      "metadata": {
        "colab": {
          "base_uri": "https://localhost:8080/"
        },
        "id": "CT_6dweeUJZA",
        "outputId": "b25ee755-f15d-4f76-ca45-8b79c18024e2"
      },
      "outputs": [
        {
          "name": "stdout",
          "output_type": "stream",
          "text": [
            "9725\n",
            "[ 0.30786952  0.6327348   0.41404128  0.6452687  -0.95099354 -2.2727928\n",
            "  0.3558041  -1.0518303   1.0579127   1.1479325  -0.20076926  0.34286445\n",
            " -0.39589378 -0.01518199 -1.6437486   0.35623547  0.6957668  -0.1874421\n",
            " -0.999378    1.0672258  -0.9358268  -0.14952853  0.75211596 -0.10863407\n",
            "  2.0636935   0.98162985  0.483974   -0.11103529  1.6193327   1.4999253\n",
            " -0.6449672  -0.4701105  -0.52683854 -0.07501917  0.06263718 -1.968032\n",
            "  0.27055687 -0.02475701 -0.5819851  -0.48314488 -1.1232756  -0.51304877\n",
            "  0.54230064 -0.06913551  1.3966599   1.2595912  -1.0612055  -0.47355786\n",
            "  0.71554285  1.8519518   0.6567778   1.5011111  -1.520837   -0.08280531\n",
            "  0.00648812 -0.7048205  -0.8165003  -0.9442642  -0.8050616   0.81918246\n",
            "  0.1523893  -0.7613177  -0.17789395 -0.7809251   0.2632249  -1.8488497\n",
            "  0.6090605  -0.3205671   0.30335566  0.33239445  1.2080976  -1.7059709\n",
            "  0.24030861 -0.1759269  -0.7174437   0.4190199  -0.7834561   0.10470714\n",
            "  1.6135457  -0.79882085  0.30870372  0.3529628   0.11124809 -0.0684717\n",
            " -0.6711518   0.97521    -0.47970378  1.0782269  -1.4126644   1.7621452\n",
            "  0.8347112  -0.08760621 -1.2137666  -0.32299632 -0.16720854 -1.4602467\n",
            " -0.8495111   1.2082596   0.530948    0.06936814]\n"
          ]
        }
      ],
      "source": [
        "print(len(wv_model.wv.vocab))\n",
        "print(wv_model.wv['school'])"
      ]
    },
    {
      "cell_type": "code",
      "execution_count": null,
      "metadata": {
        "id": "TD_jnxtDUS0O"
      },
      "outputs": [],
      "source": [
        "wv_model.save(\"./bully_wv.model\")\n",
        "# model = Word2Vec.load(\"bully_wv.model\")"
      ]
    },
    {
      "cell_type": "code",
      "execution_count": null,
      "metadata": {
        "id": "vvMzWzDPVvZj"
      },
      "outputs": [],
      "source": [
        "def vectorize(list_of_docs, model):\n",
        "\n",
        "    features = []\n",
        "\n",
        "    for tokens in list_of_docs:\n",
        "        zero_vector = np.zeros(model.vector_size)\n",
        "        vectors = []\n",
        "        for token in tokens:\n",
        "            if token in model.wv:\n",
        "                try:\n",
        "                    vectors.append(model.wv[token])\n",
        "                except KeyError:\n",
        "                    continue\n",
        "        if vectors:\n",
        "            vectors = np.asarray(vectors)\n",
        "            avg_vec = vectors.mean(axis=0)\n",
        "            features.append(avg_vec)\n",
        "        else:\n",
        "            features.append(zero_vector)\n",
        "    return features"
      ]
    },
    {
      "cell_type": "code",
      "execution_count": null,
      "metadata": {
        "colab": {
          "base_uri": "https://localhost:8080/"
        },
        "id": "2Yk0Zxq0Wk90",
        "outputId": "7b659c8c-909e-4397-81de-40045a6bfd70"
      },
      "outputs": [
        {
          "data": {
            "text/plain": [
              "40788"
            ]
          },
          "execution_count": 22,
          "metadata": {},
          "output_type": "execute_result"
        }
      ],
      "source": [
        "vectorized_texts = vectorize(texts, model=wv_model)\n",
        "len(vectorized_texts)"
      ]
    },
    {
      "cell_type": "code",
      "execution_count": null,
      "metadata": {
        "colab": {
          "base_uri": "https://localhost:8080/"
        },
        "id": "-X5HxS-gWdJU",
        "outputId": "00d53e4f-1233-469c-b65c-69ea314d2a83"
      },
      "outputs": [
        {
          "data": {
            "text/plain": [
              "array([ 0.16318648, -0.35792857,  0.5984179 ,  0.27134088,  0.07560138,\n",
              "        0.44308907,  0.10584635, -0.01243   , -0.23824894,  0.050572  ,\n",
              "        0.14191619,  0.03820517,  0.21156687, -0.18510976,  0.4174275 ,\n",
              "        0.39110547, -0.0940025 ,  0.16446118,  0.07408677, -0.08833196,\n",
              "       -0.04818847, -0.33843267, -0.01014962, -0.08849698,  0.41599277,\n",
              "        0.22541958, -0.16333395,  0.25670096, -0.4987706 ,  0.42605975,\n",
              "        0.13808717, -0.16455334, -0.09683028,  0.08808897,  0.42302555,\n",
              "       -0.00999388,  0.21159127, -0.78938395, -0.22518906, -0.1048715 ,\n",
              "       -0.40899265, -0.7028111 ,  0.3212836 ,  0.32542813, -0.26681808,\n",
              "        0.02659268,  0.21964452,  0.03096921,  0.3725414 ,  0.4211905 ,\n",
              "       -0.07225779, -0.08391269, -0.30314046,  0.3878992 ,  0.2229501 ,\n",
              "        0.04568146, -0.14959076,  0.04078716,  0.49988586,  0.18502471,\n",
              "        0.19041912,  0.02814177,  0.2468533 ,  0.10147275,  0.19585046,\n",
              "        0.00969085, -0.23576453,  0.35132572, -0.12179836,  0.03693322,\n",
              "        0.02189814,  0.09886652, -0.07391328, -0.2777718 , -0.4358506 ,\n",
              "       -0.18166322, -0.09322724, -0.07471889,  0.1453115 , -0.06053294,\n",
              "       -0.4801698 , -0.01583689, -0.18376887,  0.10464942,  0.23247297,\n",
              "       -0.0705512 ,  0.48560593, -0.11167666, -0.00814041, -0.05972408,\n",
              "       -0.21420284,  0.3492294 , -0.13013165,  0.32547927,  0.00310776,\n",
              "       -0.25347918,  0.20951842,  0.0148787 , -0.15036713, -0.31762677,\n",
              "       -0.6645321 , -0.28415596,  0.01181544,  0.33495864, -0.15477534,\n",
              "        0.01127705, -0.05858837,  0.4239088 , -0.25137344,  0.17711373,\n",
              "       -0.1777889 , -0.46040243, -0.2756499 ,  0.44596428,  0.50164795,\n",
              "        0.15525816, -0.22018728,  0.4521652 , -0.14135556,  0.06339088,\n",
              "        0.19736728,  0.48640126, -0.12584198,  0.49064383,  0.13228828,\n",
              "        0.15094742,  0.28270322,  0.0337117 ], dtype=float32)"
            ]
          },
          "execution_count": 23,
          "metadata": {},
          "output_type": "execute_result"
        }
      ],
      "source": [
        "vectorized_texts[0]"
      ]
    },
    {
      "cell_type": "code",
      "execution_count": null,
      "metadata": {
        "colab": {
          "base_uri": "https://localhost:8080/"
        },
        "id": "UpL5qSPrcmvf",
        "outputId": "c6b38b83-239a-4465-9dc2-b12864be0c79"
      },
      "outputs": [
        {
          "data": {
            "text/plain": [
              "['./bully_vectorized_texts.pkl']"
            ]
          },
          "execution_count": 109,
          "metadata": {},
          "output_type": "execute_result"
        }
      ],
      "source": [
        "#joblib.dump(vectorized_texts,'./bully_vectorized_texts.pkl')"
      ]
    },
    {
      "cell_type": "markdown",
      "metadata": {
        "id": "Ms8xm3PPahOl"
      },
      "source": [
        "### SVM"
      ]
    },
    {
      "cell_type": "code",
      "execution_count": null,
      "metadata": {
        "id": "oxRnPo7gdAhy"
      },
      "outputs": [],
      "source": [
        "import joblib\n",
        "df = joblib.load('./bully_tweet_df.pkl')\n",
        "vectorized_texts = joblib.load('./bully_vectorized_texts.pkl')\n",
        "PCA_components = joblib.load('./bully_PCA_components.pkl')"
      ]
    },
    {
      "cell_type": "code",
      "execution_count": null,
      "metadata": {
        "id": "u0brNNEfcBwB"
      },
      "outputs": [],
      "source": [
        "X_train, X_test, y_train, y_test = train_test_split(vectorized_texts, df['bully_type'], test_size=0.3, random_state=101)"
      ]
    },
    {
      "cell_type": "code",
      "execution_count": null,
      "metadata": {
        "id": "ROEa9gBVaixU"
      },
      "outputs": [],
      "source": [
        "from sklearn import svm\n",
        "\n",
        "clf = svm.SVC(kernel='linear') "
      ]
    },
    {
      "cell_type": "code",
      "execution_count": null,
      "metadata": {
        "id": "fg8i0_k0dOJp"
      },
      "outputs": [],
      "source": [
        "clf.fit(X_train, y_train)\n",
        "\n",
        "y_pred = clf.predict(X_test)"
      ]
    },
    {
      "cell_type": "code",
      "execution_count": null,
      "metadata": {
        "id": "auF91qzbe2hq"
      },
      "outputs": [],
      "source": [
        "{'not_cyberbullying':0, 'age':1,\n",
        " 'ethnicity':2, 'gender':3,\n",
        " 'religion':4, 'other_cyberbullying':5}"
      ]
    },
    {
      "cell_type": "code",
      "execution_count": null,
      "metadata": {
        "colab": {
          "base_uri": "https://localhost:8080/"
        },
        "id": "_OrHa3b1eObx",
        "outputId": "70c72136-4a5e-476b-b0d6-cdcef8d26edb"
      },
      "outputs": [
        {
          "name": "stdout",
          "output_type": "stream",
          "text": [
            "SVM Accuracy 0.7790 \n",
            "               precision    recall  f1-score   support\n",
            "\n",
            "           0       0.50      0.66      0.57      1812\n",
            "           1       0.92      0.94      0.93      2238\n",
            "           2       0.88      0.89      0.88      2250\n",
            "           3       0.85      0.76      0.81      2184\n",
            "           4       0.85      0.90      0.88      2390\n",
            "           5       0.52      0.30      0.38      1363\n",
            "\n",
            "    accuracy                           0.78     12237\n",
            "   macro avg       0.75      0.74      0.74     12237\n",
            "weighted avg       0.78      0.78      0.77     12237\n",
            "\n"
          ]
        }
      ],
      "source": [
        "print('SVM Accuracy {:.4f} \\n'.format(accuracy_score(y_test,y_pred)),\n",
        "      classification_report(y_test, y_pred))"
      ]
    },
    {
      "cell_type": "code",
      "execution_count": null,
      "metadata": {
        "colab": {
          "base_uri": "https://localhost:8080/",
          "height": 587
        },
        "id": "22rnSszjegI2",
        "outputId": "b0956b5c-9c15-4cbc-815e-ec15ea1f85be"
      },
      "outputs": [
        {
          "data": {
            "image/png": "[encoded data removed]",
            "text/plain": [
              "<Figure size 648x648 with 1 Axes>"
            ]
          },
          "metadata": {
            "needs_background": "light"
          },
          "output_type": "display_data"
        }
      ],
      "source": [
        "plot_confusion_matrix(y_test, y_pred, 'SVM', set(y_test))"
      ]
    }
  ],
  "metadata": {
    "colab": {
      "provenance": [],
      "toc_visible": true
    },
    "gpuClass": "standard",
    "kernelspec": {
      "display_name": "Python 3",
      "language": "python",
      "name": "python3"
    },
    "language_info": {
      "name": "python",
      "version": "3.9.6 (default, Aug  5 2022, 15:21:02) \n[Clang 14.0.0 (clang-1400.0.29.102)]"
    },
    "vscode": {
      "interpreter": {
        "hash": "31f2aee4e71d21fbe5cf8b01ff0e069b9275f58929596ceb00d14d90e3e16cd6"
      }
    }
  },
  "nbformat": 4,
  "nbformat_minor": 0
}
