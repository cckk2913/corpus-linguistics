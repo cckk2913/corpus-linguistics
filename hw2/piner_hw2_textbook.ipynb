{
  "nbformat": 4,
  "nbformat_minor": 0,
  "metadata": {
    "colab": {
      "provenance": [],
      "toc_visible": true
    },
    "kernelspec": {
      "name": "python3",
      "display_name": "Python 3"
    },
    "language_info": {
      "name": "python"
    }
  },
  "cells": [
    {
      "cell_type": "markdown",
      "source": [
        "## Mount Drive & Import pkgs"
      ],
      "metadata": {
        "id": "fAdy_0OGv9Gs"
      }
    },
    {
      "cell_type": "code",
      "execution_count": null,
      "metadata": {
        "id": "3zgy5se5v0E5"
      },
      "outputs": [],
      "source": [
        "from google.colab import drive\n",
        "drive.mount('/content/drive')"
      ]
    },
    {
      "cell_type": "code",
      "source": [
        "# change dir\n",
        "import os"
      ],
      "metadata": {
        "id": "8YFMwwBHwCPY"
      },
      "execution_count": 3,
      "outputs": []
    },
    {
      "cell_type": "code",
      "source": [
        "import sys\n",
        "import pickle\n",
        "import pandas as pd\n",
        "import numpy as np\n",
        "from tqdm import tqdm\n",
        "import re"
      ],
      "metadata": {
        "id": "fDgUC5Jnw7uM"
      },
      "execution_count": 4,
      "outputs": []
    },
    {
      "cell_type": "markdown",
      "source": [
        "## Read & clean file"
      ],
      "metadata": {
        "id": "TUmYm5WNauf3"
      }
    },
    {
      "cell_type": "code",
      "source": [
        "data = pd.read_csv('./教科書課文.csv', encoding='utf-8',index_col=False)\n",
        "len(data)"
      ],
      "metadata": {
        "colab": {
          "base_uri": "https://localhost:8080/"
        },
        "id": "Vjz06bvHaxSA",
        "outputId": "81f2b967-8cf7-469f-c679-4cbc9178a5cc"
      },
      "execution_count": 5,
      "outputs": [
        {
          "output_type": "execute_result",
          "data": {
            "text/plain": [
              "114"
            ]
          },
          "metadata": {},
          "execution_count": 5
        }
      ]
    },
    {
      "cell_type": "code",
      "source": [
        "data.head()"
      ],
      "metadata": {
        "colab": {
          "base_uri": "https://localhost:8080/",
          "height": 206
        },
        "id": "zl6ItIcHbJe6",
        "outputId": "fbb12ef5-13d8-4606-8b0c-9189713f71aa"
      },
      "execution_count": 6,
      "outputs": [
        {
          "output_type": "execute_result",
          "data": {
            "text/plain": [
              "    No. Subject Grade  Year Publisher  Type Lesson   Tittle  \\\n",
              "0  D001      國語    6下    91     國立編譯館  text      1    生活處處美   \n",
              "1  D002      國語    6下    91     國立編譯館  text      2     梅樹飄香   \n",
              "2  D003      國語    6下    91     國立編譯館  text      3  胸有丘壑張大千   \n",
              "3  D004      國語    6下    91     國立編譯館  text      4   天涯若比鄰    \n",
              "4  D005      國語    6下    91     國立編譯館  text      5   小故事的啟示   \n",
              "\n",
              "                                             Content  \n",
              "0  生活處處美\\n\\n餐桌上的美人\\n晚餐時媽媽做了她的拿手好菜—糖醋里肌,材料除了裹粉油炸成金...  \n",
              "1  五十多年前的一天,天上飄著細雨,李梅樹走出三峽民生街李家老宅,穿過街旁的小巷,走向祖師廟。這...  \n",
              "2  胸有丘壑張大千\\n\\n一襲長袍,一把長長的鬍鬚,張大千在護士小姐扶持下,顫巍巍的來到那幅巨大...  \n",
              "3  你有沒有想過:當你正興高采烈的和同學玩耍時,在地球遙遠的另一端,那兒的小朋友還沉睡在夢鄉中呢...  \n",
              "4  小故事的啟示\\n讓路給小鴨子!這是真的嗎?美國鄉村公路上車輛不多,公路兩邊林木茂盛,常會看見...  "
            ],
            "text/html": [
              "\n",
              "  <div id=\"df-665cd55c-cb01-4393-a24a-f5c7bfa74305\">\n",
              "    <div class=\"colab-df-container\">\n",
              "      <div>\n",
              "<style scoped>\n",
              "    .dataframe tbody tr th:only-of-type {\n",
              "        vertical-align: middle;\n",
              "    }\n",
              "\n",
              "    .dataframe tbody tr th {\n",
              "        vertical-align: top;\n",
              "    }\n",
              "\n",
              "    .dataframe thead th {\n",
              "        text-align: right;\n",
              "    }\n",
              "</style>\n",
              "<table border=\"1\" class=\"dataframe\">\n",
              "  <thead>\n",
              "    <tr style=\"text-align: right;\">\n",
              "      <th></th>\n",
              "      <th>No.</th>\n",
              "      <th>Subject</th>\n",
              "      <th>Grade</th>\n",
              "      <th>Year</th>\n",
              "      <th>Publisher</th>\n",
              "      <th>Type</th>\n",
              "      <th>Lesson</th>\n",
              "      <th>Tittle</th>\n",
              "      <th>Content</th>\n",
              "    </tr>\n",
              "  </thead>\n",
              "  <tbody>\n",
              "    <tr>\n",
              "      <th>0</th>\n",
              "      <td>D001</td>\n",
              "      <td>國語</td>\n",
              "      <td>6下</td>\n",
              "      <td>91</td>\n",
              "      <td>國立編譯館</td>\n",
              "      <td>text</td>\n",
              "      <td>1</td>\n",
              "      <td>生活處處美</td>\n",
              "      <td>生活處處美\\n\\n餐桌上的美人\\n晚餐時媽媽做了她的拿手好菜—糖醋里肌,材料除了裹粉油炸成金...</td>\n",
              "    </tr>\n",
              "    <tr>\n",
              "      <th>1</th>\n",
              "      <td>D002</td>\n",
              "      <td>國語</td>\n",
              "      <td>6下</td>\n",
              "      <td>91</td>\n",
              "      <td>國立編譯館</td>\n",
              "      <td>text</td>\n",
              "      <td>2</td>\n",
              "      <td>梅樹飄香</td>\n",
              "      <td>五十多年前的一天,天上飄著細雨,李梅樹走出三峽民生街李家老宅,穿過街旁的小巷,走向祖師廟。這...</td>\n",
              "    </tr>\n",
              "    <tr>\n",
              "      <th>2</th>\n",
              "      <td>D003</td>\n",
              "      <td>國語</td>\n",
              "      <td>6下</td>\n",
              "      <td>91</td>\n",
              "      <td>國立編譯館</td>\n",
              "      <td>text</td>\n",
              "      <td>3</td>\n",
              "      <td>胸有丘壑張大千</td>\n",
              "      <td>胸有丘壑張大千\\n\\n一襲長袍,一把長長的鬍鬚,張大千在護士小姐扶持下,顫巍巍的來到那幅巨大...</td>\n",
              "    </tr>\n",
              "    <tr>\n",
              "      <th>3</th>\n",
              "      <td>D004</td>\n",
              "      <td>國語</td>\n",
              "      <td>6下</td>\n",
              "      <td>91</td>\n",
              "      <td>國立編譯館</td>\n",
              "      <td>text</td>\n",
              "      <td>4</td>\n",
              "      <td>天涯若比鄰</td>\n",
              "      <td>你有沒有想過:當你正興高采烈的和同學玩耍時,在地球遙遠的另一端,那兒的小朋友還沉睡在夢鄉中呢...</td>\n",
              "    </tr>\n",
              "    <tr>\n",
              "      <th>4</th>\n",
              "      <td>D005</td>\n",
              "      <td>國語</td>\n",
              "      <td>6下</td>\n",
              "      <td>91</td>\n",
              "      <td>國立編譯館</td>\n",
              "      <td>text</td>\n",
              "      <td>5</td>\n",
              "      <td>小故事的啟示</td>\n",
              "      <td>小故事的啟示\\n讓路給小鴨子!這是真的嗎?美國鄉村公路上車輛不多,公路兩邊林木茂盛,常會看見...</td>\n",
              "    </tr>\n",
              "  </tbody>\n",
              "</table>\n",
              "</div>\n",
              "      <button class=\"colab-df-convert\" onclick=\"convertToInteractive('df-665cd55c-cb01-4393-a24a-f5c7bfa74305')\"\n",
              "              title=\"Convert this dataframe to an interactive table.\"\n",
              "              style=\"display:none;\">\n",
              "        \n",
              "  <svg xmlns=\"http://www.w3.org/2000/svg\" height=\"24px\"viewBox=\"0 0 24 24\"\n",
              "       width=\"24px\">\n",
              "    <path d=\"M0 0h24v24H0V0z\" fill=\"none\"/>\n",
              "    <path d=\"M18.56 5.44l.94 2.06.94-2.06 2.06-.94-2.06-.94-.94-2.06-.94 2.06-2.06.94zm-11 1L8.5 8.5l.94-2.06 2.06-.94-2.06-.94L8.5 2.5l-.94 2.06-2.06.94zm10 10l.94 2.06.94-2.06 2.06-.94-2.06-.94-.94-2.06-.94 2.06-2.06.94z\"/><path d=\"M17.41 7.96l-1.37-1.37c-.4-.4-.92-.59-1.43-.59-.52 0-1.04.2-1.43.59L10.3 9.45l-7.72 7.72c-.78.78-.78 2.05 0 2.83L4 21.41c.39.39.9.59 1.41.59.51 0 1.02-.2 1.41-.59l7.78-7.78 2.81-2.81c.8-.78.8-2.07 0-2.86zM5.41 20L4 18.59l7.72-7.72 1.47 1.35L5.41 20z\"/>\n",
              "  </svg>\n",
              "      </button>\n",
              "      \n",
              "  <style>\n",
              "    .colab-df-container {\n",
              "      display:flex;\n",
              "      flex-wrap:wrap;\n",
              "      gap: 12px;\n",
              "    }\n",
              "\n",
              "    .colab-df-convert {\n",
              "      background-color: #E8F0FE;\n",
              "      border: none;\n",
              "      border-radius: 50%;\n",
              "      cursor: pointer;\n",
              "      display: none;\n",
              "      fill: #1967D2;\n",
              "      height: 32px;\n",
              "      padding: 0 0 0 0;\n",
              "      width: 32px;\n",
              "    }\n",
              "\n",
              "    .colab-df-convert:hover {\n",
              "      background-color: #E2EBFA;\n",
              "      box-shadow: 0px 1px 2px rgba(60, 64, 67, 0.3), 0px 1px 3px 1px rgba(60, 64, 67, 0.15);\n",
              "      fill: #174EA6;\n",
              "    }\n",
              "\n",
              "    [theme=dark] .colab-df-convert {\n",
              "      background-color: #3B4455;\n",
              "      fill: #D2E3FC;\n",
              "    }\n",
              "\n",
              "    [theme=dark] .colab-df-convert:hover {\n",
              "      background-color: #434B5C;\n",
              "      box-shadow: 0px 1px 3px 1px rgba(0, 0, 0, 0.15);\n",
              "      filter: drop-shadow(0px 1px 2px rgba(0, 0, 0, 0.3));\n",
              "      fill: #FFFFFF;\n",
              "    }\n",
              "  </style>\n",
              "\n",
              "      <script>\n",
              "        const buttonEl =\n",
              "          document.querySelector('#df-665cd55c-cb01-4393-a24a-f5c7bfa74305 button.colab-df-convert');\n",
              "        buttonEl.style.display =\n",
              "          google.colab.kernel.accessAllowed ? 'block' : 'none';\n",
              "\n",
              "        async function convertToInteractive(key) {\n",
              "          const element = document.querySelector('#df-665cd55c-cb01-4393-a24a-f5c7bfa74305');\n",
              "          const dataTable =\n",
              "            await google.colab.kernel.invokeFunction('convertToInteractive',\n",
              "                                                     [key], {});\n",
              "          if (!dataTable) return;\n",
              "\n",
              "          const docLinkHtml = 'Like what you see? Visit the ' +\n",
              "            '<a target=\"_blank\" href=https://colab.research.google.com/notebooks/data_table.ipynb>data table notebook</a>'\n",
              "            + ' to learn more about interactive tables.';\n",
              "          element.innerHTML = '';\n",
              "          dataTable['output_type'] = 'display_data';\n",
              "          await google.colab.output.renderOutput(dataTable, element);\n",
              "          const docLink = document.createElement('div');\n",
              "          docLink.innerHTML = docLinkHtml;\n",
              "          element.appendChild(docLink);\n",
              "        }\n",
              "      </script>\n",
              "    </div>\n",
              "  </div>\n",
              "  "
            ]
          },
          "metadata": {},
          "execution_count": 6
        }
      ]
    },
    {
      "cell_type": "code",
      "source": [
        "df = data[['Grade', 'Year',\t'Lesson', 'Tittle', 'Content']]\n",
        "len(df)"
      ],
      "metadata": {
        "colab": {
          "base_uri": "https://localhost:8080/"
        },
        "id": "ax1dX7nxbUDJ",
        "outputId": "c361cb50-cdf9-420a-e42f-74fb0cb7d82e"
      },
      "execution_count": 7,
      "outputs": [
        {
          "output_type": "execute_result",
          "data": {
            "text/plain": [
              "114"
            ]
          },
          "metadata": {},
          "execution_count": 7
        }
      ]
    },
    {
      "cell_type": "code",
      "source": [
        "# Clean\n",
        "trash_re = \"@\\S+|https?:\\S+|http?:\\S|[^\\u4E00-\\u9FD5]\"\n",
        "\n",
        "def clean(texts, trash_re):\n",
        "    output = []\n",
        "    for text in texts:\n",
        "        text = re.sub(trash_re, ' ', str(text)) # 以空格取代標點\n",
        "        output.append(text)\n",
        "    return output"
      ],
      "metadata": {
        "id": "1t3BOtt7joOd"
      },
      "execution_count": 58,
      "outputs": []
    },
    {
      "cell_type": "code",
      "source": [
        "# process Clean\n",
        "all_lines = []\n",
        "\n",
        "for lesson in df['Content'].tolist():\n",
        "  lines = lesson.splitlines()\n",
        "  newlines = []\n",
        "  for l in lines: # 清掉空白句\n",
        "    if len(l) > 0:\n",
        "      newlines.append(l)\n",
        "  all_lines.append(newlines)"
      ],
      "metadata": {
        "id": "k5AGaIAmbuX-"
      },
      "execution_count": 91,
      "outputs": []
    },
    {
      "cell_type": "code",
      "source": [
        "# 加回df\n",
        "df['Content_split'] = all_lines\n",
        "df.head()"
      ],
      "metadata": {
        "id": "XKamUr8keNVN"
      },
      "execution_count": null,
      "outputs": []
    },
    {
      "cell_type": "code",
      "source": [
        "df.to_pickle('./textbook_df.pkl')"
      ],
      "metadata": {
        "id": "wzbehsolvZm-"
      },
      "execution_count": 110,
      "outputs": []
    },
    {
      "cell_type": "markdown",
      "source": [
        "## WSD"
      ],
      "metadata": {
        "id": "oOGJeoVEfFXh"
      }
    },
    {
      "cell_type": "markdown",
      "source": [
        "### install import pkgs"
      ],
      "metadata": {
        "id": "6Tx6zjPCgiUD"
      }
    },
    {
      "cell_type": "code",
      "source": [
        "!git clone https://github.com/seantyh/dwsd-beta"
      ],
      "metadata": {
        "colab": {
          "base_uri": "https://localhost:8080/"
        },
        "outputId": "0d6f17e1-1603-4645-b610-60426f2a40d1",
        "id": "FVCjXIsngiUF"
      },
      "execution_count": 4,
      "outputs": [
        {
          "output_type": "stream",
          "name": "stdout",
          "text": [
            "fatal: destination path 'dwsd-beta' already exists and is not an empty directory.\n"
          ]
        }
      ]
    },
    {
      "cell_type": "code",
      "source": [
        "!pip install -q CwnGraph transformers"
      ],
      "metadata": {
        "id": "_LGcLT3GgiUH"
      },
      "execution_count": null,
      "outputs": []
    },
    {
      "cell_type": "code",
      "source": [
        "import sys\n",
        "if \"dwsd-beta\" not in sys.path:\n",
        "  sys.path.append(\"dwsd-beta\")"
      ],
      "metadata": {
        "id": "fA5TaJU7giUI"
      },
      "execution_count": 6,
      "outputs": []
    },
    {
      "cell_type": "code",
      "source": [
        "from dotted_wsd import DottedWsdTagger"
      ],
      "metadata": {
        "colab": {
          "base_uri": "https://localhost:8080/"
        },
        "outputId": "00cd057b-a042-4f71-9dfe-d92b25219478",
        "id": "tBUMSiB4giUJ"
      },
      "execution_count": 7,
      "outputs": [
        {
          "output_type": "stream",
          "name": "stdout",
          "text": [
            "updating manifest...\n",
            "manifest version:  v2022.08\n"
          ]
        }
      ]
    },
    {
      "cell_type": "code",
      "source": [
        "tagger = DottedWsdTagger()"
      ],
      "metadata": {
        "id": "B_ipl5ahgiUJ"
      },
      "execution_count": null,
      "outputs": []
    },
    {
      "cell_type": "markdown",
      "source": [
        "DistilTag"
      ],
      "metadata": {
        "id": "of6s9VZTgiUL"
      }
    },
    {
      "cell_type": "code",
      "source": [
        "pip install -U DistilTag"
      ],
      "metadata": {
        "id": "vkcPMd9IgiUL"
      },
      "execution_count": null,
      "outputs": []
    },
    {
      "cell_type": "code",
      "source": [
        "import DistilTag\n",
        "DistilTag.download()"
      ],
      "metadata": {
        "id": "a0LEu9oSgiUM"
      },
      "execution_count": null,
      "outputs": []
    },
    {
      "cell_type": "code",
      "source": [
        "from DistilTag import DistilTag\n",
        "distilTagger = DistilTag()\n",
        "\n",
        "test = distilTagger.tag('貝多芬今天去台大打球')\n",
        "test[0]"
      ],
      "metadata": {
        "id": "lC5p81DfgiUN"
      },
      "execution_count": null,
      "outputs": []
    },
    {
      "cell_type": "markdown",
      "source": [
        "### process df"
      ],
      "metadata": {
        "id": "OrGFHqtfgzeS"
      }
    },
    {
      "cell_type": "code",
      "source": [
        "'''texts: list of lists(Tagged好的sentence) of tuples(lemma)'''\n",
        "def get_dotted_wsd(texts):  \n",
        "\n",
        "  id_pattern = '\\[(.*?)\\]'\n",
        "  con_pattern = '\\((.*?)\\)'\n",
        "  gloss_pattern = '(\\[|\\()\\S+(\\]|\\))|\\s'\n",
        "\n",
        "  datalist = []\n",
        "  for sentence in texts:\n",
        "    tt = tagger.sense_tag_per_sentence(sentence)\n",
        "    for word in tt:\n",
        "      one_lemma = word[0]\n",
        "      one_pos = word[1]\n",
        "      if len(word[2]) > 0:\n",
        "        id_search = re.search(id_pattern, word[2])\n",
        "        con_search = re.search(con_pattern, word[2])\n",
        "\n",
        "        one_senseID = id_search[0][1:-1]\n",
        "        one_confidence = con_search[0][1:-1]\n",
        "        one_gloss = re.sub(gloss_pattern, '', word[2])\n",
        "      else:\n",
        "        one_gloss = ''\n",
        "        one_senseID = ''\n",
        "        one_confidence = ''\n",
        "      \n",
        "      # 一個lemma的資料\n",
        "      one_data = [one_lemma, one_pos, one_senseID, one_gloss, one_confidence]\n",
        "      datalist.append(one_data)\n",
        "      \n",
        "  return datalist # list of lists(lemma) of string(lemma features)"
      ],
      "metadata": {
        "id": "IxjwSumOrVBa"
      },
      "execution_count": 12,
      "outputs": []
    },
    {
      "cell_type": "code",
      "source": [
        "tagged = distilTagger.tag('我：是誰、你是誰？他,是誰。')\n",
        "get_dotted_wsd(tagged)"
      ],
      "metadata": {
        "colab": {
          "base_uri": "https://localhost:8080/"
        },
        "id": "U50Faz2PtMZG",
        "outputId": "66b08d24-dd2d-48bd-86f8-cdaf402ebbf7"
      },
      "execution_count": 13,
      "outputs": [
        {
          "output_type": "execute_result",
          "data": {
            "text/plain": [
              "[['我', 'Nh', '05238701', '代指說話者。', '0.7796'],\n",
              " ['：', 'COLONCATEGORY', '', '', ''],\n",
              " ['是', 'SHI', '07023505', '表後述動作的受事者是前述對象。', '0.9913'],\n",
              " ['誰', 'Nh', '04090701', '代指詢問一個或多數的人。', '0.9847'],\n",
              " ['、', 'PAUSECATEGORY', '', '', ''],\n",
              " ['你', 'Nh', '05238601', '代指單數的聽話者。', '0.6614'],\n",
              " ['是', 'SHI', '07023505', '表後述動作的受事者是前述對象。', '0.9959'],\n",
              " ['誰', 'Nh', '04090701', '代指詢問一個或多數的人。', '0.9942'],\n",
              " ['？', 'QUESTIONCATEGORY', '', '', ''],\n",
              " ['他', 'Nh', '05238501', '代指自己和對方以外的第三人。', '0.7466'],\n",
              " ['，', 'COMMACATEGORY', '', '', ''],\n",
              " ['是', 'SHI', '07023505', '表後述動作的受事者是前述對象。', '0.9968'],\n",
              " ['誰', 'Nh', '04090701', '代指詢問一個或多數的人。', '0.9933'],\n",
              " ['。', 'PERIODCATEGORY', '', '', '']]"
            ]
          },
          "metadata": {},
          "execution_count": 13
        }
      ]
    },
    {
      "cell_type": "markdown",
      "source": [
        "process Content_split"
      ],
      "metadata": {
        "id": "CWzpYrwUu0y5"
      }
    },
    {
      "cell_type": "code",
      "source": [
        "df = pd.read_pickle('./textbook_df.pkl')\n",
        "df.head()"
      ],
      "metadata": {
        "colab": {
          "base_uri": "https://localhost:8080/",
          "height": 337
        },
        "id": "wDa6ax6Ux_fj",
        "outputId": "daf2273a-0246-434c-9edc-19212f90b26f"
      },
      "execution_count": 14,
      "outputs": [
        {
          "output_type": "execute_result",
          "data": {
            "text/plain": [
              "  Grade  Year Lesson   Tittle  \\\n",
              "0    6下    91      1    生活處處美   \n",
              "1    6下    91      2     梅樹飄香   \n",
              "2    6下    91      3  胸有丘壑張大千   \n",
              "3    6下    91      4   天涯若比鄰    \n",
              "4    6下    91      5   小故事的啟示   \n",
              "\n",
              "                                             Content  \\\n",
              "0  生活處處美\\n\\n餐桌上的美人\\n晚餐時媽媽做了她的拿手好菜—糖醋里肌,材料除了裹粉油炸成金...   \n",
              "1  五十多年前的一天,天上飄著細雨,李梅樹走出三峽民生街李家老宅,穿過街旁的小巷,走向祖師廟。這...   \n",
              "2  胸有丘壑張大千\\n\\n一襲長袍,一把長長的鬍鬚,張大千在護士小姐扶持下,顫巍巍的來到那幅巨大...   \n",
              "3  你有沒有想過:當你正興高采烈的和同學玩耍時,在地球遙遠的另一端,那兒的小朋友還沉睡在夢鄉中呢...   \n",
              "4  小故事的啟示\\n讓路給小鴨子!這是真的嗎?美國鄉村公路上車輛不多,公路兩邊林木茂盛,常會看見...   \n",
              "\n",
              "                                       Content_split  \n",
              "0  [生活處處美, 餐桌上的美人, 晚餐時媽媽做了她的拿手好菜—糖醋里肌,材料除了裹粉油炸成金黃...  \n",
              "1  [五十多年前的一天,天上飄著細雨,李梅樹走出三峽民生街李家老宅,穿過街旁的小巷,走向祖師廟。...  \n",
              "2  [胸有丘壑張大千, 一襲長袍,一把長長的鬍鬚,張大千在護士小姐扶持下,顫巍巍的來到那幅巨大的...  \n",
              "3  [你有沒有想過:當你正興高采烈的和同學玩耍時,在地球遙遠的另一端,那兒的小朋友還沉睡在夢鄉中...  \n",
              "4  [小故事的啟示, 讓路給小鴨子!這是真的嗎?美國鄉村公路上車輛不多,公路兩邊林木茂盛,常會看...  "
            ],
            "text/html": [
              "\n",
              "  <div id=\"df-a9e90822-2e78-41d4-acb2-88d532915619\">\n",
              "    <div class=\"colab-df-container\">\n",
              "      <div>\n",
              "<style scoped>\n",
              "    .dataframe tbody tr th:only-of-type {\n",
              "        vertical-align: middle;\n",
              "    }\n",
              "\n",
              "    .dataframe tbody tr th {\n",
              "        vertical-align: top;\n",
              "    }\n",
              "\n",
              "    .dataframe thead th {\n",
              "        text-align: right;\n",
              "    }\n",
              "</style>\n",
              "<table border=\"1\" class=\"dataframe\">\n",
              "  <thead>\n",
              "    <tr style=\"text-align: right;\">\n",
              "      <th></th>\n",
              "      <th>Grade</th>\n",
              "      <th>Year</th>\n",
              "      <th>Lesson</th>\n",
              "      <th>Tittle</th>\n",
              "      <th>Content</th>\n",
              "      <th>Content_split</th>\n",
              "    </tr>\n",
              "  </thead>\n",
              "  <tbody>\n",
              "    <tr>\n",
              "      <th>0</th>\n",
              "      <td>6下</td>\n",
              "      <td>91</td>\n",
              "      <td>1</td>\n",
              "      <td>生活處處美</td>\n",
              "      <td>生活處處美\\n\\n餐桌上的美人\\n晚餐時媽媽做了她的拿手好菜—糖醋里肌,材料除了裹粉油炸成金...</td>\n",
              "      <td>[生活處處美, 餐桌上的美人, 晚餐時媽媽做了她的拿手好菜—糖醋里肌,材料除了裹粉油炸成金黃...</td>\n",
              "    </tr>\n",
              "    <tr>\n",
              "      <th>1</th>\n",
              "      <td>6下</td>\n",
              "      <td>91</td>\n",
              "      <td>2</td>\n",
              "      <td>梅樹飄香</td>\n",
              "      <td>五十多年前的一天,天上飄著細雨,李梅樹走出三峽民生街李家老宅,穿過街旁的小巷,走向祖師廟。這...</td>\n",
              "      <td>[五十多年前的一天,天上飄著細雨,李梅樹走出三峽民生街李家老宅,穿過街旁的小巷,走向祖師廟。...</td>\n",
              "    </tr>\n",
              "    <tr>\n",
              "      <th>2</th>\n",
              "      <td>6下</td>\n",
              "      <td>91</td>\n",
              "      <td>3</td>\n",
              "      <td>胸有丘壑張大千</td>\n",
              "      <td>胸有丘壑張大千\\n\\n一襲長袍,一把長長的鬍鬚,張大千在護士小姐扶持下,顫巍巍的來到那幅巨大...</td>\n",
              "      <td>[胸有丘壑張大千, 一襲長袍,一把長長的鬍鬚,張大千在護士小姐扶持下,顫巍巍的來到那幅巨大的...</td>\n",
              "    </tr>\n",
              "    <tr>\n",
              "      <th>3</th>\n",
              "      <td>6下</td>\n",
              "      <td>91</td>\n",
              "      <td>4</td>\n",
              "      <td>天涯若比鄰</td>\n",
              "      <td>你有沒有想過:當你正興高采烈的和同學玩耍時,在地球遙遠的另一端,那兒的小朋友還沉睡在夢鄉中呢...</td>\n",
              "      <td>[你有沒有想過:當你正興高采烈的和同學玩耍時,在地球遙遠的另一端,那兒的小朋友還沉睡在夢鄉中...</td>\n",
              "    </tr>\n",
              "    <tr>\n",
              "      <th>4</th>\n",
              "      <td>6下</td>\n",
              "      <td>91</td>\n",
              "      <td>5</td>\n",
              "      <td>小故事的啟示</td>\n",
              "      <td>小故事的啟示\\n讓路給小鴨子!這是真的嗎?美國鄉村公路上車輛不多,公路兩邊林木茂盛,常會看見...</td>\n",
              "      <td>[小故事的啟示, 讓路給小鴨子!這是真的嗎?美國鄉村公路上車輛不多,公路兩邊林木茂盛,常會看...</td>\n",
              "    </tr>\n",
              "  </tbody>\n",
              "</table>\n",
              "</div>\n",
              "      <button class=\"colab-df-convert\" onclick=\"convertToInteractive('df-a9e90822-2e78-41d4-acb2-88d532915619')\"\n",
              "              title=\"Convert this dataframe to an interactive table.\"\n",
              "              style=\"display:none;\">\n",
              "        \n",
              "  <svg xmlns=\"http://www.w3.org/2000/svg\" height=\"24px\"viewBox=\"0 0 24 24\"\n",
              "       width=\"24px\">\n",
              "    <path d=\"M0 0h24v24H0V0z\" fill=\"none\"/>\n",
              "    <path d=\"M18.56 5.44l.94 2.06.94-2.06 2.06-.94-2.06-.94-.94-2.06-.94 2.06-2.06.94zm-11 1L8.5 8.5l.94-2.06 2.06-.94-2.06-.94L8.5 2.5l-.94 2.06-2.06.94zm10 10l.94 2.06.94-2.06 2.06-.94-2.06-.94-.94-2.06-.94 2.06-2.06.94z\"/><path d=\"M17.41 7.96l-1.37-1.37c-.4-.4-.92-.59-1.43-.59-.52 0-1.04.2-1.43.59L10.3 9.45l-7.72 7.72c-.78.78-.78 2.05 0 2.83L4 21.41c.39.39.9.59 1.41.59.51 0 1.02-.2 1.41-.59l7.78-7.78 2.81-2.81c.8-.78.8-2.07 0-2.86zM5.41 20L4 18.59l7.72-7.72 1.47 1.35L5.41 20z\"/>\n",
              "  </svg>\n",
              "      </button>\n",
              "      \n",
              "  <style>\n",
              "    .colab-df-container {\n",
              "      display:flex;\n",
              "      flex-wrap:wrap;\n",
              "      gap: 12px;\n",
              "    }\n",
              "\n",
              "    .colab-df-convert {\n",
              "      background-color: #E8F0FE;\n",
              "      border: none;\n",
              "      border-radius: 50%;\n",
              "      cursor: pointer;\n",
              "      display: none;\n",
              "      fill: #1967D2;\n",
              "      height: 32px;\n",
              "      padding: 0 0 0 0;\n",
              "      width: 32px;\n",
              "    }\n",
              "\n",
              "    .colab-df-convert:hover {\n",
              "      background-color: #E2EBFA;\n",
              "      box-shadow: 0px 1px 2px rgba(60, 64, 67, 0.3), 0px 1px 3px 1px rgba(60, 64, 67, 0.15);\n",
              "      fill: #174EA6;\n",
              "    }\n",
              "\n",
              "    [theme=dark] .colab-df-convert {\n",
              "      background-color: #3B4455;\n",
              "      fill: #D2E3FC;\n",
              "    }\n",
              "\n",
              "    [theme=dark] .colab-df-convert:hover {\n",
              "      background-color: #434B5C;\n",
              "      box-shadow: 0px 1px 3px 1px rgba(0, 0, 0, 0.15);\n",
              "      filter: drop-shadow(0px 1px 2px rgba(0, 0, 0, 0.3));\n",
              "      fill: #FFFFFF;\n",
              "    }\n",
              "  </style>\n",
              "\n",
              "      <script>\n",
              "        const buttonEl =\n",
              "          document.querySelector('#df-a9e90822-2e78-41d4-acb2-88d532915619 button.colab-df-convert');\n",
              "        buttonEl.style.display =\n",
              "          google.colab.kernel.accessAllowed ? 'block' : 'none';\n",
              "\n",
              "        async function convertToInteractive(key) {\n",
              "          const element = document.querySelector('#df-a9e90822-2e78-41d4-acb2-88d532915619');\n",
              "          const dataTable =\n",
              "            await google.colab.kernel.invokeFunction('convertToInteractive',\n",
              "                                                     [key], {});\n",
              "          if (!dataTable) return;\n",
              "\n",
              "          const docLinkHtml = 'Like what you see? Visit the ' +\n",
              "            '<a target=\"_blank\" href=https://colab.research.google.com/notebooks/data_table.ipynb>data table notebook</a>'\n",
              "            + ' to learn more about interactive tables.';\n",
              "          element.innerHTML = '';\n",
              "          dataTable['output_type'] = 'display_data';\n",
              "          await google.colab.output.renderOutput(dataTable, element);\n",
              "          const docLink = document.createElement('div');\n",
              "          docLink.innerHTML = docLinkHtml;\n",
              "          element.appendChild(docLink);\n",
              "        }\n",
              "      </script>\n",
              "    </div>\n",
              "  </div>\n",
              "  "
            ]
          },
          "metadata": {},
          "execution_count": 14
        }
      ]
    },
    {
      "cell_type": "code",
      "source": [
        "all_lessons = []\n",
        "\n",
        "for lesson in tqdm(df['Content_split'].tolist()):\n",
        "  datas_of_lesson = []\n",
        "  for line in tqdm(lesson):\n",
        "    tagged = distilTagger.tag(line)\n",
        "    datas_of_line = get_dotted_wsd(tagged)\n",
        "    datas_of_lesson += datas_of_line\n",
        "\n",
        "  all_lessons.append(datas_of_lesson)\n",
        "\n",
        "df['list_of_senses'] = all_lessons\n",
        "df.to_pickle('./textbook_wsd.pkl')"
      ],
      "metadata": {
        "id": "JvGIYrWOnO3v"
      },
      "execution_count": null,
      "outputs": []
    },
    {
      "cell_type": "markdown",
      "source": [
        "## Sense statistics"
      ],
      "metadata": {
        "id": "LsjFJiih-bVk"
      }
    },
    {
      "cell_type": "markdown",
      "source": [
        "### inspect"
      ],
      "metadata": {
        "id": "lz_SeEEgE1S6"
      }
    },
    {
      "cell_type": "code",
      "source": [
        "data = pd.read_pickle('./textbook_wsd.pkl')\n",
        "data.head()"
      ],
      "metadata": {
        "id": "VmP7OQoc-ef5"
      },
      "execution_count": null,
      "outputs": []
    },
    {
      "cell_type": "markdown",
      "source": [
        "build WSD df (1 sense per row)"
      ],
      "metadata": {
        "id": "ME4v-XeDg89j"
      }
    },
    {
      "cell_type": "code",
      "source": [
        "grades, lessons, titles, lemmas, pos, sids, defs = [], [], [], [], [], [], []\n",
        "\n",
        "for i,r in data.iterrows():\n",
        "  g = r['Grade']\n",
        "  les = r['Lesson']\n",
        "  t = r['Tittle']\n",
        "  for s in r['list_of_senses']:\n",
        "    grades.append(g)\n",
        "    lessons.append(les)\n",
        "    titles.append(t)\n",
        "    s = tuple(s[:-1])\n",
        "    lemmas.append(s[0])\n",
        "    pos.append(s[1])\n",
        "    sids.append(s[2])\n",
        "    defs.append(s[3])\n",
        "\n",
        "wsd_df = pd.DataFrame({'grade':grades, 'lesson':lessons, 'title':titles, \n",
        "                       'lemma':lemmas, 'pos':pos, 'sid':sids, 'definition':defs})\n"
      ],
      "metadata": {
        "id": "PxQEkcDM-q7M"
      },
      "execution_count": 110,
      "outputs": []
    },
    {
      "cell_type": "code",
      "source": [
        "wsd_df[:3]"
      ],
      "metadata": {
        "colab": {
          "base_uri": "https://localhost:8080/",
          "height": 155
        },
        "id": "HyAE3bHKs1ZU",
        "outputId": "9aec0dc4-d20d-4ee5-86e9-b50a035284a1"
      },
      "execution_count": 111,
      "outputs": [
        {
          "output_type": "execute_result",
          "data": {
            "text/plain": [
              "  grade lesson  title lemma pos       sid        definition\n",
              "0    6下      1  生活處處美    生活  Na  06743601          日常活動的情況。\n",
              "1    6下      1  生活處處美    處處   D                            \n",
              "2    6下      1  生活處處美     美  VH  06634803  形容比喻可以引起他人愉悅情感的。"
            ],
            "text/html": [
              "\n",
              "  <div id=\"df-17bda83a-2f66-4128-a2cf-ad31deaee80a\">\n",
              "    <div class=\"colab-df-container\">\n",
              "      <div>\n",
              "<style scoped>\n",
              "    .dataframe tbody tr th:only-of-type {\n",
              "        vertical-align: middle;\n",
              "    }\n",
              "\n",
              "    .dataframe tbody tr th {\n",
              "        vertical-align: top;\n",
              "    }\n",
              "\n",
              "    .dataframe thead th {\n",
              "        text-align: right;\n",
              "    }\n",
              "</style>\n",
              "<table border=\"1\" class=\"dataframe\">\n",
              "  <thead>\n",
              "    <tr style=\"text-align: right;\">\n",
              "      <th></th>\n",
              "      <th>grade</th>\n",
              "      <th>lesson</th>\n",
              "      <th>title</th>\n",
              "      <th>lemma</th>\n",
              "      <th>pos</th>\n",
              "      <th>sid</th>\n",
              "      <th>definition</th>\n",
              "    </tr>\n",
              "  </thead>\n",
              "  <tbody>\n",
              "    <tr>\n",
              "      <th>0</th>\n",
              "      <td>6下</td>\n",
              "      <td>1</td>\n",
              "      <td>生活處處美</td>\n",
              "      <td>生活</td>\n",
              "      <td>Na</td>\n",
              "      <td>06743601</td>\n",
              "      <td>日常活動的情況。</td>\n",
              "    </tr>\n",
              "    <tr>\n",
              "      <th>1</th>\n",
              "      <td>6下</td>\n",
              "      <td>1</td>\n",
              "      <td>生活處處美</td>\n",
              "      <td>處處</td>\n",
              "      <td>D</td>\n",
              "      <td></td>\n",
              "      <td></td>\n",
              "    </tr>\n",
              "    <tr>\n",
              "      <th>2</th>\n",
              "      <td>6下</td>\n",
              "      <td>1</td>\n",
              "      <td>生活處處美</td>\n",
              "      <td>美</td>\n",
              "      <td>VH</td>\n",
              "      <td>06634803</td>\n",
              "      <td>形容比喻可以引起他人愉悅情感的。</td>\n",
              "    </tr>\n",
              "  </tbody>\n",
              "</table>\n",
              "</div>\n",
              "      <button class=\"colab-df-convert\" onclick=\"convertToInteractive('df-17bda83a-2f66-4128-a2cf-ad31deaee80a')\"\n",
              "              title=\"Convert this dataframe to an interactive table.\"\n",
              "              style=\"display:none;\">\n",
              "        \n",
              "  <svg xmlns=\"http://www.w3.org/2000/svg\" height=\"24px\"viewBox=\"0 0 24 24\"\n",
              "       width=\"24px\">\n",
              "    <path d=\"M0 0h24v24H0V0z\" fill=\"none\"/>\n",
              "    <path d=\"M18.56 5.44l.94 2.06.94-2.06 2.06-.94-2.06-.94-.94-2.06-.94 2.06-2.06.94zm-11 1L8.5 8.5l.94-2.06 2.06-.94-2.06-.94L8.5 2.5l-.94 2.06-2.06.94zm10 10l.94 2.06.94-2.06 2.06-.94-2.06-.94-.94-2.06-.94 2.06-2.06.94z\"/><path d=\"M17.41 7.96l-1.37-1.37c-.4-.4-.92-.59-1.43-.59-.52 0-1.04.2-1.43.59L10.3 9.45l-7.72 7.72c-.78.78-.78 2.05 0 2.83L4 21.41c.39.39.9.59 1.41.59.51 0 1.02-.2 1.41-.59l7.78-7.78 2.81-2.81c.8-.78.8-2.07 0-2.86zM5.41 20L4 18.59l7.72-7.72 1.47 1.35L5.41 20z\"/>\n",
              "  </svg>\n",
              "      </button>\n",
              "      \n",
              "  <style>\n",
              "    .colab-df-container {\n",
              "      display:flex;\n",
              "      flex-wrap:wrap;\n",
              "      gap: 12px;\n",
              "    }\n",
              "\n",
              "    .colab-df-convert {\n",
              "      background-color: #E8F0FE;\n",
              "      border: none;\n",
              "      border-radius: 50%;\n",
              "      cursor: pointer;\n",
              "      display: none;\n",
              "      fill: #1967D2;\n",
              "      height: 32px;\n",
              "      padding: 0 0 0 0;\n",
              "      width: 32px;\n",
              "    }\n",
              "\n",
              "    .colab-df-convert:hover {\n",
              "      background-color: #E2EBFA;\n",
              "      box-shadow: 0px 1px 2px rgba(60, 64, 67, 0.3), 0px 1px 3px 1px rgba(60, 64, 67, 0.15);\n",
              "      fill: #174EA6;\n",
              "    }\n",
              "\n",
              "    [theme=dark] .colab-df-convert {\n",
              "      background-color: #3B4455;\n",
              "      fill: #D2E3FC;\n",
              "    }\n",
              "\n",
              "    [theme=dark] .colab-df-convert:hover {\n",
              "      background-color: #434B5C;\n",
              "      box-shadow: 0px 1px 3px 1px rgba(0, 0, 0, 0.15);\n",
              "      filter: drop-shadow(0px 1px 2px rgba(0, 0, 0, 0.3));\n",
              "      fill: #FFFFFF;\n",
              "    }\n",
              "  </style>\n",
              "\n",
              "      <script>\n",
              "        const buttonEl =\n",
              "          document.querySelector('#df-17bda83a-2f66-4128-a2cf-ad31deaee80a button.colab-df-convert');\n",
              "        buttonEl.style.display =\n",
              "          google.colab.kernel.accessAllowed ? 'block' : 'none';\n",
              "\n",
              "        async function convertToInteractive(key) {\n",
              "          const element = document.querySelector('#df-17bda83a-2f66-4128-a2cf-ad31deaee80a');\n",
              "          const dataTable =\n",
              "            await google.colab.kernel.invokeFunction('convertToInteractive',\n",
              "                                                     [key], {});\n",
              "          if (!dataTable) return;\n",
              "\n",
              "          const docLinkHtml = 'Like what you see? Visit the ' +\n",
              "            '<a target=\"_blank\" href=https://colab.research.google.com/notebooks/data_table.ipynb>data table notebook</a>'\n",
              "            + ' to learn more about interactive tables.';\n",
              "          element.innerHTML = '';\n",
              "          dataTable['output_type'] = 'display_data';\n",
              "          await google.colab.output.renderOutput(dataTable, element);\n",
              "          const docLink = document.createElement('div');\n",
              "          docLink.innerHTML = docLinkHtml;\n",
              "          element.appendChild(docLink);\n",
              "        }\n",
              "      </script>\n",
              "    </div>\n",
              "  </div>\n",
              "  "
            ],
            "application/vnd.google.colaboratory.module+javascript": "\n      import \"https://ssl.gstatic.com/colaboratory/data_table/a8bd4d5e58f96183/data_table.js\";\n\n      window.createDataTable({\n        data: [[{\n            'v': 0,\n            'f': \"0\",\n        },\n\"6\\u4e0b\",\n\"1\",\n\"\\u751f\\u6d3b\\u8655\\u8655\\u7f8e\",\n\"\\u751f\\u6d3b\",\n\"Na\",\n\"06743601\",\n\"\\u65e5\\u5e38\\u6d3b\\u52d5\\u7684\\u60c5\\u6cc1\\u3002\"],\n [{\n            'v': 1,\n            'f': \"1\",\n        },\n\"6\\u4e0b\",\n\"1\",\n\"\\u751f\\u6d3b\\u8655\\u8655\\u7f8e\",\n\"\\u8655\\u8655\",\n\"D\",\n\"\",\n\"\"],\n [{\n            'v': 2,\n            'f': \"2\",\n        },\n\"6\\u4e0b\",\n\"1\",\n\"\\u751f\\u6d3b\\u8655\\u8655\\u7f8e\",\n\"\\u7f8e\",\n\"VH\",\n\"06634803\",\n\"\\u5f62\\u5bb9\\u6bd4\\u55bb\\u53ef\\u4ee5\\u5f15\\u8d77\\u4ed6\\u4eba\\u6109\\u6085\\u60c5\\u611f\\u7684\\u3002\"]],\n        columns: [[\"number\", \"index\"], [\"string\", \"grade\"], [\"string\", \"lesson\"], [\"string\", \"title\"], [\"string\", \"lemma\"], [\"string\", \"pos\"], [\"string\", \"sid\"], [\"string\", \"definition\"]],\n        columnOptions: [{\"width\": \"1px\", \"className\": \"index_column\"}],\n        rowsPerPage: 25,\n        helpUrl: \"https://colab.research.google.com/notebooks/data_table.ipynb\",\n        suppressOutputScrolling: true,\n        minimumWidth: undefined,\n      });\n    "
          },
          "metadata": {},
          "execution_count": 111
        }
      ]
    },
    {
      "cell_type": "code",
      "source": [
        "wsd_df.to_pickle('./wsd_df.pkl')"
      ],
      "metadata": {
        "id": "PlMiwkCNjHas"
      },
      "execution_count": 112,
      "outputs": []
    },
    {
      "cell_type": "markdown",
      "source": [
        "#### Freq of senses 的，還，就，也，又"
      ],
      "metadata": {
        "id": "1CPBJ3AkrwgA"
      }
    },
    {
      "cell_type": "code",
      "source": [
        "targets = ['的','還','就','也','又']\n",
        "wsd_df.loc[wsd_df['lemma'].isin(targets)].groupby('lemma').size()"
      ],
      "metadata": {
        "colab": {
          "base_uri": "https://localhost:8080/"
        },
        "id": "WNM54edAr5NT",
        "outputId": "8723a845-6a1d-4f5a-f8f3-2485e211c298"
      },
      "execution_count": 55,
      "outputs": [
        {
          "output_type": "execute_result",
          "data": {
            "text/plain": [
              "lemma\n",
              "也     251\n",
              "又     163\n",
              "就     374\n",
              "的    3185\n",
              "還     127\n",
              "dtype: int64"
            ]
          },
          "metadata": {},
          "execution_count": 55
        }
      ]
    },
    {
      "cell_type": "code",
      "source": [
        "ddf = wsd_df.loc[wsd_df['lemma'].isin(targets)]"
      ],
      "metadata": {
        "id": "MmtvVxYzucq5"
      },
      "execution_count": 56,
      "outputs": []
    },
    {
      "cell_type": "code",
      "source": [
        "# 的freq\n",
        "ddf[ddf['lemma']=='的'].groupby('definition').size()"
      ],
      "metadata": {
        "colab": {
          "base_uri": "https://localhost:8080/"
        },
        "id": "QxUDTqrwulXX",
        "outputId": "11c32d8c-a407-4a1b-b7c8-0c483f6c02b3"
      },
      "execution_count": 58,
      "outputs": [
        {
          "output_type": "execute_result",
          "data": {
            "text/plain": [
              "definition\n",
              "列舉相類似的事物。               838\n",
              "表一般的修飾關係，用於修飾語和中心語間。    395\n",
              "表以前述動作的狀態。              460\n",
              "表使謂語具名詞性，用於主語和謂語間。      395\n",
              "表前述對象是離合動賓動詞的賓語。          6\n",
              "表在前述情況下。                277\n",
              "表對推論的肯定。                 18\n",
              "表肯定或加強的語氣。              218\n",
              "表領屬關係，用於修飾語和中心語間。       578\n",
              "dtype: int64"
            ]
          },
          "metadata": {},
          "execution_count": 58
        }
      ]
    },
    {
      "cell_type": "code",
      "source": [
        "# 還freq\n",
        "ddf[ddf['lemma']=='還'].groupby('definition').size()"
      ],
      "metadata": {
        "colab": {
          "base_uri": "https://localhost:8080/"
        },
        "id": "ttfdMN8BurkQ",
        "outputId": "c9e460d7-a5b1-43cc-89a7-3bc4a42c8489"
      },
      "execution_count": 59,
      "outputs": [
        {
          "output_type": "execute_result",
          "data": {
            "text/plain": [
              "definition\n",
              "交回、歸還。             2\n",
              "恢復、回復原來的狀態。        2\n",
              "表事情尚未完成。          14\n",
              "表前述對象符合讓步後的條件。     7\n",
              "表前述範圍之外有所補充。      71\n",
              "表動作或情況持續不變。       22\n",
              "表程度高於比較對象。         1\n",
              "表超出預料。             5\n",
              "返回、回來原來的地方。        3\n",
              "dtype: int64"
            ]
          },
          "metadata": {},
          "execution_count": 59
        }
      ]
    },
    {
      "cell_type": "code",
      "source": [
        "# 就freq\n",
        "ddf[ddf['lemma']=='就'].groupby('definition').size()"
      ],
      "metadata": {
        "colab": {
          "base_uri": "https://localhost:8080/"
        },
        "id": "zgKvcrZEt56b",
        "outputId": "5a10e0d9-c1ee-47f3-bf25-1c4acc586ef0"
      },
      "execution_count": 57,
      "outputs": [
        {
          "output_type": "execute_result",
          "data": {
            "text/plain": [
              "definition\n",
              "用於轉折，表與聽話者有共識。                      16\n",
              "表前述事件為後述事件的充分條件，表示在該條件或情況下自然發展。    159\n",
              "表前述情況已滿足主觀的最低條件。                     8\n",
              "表加強說話者對陳述內容的肯定。                     99\n",
              "表強調說話者已知事實。                         12\n",
              "表後述事件在很短的時間內完成。                      4\n",
              "表後述事件發生的時間比預期早。                      7\n",
              "表後述事件緊接著前述事件發生。                     65\n",
              "表後述命題和前文相對，具有轉折的語氣。                  2\n",
              "表無所謂的讓步。                             1\n",
              "表確定範圍。                               1\n",
              "dtype: int64"
            ]
          },
          "metadata": {},
          "execution_count": 57
        }
      ]
    },
    {
      "cell_type": "code",
      "source": [
        "# 也freq\n",
        "ddf[ddf['lemma']=='也'].groupby('definition').size()"
      ],
      "metadata": {
        "colab": {
          "base_uri": "https://localhost:8080/"
        },
        "id": "wQRTScbOuy3_",
        "outputId": "fd6a6167-7cfc-45be-867b-e0444a767ce2"
      },
      "execution_count": 60,
      "outputs": [
        {
          "output_type": "execute_result",
          "data": {
            "text/plain": [
              "definition\n",
              "表在特定情況下，沒有一定的作法。     5\n",
              "表委婉的語氣。             24\n",
              "表所描述的對象屬於同一類。       81\n",
              "表示判斷或解釋的語氣。          5\n",
              "表示疑問或反問的語氣。          2\n",
              "表與預期的情況相反。          13\n",
              "表讓步的語氣。              4\n",
              "表預期會改變的情況維持不變。      34\n",
              "連接兩個有關連性的事件。        83\n",
              "dtype: int64"
            ]
          },
          "metadata": {},
          "execution_count": 60
        }
      ]
    },
    {
      "cell_type": "code",
      "source": [
        "# 又freq\n",
        "ddf[ddf['lemma']=='又'].groupby('definition').size()"
      ],
      "metadata": {
        "colab": {
          "base_uri": "https://localhost:8080/"
        },
        "id": "pJWpwYiUu1-7",
        "outputId": "23007c49-e508-4f32-deab-3bc524bd0d8f"
      },
      "execution_count": 61,
      "outputs": [
        {
          "output_type": "execute_result",
          "data": {
            "text/plain": [
              "definition\n",
              "表事件重複發生。                  58\n",
              "表另外。                       4\n",
              "表接連發生事件中的後述發生事件。          15\n",
              "表示加強的語氣。                   4\n",
              "表轉折。                      10\n",
              "言談中用來表主題的轉折。               5\n",
              "連接下一級的計數單位，表示整數之外再加零數。     9\n",
              "連接兩對等詞組，表兩種狀況同時存在。        58\n",
              "dtype: int64"
            ]
          },
          "metadata": {},
          "execution_count": 61
        }
      ]
    },
    {
      "cell_type": "markdown",
      "source": [
        "#### Distr of grade 的"
      ],
      "metadata": {
        "id": "xDe4bzIpvCxc"
      }
    },
    {
      "cell_type": "code",
      "source": [
        "ddf = wsd_df.loc[wsd_df['lemma'].isin(targets)]"
      ],
      "metadata": {
        "id": "kmqor7oy3BK6"
      },
      "execution_count": 113,
      "outputs": []
    },
    {
      "cell_type": "code",
      "source": [
        "pd.set_option('display.max_rows',None)\n",
        "pd.DataFrame(ddf[ddf['lemma']=='的'].groupby(['definition','grade']).size()).rename({0:'count'},axis=1)"
      ],
      "metadata": {
        "id": "K1OXniAbvJR2"
      },
      "execution_count": null,
      "outputs": []
    },
    {
      "cell_type": "code",
      "source": [
        "df_DE = pd.DataFrame(ddf[ddf['lemma']=='的']).sort_values(['grade','definition']).reset_index(drop=True)"
      ],
      "metadata": {
        "id": "VtbW5C7E4BVr"
      },
      "execution_count": null,
      "outputs": []
    },
    {
      "cell_type": "code",
      "source": [
        "df_DE.to_csv('./df_DE.csv',encoding='utf-8',index=False)"
      ],
      "metadata": {
        "id": "mkRammYw5ghF"
      },
      "execution_count": 116,
      "outputs": []
    },
    {
      "cell_type": "markdown",
      "source": [
        "## Visualization"
      ],
      "metadata": {
        "id": "yQ2h8gAt1N9w"
      }
    },
    {
      "cell_type": "markdown",
      "source": [
        "中文"
      ],
      "metadata": {
        "id": "qVK0gRsiv604"
      }
    },
    {
      "cell_type": "code",
      "source": [
        "import matplotlib as mpl\n",
        "import matplotlib.font_manager as fm\n",
        "import seaborn as sns\n",
        "import matplotlib.pyplot as plt\n"
      ],
      "metadata": {
        "id": "AXzjsMIFv1wh"
      },
      "execution_count": 25,
      "outputs": []
    },
    {
      "cell_type": "code",
      "source": [
        "!wget -O TaipeiSansTCBeta-Regular.ttf https://drive.google.com/uc?id=1eGAsTN1HBpJAkeVM57_C7ccp7hbgSz3_&export=download"
      ],
      "metadata": {
        "id": "gbXaHh8cv6BD"
      },
      "execution_count": null,
      "outputs": []
    },
    {
      "cell_type": "code",
      "source": [
        "fm.fontManager.addfont('TaipeiSansTCBeta-Regular.ttf')\n",
        "mpl.rc('font', family='Taipei Sans TC Beta')"
      ],
      "metadata": {
        "id": "f3rh78KswJAr"
      },
      "execution_count": 6,
      "outputs": []
    },
    {
      "cell_type": "markdown",
      "source": [
        "group definition"
      ],
      "metadata": {
        "id": "bJAtSY4T_IZO"
      }
    },
    {
      "cell_type": "code",
      "source": [
        "df_DE = pd.read_csv('./df_DE.csv',encoding='utf-8',index_col=False)\n",
        "df_DE.head()"
      ],
      "metadata": {
        "colab": {
          "base_uri": "https://localhost:8080/",
          "height": 206
        },
        "id": "XTSxRZvA_KJq",
        "outputId": "927ccb5f-bf0a-49a9-e937-058e211c4faf"
      },
      "execution_count": 8,
      "outputs": [
        {
          "output_type": "execute_result",
          "data": {
            "text/plain": [
              "  grade lesson   title lemma pos      sid definition\n",
              "0    3上      3  小動物的本事     的  DE  7023408  列舉相類似的事物。\n",
              "1    3上      3  小動物的本事     的  DE  7023408  列舉相類似的事物。\n",
              "2    3上      3  小動物的本事     的  DE  7023408  列舉相類似的事物。\n",
              "3    3上      9  可貴的筆記本     的  DE  7023408  列舉相類似的事物。\n",
              "4    3上      9  可貴的筆記本     的  DE  7023408  列舉相類似的事物。"
            ],
            "text/html": [
              "\n",
              "  <div id=\"df-aeb6cb7f-95b9-4b45-8fdd-2ab54625642b\">\n",
              "    <div class=\"colab-df-container\">\n",
              "      <div>\n",
              "<style scoped>\n",
              "    .dataframe tbody tr th:only-of-type {\n",
              "        vertical-align: middle;\n",
              "    }\n",
              "\n",
              "    .dataframe tbody tr th {\n",
              "        vertical-align: top;\n",
              "    }\n",
              "\n",
              "    .dataframe thead th {\n",
              "        text-align: right;\n",
              "    }\n",
              "</style>\n",
              "<table border=\"1\" class=\"dataframe\">\n",
              "  <thead>\n",
              "    <tr style=\"text-align: right;\">\n",
              "      <th></th>\n",
              "      <th>grade</th>\n",
              "      <th>lesson</th>\n",
              "      <th>title</th>\n",
              "      <th>lemma</th>\n",
              "      <th>pos</th>\n",
              "      <th>sid</th>\n",
              "      <th>definition</th>\n",
              "    </tr>\n",
              "  </thead>\n",
              "  <tbody>\n",
              "    <tr>\n",
              "      <th>0</th>\n",
              "      <td>3上</td>\n",
              "      <td>3</td>\n",
              "      <td>小動物的本事</td>\n",
              "      <td>的</td>\n",
              "      <td>DE</td>\n",
              "      <td>7023408</td>\n",
              "      <td>列舉相類似的事物。</td>\n",
              "    </tr>\n",
              "    <tr>\n",
              "      <th>1</th>\n",
              "      <td>3上</td>\n",
              "      <td>3</td>\n",
              "      <td>小動物的本事</td>\n",
              "      <td>的</td>\n",
              "      <td>DE</td>\n",
              "      <td>7023408</td>\n",
              "      <td>列舉相類似的事物。</td>\n",
              "    </tr>\n",
              "    <tr>\n",
              "      <th>2</th>\n",
              "      <td>3上</td>\n",
              "      <td>3</td>\n",
              "      <td>小動物的本事</td>\n",
              "      <td>的</td>\n",
              "      <td>DE</td>\n",
              "      <td>7023408</td>\n",
              "      <td>列舉相類似的事物。</td>\n",
              "    </tr>\n",
              "    <tr>\n",
              "      <th>3</th>\n",
              "      <td>3上</td>\n",
              "      <td>9</td>\n",
              "      <td>可貴的筆記本</td>\n",
              "      <td>的</td>\n",
              "      <td>DE</td>\n",
              "      <td>7023408</td>\n",
              "      <td>列舉相類似的事物。</td>\n",
              "    </tr>\n",
              "    <tr>\n",
              "      <th>4</th>\n",
              "      <td>3上</td>\n",
              "      <td>9</td>\n",
              "      <td>可貴的筆記本</td>\n",
              "      <td>的</td>\n",
              "      <td>DE</td>\n",
              "      <td>7023408</td>\n",
              "      <td>列舉相類似的事物。</td>\n",
              "    </tr>\n",
              "  </tbody>\n",
              "</table>\n",
              "</div>\n",
              "      <button class=\"colab-df-convert\" onclick=\"convertToInteractive('df-aeb6cb7f-95b9-4b45-8fdd-2ab54625642b')\"\n",
              "              title=\"Convert this dataframe to an interactive table.\"\n",
              "              style=\"display:none;\">\n",
              "        \n",
              "  <svg xmlns=\"http://www.w3.org/2000/svg\" height=\"24px\"viewBox=\"0 0 24 24\"\n",
              "       width=\"24px\">\n",
              "    <path d=\"M0 0h24v24H0V0z\" fill=\"none\"/>\n",
              "    <path d=\"M18.56 5.44l.94 2.06.94-2.06 2.06-.94-2.06-.94-.94-2.06-.94 2.06-2.06.94zm-11 1L8.5 8.5l.94-2.06 2.06-.94-2.06-.94L8.5 2.5l-.94 2.06-2.06.94zm10 10l.94 2.06.94-2.06 2.06-.94-2.06-.94-.94-2.06-.94 2.06-2.06.94z\"/><path d=\"M17.41 7.96l-1.37-1.37c-.4-.4-.92-.59-1.43-.59-.52 0-1.04.2-1.43.59L10.3 9.45l-7.72 7.72c-.78.78-.78 2.05 0 2.83L4 21.41c.39.39.9.59 1.41.59.51 0 1.02-.2 1.41-.59l7.78-7.78 2.81-2.81c.8-.78.8-2.07 0-2.86zM5.41 20L4 18.59l7.72-7.72 1.47 1.35L5.41 20z\"/>\n",
              "  </svg>\n",
              "      </button>\n",
              "      \n",
              "  <style>\n",
              "    .colab-df-container {\n",
              "      display:flex;\n",
              "      flex-wrap:wrap;\n",
              "      gap: 12px;\n",
              "    }\n",
              "\n",
              "    .colab-df-convert {\n",
              "      background-color: #E8F0FE;\n",
              "      border: none;\n",
              "      border-radius: 50%;\n",
              "      cursor: pointer;\n",
              "      display: none;\n",
              "      fill: #1967D2;\n",
              "      height: 32px;\n",
              "      padding: 0 0 0 0;\n",
              "      width: 32px;\n",
              "    }\n",
              "\n",
              "    .colab-df-convert:hover {\n",
              "      background-color: #E2EBFA;\n",
              "      box-shadow: 0px 1px 2px rgba(60, 64, 67, 0.3), 0px 1px 3px 1px rgba(60, 64, 67, 0.15);\n",
              "      fill: #174EA6;\n",
              "    }\n",
              "\n",
              "    [theme=dark] .colab-df-convert {\n",
              "      background-color: #3B4455;\n",
              "      fill: #D2E3FC;\n",
              "    }\n",
              "\n",
              "    [theme=dark] .colab-df-convert:hover {\n",
              "      background-color: #434B5C;\n",
              "      box-shadow: 0px 1px 3px 1px rgba(0, 0, 0, 0.15);\n",
              "      filter: drop-shadow(0px 1px 2px rgba(0, 0, 0, 0.3));\n",
              "      fill: #FFFFFF;\n",
              "    }\n",
              "  </style>\n",
              "\n",
              "      <script>\n",
              "        const buttonEl =\n",
              "          document.querySelector('#df-aeb6cb7f-95b9-4b45-8fdd-2ab54625642b button.colab-df-convert');\n",
              "        buttonEl.style.display =\n",
              "          google.colab.kernel.accessAllowed ? 'block' : 'none';\n",
              "\n",
              "        async function convertToInteractive(key) {\n",
              "          const element = document.querySelector('#df-aeb6cb7f-95b9-4b45-8fdd-2ab54625642b');\n",
              "          const dataTable =\n",
              "            await google.colab.kernel.invokeFunction('convertToInteractive',\n",
              "                                                     [key], {});\n",
              "          if (!dataTable) return;\n",
              "\n",
              "          const docLinkHtml = 'Like what you see? Visit the ' +\n",
              "            '<a target=\"_blank\" href=https://colab.research.google.com/notebooks/data_table.ipynb>data table notebook</a>'\n",
              "            + ' to learn more about interactive tables.';\n",
              "          element.innerHTML = '';\n",
              "          dataTable['output_type'] = 'display_data';\n",
              "          await google.colab.output.renderOutput(dataTable, element);\n",
              "          const docLink = document.createElement('div');\n",
              "          docLink.innerHTML = docLinkHtml;\n",
              "          element.appendChild(docLink);\n",
              "        }\n",
              "      </script>\n",
              "    </div>\n",
              "  </div>\n",
              "  "
            ]
          },
          "metadata": {},
          "execution_count": 8
        }
      ]
    },
    {
      "cell_type": "code",
      "source": [
        "len(list(set(df_DE['definition'].tolist())))"
      ],
      "metadata": {
        "colab": {
          "base_uri": "https://localhost:8080/"
        },
        "id": "A-iS-8xGAMJ6",
        "outputId": "6a4dfdf9-8c7c-449f-9b4e-39f02be6362e"
      },
      "execution_count": 11,
      "outputs": [
        {
          "output_type": "execute_result",
          "data": {
            "text/plain": [
              "9"
            ]
          },
          "metadata": {},
          "execution_count": 11
        }
      ]
    },
    {
      "cell_type": "code",
      "source": [
        "df_DE.groupby('definition').size()"
      ],
      "metadata": {
        "colab": {
          "base_uri": "https://localhost:8080/"
        },
        "id": "EdTbIYRhEgPy",
        "outputId": "5fdd16d2-bc5b-4be5-a02f-5c3d58358abe"
      },
      "execution_count": 47,
      "outputs": [
        {
          "output_type": "execute_result",
          "data": {
            "text/plain": [
              "definition\n",
              "列舉相類似的事物。               838\n",
              "表一般的修飾關係，用於修飾語和中心語間。    395\n",
              "表以前述動作的狀態。              460\n",
              "表使謂語具名詞性，用於主語和謂語間。      395\n",
              "表前述對象是離合動賓動詞的賓語。          6\n",
              "表在前述情況下。                277\n",
              "表對推論的肯定。                 18\n",
              "表肯定或加強的語氣。              218\n",
              "表領屬關係，用於修飾語和中心語間。       578\n",
              "dtype: int64"
            ]
          },
          "metadata": {},
          "execution_count": 47
        }
      ]
    },
    {
      "cell_type": "markdown",
      "source": [
        "#### Frequency of \\'的\\' senses"
      ],
      "metadata": {
        "id": "A_JDjSOpEmho"
      }
    },
    {
      "cell_type": "code",
      "source": [
        "r = df_DE.groupby('definition').definition.value_counts().plot.barh(figsize=(10,8))\n",
        "r.set_title(\"Frequency of \\'的\\' senses\",fontdict={'fontsize':20})\n",
        "r.set_ylabel('')"
      ],
      "metadata": {
        "colab": {
          "base_uri": "https://localhost:8080/",
          "height": 523
        },
        "id": "WNM8h4knDKDw",
        "outputId": "41270f3c-dfc2-4754-9284-af7b10871f3d"
      },
      "execution_count": 44,
      "outputs": [
        {
          "output_type": "execute_result",
          "data": {
            "text/plain": [
              "Text(0, 0.5, '')"
            ]
          },
          "metadata": {},
          "execution_count": 44
        },
        {
          "output_type": "display_data",
          "data": {
            "text/plain": [
              "<Figure size 720x576 with 1 Axes>"
            ],
            "image/png": "[encoded data removed]"
          },
          "metadata": {
            "needs_background": "light"
          }
        }
      ]
    },
    {
      "cell_type": "markdown",
      "source": [
        "#### Distribution of \\'的\\' senses"
      ],
      "metadata": {
        "id": "BCCzu5aWEwzx"
      }
    },
    {
      "cell_type": "code",
      "source": [
        "result = df_DE.groupby(['grade']).definition.value_counts().unstack(0).plot.barh(figsize=(20,15))\n",
        "result.set_title(\"Distribution of \\'的\\' senses\",fontdict={'fontsize':20})"
      ],
      "metadata": {
        "colab": {
          "base_uri": "https://localhost:8080/",
          "height": 902
        },
        "id": "mFCZxneWAU0h",
        "outputId": "ea94ed78-b76e-42eb-a2e8-faff31aac984"
      },
      "execution_count": 36,
      "outputs": [
        {
          "output_type": "execute_result",
          "data": {
            "text/plain": [
              "Text(0.5, 1.0, \"Distribution of '的' senses\")"
            ]
          },
          "metadata": {},
          "execution_count": 36
        },
        {
          "output_type": "display_data",
          "data": {
            "text/plain": [
              "<Figure size 1440x1080 with 1 Axes>"
            ],
            "image/png": "[encoded data removed]"
          },
          "metadata": {
            "needs_background": "light"
          }
        }
      ]
    }
  ]
}